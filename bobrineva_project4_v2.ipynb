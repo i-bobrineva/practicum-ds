{
 "cells": [
  {
   "cell_type": "markdown",
   "id": "decbf410",
   "metadata": {},
   "source": [
    "<div style=\"border:solid green 2px; padding: 20px\">\n",
    "\n",
    "<b>Привет, Ирина! Поздравляю с выполнением очередного проекта!!</b>\n",
    "\n",
    "Меня зовут Петр Раздобреев и я буду проверять твою работу. Попробую помочь сделать тебе её еще лучше! В Практикуме принято общени на ты, но если это дискомфортно, то сообщи об этом)\n",
    "\n",
    "Ниже ты найдешь мои комментарии - пожалуйста, не перемещай, не изменяй и не удаляй их. Я буду использовать цветовую разметку:\n",
    "\n",
    "<div class=\"alert alert-danger\">\n",
    "<b>Комментарий ревьюера:</b>☁️Так выделены самые важные замечания. Без их отработки проект не будет принят. </div>\n",
    "\n",
    "<div class=\"alert alert-warning\">\n",
    "<b>Комментарий ревьюера:</b>⛅️ Так выделены небольшие замечания.Такие замечания в проекте допустимы, это пространство для улучшений в будущем.\n",
    "</div>\n",
    "\n",
    "<div class=\"alert alert-success\">\n",
    "<b>Комментарий ревьюера:</b>☀️Так я выделяю успешные идеи.</div>\n",
    "\n",
    "Давай работать над проектом в диалоге: если ты что-то меняешь в проекте или отвечаешь на мои комменатри — пиши об этом. Мне будет легче отследить изменения, если ты выделишь свои комментарии:\n",
    "<div class=\"alert alert-info\"> <b>Комментарий студента:</b> Например, вот так.</div>\n",
    "\n",
    "Всё это поможет выполнить повторную проверку твоего проекта оперативнее. \n",
    "    "
   ]
  },
  {
   "cell_type": "markdown",
   "id": "4b40cce5",
   "metadata": {
    "toc": true
   },
   "source": [
    "<h1>Table of Contents<span class=\"tocSkip\"></span></h1>\n",
    "<div class=\"toc\"><ul class=\"toc-item\"><li><span><a href=\"#Загрузка-и-изучение-данных\" data-toc-modified-id=\"Загрузка-и-изучение-данных-1\"><span class=\"toc-item-num\">1&nbsp;&nbsp;</span>Загрузка и изучение данных</a></span><ul class=\"toc-item\"><li><span><a href=\"#Данные-по-пользователям\" data-toc-modified-id=\"Данные-по-пользователям-1.1\"><span class=\"toc-item-num\">1.1&nbsp;&nbsp;</span>Данные по пользователям</a></span></li><li><span><a href=\"#Данные-по-поездкам\" data-toc-modified-id=\"Данные-по-поездкам-1.2\"><span class=\"toc-item-num\">1.2&nbsp;&nbsp;</span>Данные по поездкам</a></span></li><li><span><a href=\"#Данные-по-подпискам\" data-toc-modified-id=\"Данные-по-подпискам-1.3\"><span class=\"toc-item-num\">1.3&nbsp;&nbsp;</span>Данные по подпискам</a></span></li></ul></li><li><span><a href=\"#Предобработка-данных\" data-toc-modified-id=\"Предобработка-данных-2\"><span class=\"toc-item-num\">2&nbsp;&nbsp;</span>Предобработка данных</a></span><ul class=\"toc-item\"><li><span><a href=\"#Изменение-типов-данных\" data-toc-modified-id=\"Изменение-типов-данных-2.1\"><span class=\"toc-item-num\">2.1&nbsp;&nbsp;</span>Изменение типов данных</a></span></li><li><span><a href=\"#Добавление-столбца-с-номером-месяца\" data-toc-modified-id=\"Добавление-столбца-с-номером-месяца-2.2\"><span class=\"toc-item-num\">2.2&nbsp;&nbsp;</span>Добавление столбца с номером месяца</a></span></li><li><span><a href=\"#Удаление-дубликатов\" data-toc-modified-id=\"Удаление-дубликатов-2.3\"><span class=\"toc-item-num\">2.3&nbsp;&nbsp;</span>Удаление дубликатов</a></span></li></ul></li><li><span><a href=\"#Исследовательский-анализ-данных\" data-toc-modified-id=\"Исследовательский-анализ-данных-3\"><span class=\"toc-item-num\">3&nbsp;&nbsp;</span>Исследовательский анализ данных</a></span><ul class=\"toc-item\"><li><span><a href=\"#Частота-встречаемости-городов\" data-toc-modified-id=\"Частота-встречаемости-городов-3.1\"><span class=\"toc-item-num\">3.1&nbsp;&nbsp;</span>Частота встречаемости городов</a></span></li><li><span><a href=\"#Cоотношение-пользователей-с-подпиской-и-без-подписки\" data-toc-modified-id=\"Cоотношение-пользователей-с-подпиской-и-без-подписки-3.2\"><span class=\"toc-item-num\">3.2&nbsp;&nbsp;</span>Cоотношение пользователей с подпиской и без подписки</a></span></li><li><span><a href=\"#Возраст-пользователей\" data-toc-modified-id=\"Возраст-пользователей-3.3\"><span class=\"toc-item-num\">3.3&nbsp;&nbsp;</span>Возраст пользователей</a></span></li><li><span><a href=\"#Расстояние,-которое-пользователь-преодолел-за-одну-поездку\" data-toc-modified-id=\"Расстояние,-которое-пользователь-преодолел-за-одну-поездку-3.4\"><span class=\"toc-item-num\">3.4&nbsp;&nbsp;</span>Расстояние, которое пользователь преодолел за одну поездку</a></span></li><li><span><a href=\"#Продолжительность-поездок\" data-toc-modified-id=\"Продолжительность-поездок-3.5\"><span class=\"toc-item-num\">3.5&nbsp;&nbsp;</span>Продолжительность поездок</a></span></li></ul></li><li><span><a href=\"#Объединение-данных\" data-toc-modified-id=\"Объединение-данных-4\"><span class=\"toc-item-num\">4&nbsp;&nbsp;</span>Объединение данных</a></span><ul class=\"toc-item\"><li><span><a href=\"#Данные-о-пользователях-с-подпиской\" data-toc-modified-id=\"Данные-о-пользователях-с-подпиской-4.1\"><span class=\"toc-item-num\">4.1&nbsp;&nbsp;</span>Данные о пользователях с подпиской</a></span></li><li><span><a href=\"#Данные-о-пользователях-без-подписки\" data-toc-modified-id=\"Данные-о-пользователях-без-подписки-4.2\"><span class=\"toc-item-num\">4.2&nbsp;&nbsp;</span>Данные о пользователях без подписки</a></span></li></ul></li><li><span><a href=\"#Подсчёт-выручки\" data-toc-modified-id=\"Подсчёт-выручки-5\"><span class=\"toc-item-num\">5&nbsp;&nbsp;</span>Подсчёт выручки</a></span><ul class=\"toc-item\"><li><span><a href=\"#Подсчёт-помесячной-выручки\" data-toc-modified-id=\"Подсчёт-помесячной-выручки-5.1\"><span class=\"toc-item-num\">5.1&nbsp;&nbsp;</span>Подсчёт помесячной выручки</a></span></li></ul></li><li><span><a href=\"#Проверка-гипотез\" data-toc-modified-id=\"Проверка-гипотез-6\"><span class=\"toc-item-num\">6&nbsp;&nbsp;</span>Проверка гипотез</a></span><ul class=\"toc-item\"><li><span><a href=\"#Ultra-vs-free:-чьи-поездки-продолжительнее\" data-toc-modified-id=\"Ultra-vs-free:-чьи-поездки-продолжительнее-6.1\"><span class=\"toc-item-num\">6.1&nbsp;&nbsp;</span>Ultra vs free: чьи поездки продолжительнее</a></span></li><li><span><a href=\"#Проезжают-ли-ultra-больше-3130-м?\" data-toc-modified-id=\"Проезжают-ли-ultra-больше-3130-м?-6.2\"><span class=\"toc-item-num\">6.2&nbsp;&nbsp;</span>Проезжают ли ultra больше 3130 м?</a></span></li><li><span><a href=\"#Больше-ли-выручка-от-ultra,-чем-от-free?\" data-toc-modified-id=\"Больше-ли-выручка-от-ultra,-чем-от-free?-6.3\"><span class=\"toc-item-num\">6.3&nbsp;&nbsp;</span>Больше ли выручка от ultra, чем от free?</a></span></li><li><span><a href=\"#Вопрос-про-техническую-поддержку\" data-toc-modified-id=\"Вопрос-про-техническую-поддержку-6.4\"><span class=\"toc-item-num\">6.4&nbsp;&nbsp;</span>Вопрос про техническую поддержку</a></span></li></ul></li><li><span><a href=\"#Выводы\" data-toc-modified-id=\"Выводы-7\"><span class=\"toc-item-num\">7&nbsp;&nbsp;</span>Выводы</a></span></li></ul></div>"
   ]
  },
  {
   "cell_type": "markdown",
   "id": "535a071f",
   "metadata": {},
   "source": [
    "# Исследование данных сервиса аренды самокатов"
   ]
  },
  {
   "cell_type": "code",
   "execution_count": 1,
   "id": "c2ad94b7",
   "metadata": {},
   "outputs": [],
   "source": [
    "# загружаю все нужные для проекта библиотеки\n",
    "\n",
    "import pandas as pd\n",
    "import matplotlib.pyplot as plt\n",
    "import numpy as np\n",
    "from scipy import stats as st\n",
    "from math import factorial"
   ]
  },
  {
   "cell_type": "markdown",
   "id": "13e87c98",
   "metadata": {},
   "source": [
    "## Загрузка и изучение данных"
   ]
  },
  {
   "cell_type": "markdown",
   "id": "82c9f6df",
   "metadata": {},
   "source": [
    "### Данные по пользователям"
   ]
  },
  {
   "cell_type": "code",
   "execution_count": 2,
   "id": "703d1ff3",
   "metadata": {},
   "outputs": [
    {
     "name": "stdout",
     "output_type": "stream",
     "text": [
      "   user_id        name  age            city subscription_type\n",
      "0        1        Кира   22          Тюмень             ultra\n",
      "1        2   Станислав   31            Омск             ultra\n",
      "2        3     Алексей   20          Москва             ultra\n",
      "3        4  Константин   26  Ростов-на-Дону             ultra\n",
      "4        5       Адель   28            Омск             ultra\n",
      "5        6      Регина   25       Краснодар             ultra\n",
      "6        7       Игорь   23            Омск             ultra\n",
      "7        8        Юрий   23       Краснодар             ultra\n",
      "8        9          Ян   21       Пятигорск             ultra\n",
      "9       10     Валерий   18    Екатеринбург             ultra\n"
     ]
    }
   ],
   "source": [
    "# открываю и изучаю датасет по пользователям\n",
    "data_users = pd.read_csv('/Users/ira-bobrineva/Downloads/users_go.csv')\n",
    "print(data_users.head(10))"
   ]
  },
  {
   "cell_type": "markdown",
   "id": "277d89d9",
   "metadata": {},
   "source": [
    "<div class=\"alert alert-danger\">\n",
    "<b>Комментарий ревьюера:</b>☁️\n",
    "\n",
    "Путь некорректен для запуска на платформе, прошу при повторной отправке использовать `try-except`, чтобы задать и локальный путь и путь на платформе Практикума. Проверю до необходимости перезагрузке, а продолжу при второй итерации\n",
    "</div>"
   ]
  },
  {
   "cell_type": "code",
   "execution_count": 3,
   "id": "63b66899",
   "metadata": {},
   "outputs": [
    {
     "name": "stdout",
     "output_type": "stream",
     "text": [
      "<class 'pandas.core.frame.DataFrame'>\n",
      "RangeIndex: 1565 entries, 0 to 1564\n",
      "Data columns (total 5 columns):\n",
      " #   Column             Non-Null Count  Dtype \n",
      "---  ------             --------------  ----- \n",
      " 0   user_id            1565 non-null   int64 \n",
      " 1   name               1565 non-null   object\n",
      " 2   age                1565 non-null   int64 \n",
      " 3   city               1565 non-null   object\n",
      " 4   subscription_type  1565 non-null   object\n",
      "dtypes: int64(2), object(3)\n",
      "memory usage: 61.3+ KB\n"
     ]
    }
   ],
   "source": [
    "data_users.info()"
   ]
  },
  {
   "cell_type": "markdown",
   "id": "ad4a0868",
   "metadata": {},
   "source": [
    "Пока с данными всё хорошо, пропусков нет и типы данных верные. Для красоты можно перевести значения из int64 в int32, чтобы информация меньше памяти занимала. Данные позволяют такое сделать."
   ]
  },
  {
   "cell_type": "markdown",
   "id": "3ab82ce4",
   "metadata": {},
   "source": [
    "### Данные по поездкам"
   ]
  },
  {
   "cell_type": "code",
   "execution_count": 4,
   "id": "2cf006a2",
   "metadata": {},
   "outputs": [
    {
     "name": "stdout",
     "output_type": "stream",
     "text": [
      "   user_id     distance   duration        date\n",
      "0        1  4409.919140  25.599769  2021-01-01\n",
      "1        1  2617.592153  15.816871  2021-01-18\n",
      "2        1   754.159807   6.232113  2021-04-20\n",
      "3        1  2694.783254  18.511000  2021-08-11\n",
      "4        1  4028.687306  26.265803  2021-08-28\n",
      "5        1  2770.890808  16.650138  2021-10-09\n",
      "6        1  3039.020292  14.927879  2021-10-19\n",
      "7        1  2842.118050  23.117468  2021-11-06\n",
      "8        1  3412.690668  15.238072  2021-11-14\n",
      "9        1   748.690645  15.041884  2021-11-22\n"
     ]
    }
   ],
   "source": [
    "# открываю и изучаю датасет по поездкам\n",
    "data_rides = pd.read_csv('/Users/ira-bobrineva/Downloads/rides_go.csv')\n",
    "print(data_rides.head(10))"
   ]
  },
  {
   "cell_type": "code",
   "execution_count": 5,
   "id": "e7fd9002",
   "metadata": {},
   "outputs": [
    {
     "name": "stdout",
     "output_type": "stream",
     "text": [
      "<class 'pandas.core.frame.DataFrame'>\n",
      "RangeIndex: 18068 entries, 0 to 18067\n",
      "Data columns (total 4 columns):\n",
      " #   Column    Non-Null Count  Dtype  \n",
      "---  ------    --------------  -----  \n",
      " 0   user_id   18068 non-null  int64  \n",
      " 1   distance  18068 non-null  float64\n",
      " 2   duration  18068 non-null  float64\n",
      " 3   date      18068 non-null  object \n",
      "dtypes: float64(2), int64(1), object(1)\n",
      "memory usage: 564.8+ KB\n"
     ]
    }
   ],
   "source": [
    "data_rides.info()"
   ]
  },
  {
   "cell_type": "markdown",
   "id": "9d029b51",
   "metadata": {},
   "source": [
    "Пропусков нет, но нужно поправить тип данных у даты и для красоты перевести значения из int64 в int32, чтобы информация меньше памяти занимала."
   ]
  },
  {
   "cell_type": "markdown",
   "id": "2f68294b",
   "metadata": {},
   "source": [
    "### Данные по подпискам"
   ]
  },
  {
   "cell_type": "code",
   "execution_count": 6,
   "id": "fb209ee2",
   "metadata": {},
   "outputs": [
    {
     "name": "stdout",
     "output_type": "stream",
     "text": [
      "  subscription_type  minute_price  start_ride_price  subscription_fee\n",
      "0              free             8                50                 0\n",
      "1             ultra             6                 0               199\n"
     ]
    }
   ],
   "source": [
    "# открываю и изучаю датасет по подпискам\n",
    "data_subscriptions = pd.read_csv('/Users/ira-bobrineva/Downloads/subscriptions_go.csv') \n",
    "print(data_subscriptions.head())"
   ]
  },
  {
   "cell_type": "code",
   "execution_count": 7,
   "id": "fd4dac97",
   "metadata": {},
   "outputs": [
    {
     "name": "stdout",
     "output_type": "stream",
     "text": [
      "<class 'pandas.core.frame.DataFrame'>\n",
      "RangeIndex: 2 entries, 0 to 1\n",
      "Data columns (total 4 columns):\n",
      " #   Column             Non-Null Count  Dtype \n",
      "---  ------             --------------  ----- \n",
      " 0   subscription_type  2 non-null      object\n",
      " 1   minute_price       2 non-null      int64 \n",
      " 2   start_ride_price   2 non-null      int64 \n",
      " 3   subscription_fee   2 non-null      int64 \n",
      "dtypes: int64(3), object(1)\n",
      "memory usage: 196.0+ bytes\n"
     ]
    }
   ],
   "source": [
    "data_subscriptions.info()"
   ]
  },
  {
   "cell_type": "markdown",
   "id": "15acdebe",
   "metadata": {},
   "source": [
    "<div class=\"alert alert-success\">\n",
    "<b>Комментарий ревьюера:</b>☀️\n",
    "    \n",
    "Замечательно, что знакомишься с датафреймом выводя и несколько первых строк и обзорную информацию при помощи `info`\n",
    "    "
   ]
  },
  {
   "cell_type": "markdown",
   "id": "b5c9376e",
   "metadata": {},
   "source": [
    "Пока с данными всё хорошо, пропусков нет и типы данных верные. Для красоты можно перевести значения из int64 в int32, чтобы информация меньше памяти занимала."
   ]
  },
  {
   "cell_type": "markdown",
   "id": "9f5bf4d5",
   "metadata": {},
   "source": [
    "## Предобработка данных"
   ]
  },
  {
   "cell_type": "markdown",
   "id": "2403517e",
   "metadata": {},
   "source": [
    "### Изменение типов данных"
   ]
  },
  {
   "cell_type": "code",
   "execution_count": 8,
   "id": "e3b82f3b",
   "metadata": {},
   "outputs": [
    {
     "name": "stdout",
     "output_type": "stream",
     "text": [
      "<class 'pandas.core.frame.DataFrame'>\n",
      "RangeIndex: 18068 entries, 0 to 18067\n",
      "Data columns (total 4 columns):\n",
      " #   Column    Non-Null Count  Dtype         \n",
      "---  ------    --------------  -----         \n",
      " 0   user_id   18068 non-null  int16         \n",
      " 1   distance  18068 non-null  float64       \n",
      " 2   duration  18068 non-null  float64       \n",
      " 3   date      18068 non-null  datetime64[ns]\n",
      "dtypes: datetime64[ns](1), float64(2), int16(1)\n",
      "memory usage: 458.9 KB\n",
      "<class 'pandas.core.frame.DataFrame'>\n",
      "RangeIndex: 1565 entries, 0 to 1564\n",
      "Data columns (total 5 columns):\n",
      " #   Column             Non-Null Count  Dtype \n",
      "---  ------             --------------  ----- \n",
      " 0   user_id            1565 non-null   int16 \n",
      " 1   name               1565 non-null   object\n",
      " 2   age                1565 non-null   int16 \n",
      " 3   city               1565 non-null   object\n",
      " 4   subscription_type  1565 non-null   object\n",
      "dtypes: int16(2), object(3)\n",
      "memory usage: 42.9+ KB\n",
      "<class 'pandas.core.frame.DataFrame'>\n",
      "RangeIndex: 2 entries, 0 to 1\n",
      "Data columns (total 4 columns):\n",
      " #   Column             Non-Null Count  Dtype \n",
      "---  ------             --------------  ----- \n",
      " 0   subscription_type  2 non-null      object\n",
      " 1   minute_price       2 non-null      int16 \n",
      " 2   start_ride_price   2 non-null      int16 \n",
      " 3   subscription_fee   2 non-null      int16 \n",
      "dtypes: int16(3), object(1)\n",
      "memory usage: 160.0+ bytes\n"
     ]
    }
   ],
   "source": [
    "# правлю типы данных, для датафреймов data_users и data_subscriptions использую циклы\n",
    "\n",
    "for i in ('user_id','age'):\n",
    "    data_users[i] = data_users[i].astype('int16')\n",
    "for i in ('minute_price','start_ride_price', 'subscription_fee'):\n",
    "    data_subscriptions[i] = data_subscriptions[i].astype('int16')\n",
    "data_rides['user_id'] = data_rides['user_id'].astype('int16')\n",
    "\n",
    "data_rides['date'] = pd.to_datetime(data_rides['date'], format='%Y-%m-%d')\n",
    "\n",
    "data_rides.info()\n",
    "data_users.info()\n",
    "data_subscriptions.info()"
   ]
  },
  {
   "cell_type": "markdown",
   "id": "5a069785",
   "metadata": {},
   "source": [
    "<div class=\"alert alert-warning\">\n",
    "<b>Комментарий ревьюера:</b>⛅️ \n",
    "\n",
    "В `astype` можно передавать словари, в котором ключи - названия столбцов, значения - типы данных\n",
    "</div>"
   ]
  },
  {
   "cell_type": "markdown",
   "id": "671d2e95",
   "metadata": {},
   "source": [
    "### Добавление столбца с номером месяца"
   ]
  },
  {
   "cell_type": "code",
   "execution_count": 9,
   "id": "089c6dbe",
   "metadata": {},
   "outputs": [
    {
     "data": {
      "text/html": [
       "<div>\n",
       "<style scoped>\n",
       "    .dataframe tbody tr th:only-of-type {\n",
       "        vertical-align: middle;\n",
       "    }\n",
       "\n",
       "    .dataframe tbody tr th {\n",
       "        vertical-align: top;\n",
       "    }\n",
       "\n",
       "    .dataframe thead th {\n",
       "        text-align: right;\n",
       "    }\n",
       "</style>\n",
       "<table border=\"1\" class=\"dataframe\">\n",
       "  <thead>\n",
       "    <tr style=\"text-align: right;\">\n",
       "      <th></th>\n",
       "      <th>user_id</th>\n",
       "      <th>distance</th>\n",
       "      <th>duration</th>\n",
       "      <th>date</th>\n",
       "      <th>month_number</th>\n",
       "    </tr>\n",
       "  </thead>\n",
       "  <tbody>\n",
       "    <tr>\n",
       "      <th>0</th>\n",
       "      <td>1</td>\n",
       "      <td>4409.919140</td>\n",
       "      <td>25.599769</td>\n",
       "      <td>2021-01-01</td>\n",
       "      <td>1</td>\n",
       "    </tr>\n",
       "    <tr>\n",
       "      <th>1</th>\n",
       "      <td>1</td>\n",
       "      <td>2617.592153</td>\n",
       "      <td>15.816871</td>\n",
       "      <td>2021-01-18</td>\n",
       "      <td>1</td>\n",
       "    </tr>\n",
       "    <tr>\n",
       "      <th>2</th>\n",
       "      <td>1</td>\n",
       "      <td>754.159807</td>\n",
       "      <td>6.232113</td>\n",
       "      <td>2021-04-20</td>\n",
       "      <td>4</td>\n",
       "    </tr>\n",
       "    <tr>\n",
       "      <th>3</th>\n",
       "      <td>1</td>\n",
       "      <td>2694.783254</td>\n",
       "      <td>18.511000</td>\n",
       "      <td>2021-08-11</td>\n",
       "      <td>8</td>\n",
       "    </tr>\n",
       "    <tr>\n",
       "      <th>4</th>\n",
       "      <td>1</td>\n",
       "      <td>4028.687306</td>\n",
       "      <td>26.265803</td>\n",
       "      <td>2021-08-28</td>\n",
       "      <td>8</td>\n",
       "    </tr>\n",
       "  </tbody>\n",
       "</table>\n",
       "</div>"
      ],
      "text/plain": [
       "   user_id     distance   duration       date  month_number\n",
       "0        1  4409.919140  25.599769 2021-01-01             1\n",
       "1        1  2617.592153  15.816871 2021-01-18             1\n",
       "2        1   754.159807   6.232113 2021-04-20             4\n",
       "3        1  2694.783254  18.511000 2021-08-11             8\n",
       "4        1  4028.687306  26.265803 2021-08-28             8"
      ]
     },
     "execution_count": 9,
     "metadata": {},
     "output_type": "execute_result"
    }
   ],
   "source": [
    "# добавляю столбец с номером месяца\n",
    "data_rides['month_number'] = data_rides['date'].dt.month # месяц поездки\n",
    "data_rides.head()"
   ]
  },
  {
   "cell_type": "markdown",
   "id": "d16cdab0",
   "metadata": {},
   "source": [
    "Пропущенных значений в датафреймах нет, но надо проверить дубликаты."
   ]
  },
  {
   "cell_type": "markdown",
   "id": "a0c4a188",
   "metadata": {},
   "source": [
    "### Удаление дубликатов"
   ]
  },
  {
   "cell_type": "code",
   "execution_count": 10,
   "id": "0e84263a",
   "metadata": {},
   "outputs": [
    {
     "data": {
      "text/plain": [
       "31"
      ]
     },
     "execution_count": 10,
     "metadata": {},
     "output_type": "execute_result"
    }
   ],
   "source": [
    "data_users.duplicated().sum()"
   ]
  },
  {
   "cell_type": "code",
   "execution_count": 11,
   "id": "07b45d3b",
   "metadata": {},
   "outputs": [
    {
     "data": {
      "text/plain": [
       "0"
      ]
     },
     "execution_count": 11,
     "metadata": {},
     "output_type": "execute_result"
    }
   ],
   "source": [
    "data_users_clean = data_users.drop_duplicates().reset_index(drop=True) # поправлю порядок индексов в датафрейме после удаления дубликатов\n",
    "data_users_clean.duplicated().sum()"
   ]
  },
  {
   "cell_type": "code",
   "execution_count": 12,
   "id": "7e83e45d",
   "metadata": {},
   "outputs": [
    {
     "data": {
      "text/plain": [
       "0"
      ]
     },
     "execution_count": 12,
     "metadata": {},
     "output_type": "execute_result"
    }
   ],
   "source": [
    "data_rides.duplicated().sum()"
   ]
  },
  {
   "cell_type": "code",
   "execution_count": 13,
   "id": "ffc0eb7f",
   "metadata": {},
   "outputs": [
    {
     "data": {
      "text/plain": [
       "0"
      ]
     },
     "execution_count": 13,
     "metadata": {},
     "output_type": "execute_result"
    }
   ],
   "source": [
    "data_subscriptions.duplicated().sum()"
   ]
  },
  {
   "cell_type": "markdown",
   "id": "7577bd94",
   "metadata": {},
   "source": [
    "<div class=\"alert alert-success\">\n",
    "<b>Комментарий ревьюера:</b>☀️\n",
    "    \n",
    "И про дубликаты не забываешь, замечательно. Но действия по первичному анализу датафреймов схожи, можно было бы функцию написать "
   ]
  },
  {
   "cell_type": "markdown",
   "id": "78cef95d",
   "metadata": {},
   "source": [
    "## Исследовательский анализ данных"
   ]
  },
  {
   "cell_type": "markdown",
   "id": "d512393a",
   "metadata": {},
   "source": [
    "### Частота встречаемости городов"
   ]
  },
  {
   "cell_type": "code",
   "execution_count": 14,
   "id": "5b7f4537",
   "metadata": {},
   "outputs": [
    {
     "data": {
      "text/plain": [
       "array(['Тюмень', 'Омск', 'Москва', 'Ростов-на-Дону', 'Краснодар',\n",
       "       'Пятигорск', 'Екатеринбург', 'Сочи'], dtype=object)"
      ]
     },
     "execution_count": 14,
     "metadata": {},
     "output_type": "execute_result"
    }
   ],
   "source": [
    "# вывожу уникальные значения городов\n",
    "data_users_clean['city'].unique()"
   ]
  },
  {
   "cell_type": "code",
   "execution_count": 15,
   "id": "8f93cd07",
   "metadata": {},
   "outputs": [
    {
     "data": {
      "text/html": [
       "<div>\n",
       "<style scoped>\n",
       "    .dataframe tbody tr th:only-of-type {\n",
       "        vertical-align: middle;\n",
       "    }\n",
       "\n",
       "    .dataframe tbody tr th {\n",
       "        vertical-align: top;\n",
       "    }\n",
       "\n",
       "    .dataframe thead th {\n",
       "        text-align: right;\n",
       "    }\n",
       "</style>\n",
       "<table border=\"1\" class=\"dataframe\">\n",
       "  <thead>\n",
       "    <tr style=\"text-align: right;\">\n",
       "      <th></th>\n",
       "      <th>Частота встречаемости</th>\n",
       "    </tr>\n",
       "    <tr>\n",
       "      <th>city</th>\n",
       "      <th></th>\n",
       "    </tr>\n",
       "  </thead>\n",
       "  <tbody>\n",
       "    <tr>\n",
       "      <th>Пятигорск</th>\n",
       "      <td>219</td>\n",
       "    </tr>\n",
       "    <tr>\n",
       "      <th>Екатеринбург</th>\n",
       "      <td>204</td>\n",
       "    </tr>\n",
       "    <tr>\n",
       "      <th>Ростов-на-Дону</th>\n",
       "      <td>198</td>\n",
       "    </tr>\n",
       "    <tr>\n",
       "      <th>Краснодар</th>\n",
       "      <td>193</td>\n",
       "    </tr>\n",
       "    <tr>\n",
       "      <th>Сочи</th>\n",
       "      <td>189</td>\n",
       "    </tr>\n",
       "    <tr>\n",
       "      <th>Омск</th>\n",
       "      <td>183</td>\n",
       "    </tr>\n",
       "    <tr>\n",
       "      <th>Тюмень</th>\n",
       "      <td>180</td>\n",
       "    </tr>\n",
       "    <tr>\n",
       "      <th>Москва</th>\n",
       "      <td>168</td>\n",
       "    </tr>\n",
       "  </tbody>\n",
       "</table>\n",
       "</div>"
      ],
      "text/plain": [
       "                Частота встречаемости\n",
       "city                                 \n",
       "Пятигорск                         219\n",
       "Екатеринбург                      204\n",
       "Ростов-на-Дону                    198\n",
       "Краснодар                         193\n",
       "Сочи                              189\n",
       "Омск                              183\n",
       "Тюмень                            180\n",
       "Москва                            168"
      ]
     },
     "execution_count": 15,
     "metadata": {},
     "output_type": "execute_result"
    }
   ],
   "source": [
    "# строю сводную таблицу с городом и частотой его встречаемости\n",
    "city_amount = data_users_clean.pivot_table(index='city', values='user_id', aggfunc='count')\n",
    "city_amount.columns = ['Частота встречаемости']\n",
    "city_amount.sort_values(by='Частота встречаемости', ascending=False)"
   ]
  },
  {
   "cell_type": "code",
   "execution_count": 16,
   "id": "5930bf70",
   "metadata": {},
   "outputs": [
    {
     "data": {
      "image/png": "[encoded data removed]",
      "text/plain": [
       "<Figure size 1500x600 with 1 Axes>"
      ]
     },
     "metadata": {},
     "output_type": "display_data"
    }
   ],
   "source": [
    "# вывожу столбчатую гистограмму по частоте встречаемости городов\n",
    "\n",
    "plt.figure(figsize=(15, 6))\n",
    "plt.bar(city_amount.index, city_amount['Частота встречаемости'])\n",
    "plt.xlabel('Города')\n",
    "plt.ylabel('Частота встречаемости')\n",
    "plt.title('Частота встречаемости городов')\n",
    "plt.show()"
   ]
  },
  {
   "cell_type": "markdown",
   "id": "3785cab6",
   "metadata": {},
   "source": [
    "<div class=\"alert alert-success\">\n",
    "<b>Комментарий ревьюера:</b>☀️\n",
    "    \n",
    "Рекомендовал бы сортировать значения перед выводом графика, чтобы так визуализация становится информативнее"
   ]
  },
  {
   "cell_type": "markdown",
   "id": "601db5ee",
   "metadata": {},
   "source": [
    "Большинство пользователей из Пятигорска. Возможно, там находится штаб компании. Второй и третий города - Екатеринбург и Ростов-на-Дону. В столице меньше всего пользуются услугами GoFast."
   ]
  },
  {
   "cell_type": "markdown",
   "id": "00305c33",
   "metadata": {},
   "source": [
    "### Cоотношение пользователей с подпиской и без подписки"
   ]
  },
  {
   "cell_type": "code",
   "execution_count": 17,
   "id": "cd237708",
   "metadata": {},
   "outputs": [
    {
     "data": {
      "text/html": [
       "<div>\n",
       "<style scoped>\n",
       "    .dataframe tbody tr th:only-of-type {\n",
       "        vertical-align: middle;\n",
       "    }\n",
       "\n",
       "    .dataframe tbody tr th {\n",
       "        vertical-align: top;\n",
       "    }\n",
       "\n",
       "    .dataframe thead th {\n",
       "        text-align: right;\n",
       "    }\n",
       "</style>\n",
       "<table border=\"1\" class=\"dataframe\">\n",
       "  <thead>\n",
       "    <tr style=\"text-align: right;\">\n",
       "      <th></th>\n",
       "      <th>Количество пользователей</th>\n",
       "    </tr>\n",
       "    <tr>\n",
       "      <th>subscription_type</th>\n",
       "      <th></th>\n",
       "    </tr>\n",
       "  </thead>\n",
       "  <tbody>\n",
       "    <tr>\n",
       "      <th>free</th>\n",
       "      <td>835</td>\n",
       "    </tr>\n",
       "    <tr>\n",
       "      <th>ultra</th>\n",
       "      <td>699</td>\n",
       "    </tr>\n",
       "  </tbody>\n",
       "</table>\n",
       "</div>"
      ],
      "text/plain": [
       "                   Количество пользователей\n",
       "subscription_type                          \n",
       "free                                    835\n",
       "ultra                                   699"
      ]
     },
     "execution_count": 17,
     "metadata": {},
     "output_type": "execute_result"
    }
   ],
   "source": [
    "# строю сводную таблицу с количеством пользователей по подпискам\n",
    "\n",
    "free_vs_ultra = data_users_clean.pivot_table(index='subscription_type', values='user_id', aggfunc='count')\n",
    "free_vs_ultra.columns = ['Количество пользователей']\n",
    "free_vs_ultra.sort_values(by='Количество пользователей', ascending=False)"
   ]
  },
  {
   "cell_type": "code",
   "execution_count": 18,
   "id": "7fcf865a",
   "metadata": {},
   "outputs": [
    {
     "data": {
      "image/png": "[encoded data removed]",
      "text/plain": [
       "<Figure size 600x600 with 1 Axes>"
      ]
     },
     "metadata": {},
     "output_type": "display_data"
    }
   ],
   "source": [
    "plt.figure(figsize=(6, 6))\n",
    "plt.bar(free_vs_ultra.index, free_vs_ultra['Количество пользователей'])\n",
    "plt.xlabel('Тип подписки')\n",
    "plt.ylabel('Количество пользователей')\n",
    "plt.title('Cоотношение пользователей с подпиской и без подписки')\n",
    "plt.show()"
   ]
  },
  {
   "cell_type": "markdown",
   "id": "5d8a0da6",
   "metadata": {},
   "source": [
    "<div class=\"alert alert-success\">\n",
    "<b>Комментарий ревьюера:</b>☀️\n",
    "    \n",
    "Для разнообразия можно было бы строить круговую диаграмму"
   ]
  },
  {
   "cell_type": "markdown",
   "id": "7d6ce6bd",
   "metadata": {},
   "source": [
    "Пользователей без подписки немного больше, чем пользователей с подпиской."
   ]
  },
  {
   "cell_type": "markdown",
   "id": "6f835fbf",
   "metadata": {},
   "source": [
    "### Возраст пользователей"
   ]
  },
  {
   "cell_type": "code",
   "execution_count": 19,
   "id": "07532d2e",
   "metadata": {},
   "outputs": [
    {
     "data": {
      "text/plain": [
       "array([22, 31, 20, 26, 28, 25, 23, 21, 18, 27, 24, 29, 32, 14, 19, 30, 17,\n",
       "       12, 35, 33, 13, 15, 37, 16, 34, 38, 36, 39, 43], dtype=int16)"
      ]
     },
     "execution_count": 19,
     "metadata": {},
     "output_type": "execute_result"
    }
   ],
   "source": [
    "# вывожу уникальные значения возраста, проверяю, что нет аномальных значений\n",
    "data_users_clean['age'].unique()"
   ]
  },
  {
   "cell_type": "code",
   "execution_count": 20,
   "id": "7e1644d5",
   "metadata": {},
   "outputs": [
    {
     "data": {
      "text/html": [
       "<div>\n",
       "<style scoped>\n",
       "    .dataframe tbody tr th:only-of-type {\n",
       "        vertical-align: middle;\n",
       "    }\n",
       "\n",
       "    .dataframe tbody tr th {\n",
       "        vertical-align: top;\n",
       "    }\n",
       "\n",
       "    .dataframe thead th {\n",
       "        text-align: right;\n",
       "    }\n",
       "</style>\n",
       "<table border=\"1\" class=\"dataframe\">\n",
       "  <thead>\n",
       "    <tr style=\"text-align: right;\">\n",
       "      <th></th>\n",
       "      <th>user_id</th>\n",
       "      <th>name</th>\n",
       "      <th>age</th>\n",
       "      <th>city</th>\n",
       "      <th>subscription_type</th>\n",
       "      <th>age_category</th>\n",
       "    </tr>\n",
       "  </thead>\n",
       "  <tbody>\n",
       "    <tr>\n",
       "      <th>0</th>\n",
       "      <td>1</td>\n",
       "      <td>Кира</td>\n",
       "      <td>22</td>\n",
       "      <td>Тюмень</td>\n",
       "      <td>ultra</td>\n",
       "      <td>19-25</td>\n",
       "    </tr>\n",
       "    <tr>\n",
       "      <th>1</th>\n",
       "      <td>2</td>\n",
       "      <td>Станислав</td>\n",
       "      <td>31</td>\n",
       "      <td>Омск</td>\n",
       "      <td>ultra</td>\n",
       "      <td>26-35</td>\n",
       "    </tr>\n",
       "    <tr>\n",
       "      <th>2</th>\n",
       "      <td>3</td>\n",
       "      <td>Алексей</td>\n",
       "      <td>20</td>\n",
       "      <td>Москва</td>\n",
       "      <td>ultra</td>\n",
       "      <td>19-25</td>\n",
       "    </tr>\n",
       "    <tr>\n",
       "      <th>3</th>\n",
       "      <td>4</td>\n",
       "      <td>Константин</td>\n",
       "      <td>26</td>\n",
       "      <td>Ростов-на-Дону</td>\n",
       "      <td>ultra</td>\n",
       "      <td>26-35</td>\n",
       "    </tr>\n",
       "    <tr>\n",
       "      <th>4</th>\n",
       "      <td>5</td>\n",
       "      <td>Адель</td>\n",
       "      <td>28</td>\n",
       "      <td>Омск</td>\n",
       "      <td>ultra</td>\n",
       "      <td>26-35</td>\n",
       "    </tr>\n",
       "  </tbody>\n",
       "</table>\n",
       "</div>"
      ],
      "text/plain": [
       "   user_id        name  age            city subscription_type age_category\n",
       "0        1        Кира   22          Тюмень             ultra        19-25\n",
       "1        2   Станислав   31            Омск             ultra        26-35\n",
       "2        3     Алексей   20          Москва             ultra        19-25\n",
       "3        4  Константин   26  Ростов-на-Дону             ultra        26-35\n",
       "4        5       Адель   28            Омск             ultra        26-35"
      ]
     },
     "execution_count": 20,
     "metadata": {},
     "output_type": "execute_result"
    }
   ],
   "source": [
    "# строю функцию, которая будет категоризовать пользователей по возрасту\n",
    "\n",
    "def categorize_age(age):\n",
    "    try:\n",
    "        if 12 <= age <= 18:\n",
    "            return '12-18'\n",
    "        elif 19 <= age <= 25:\n",
    "            return '19-25'\n",
    "        elif 26 <= age <= 35:\n",
    "            return '26-35'\n",
    "        elif age >= 36:\n",
    "            return '36+'\n",
    "    except:\n",
    "        pass\n",
    "\n",
    "# применяю функцию к столбцу age_category    \n",
    "data_users_clean['age_category'] = data_users_clean['age'].apply(categorize_age)\n",
    "\n",
    "data_users_clean.head()"
   ]
  },
  {
   "cell_type": "code",
   "execution_count": 21,
   "id": "1977bd33",
   "metadata": {},
   "outputs": [
    {
     "data": {
      "text/html": [
       "<div>\n",
       "<style scoped>\n",
       "    .dataframe tbody tr th:only-of-type {\n",
       "        vertical-align: middle;\n",
       "    }\n",
       "\n",
       "    .dataframe tbody tr th {\n",
       "        vertical-align: top;\n",
       "    }\n",
       "\n",
       "    .dataframe thead th {\n",
       "        text-align: right;\n",
       "    }\n",
       "</style>\n",
       "<table border=\"1\" class=\"dataframe\">\n",
       "  <thead>\n",
       "    <tr style=\"text-align: right;\">\n",
       "      <th></th>\n",
       "      <th>Количество пользователей</th>\n",
       "    </tr>\n",
       "    <tr>\n",
       "      <th>age_category</th>\n",
       "      <th></th>\n",
       "    </tr>\n",
       "  </thead>\n",
       "  <tbody>\n",
       "    <tr>\n",
       "      <th>19-25</th>\n",
       "      <td>736</td>\n",
       "    </tr>\n",
       "    <tr>\n",
       "      <th>26-35</th>\n",
       "      <td>660</td>\n",
       "    </tr>\n",
       "    <tr>\n",
       "      <th>12-18</th>\n",
       "      <td>125</td>\n",
       "    </tr>\n",
       "    <tr>\n",
       "      <th>36+</th>\n",
       "      <td>13</td>\n",
       "    </tr>\n",
       "  </tbody>\n",
       "</table>\n",
       "</div>"
      ],
      "text/plain": [
       "              Количество пользователей\n",
       "age_category                          \n",
       "19-25                              736\n",
       "26-35                              660\n",
       "12-18                              125\n",
       "36+                                 13"
      ]
     },
     "execution_count": 21,
     "metadata": {},
     "output_type": "execute_result"
    }
   ],
   "source": [
    "# вывожу таблицу по соотношению пользователей по возрастам\n",
    "age_category = data_users_clean.pivot_table(index='age_category', values='user_id', aggfunc='count')\n",
    "age_category.columns = ['Количество пользователей']\n",
    "age_category.sort_values(by='Количество пользователей', ascending=False)"
   ]
  },
  {
   "cell_type": "code",
   "execution_count": 22,
   "id": "15fa870f",
   "metadata": {},
   "outputs": [
    {
     "data": {
      "image/png": "[encoded data removed]",
      "text/plain": [
       "<Figure size 1000x600 with 1 Axes>"
      ]
     },
     "metadata": {},
     "output_type": "display_data"
    }
   ],
   "source": [
    "plt.figure(figsize=(10, 6))\n",
    "plt.bar(age_category.index, age_category['Количество пользователей'])\n",
    "plt.xlabel('Возрастная категория')\n",
    "plt.ylabel('Количество пользователей')\n",
    "plt.title('Cоотношение возрастов пользователей')\n",
    "plt.show()"
   ]
  },
  {
   "cell_type": "markdown",
   "id": "74969248",
   "metadata": {},
   "source": [
    "Больше всего самокатами пользуются молодые люди до 35 лет. Предсказуемо, потому что самокаты - это относительно новый вид транспорта, который быстрее всего освоила молодёжь. Чтобы пользоваться самокатами, надо ещё чуть более продвинуто пользоваться телефонами. Людям старшего поколения это труднее."
   ]
  },
  {
   "cell_type": "markdown",
   "id": "c978b536",
   "metadata": {},
   "source": [
    "<div class=\"alert alert-success\">\n",
    "<b>Комментарий ревьюера:</b>☀️\n",
    "    \n",
    "* Есть удобный метод `describe`, который позволяет в кратком виде вывести информацию о распределении величин, очень удобно\n",
    "* Хочу обратить внимание на то, что имеются пользователи до 18 лет, что любопытно"
   ]
  },
  {
   "cell_type": "markdown",
   "id": "a60e2d22",
   "metadata": {},
   "source": [
    "### Расстояние, которое пользователь преодолел за одну поездку"
   ]
  },
  {
   "cell_type": "code",
   "execution_count": 23,
   "id": "9314a6cf",
   "metadata": {},
   "outputs": [
    {
     "data": {
      "text/plain": [
       "7211.007744598519"
      ]
     },
     "execution_count": 23,
     "metadata": {},
     "output_type": "execute_result"
    }
   ],
   "source": [
    "# вывела самое большое значение, чтобы затем проверить ограничения\n",
    "data_rides['distance'].max()"
   ]
  },
  {
   "cell_type": "code",
   "execution_count": 24,
   "id": "8c943904",
   "metadata": {},
   "outputs": [
    {
     "data": {
      "image/png": "[encoded data removed]",
      "text/plain": [
       "<Figure size 640x480 with 1 Axes>"
      ]
     },
     "metadata": {},
     "output_type": "display_data"
    }
   ],
   "source": [
    "# строю гистограмму распределения расстояния\n",
    "data_rides_cropped = data_rides.query('distance < 7000') # ограничила значение в 7 км, потому что дальше данных не очень много\n",
    "data_rides_cropped['distance'].hist(bins=100) # гистограмма на 100 корзин без ограничений\n",
    "plt.title('Распределение расстояния, которое пользователь преодолел за поездку')\n",
    "plt.show()"
   ]
  },
  {
   "cell_type": "markdown",
   "id": "4c60bff3",
   "metadata": {},
   "source": [
    "Стандартно пользователи проезжают до 4,5 км за поездку. Большинство - около 3 км. Есть всплеск в районе до 1,5 км. Возможно, такие поездки были не по «делам»: люди просто брали самокаты, чтобы попробовать поездить на них или для небольшого веселья. "
   ]
  },
  {
   "cell_type": "code",
   "execution_count": 25,
   "id": "24238d4f",
   "metadata": {},
   "outputs": [
    {
     "data": {
      "image/png": "[encoded data removed]",
      "text/plain": [
       "<Figure size 640x480 with 1 Axes>"
      ]
     },
     "metadata": {},
     "output_type": "display_data"
    }
   ],
   "source": [
    "data_rides_cropped = data_rides.query('0 <= distance < 200') # ограничила значение в 7 км, потому что дальше данных не очень много\n",
    "data_rides_cropped['distance'].hist(bins=100) # гистограмма на 100 корзин без ограничений\n",
    "plt.title('Распределение расстояния, которое пользователь преодолел за поездку')\n",
    "plt.show()"
   ]
  },
  {
   "cell_type": "markdown",
   "id": "6ebd3150",
   "metadata": {},
   "source": [
    "<div class=\"alert alert-success\">\n",
    "<b>Комментарий ревьюера:</b>☀️\n",
    "    \n",
    "Наличие пары пиков дистанций наталкивает на мысль, что может быть несколько сценариев пользования приложением и с этими категориями стоит отдельно работать"
   ]
  },
  {
   "cell_type": "markdown",
   "id": "36f36470",
   "metadata": {},
   "source": [
    "Есть также поездки с очень маленьким расстоянием - меньше 200 м. Возможно, сюда попадают ситуации, когда с самокатами выявилась какая-то проблема и пользователь быстро вернул самокат на место. "
   ]
  },
  {
   "cell_type": "markdown",
   "id": "4279a4b2",
   "metadata": {},
   "source": [
    "### Продолжительность поездок"
   ]
  },
  {
   "cell_type": "code",
   "execution_count": 26,
   "id": "e4ad6603",
   "metadata": {},
   "outputs": [
    {
     "data": {
      "text/plain": [
       "40.82396261922424"
      ]
     },
     "execution_count": 26,
     "metadata": {},
     "output_type": "execute_result"
    }
   ],
   "source": [
    "# вывела самое большое значение, чтобы затем проверить ограничения\n",
    "data_rides['duration'].max()"
   ]
  },
  {
   "cell_type": "code",
   "execution_count": 27,
   "id": "6055a046",
   "metadata": {},
   "outputs": [
    {
     "data": {
      "text/plain": [
       "<Axes: >"
      ]
     },
     "execution_count": 27,
     "metadata": {},
     "output_type": "execute_result"
    },
    {
     "data": {
      "image/png": "[encoded data removed]",
      "text/plain": [
       "<Figure size 640x480 with 1 Axes>"
      ]
     },
     "metadata": {},
     "output_type": "display_data"
    }
   ],
   "source": [
    "# строю гистограмму распределения расстояния\n",
    "data_rides['duration'].hist(bins=100) # гистограмма на 100 корзин без ограничений"
   ]
  },
  {
   "cell_type": "markdown",
   "id": "dfa78380",
   "metadata": {},
   "source": [
    "На гистограмме виден странный выброс в районе от 0 до 1. Изучим выбросы подробнее."
   ]
  },
  {
   "cell_type": "code",
   "execution_count": 28,
   "id": "b4e966b5",
   "metadata": {},
   "outputs": [
    {
     "data": {
      "text/plain": [
       "<Axes: >"
      ]
     },
     "execution_count": 28,
     "metadata": {},
     "output_type": "execute_result"
    },
    {
     "data": {
      "image/png": "[encoded data removed]",
      "text/plain": [
       "<Figure size 640x480 with 1 Axes>"
      ]
     },
     "metadata": {},
     "output_type": "display_data"
    }
   ],
   "source": [
    "data_rides['duration'].hist(bins=10, range=(0.4, 0.6))"
   ]
  },
  {
   "cell_type": "code",
   "execution_count": 29,
   "id": "c45291f4",
   "metadata": {},
   "outputs": [
    {
     "data": {
      "text/plain": [
       "array([0.5])"
      ]
     },
     "execution_count": 29,
     "metadata": {},
     "output_type": "execute_result"
    }
   ],
   "source": [
    "data_rides.query('duration < 1')['duration'].unique()"
   ]
  },
  {
   "cell_type": "markdown",
   "id": "c60178b4",
   "metadata": {},
   "source": [
    "<div class=\"alert alert-success\">\n",
    "<b>Комментарий ревьюера:</b>☀️\n",
    "    \n",
    "Отлично, что рассматриваешь аномально короткие поездки, было бы полезно посмотреть на расстояние, которое преодалевают пользователи в ходе этих поездок"
   ]
  },
  {
   "cell_type": "markdown",
   "id": "9b18ba2a",
   "metadata": {},
   "source": [
    "Похоже на какую-то ошибку в системе аренды самокатов. Возможно, что-то тестировали. Удалю аномалию."
   ]
  },
  {
   "cell_type": "code",
   "execution_count": 30,
   "id": "73845692",
   "metadata": {},
   "outputs": [
    {
     "data": {
      "image/png": "[encoded data removed]",
      "text/plain": [
       "<Figure size 640x480 with 1 Axes>"
      ]
     },
     "metadata": {},
     "output_type": "display_data"
    }
   ],
   "source": [
    "data_rides_clean = data_rides[(data_rides['duration'] > 0.5)]\n",
    "data_rides_clean['duration'].hist(bins=100)\n",
    "plt.title('Распределение продолжительности поездок')\n",
    "plt.show()"
   ]
  },
  {
   "cell_type": "code",
   "execution_count": 31,
   "id": "282ced05",
   "metadata": {},
   "outputs": [
    {
     "data": {
      "text/plain": [
       "2.0356324681963884"
      ]
     },
     "execution_count": 31,
     "metadata": {},
     "output_type": "execute_result"
    }
   ],
   "source": [
    "# вывожу минимальное значение, чтобы проверить, что больше нет каких-то странных значений\n",
    "data_rides_clean['duration'].min()"
   ]
  },
  {
   "cell_type": "code",
   "execution_count": 32,
   "id": "e338c38b",
   "metadata": {},
   "outputs": [
    {
     "name": "stdout",
     "output_type": "stream",
     "text": [
      "<class 'pandas.core.frame.DataFrame'>\n",
      "Int64Index: 17973 entries, 0 to 18067\n",
      "Data columns (total 5 columns):\n",
      " #   Column        Non-Null Count  Dtype         \n",
      "---  ------        --------------  -----         \n",
      " 0   user_id       17973 non-null  int16         \n",
      " 1   distance      17973 non-null  float64       \n",
      " 2   duration      17973 non-null  float64       \n",
      " 3   date          17973 non-null  datetime64[ns]\n",
      " 4   month_number  17973 non-null  int64         \n",
      "dtypes: datetime64[ns](1), float64(2), int16(1), int64(1)\n",
      "memory usage: 737.2 KB\n"
     ]
    }
   ],
   "source": [
    "data_rides_clean.info()"
   ]
  },
  {
   "cell_type": "markdown",
   "id": "e17c8b89",
   "metadata": {},
   "source": [
    "## Объединение данных"
   ]
  },
  {
   "cell_type": "code",
   "execution_count": 33,
   "id": "bd23be79",
   "metadata": {},
   "outputs": [
    {
     "data": {
      "text/html": [
       "<div>\n",
       "<style scoped>\n",
       "    .dataframe tbody tr th:only-of-type {\n",
       "        vertical-align: middle;\n",
       "    }\n",
       "\n",
       "    .dataframe tbody tr th {\n",
       "        vertical-align: top;\n",
       "    }\n",
       "\n",
       "    .dataframe thead th {\n",
       "        text-align: right;\n",
       "    }\n",
       "</style>\n",
       "<table border=\"1\" class=\"dataframe\">\n",
       "  <thead>\n",
       "    <tr style=\"text-align: right;\">\n",
       "      <th></th>\n",
       "      <th>user_id</th>\n",
       "      <th>name</th>\n",
       "      <th>age</th>\n",
       "      <th>city</th>\n",
       "      <th>subscription_type</th>\n",
       "      <th>age_category</th>\n",
       "      <th>distance</th>\n",
       "      <th>duration</th>\n",
       "      <th>date</th>\n",
       "      <th>month_number</th>\n",
       "    </tr>\n",
       "  </thead>\n",
       "  <tbody>\n",
       "    <tr>\n",
       "      <th>0</th>\n",
       "      <td>1</td>\n",
       "      <td>Кира</td>\n",
       "      <td>22</td>\n",
       "      <td>Тюмень</td>\n",
       "      <td>ultra</td>\n",
       "      <td>19-25</td>\n",
       "      <td>4409.919140</td>\n",
       "      <td>25.599769</td>\n",
       "      <td>2021-01-01</td>\n",
       "      <td>1</td>\n",
       "    </tr>\n",
       "    <tr>\n",
       "      <th>1</th>\n",
       "      <td>1</td>\n",
       "      <td>Кира</td>\n",
       "      <td>22</td>\n",
       "      <td>Тюмень</td>\n",
       "      <td>ultra</td>\n",
       "      <td>19-25</td>\n",
       "      <td>2617.592153</td>\n",
       "      <td>15.816871</td>\n",
       "      <td>2021-01-18</td>\n",
       "      <td>1</td>\n",
       "    </tr>\n",
       "    <tr>\n",
       "      <th>2</th>\n",
       "      <td>1</td>\n",
       "      <td>Кира</td>\n",
       "      <td>22</td>\n",
       "      <td>Тюмень</td>\n",
       "      <td>ultra</td>\n",
       "      <td>19-25</td>\n",
       "      <td>754.159807</td>\n",
       "      <td>6.232113</td>\n",
       "      <td>2021-04-20</td>\n",
       "      <td>4</td>\n",
       "    </tr>\n",
       "    <tr>\n",
       "      <th>3</th>\n",
       "      <td>1</td>\n",
       "      <td>Кира</td>\n",
       "      <td>22</td>\n",
       "      <td>Тюмень</td>\n",
       "      <td>ultra</td>\n",
       "      <td>19-25</td>\n",
       "      <td>2694.783254</td>\n",
       "      <td>18.511000</td>\n",
       "      <td>2021-08-11</td>\n",
       "      <td>8</td>\n",
       "    </tr>\n",
       "    <tr>\n",
       "      <th>4</th>\n",
       "      <td>1</td>\n",
       "      <td>Кира</td>\n",
       "      <td>22</td>\n",
       "      <td>Тюмень</td>\n",
       "      <td>ultra</td>\n",
       "      <td>19-25</td>\n",
       "      <td>4028.687306</td>\n",
       "      <td>26.265803</td>\n",
       "      <td>2021-08-28</td>\n",
       "      <td>8</td>\n",
       "    </tr>\n",
       "    <tr>\n",
       "      <th>...</th>\n",
       "      <td>...</td>\n",
       "      <td>...</td>\n",
       "      <td>...</td>\n",
       "      <td>...</td>\n",
       "      <td>...</td>\n",
       "      <td>...</td>\n",
       "      <td>...</td>\n",
       "      <td>...</td>\n",
       "      <td>...</td>\n",
       "      <td>...</td>\n",
       "    </tr>\n",
       "    <tr>\n",
       "      <th>17968</th>\n",
       "      <td>1534</td>\n",
       "      <td>Альберт</td>\n",
       "      <td>25</td>\n",
       "      <td>Краснодар</td>\n",
       "      <td>free</td>\n",
       "      <td>19-25</td>\n",
       "      <td>3781.098080</td>\n",
       "      <td>19.822962</td>\n",
       "      <td>2021-11-04</td>\n",
       "      <td>11</td>\n",
       "    </tr>\n",
       "    <tr>\n",
       "      <th>17969</th>\n",
       "      <td>1534</td>\n",
       "      <td>Альберт</td>\n",
       "      <td>25</td>\n",
       "      <td>Краснодар</td>\n",
       "      <td>free</td>\n",
       "      <td>19-25</td>\n",
       "      <td>2840.423057</td>\n",
       "      <td>21.409799</td>\n",
       "      <td>2021-11-16</td>\n",
       "      <td>11</td>\n",
       "    </tr>\n",
       "    <tr>\n",
       "      <th>17970</th>\n",
       "      <td>1534</td>\n",
       "      <td>Альберт</td>\n",
       "      <td>25</td>\n",
       "      <td>Краснодар</td>\n",
       "      <td>free</td>\n",
       "      <td>19-25</td>\n",
       "      <td>3826.185507</td>\n",
       "      <td>18.435051</td>\n",
       "      <td>2021-11-18</td>\n",
       "      <td>11</td>\n",
       "    </tr>\n",
       "    <tr>\n",
       "      <th>17971</th>\n",
       "      <td>1534</td>\n",
       "      <td>Альберт</td>\n",
       "      <td>25</td>\n",
       "      <td>Краснодар</td>\n",
       "      <td>free</td>\n",
       "      <td>19-25</td>\n",
       "      <td>2902.308661</td>\n",
       "      <td>16.674362</td>\n",
       "      <td>2021-11-27</td>\n",
       "      <td>11</td>\n",
       "    </tr>\n",
       "    <tr>\n",
       "      <th>17972</th>\n",
       "      <td>1534</td>\n",
       "      <td>Альберт</td>\n",
       "      <td>25</td>\n",
       "      <td>Краснодар</td>\n",
       "      <td>free</td>\n",
       "      <td>19-25</td>\n",
       "      <td>2371.711192</td>\n",
       "      <td>15.893917</td>\n",
       "      <td>2021-12-29</td>\n",
       "      <td>12</td>\n",
       "    </tr>\n",
       "  </tbody>\n",
       "</table>\n",
       "<p>17973 rows × 10 columns</p>\n",
       "</div>"
      ],
      "text/plain": [
       "       user_id     name  age       city subscription_type age_category  \\\n",
       "0            1     Кира   22     Тюмень             ultra        19-25   \n",
       "1            1     Кира   22     Тюмень             ultra        19-25   \n",
       "2            1     Кира   22     Тюмень             ultra        19-25   \n",
       "3            1     Кира   22     Тюмень             ultra        19-25   \n",
       "4            1     Кира   22     Тюмень             ultra        19-25   \n",
       "...        ...      ...  ...        ...               ...          ...   \n",
       "17968     1534  Альберт   25  Краснодар              free        19-25   \n",
       "17969     1534  Альберт   25  Краснодар              free        19-25   \n",
       "17970     1534  Альберт   25  Краснодар              free        19-25   \n",
       "17971     1534  Альберт   25  Краснодар              free        19-25   \n",
       "17972     1534  Альберт   25  Краснодар              free        19-25   \n",
       "\n",
       "          distance   duration       date  month_number  \n",
       "0      4409.919140  25.599769 2021-01-01             1  \n",
       "1      2617.592153  15.816871 2021-01-18             1  \n",
       "2       754.159807   6.232113 2021-04-20             4  \n",
       "3      2694.783254  18.511000 2021-08-11             8  \n",
       "4      4028.687306  26.265803 2021-08-28             8  \n",
       "...            ...        ...        ...           ...  \n",
       "17968  3781.098080  19.822962 2021-11-04            11  \n",
       "17969  2840.423057  21.409799 2021-11-16            11  \n",
       "17970  3826.185507  18.435051 2021-11-18            11  \n",
       "17971  2902.308661  16.674362 2021-11-27            11  \n",
       "17972  2371.711192  15.893917 2021-12-29            12  \n",
       "\n",
       "[17973 rows x 10 columns]"
      ]
     },
     "execution_count": 33,
     "metadata": {},
     "output_type": "execute_result"
    }
   ],
   "source": [
    "# первый этап - объединю таблицы data_users_clean и data_rides_clean по общему столбцу user_id\n",
    "users_vs_rides = pd.merge(data_users_clean, data_rides_clean, on='user_id')\n",
    "users_vs_rides"
   ]
  },
  {
   "cell_type": "code",
   "execution_count": 34,
   "id": "6ad577fd",
   "metadata": {},
   "outputs": [
    {
     "name": "stdout",
     "output_type": "stream",
     "text": [
      "<class 'pandas.core.frame.DataFrame'>\n",
      "Int64Index: 17973 entries, 0 to 17972\n",
      "Data columns (total 10 columns):\n",
      " #   Column             Non-Null Count  Dtype         \n",
      "---  ------             --------------  -----         \n",
      " 0   user_id            17973 non-null  int16         \n",
      " 1   name               17973 non-null  object        \n",
      " 2   age                17973 non-null  int16         \n",
      " 3   city               17973 non-null  object        \n",
      " 4   subscription_type  17973 non-null  object        \n",
      " 5   age_category       17973 non-null  object        \n",
      " 6   distance           17973 non-null  float64       \n",
      " 7   duration           17973 non-null  float64       \n",
      " 8   date               17973 non-null  datetime64[ns]\n",
      " 9   month_number       17973 non-null  int64         \n",
      "dtypes: datetime64[ns](1), float64(2), int16(2), int64(1), object(4)\n",
      "memory usage: 1.3+ MB\n"
     ]
    }
   ],
   "source": [
    "users_vs_rides.info()"
   ]
  },
  {
   "cell_type": "markdown",
   "id": "889b562d",
   "metadata": {},
   "source": [
    "<div class=\"alert alert-success\">\n",
    "<b>Комментарий ревьюера:</b>☀️\n",
    "    \n",
    "* Молодец, что проверяешь корректность размера датасета после объединения \n",
    "* Проверка пропусков также замечательна и страхует от возможных ошибок    "
   ]
  },
  {
   "cell_type": "code",
   "execution_count": 35,
   "id": "c84c70c7",
   "metadata": {},
   "outputs": [
    {
     "name": "stdout",
     "output_type": "stream",
     "text": [
      "<class 'pandas.core.frame.DataFrame'>\n",
      "Int64Index: 17973 entries, 0 to 17972\n",
      "Data columns (total 10 columns):\n",
      " #   Column             Non-Null Count  Dtype         \n",
      "---  ------             --------------  -----         \n",
      " 0   user_id            17973 non-null  int16         \n",
      " 1   name               17973 non-null  object        \n",
      " 2   age                17973 non-null  int16         \n",
      " 3   city               17973 non-null  object        \n",
      " 4   subscription_type  17973 non-null  object        \n",
      " 5   age_category       17973 non-null  object        \n",
      " 6   distance           17973 non-null  float64       \n",
      " 7   duration           17973 non-null  float64       \n",
      " 8   date               17973 non-null  datetime64[ns]\n",
      " 9   month_number       17973 non-null  int16         \n",
      "dtypes: datetime64[ns](1), float64(2), int16(3), object(4)\n",
      "memory usage: 1.2+ MB\n"
     ]
    }
   ],
   "source": [
    "# правлю для красоты тип данных номера месяца\n",
    "users_vs_rides['month_number'] = users_vs_rides['month_number'].astype('int16')\n",
    "users_vs_rides.info()"
   ]
  },
  {
   "cell_type": "code",
   "execution_count": 36,
   "id": "bb30d798",
   "metadata": {},
   "outputs": [
    {
     "data": {
      "text/html": [
       "<div>\n",
       "<style scoped>\n",
       "    .dataframe tbody tr th:only-of-type {\n",
       "        vertical-align: middle;\n",
       "    }\n",
       "\n",
       "    .dataframe tbody tr th {\n",
       "        vertical-align: top;\n",
       "    }\n",
       "\n",
       "    .dataframe thead th {\n",
       "        text-align: right;\n",
       "    }\n",
       "</style>\n",
       "<table border=\"1\" class=\"dataframe\">\n",
       "  <thead>\n",
       "    <tr style=\"text-align: right;\">\n",
       "      <th></th>\n",
       "      <th>user_id</th>\n",
       "      <th>name</th>\n",
       "      <th>age</th>\n",
       "      <th>city</th>\n",
       "      <th>subscription_type</th>\n",
       "      <th>age_category</th>\n",
       "      <th>distance</th>\n",
       "      <th>duration</th>\n",
       "      <th>date</th>\n",
       "      <th>month_number</th>\n",
       "      <th>minute_price</th>\n",
       "      <th>start_ride_price</th>\n",
       "      <th>subscription_fee</th>\n",
       "    </tr>\n",
       "  </thead>\n",
       "  <tbody>\n",
       "    <tr>\n",
       "      <th>0</th>\n",
       "      <td>1</td>\n",
       "      <td>Кира</td>\n",
       "      <td>22</td>\n",
       "      <td>Тюмень</td>\n",
       "      <td>ultra</td>\n",
       "      <td>19-25</td>\n",
       "      <td>4409.919140</td>\n",
       "      <td>25.599769</td>\n",
       "      <td>2021-01-01</td>\n",
       "      <td>1</td>\n",
       "      <td>6</td>\n",
       "      <td>0</td>\n",
       "      <td>199</td>\n",
       "    </tr>\n",
       "    <tr>\n",
       "      <th>1</th>\n",
       "      <td>1</td>\n",
       "      <td>Кира</td>\n",
       "      <td>22</td>\n",
       "      <td>Тюмень</td>\n",
       "      <td>ultra</td>\n",
       "      <td>19-25</td>\n",
       "      <td>2617.592153</td>\n",
       "      <td>15.816871</td>\n",
       "      <td>2021-01-18</td>\n",
       "      <td>1</td>\n",
       "      <td>6</td>\n",
       "      <td>0</td>\n",
       "      <td>199</td>\n",
       "    </tr>\n",
       "    <tr>\n",
       "      <th>2</th>\n",
       "      <td>1</td>\n",
       "      <td>Кира</td>\n",
       "      <td>22</td>\n",
       "      <td>Тюмень</td>\n",
       "      <td>ultra</td>\n",
       "      <td>19-25</td>\n",
       "      <td>754.159807</td>\n",
       "      <td>6.232113</td>\n",
       "      <td>2021-04-20</td>\n",
       "      <td>4</td>\n",
       "      <td>6</td>\n",
       "      <td>0</td>\n",
       "      <td>199</td>\n",
       "    </tr>\n",
       "    <tr>\n",
       "      <th>3</th>\n",
       "      <td>1</td>\n",
       "      <td>Кира</td>\n",
       "      <td>22</td>\n",
       "      <td>Тюмень</td>\n",
       "      <td>ultra</td>\n",
       "      <td>19-25</td>\n",
       "      <td>2694.783254</td>\n",
       "      <td>18.511000</td>\n",
       "      <td>2021-08-11</td>\n",
       "      <td>8</td>\n",
       "      <td>6</td>\n",
       "      <td>0</td>\n",
       "      <td>199</td>\n",
       "    </tr>\n",
       "    <tr>\n",
       "      <th>4</th>\n",
       "      <td>1</td>\n",
       "      <td>Кира</td>\n",
       "      <td>22</td>\n",
       "      <td>Тюмень</td>\n",
       "      <td>ultra</td>\n",
       "      <td>19-25</td>\n",
       "      <td>4028.687306</td>\n",
       "      <td>26.265803</td>\n",
       "      <td>2021-08-28</td>\n",
       "      <td>8</td>\n",
       "      <td>6</td>\n",
       "      <td>0</td>\n",
       "      <td>199</td>\n",
       "    </tr>\n",
       "    <tr>\n",
       "      <th>...</th>\n",
       "      <td>...</td>\n",
       "      <td>...</td>\n",
       "      <td>...</td>\n",
       "      <td>...</td>\n",
       "      <td>...</td>\n",
       "      <td>...</td>\n",
       "      <td>...</td>\n",
       "      <td>...</td>\n",
       "      <td>...</td>\n",
       "      <td>...</td>\n",
       "      <td>...</td>\n",
       "      <td>...</td>\n",
       "      <td>...</td>\n",
       "    </tr>\n",
       "    <tr>\n",
       "      <th>17968</th>\n",
       "      <td>1534</td>\n",
       "      <td>Альберт</td>\n",
       "      <td>25</td>\n",
       "      <td>Краснодар</td>\n",
       "      <td>free</td>\n",
       "      <td>19-25</td>\n",
       "      <td>3781.098080</td>\n",
       "      <td>19.822962</td>\n",
       "      <td>2021-11-04</td>\n",
       "      <td>11</td>\n",
       "      <td>8</td>\n",
       "      <td>50</td>\n",
       "      <td>0</td>\n",
       "    </tr>\n",
       "    <tr>\n",
       "      <th>17969</th>\n",
       "      <td>1534</td>\n",
       "      <td>Альберт</td>\n",
       "      <td>25</td>\n",
       "      <td>Краснодар</td>\n",
       "      <td>free</td>\n",
       "      <td>19-25</td>\n",
       "      <td>2840.423057</td>\n",
       "      <td>21.409799</td>\n",
       "      <td>2021-11-16</td>\n",
       "      <td>11</td>\n",
       "      <td>8</td>\n",
       "      <td>50</td>\n",
       "      <td>0</td>\n",
       "    </tr>\n",
       "    <tr>\n",
       "      <th>17970</th>\n",
       "      <td>1534</td>\n",
       "      <td>Альберт</td>\n",
       "      <td>25</td>\n",
       "      <td>Краснодар</td>\n",
       "      <td>free</td>\n",
       "      <td>19-25</td>\n",
       "      <td>3826.185507</td>\n",
       "      <td>18.435051</td>\n",
       "      <td>2021-11-18</td>\n",
       "      <td>11</td>\n",
       "      <td>8</td>\n",
       "      <td>50</td>\n",
       "      <td>0</td>\n",
       "    </tr>\n",
       "    <tr>\n",
       "      <th>17971</th>\n",
       "      <td>1534</td>\n",
       "      <td>Альберт</td>\n",
       "      <td>25</td>\n",
       "      <td>Краснодар</td>\n",
       "      <td>free</td>\n",
       "      <td>19-25</td>\n",
       "      <td>2902.308661</td>\n",
       "      <td>16.674362</td>\n",
       "      <td>2021-11-27</td>\n",
       "      <td>11</td>\n",
       "      <td>8</td>\n",
       "      <td>50</td>\n",
       "      <td>0</td>\n",
       "    </tr>\n",
       "    <tr>\n",
       "      <th>17972</th>\n",
       "      <td>1534</td>\n",
       "      <td>Альберт</td>\n",
       "      <td>25</td>\n",
       "      <td>Краснодар</td>\n",
       "      <td>free</td>\n",
       "      <td>19-25</td>\n",
       "      <td>2371.711192</td>\n",
       "      <td>15.893917</td>\n",
       "      <td>2021-12-29</td>\n",
       "      <td>12</td>\n",
       "      <td>8</td>\n",
       "      <td>50</td>\n",
       "      <td>0</td>\n",
       "    </tr>\n",
       "  </tbody>\n",
       "</table>\n",
       "<p>17973 rows × 13 columns</p>\n",
       "</div>"
      ],
      "text/plain": [
       "       user_id     name  age       city subscription_type age_category  \\\n",
       "0            1     Кира   22     Тюмень             ultra        19-25   \n",
       "1            1     Кира   22     Тюмень             ultra        19-25   \n",
       "2            1     Кира   22     Тюмень             ultra        19-25   \n",
       "3            1     Кира   22     Тюмень             ultra        19-25   \n",
       "4            1     Кира   22     Тюмень             ultra        19-25   \n",
       "...        ...      ...  ...        ...               ...          ...   \n",
       "17968     1534  Альберт   25  Краснодар              free        19-25   \n",
       "17969     1534  Альберт   25  Краснодар              free        19-25   \n",
       "17970     1534  Альберт   25  Краснодар              free        19-25   \n",
       "17971     1534  Альберт   25  Краснодар              free        19-25   \n",
       "17972     1534  Альберт   25  Краснодар              free        19-25   \n",
       "\n",
       "          distance   duration       date  month_number  minute_price  \\\n",
       "0      4409.919140  25.599769 2021-01-01             1             6   \n",
       "1      2617.592153  15.816871 2021-01-18             1             6   \n",
       "2       754.159807   6.232113 2021-04-20             4             6   \n",
       "3      2694.783254  18.511000 2021-08-11             8             6   \n",
       "4      4028.687306  26.265803 2021-08-28             8             6   \n",
       "...            ...        ...        ...           ...           ...   \n",
       "17968  3781.098080  19.822962 2021-11-04            11             8   \n",
       "17969  2840.423057  21.409799 2021-11-16            11             8   \n",
       "17970  3826.185507  18.435051 2021-11-18            11             8   \n",
       "17971  2902.308661  16.674362 2021-11-27            11             8   \n",
       "17972  2371.711192  15.893917 2021-12-29            12             8   \n",
       "\n",
       "       start_ride_price  subscription_fee  \n",
       "0                     0               199  \n",
       "1                     0               199  \n",
       "2                     0               199  \n",
       "3                     0               199  \n",
       "4                     0               199  \n",
       "...                 ...               ...  \n",
       "17968                50                 0  \n",
       "17969                50                 0  \n",
       "17970                50                 0  \n",
       "17971                50                 0  \n",
       "17972                50                 0  \n",
       "\n",
       "[17973 rows x 13 columns]"
      ]
     },
     "execution_count": 36,
     "metadata": {},
     "output_type": "execute_result"
    }
   ],
   "source": [
    "# второй этап - объединяю таблицы users_vs_rides и data_subscriptions по общему столбцу subscription_type\n",
    "data_all = pd.merge(users_vs_rides, data_subscriptions, on='subscription_type')\n",
    "data_all"
   ]
  },
  {
   "cell_type": "code",
   "execution_count": 37,
   "id": "82a8ea69",
   "metadata": {},
   "outputs": [
    {
     "name": "stdout",
     "output_type": "stream",
     "text": [
      "<class 'pandas.core.frame.DataFrame'>\n",
      "Int64Index: 17973 entries, 0 to 17972\n",
      "Data columns (total 13 columns):\n",
      " #   Column             Non-Null Count  Dtype         \n",
      "---  ------             --------------  -----         \n",
      " 0   user_id            17973 non-null  int16         \n",
      " 1   name               17973 non-null  object        \n",
      " 2   age                17973 non-null  int16         \n",
      " 3   city               17973 non-null  object        \n",
      " 4   subscription_type  17973 non-null  object        \n",
      " 5   age_category       17973 non-null  object        \n",
      " 6   distance           17973 non-null  float64       \n",
      " 7   duration           17973 non-null  float64       \n",
      " 8   date               17973 non-null  datetime64[ns]\n",
      " 9   month_number       17973 non-null  int16         \n",
      " 10  minute_price       17973 non-null  int16         \n",
      " 11  start_ride_price   17973 non-null  int16         \n",
      " 12  subscription_fee   17973 non-null  int16         \n",
      "dtypes: datetime64[ns](1), float64(2), int16(6), object(4)\n",
      "memory usage: 1.3+ MB\n"
     ]
    }
   ],
   "source": [
    "data_all.info()"
   ]
  },
  {
   "cell_type": "markdown",
   "id": "ef75d96a",
   "metadata": {},
   "source": [
    "### Данные о пользователях с подпиской"
   ]
  },
  {
   "cell_type": "code",
   "execution_count": 38,
   "id": "cdd378fc",
   "metadata": {},
   "outputs": [
    {
     "data": {
      "text/html": [
       "<div>\n",
       "<style scoped>\n",
       "    .dataframe tbody tr th:only-of-type {\n",
       "        vertical-align: middle;\n",
       "    }\n",
       "\n",
       "    .dataframe tbody tr th {\n",
       "        vertical-align: top;\n",
       "    }\n",
       "\n",
       "    .dataframe thead th {\n",
       "        text-align: right;\n",
       "    }\n",
       "</style>\n",
       "<table border=\"1\" class=\"dataframe\">\n",
       "  <thead>\n",
       "    <tr style=\"text-align: right;\">\n",
       "      <th></th>\n",
       "      <th>user_id</th>\n",
       "      <th>name</th>\n",
       "      <th>age</th>\n",
       "      <th>city</th>\n",
       "      <th>subscription_type</th>\n",
       "      <th>age_category</th>\n",
       "      <th>distance</th>\n",
       "      <th>duration</th>\n",
       "      <th>date</th>\n",
       "      <th>month_number</th>\n",
       "      <th>minute_price</th>\n",
       "      <th>start_ride_price</th>\n",
       "      <th>subscription_fee</th>\n",
       "    </tr>\n",
       "  </thead>\n",
       "  <tbody>\n",
       "    <tr>\n",
       "      <th>0</th>\n",
       "      <td>1</td>\n",
       "      <td>Кира</td>\n",
       "      <td>22</td>\n",
       "      <td>Тюмень</td>\n",
       "      <td>ultra</td>\n",
       "      <td>19-25</td>\n",
       "      <td>4409.919140</td>\n",
       "      <td>25.599769</td>\n",
       "      <td>2021-01-01</td>\n",
       "      <td>1</td>\n",
       "      <td>6</td>\n",
       "      <td>0</td>\n",
       "      <td>199</td>\n",
       "    </tr>\n",
       "    <tr>\n",
       "      <th>1</th>\n",
       "      <td>1</td>\n",
       "      <td>Кира</td>\n",
       "      <td>22</td>\n",
       "      <td>Тюмень</td>\n",
       "      <td>ultra</td>\n",
       "      <td>19-25</td>\n",
       "      <td>2617.592153</td>\n",
       "      <td>15.816871</td>\n",
       "      <td>2021-01-18</td>\n",
       "      <td>1</td>\n",
       "      <td>6</td>\n",
       "      <td>0</td>\n",
       "      <td>199</td>\n",
       "    </tr>\n",
       "    <tr>\n",
       "      <th>2</th>\n",
       "      <td>1</td>\n",
       "      <td>Кира</td>\n",
       "      <td>22</td>\n",
       "      <td>Тюмень</td>\n",
       "      <td>ultra</td>\n",
       "      <td>19-25</td>\n",
       "      <td>754.159807</td>\n",
       "      <td>6.232113</td>\n",
       "      <td>2021-04-20</td>\n",
       "      <td>4</td>\n",
       "      <td>6</td>\n",
       "      <td>0</td>\n",
       "      <td>199</td>\n",
       "    </tr>\n",
       "    <tr>\n",
       "      <th>3</th>\n",
       "      <td>1</td>\n",
       "      <td>Кира</td>\n",
       "      <td>22</td>\n",
       "      <td>Тюмень</td>\n",
       "      <td>ultra</td>\n",
       "      <td>19-25</td>\n",
       "      <td>2694.783254</td>\n",
       "      <td>18.511000</td>\n",
       "      <td>2021-08-11</td>\n",
       "      <td>8</td>\n",
       "      <td>6</td>\n",
       "      <td>0</td>\n",
       "      <td>199</td>\n",
       "    </tr>\n",
       "    <tr>\n",
       "      <th>4</th>\n",
       "      <td>1</td>\n",
       "      <td>Кира</td>\n",
       "      <td>22</td>\n",
       "      <td>Тюмень</td>\n",
       "      <td>ultra</td>\n",
       "      <td>19-25</td>\n",
       "      <td>4028.687306</td>\n",
       "      <td>26.265803</td>\n",
       "      <td>2021-08-28</td>\n",
       "      <td>8</td>\n",
       "      <td>6</td>\n",
       "      <td>0</td>\n",
       "      <td>199</td>\n",
       "    </tr>\n",
       "    <tr>\n",
       "      <th>...</th>\n",
       "      <td>...</td>\n",
       "      <td>...</td>\n",
       "      <td>...</td>\n",
       "      <td>...</td>\n",
       "      <td>...</td>\n",
       "      <td>...</td>\n",
       "      <td>...</td>\n",
       "      <td>...</td>\n",
       "      <td>...</td>\n",
       "      <td>...</td>\n",
       "      <td>...</td>\n",
       "      <td>...</td>\n",
       "      <td>...</td>\n",
       "    </tr>\n",
       "    <tr>\n",
       "      <th>6495</th>\n",
       "      <td>699</td>\n",
       "      <td>Оксана</td>\n",
       "      <td>22</td>\n",
       "      <td>Москва</td>\n",
       "      <td>ultra</td>\n",
       "      <td>19-25</td>\n",
       "      <td>3973.046497</td>\n",
       "      <td>24.671163</td>\n",
       "      <td>2021-08-29</td>\n",
       "      <td>8</td>\n",
       "      <td>6</td>\n",
       "      <td>0</td>\n",
       "      <td>199</td>\n",
       "    </tr>\n",
       "    <tr>\n",
       "      <th>6496</th>\n",
       "      <td>699</td>\n",
       "      <td>Оксана</td>\n",
       "      <td>22</td>\n",
       "      <td>Москва</td>\n",
       "      <td>ultra</td>\n",
       "      <td>19-25</td>\n",
       "      <td>3288.702563</td>\n",
       "      <td>15.892886</td>\n",
       "      <td>2021-09-12</td>\n",
       "      <td>9</td>\n",
       "      <td>6</td>\n",
       "      <td>0</td>\n",
       "      <td>199</td>\n",
       "    </tr>\n",
       "    <tr>\n",
       "      <th>6497</th>\n",
       "      <td>699</td>\n",
       "      <td>Оксана</td>\n",
       "      <td>22</td>\n",
       "      <td>Москва</td>\n",
       "      <td>ultra</td>\n",
       "      <td>19-25</td>\n",
       "      <td>3076.159348</td>\n",
       "      <td>14.389525</td>\n",
       "      <td>2021-09-26</td>\n",
       "      <td>9</td>\n",
       "      <td>6</td>\n",
       "      <td>0</td>\n",
       "      <td>199</td>\n",
       "    </tr>\n",
       "    <tr>\n",
       "      <th>6498</th>\n",
       "      <td>699</td>\n",
       "      <td>Оксана</td>\n",
       "      <td>22</td>\n",
       "      <td>Москва</td>\n",
       "      <td>ultra</td>\n",
       "      <td>19-25</td>\n",
       "      <td>4707.845501</td>\n",
       "      <td>15.839579</td>\n",
       "      <td>2021-10-17</td>\n",
       "      <td>10</td>\n",
       "      <td>6</td>\n",
       "      <td>0</td>\n",
       "      <td>199</td>\n",
       "    </tr>\n",
       "    <tr>\n",
       "      <th>6499</th>\n",
       "      <td>699</td>\n",
       "      <td>Оксана</td>\n",
       "      <td>22</td>\n",
       "      <td>Москва</td>\n",
       "      <td>ultra</td>\n",
       "      <td>19-25</td>\n",
       "      <td>3202.890770</td>\n",
       "      <td>25.217345</td>\n",
       "      <td>2021-12-03</td>\n",
       "      <td>12</td>\n",
       "      <td>6</td>\n",
       "      <td>0</td>\n",
       "      <td>199</td>\n",
       "    </tr>\n",
       "  </tbody>\n",
       "</table>\n",
       "<p>6500 rows × 13 columns</p>\n",
       "</div>"
      ],
      "text/plain": [
       "      user_id    name  age    city subscription_type age_category  \\\n",
       "0           1    Кира   22  Тюмень             ultra        19-25   \n",
       "1           1    Кира   22  Тюмень             ultra        19-25   \n",
       "2           1    Кира   22  Тюмень             ultra        19-25   \n",
       "3           1    Кира   22  Тюмень             ultra        19-25   \n",
       "4           1    Кира   22  Тюмень             ultra        19-25   \n",
       "...       ...     ...  ...     ...               ...          ...   \n",
       "6495      699  Оксана   22  Москва             ultra        19-25   \n",
       "6496      699  Оксана   22  Москва             ultra        19-25   \n",
       "6497      699  Оксана   22  Москва             ultra        19-25   \n",
       "6498      699  Оксана   22  Москва             ultra        19-25   \n",
       "6499      699  Оксана   22  Москва             ultra        19-25   \n",
       "\n",
       "         distance   duration       date  month_number  minute_price  \\\n",
       "0     4409.919140  25.599769 2021-01-01             1             6   \n",
       "1     2617.592153  15.816871 2021-01-18             1             6   \n",
       "2      754.159807   6.232113 2021-04-20             4             6   \n",
       "3     2694.783254  18.511000 2021-08-11             8             6   \n",
       "4     4028.687306  26.265803 2021-08-28             8             6   \n",
       "...           ...        ...        ...           ...           ...   \n",
       "6495  3973.046497  24.671163 2021-08-29             8             6   \n",
       "6496  3288.702563  15.892886 2021-09-12             9             6   \n",
       "6497  3076.159348  14.389525 2021-09-26             9             6   \n",
       "6498  4707.845501  15.839579 2021-10-17            10             6   \n",
       "6499  3202.890770  25.217345 2021-12-03            12             6   \n",
       "\n",
       "      start_ride_price  subscription_fee  \n",
       "0                    0               199  \n",
       "1                    0               199  \n",
       "2                    0               199  \n",
       "3                    0               199  \n",
       "4                    0               199  \n",
       "...                ...               ...  \n",
       "6495                 0               199  \n",
       "6496                 0               199  \n",
       "6497                 0               199  \n",
       "6498                 0               199  \n",
       "6499                 0               199  \n",
       "\n",
       "[6500 rows x 13 columns]"
      ]
     },
     "execution_count": 38,
     "metadata": {},
     "output_type": "execute_result"
    }
   ],
   "source": [
    "# делаю срез с данными по пользователям с подпиской\n",
    "users_ultra = data_all[data_all['subscription_type'] == 'ultra'].reset_index(drop=True) \n",
    "users_ultra"
   ]
  },
  {
   "cell_type": "code",
   "execution_count": 39,
   "id": "53defab8",
   "metadata": {
    "scrolled": true
   },
   "outputs": [
    {
     "data": {
      "image/png": "[encoded data removed]",
      "text/plain": [
       "<Figure size 640x480 with 1 Axes>"
      ]
     },
     "metadata": {},
     "output_type": "display_data"
    }
   ],
   "source": [
    "# строю гистограмму с распределением продолжительности поездок\n",
    "users_ultra['duration'].hist(bins=150)\n",
    "plt.title('Распределение продолжительности поездок пользователей с подписками')\n",
    "plt.show()"
   ]
  },
  {
   "cell_type": "markdown",
   "id": "ea70f689",
   "metadata": {},
   "source": [
    "Большинство поездок пользователей с подписками - от 10 до 25 минут. "
   ]
  },
  {
   "cell_type": "code",
   "execution_count": 40,
   "id": "28a978ca",
   "metadata": {},
   "outputs": [
    {
     "data": {
      "image/png": "[encoded data removed]",
      "text/plain": [
       "<Figure size 640x480 with 1 Axes>"
      ]
     },
     "metadata": {},
     "output_type": "display_data"
    }
   ],
   "source": [
    "# строю гистограмму с распределением расстояния поездок\n",
    "users_ultra['distance'].hist(bins=100)\n",
    "plt.title('Распределение расстояния поездок пользователей с подписками')\n",
    "plt.show()"
   ]
  },
  {
   "cell_type": "markdown",
   "id": "46878ba4",
   "metadata": {},
   "source": [
    "Большинство поездок - от 2,5 км до 4 км. Эти пользователи ездят, скорее всего, по делам и выбирают самокаты как альтернативу общественному транспорту. Есть ещё всплеск в районе 1 км, это совсем недалёкие поездки. Их совершают нечасто, потому что до объектов можно также дойти пешком и потратить не очень много времени."
   ]
  },
  {
   "cell_type": "markdown",
   "id": "ddc14e79",
   "metadata": {},
   "source": [
    "### Данные о пользователях без подписки"
   ]
  },
  {
   "cell_type": "code",
   "execution_count": 41,
   "id": "f518c9b5",
   "metadata": {},
   "outputs": [
    {
     "data": {
      "text/html": [
       "<div>\n",
       "<style scoped>\n",
       "    .dataframe tbody tr th:only-of-type {\n",
       "        vertical-align: middle;\n",
       "    }\n",
       "\n",
       "    .dataframe tbody tr th {\n",
       "        vertical-align: top;\n",
       "    }\n",
       "\n",
       "    .dataframe thead th {\n",
       "        text-align: right;\n",
       "    }\n",
       "</style>\n",
       "<table border=\"1\" class=\"dataframe\">\n",
       "  <thead>\n",
       "    <tr style=\"text-align: right;\">\n",
       "      <th></th>\n",
       "      <th>user_id</th>\n",
       "      <th>name</th>\n",
       "      <th>age</th>\n",
       "      <th>city</th>\n",
       "      <th>subscription_type</th>\n",
       "      <th>age_category</th>\n",
       "      <th>distance</th>\n",
       "      <th>duration</th>\n",
       "      <th>date</th>\n",
       "      <th>month_number</th>\n",
       "      <th>minute_price</th>\n",
       "      <th>start_ride_price</th>\n",
       "      <th>subscription_fee</th>\n",
       "    </tr>\n",
       "  </thead>\n",
       "  <tbody>\n",
       "    <tr>\n",
       "      <th>0</th>\n",
       "      <td>700</td>\n",
       "      <td>Айдар</td>\n",
       "      <td>22</td>\n",
       "      <td>Омск</td>\n",
       "      <td>free</td>\n",
       "      <td>19-25</td>\n",
       "      <td>2515.690719</td>\n",
       "      <td>14.944286</td>\n",
       "      <td>2021-01-02</td>\n",
       "      <td>1</td>\n",
       "      <td>8</td>\n",
       "      <td>50</td>\n",
       "      <td>0</td>\n",
       "    </tr>\n",
       "    <tr>\n",
       "      <th>1</th>\n",
       "      <td>700</td>\n",
       "      <td>Айдар</td>\n",
       "      <td>22</td>\n",
       "      <td>Омск</td>\n",
       "      <td>free</td>\n",
       "      <td>19-25</td>\n",
       "      <td>846.932642</td>\n",
       "      <td>16.234663</td>\n",
       "      <td>2021-02-01</td>\n",
       "      <td>2</td>\n",
       "      <td>8</td>\n",
       "      <td>50</td>\n",
       "      <td>0</td>\n",
       "    </tr>\n",
       "    <tr>\n",
       "      <th>2</th>\n",
       "      <td>700</td>\n",
       "      <td>Айдар</td>\n",
       "      <td>22</td>\n",
       "      <td>Омск</td>\n",
       "      <td>free</td>\n",
       "      <td>19-25</td>\n",
       "      <td>4004.434142</td>\n",
       "      <td>20.016628</td>\n",
       "      <td>2021-02-04</td>\n",
       "      <td>2</td>\n",
       "      <td>8</td>\n",
       "      <td>50</td>\n",
       "      <td>0</td>\n",
       "    </tr>\n",
       "    <tr>\n",
       "      <th>3</th>\n",
       "      <td>700</td>\n",
       "      <td>Айдар</td>\n",
       "      <td>22</td>\n",
       "      <td>Омск</td>\n",
       "      <td>free</td>\n",
       "      <td>19-25</td>\n",
       "      <td>1205.911290</td>\n",
       "      <td>9.782872</td>\n",
       "      <td>2021-02-10</td>\n",
       "      <td>2</td>\n",
       "      <td>8</td>\n",
       "      <td>50</td>\n",
       "      <td>0</td>\n",
       "    </tr>\n",
       "    <tr>\n",
       "      <th>4</th>\n",
       "      <td>700</td>\n",
       "      <td>Айдар</td>\n",
       "      <td>22</td>\n",
       "      <td>Омск</td>\n",
       "      <td>free</td>\n",
       "      <td>19-25</td>\n",
       "      <td>3047.379435</td>\n",
       "      <td>17.427673</td>\n",
       "      <td>2021-02-14</td>\n",
       "      <td>2</td>\n",
       "      <td>8</td>\n",
       "      <td>50</td>\n",
       "      <td>0</td>\n",
       "    </tr>\n",
       "    <tr>\n",
       "      <th>...</th>\n",
       "      <td>...</td>\n",
       "      <td>...</td>\n",
       "      <td>...</td>\n",
       "      <td>...</td>\n",
       "      <td>...</td>\n",
       "      <td>...</td>\n",
       "      <td>...</td>\n",
       "      <td>...</td>\n",
       "      <td>...</td>\n",
       "      <td>...</td>\n",
       "      <td>...</td>\n",
       "      <td>...</td>\n",
       "      <td>...</td>\n",
       "    </tr>\n",
       "    <tr>\n",
       "      <th>11468</th>\n",
       "      <td>1534</td>\n",
       "      <td>Альберт</td>\n",
       "      <td>25</td>\n",
       "      <td>Краснодар</td>\n",
       "      <td>free</td>\n",
       "      <td>19-25</td>\n",
       "      <td>3781.098080</td>\n",
       "      <td>19.822962</td>\n",
       "      <td>2021-11-04</td>\n",
       "      <td>11</td>\n",
       "      <td>8</td>\n",
       "      <td>50</td>\n",
       "      <td>0</td>\n",
       "    </tr>\n",
       "    <tr>\n",
       "      <th>11469</th>\n",
       "      <td>1534</td>\n",
       "      <td>Альберт</td>\n",
       "      <td>25</td>\n",
       "      <td>Краснодар</td>\n",
       "      <td>free</td>\n",
       "      <td>19-25</td>\n",
       "      <td>2840.423057</td>\n",
       "      <td>21.409799</td>\n",
       "      <td>2021-11-16</td>\n",
       "      <td>11</td>\n",
       "      <td>8</td>\n",
       "      <td>50</td>\n",
       "      <td>0</td>\n",
       "    </tr>\n",
       "    <tr>\n",
       "      <th>11470</th>\n",
       "      <td>1534</td>\n",
       "      <td>Альберт</td>\n",
       "      <td>25</td>\n",
       "      <td>Краснодар</td>\n",
       "      <td>free</td>\n",
       "      <td>19-25</td>\n",
       "      <td>3826.185507</td>\n",
       "      <td>18.435051</td>\n",
       "      <td>2021-11-18</td>\n",
       "      <td>11</td>\n",
       "      <td>8</td>\n",
       "      <td>50</td>\n",
       "      <td>0</td>\n",
       "    </tr>\n",
       "    <tr>\n",
       "      <th>11471</th>\n",
       "      <td>1534</td>\n",
       "      <td>Альберт</td>\n",
       "      <td>25</td>\n",
       "      <td>Краснодар</td>\n",
       "      <td>free</td>\n",
       "      <td>19-25</td>\n",
       "      <td>2902.308661</td>\n",
       "      <td>16.674362</td>\n",
       "      <td>2021-11-27</td>\n",
       "      <td>11</td>\n",
       "      <td>8</td>\n",
       "      <td>50</td>\n",
       "      <td>0</td>\n",
       "    </tr>\n",
       "    <tr>\n",
       "      <th>11472</th>\n",
       "      <td>1534</td>\n",
       "      <td>Альберт</td>\n",
       "      <td>25</td>\n",
       "      <td>Краснодар</td>\n",
       "      <td>free</td>\n",
       "      <td>19-25</td>\n",
       "      <td>2371.711192</td>\n",
       "      <td>15.893917</td>\n",
       "      <td>2021-12-29</td>\n",
       "      <td>12</td>\n",
       "      <td>8</td>\n",
       "      <td>50</td>\n",
       "      <td>0</td>\n",
       "    </tr>\n",
       "  </tbody>\n",
       "</table>\n",
       "<p>11473 rows × 13 columns</p>\n",
       "</div>"
      ],
      "text/plain": [
       "       user_id     name  age       city subscription_type age_category  \\\n",
       "0          700    Айдар   22       Омск              free        19-25   \n",
       "1          700    Айдар   22       Омск              free        19-25   \n",
       "2          700    Айдар   22       Омск              free        19-25   \n",
       "3          700    Айдар   22       Омск              free        19-25   \n",
       "4          700    Айдар   22       Омск              free        19-25   \n",
       "...        ...      ...  ...        ...               ...          ...   \n",
       "11468     1534  Альберт   25  Краснодар              free        19-25   \n",
       "11469     1534  Альберт   25  Краснодар              free        19-25   \n",
       "11470     1534  Альберт   25  Краснодар              free        19-25   \n",
       "11471     1534  Альберт   25  Краснодар              free        19-25   \n",
       "11472     1534  Альберт   25  Краснодар              free        19-25   \n",
       "\n",
       "          distance   duration       date  month_number  minute_price  \\\n",
       "0      2515.690719  14.944286 2021-01-02             1             8   \n",
       "1       846.932642  16.234663 2021-02-01             2             8   \n",
       "2      4004.434142  20.016628 2021-02-04             2             8   \n",
       "3      1205.911290   9.782872 2021-02-10             2             8   \n",
       "4      3047.379435  17.427673 2021-02-14             2             8   \n",
       "...            ...        ...        ...           ...           ...   \n",
       "11468  3781.098080  19.822962 2021-11-04            11             8   \n",
       "11469  2840.423057  21.409799 2021-11-16            11             8   \n",
       "11470  3826.185507  18.435051 2021-11-18            11             8   \n",
       "11471  2902.308661  16.674362 2021-11-27            11             8   \n",
       "11472  2371.711192  15.893917 2021-12-29            12             8   \n",
       "\n",
       "       start_ride_price  subscription_fee  \n",
       "0                    50                 0  \n",
       "1                    50                 0  \n",
       "2                    50                 0  \n",
       "3                    50                 0  \n",
       "4                    50                 0  \n",
       "...                 ...               ...  \n",
       "11468                50                 0  \n",
       "11469                50                 0  \n",
       "11470                50                 0  \n",
       "11471                50                 0  \n",
       "11472                50                 0  \n",
       "\n",
       "[11473 rows x 13 columns]"
      ]
     },
     "execution_count": 41,
     "metadata": {},
     "output_type": "execute_result"
    }
   ],
   "source": [
    "# делаю срез с данными по пользователям без подписки\n",
    "users_free = data_all[data_all['subscription_type'] == 'free'].reset_index(drop=True) \n",
    "users_free"
   ]
  },
  {
   "cell_type": "code",
   "execution_count": 42,
   "id": "68a56627",
   "metadata": {},
   "outputs": [
    {
     "data": {
      "image/png": "[encoded data removed]",
      "text/plain": [
       "<Figure size 640x480 with 1 Axes>"
      ]
     },
     "metadata": {},
     "output_type": "display_data"
    }
   ],
   "source": [
    "# строю гистограмму с распределением длительности поездок\n",
    "users_free['duration'].hist(bins=100)\n",
    "plt.title('Распределение продолжительности поездок пользователей без подписок')\n",
    "plt.show()"
   ]
  },
  {
   "cell_type": "markdown",
   "id": "bb5acba9",
   "metadata": {},
   "source": [
    "Поскольку пользователей без подписки больше, то и гистограмма их поездок плотнее. Распределение продолжительности поездок примерно такое же, как и у пользователей с подпиской - основная масса поездок длилась от 10 до 25 минут."
   ]
  },
  {
   "cell_type": "code",
   "execution_count": 43,
   "id": "e684cb91",
   "metadata": {},
   "outputs": [
    {
     "data": {
      "image/png": "[encoded data removed]",
      "text/plain": [
       "<Figure size 640x480 with 1 Axes>"
      ]
     },
     "metadata": {},
     "output_type": "display_data"
    }
   ],
   "source": [
    "# строю гистограмму с распределением расстояния поездок\n",
    "users_free['distance'].hist(bins=100)\n",
    "plt.title('Распределение расстояния поездок пользователей без подписок')\n",
    "plt.show()"
   ]
  },
  {
   "cell_type": "markdown",
   "id": "7c15313e",
   "metadata": {},
   "source": [
    "<div class=\"alert alert-success\">\n",
    "<b>Комментарий ревьюера:</b>☀️\n",
    "    \n",
    "* Проще сравнивать распределения на одном графике, поэтому рекомендовал бы продолжительность двух категорий расположить на одном графике, аналогично с расстоянием\n",
    "* На графиках отлично смотрится среднее или медиана, как дополнительное опорной значение, вот [тут](https://stackoverflow.com/questions/12043672/how-to-take-draw-an-average-line-for-a-scatter-plot) можно посмотреть, как добавить такую визуализацию"
   ]
  },
  {
   "cell_type": "markdown",
   "id": "dff40e3f",
   "metadata": {},
   "source": [
    "Расстояние поездок пользователей без подписки немного отличается от расстояния пользователей с подпиской. Первые совершают больше коротких поездок - до 1 км и до 3 км. Основная масса ездит от 2 до 4,5 км."
   ]
  },
  {
   "cell_type": "markdown",
   "id": "dc714cf6",
   "metadata": {},
   "source": [
    "## Подсчёт выручки"
   ]
  },
  {
   "cell_type": "code",
   "execution_count": 44,
   "id": "5e75af14",
   "metadata": {},
   "outputs": [
    {
     "data": {
      "text/html": [
       "<div>\n",
       "<style scoped>\n",
       "    .dataframe tbody tr th:only-of-type {\n",
       "        vertical-align: middle;\n",
       "    }\n",
       "\n",
       "    .dataframe tbody tr th {\n",
       "        vertical-align: top;\n",
       "    }\n",
       "\n",
       "    .dataframe thead th {\n",
       "        text-align: right;\n",
       "    }\n",
       "</style>\n",
       "<table border=\"1\" class=\"dataframe\">\n",
       "  <thead>\n",
       "    <tr style=\"text-align: right;\">\n",
       "      <th></th>\n",
       "      <th>user_id</th>\n",
       "      <th>name</th>\n",
       "      <th>age</th>\n",
       "      <th>city</th>\n",
       "      <th>subscription_type</th>\n",
       "      <th>age_category</th>\n",
       "      <th>distance</th>\n",
       "      <th>duration</th>\n",
       "      <th>date</th>\n",
       "      <th>month_number</th>\n",
       "      <th>minute_price</th>\n",
       "      <th>start_ride_price</th>\n",
       "      <th>subscription_fee</th>\n",
       "    </tr>\n",
       "  </thead>\n",
       "  <tbody>\n",
       "    <tr>\n",
       "      <th>0</th>\n",
       "      <td>1</td>\n",
       "      <td>Кира</td>\n",
       "      <td>22</td>\n",
       "      <td>Тюмень</td>\n",
       "      <td>ultra</td>\n",
       "      <td>19-25</td>\n",
       "      <td>4409.919140</td>\n",
       "      <td>25.599769</td>\n",
       "      <td>2021-01-01</td>\n",
       "      <td>1</td>\n",
       "      <td>6</td>\n",
       "      <td>0</td>\n",
       "      <td>199</td>\n",
       "    </tr>\n",
       "    <tr>\n",
       "      <th>1</th>\n",
       "      <td>1</td>\n",
       "      <td>Кира</td>\n",
       "      <td>22</td>\n",
       "      <td>Тюмень</td>\n",
       "      <td>ultra</td>\n",
       "      <td>19-25</td>\n",
       "      <td>2617.592153</td>\n",
       "      <td>15.816871</td>\n",
       "      <td>2021-01-18</td>\n",
       "      <td>1</td>\n",
       "      <td>6</td>\n",
       "      <td>0</td>\n",
       "      <td>199</td>\n",
       "    </tr>\n",
       "    <tr>\n",
       "      <th>2</th>\n",
       "      <td>1</td>\n",
       "      <td>Кира</td>\n",
       "      <td>22</td>\n",
       "      <td>Тюмень</td>\n",
       "      <td>ultra</td>\n",
       "      <td>19-25</td>\n",
       "      <td>754.159807</td>\n",
       "      <td>6.232113</td>\n",
       "      <td>2021-04-20</td>\n",
       "      <td>4</td>\n",
       "      <td>6</td>\n",
       "      <td>0</td>\n",
       "      <td>199</td>\n",
       "    </tr>\n",
       "    <tr>\n",
       "      <th>3</th>\n",
       "      <td>1</td>\n",
       "      <td>Кира</td>\n",
       "      <td>22</td>\n",
       "      <td>Тюмень</td>\n",
       "      <td>ultra</td>\n",
       "      <td>19-25</td>\n",
       "      <td>2694.783254</td>\n",
       "      <td>18.511000</td>\n",
       "      <td>2021-08-11</td>\n",
       "      <td>8</td>\n",
       "      <td>6</td>\n",
       "      <td>0</td>\n",
       "      <td>199</td>\n",
       "    </tr>\n",
       "    <tr>\n",
       "      <th>4</th>\n",
       "      <td>1</td>\n",
       "      <td>Кира</td>\n",
       "      <td>22</td>\n",
       "      <td>Тюмень</td>\n",
       "      <td>ultra</td>\n",
       "      <td>19-25</td>\n",
       "      <td>4028.687306</td>\n",
       "      <td>26.265803</td>\n",
       "      <td>2021-08-28</td>\n",
       "      <td>8</td>\n",
       "      <td>6</td>\n",
       "      <td>0</td>\n",
       "      <td>199</td>\n",
       "    </tr>\n",
       "    <tr>\n",
       "      <th>...</th>\n",
       "      <td>...</td>\n",
       "      <td>...</td>\n",
       "      <td>...</td>\n",
       "      <td>...</td>\n",
       "      <td>...</td>\n",
       "      <td>...</td>\n",
       "      <td>...</td>\n",
       "      <td>...</td>\n",
       "      <td>...</td>\n",
       "      <td>...</td>\n",
       "      <td>...</td>\n",
       "      <td>...</td>\n",
       "      <td>...</td>\n",
       "    </tr>\n",
       "    <tr>\n",
       "      <th>17968</th>\n",
       "      <td>1534</td>\n",
       "      <td>Альберт</td>\n",
       "      <td>25</td>\n",
       "      <td>Краснодар</td>\n",
       "      <td>free</td>\n",
       "      <td>19-25</td>\n",
       "      <td>3781.098080</td>\n",
       "      <td>19.822962</td>\n",
       "      <td>2021-11-04</td>\n",
       "      <td>11</td>\n",
       "      <td>8</td>\n",
       "      <td>50</td>\n",
       "      <td>0</td>\n",
       "    </tr>\n",
       "    <tr>\n",
       "      <th>17969</th>\n",
       "      <td>1534</td>\n",
       "      <td>Альберт</td>\n",
       "      <td>25</td>\n",
       "      <td>Краснодар</td>\n",
       "      <td>free</td>\n",
       "      <td>19-25</td>\n",
       "      <td>2840.423057</td>\n",
       "      <td>21.409799</td>\n",
       "      <td>2021-11-16</td>\n",
       "      <td>11</td>\n",
       "      <td>8</td>\n",
       "      <td>50</td>\n",
       "      <td>0</td>\n",
       "    </tr>\n",
       "    <tr>\n",
       "      <th>17970</th>\n",
       "      <td>1534</td>\n",
       "      <td>Альберт</td>\n",
       "      <td>25</td>\n",
       "      <td>Краснодар</td>\n",
       "      <td>free</td>\n",
       "      <td>19-25</td>\n",
       "      <td>3826.185507</td>\n",
       "      <td>18.435051</td>\n",
       "      <td>2021-11-18</td>\n",
       "      <td>11</td>\n",
       "      <td>8</td>\n",
       "      <td>50</td>\n",
       "      <td>0</td>\n",
       "    </tr>\n",
       "    <tr>\n",
       "      <th>17971</th>\n",
       "      <td>1534</td>\n",
       "      <td>Альберт</td>\n",
       "      <td>25</td>\n",
       "      <td>Краснодар</td>\n",
       "      <td>free</td>\n",
       "      <td>19-25</td>\n",
       "      <td>2902.308661</td>\n",
       "      <td>16.674362</td>\n",
       "      <td>2021-11-27</td>\n",
       "      <td>11</td>\n",
       "      <td>8</td>\n",
       "      <td>50</td>\n",
       "      <td>0</td>\n",
       "    </tr>\n",
       "    <tr>\n",
       "      <th>17972</th>\n",
       "      <td>1534</td>\n",
       "      <td>Альберт</td>\n",
       "      <td>25</td>\n",
       "      <td>Краснодар</td>\n",
       "      <td>free</td>\n",
       "      <td>19-25</td>\n",
       "      <td>2371.711192</td>\n",
       "      <td>15.893917</td>\n",
       "      <td>2021-12-29</td>\n",
       "      <td>12</td>\n",
       "      <td>8</td>\n",
       "      <td>50</td>\n",
       "      <td>0</td>\n",
       "    </tr>\n",
       "  </tbody>\n",
       "</table>\n",
       "<p>17973 rows × 13 columns</p>\n",
       "</div>"
      ],
      "text/plain": [
       "       user_id     name  age       city subscription_type age_category  \\\n",
       "0            1     Кира   22     Тюмень             ultra        19-25   \n",
       "1            1     Кира   22     Тюмень             ultra        19-25   \n",
       "2            1     Кира   22     Тюмень             ultra        19-25   \n",
       "3            1     Кира   22     Тюмень             ultra        19-25   \n",
       "4            1     Кира   22     Тюмень             ultra        19-25   \n",
       "...        ...      ...  ...        ...               ...          ...   \n",
       "17968     1534  Альберт   25  Краснодар              free        19-25   \n",
       "17969     1534  Альберт   25  Краснодар              free        19-25   \n",
       "17970     1534  Альберт   25  Краснодар              free        19-25   \n",
       "17971     1534  Альберт   25  Краснодар              free        19-25   \n",
       "17972     1534  Альберт   25  Краснодар              free        19-25   \n",
       "\n",
       "          distance   duration       date  month_number  minute_price  \\\n",
       "0      4409.919140  25.599769 2021-01-01             1             6   \n",
       "1      2617.592153  15.816871 2021-01-18             1             6   \n",
       "2       754.159807   6.232113 2021-04-20             4             6   \n",
       "3      2694.783254  18.511000 2021-08-11             8             6   \n",
       "4      4028.687306  26.265803 2021-08-28             8             6   \n",
       "...            ...        ...        ...           ...           ...   \n",
       "17968  3781.098080  19.822962 2021-11-04            11             8   \n",
       "17969  2840.423057  21.409799 2021-11-16            11             8   \n",
       "17970  3826.185507  18.435051 2021-11-18            11             8   \n",
       "17971  2902.308661  16.674362 2021-11-27            11             8   \n",
       "17972  2371.711192  15.893917 2021-12-29            12             8   \n",
       "\n",
       "       start_ride_price  subscription_fee  \n",
       "0                     0               199  \n",
       "1                     0               199  \n",
       "2                     0               199  \n",
       "3                     0               199  \n",
       "4                     0               199  \n",
       "...                 ...               ...  \n",
       "17968                50                 0  \n",
       "17969                50                 0  \n",
       "17970                50                 0  \n",
       "17971                50                 0  \n",
       "17972                50                 0  \n",
       "\n",
       "[17973 rows x 13 columns]"
      ]
     },
     "execution_count": 44,
     "metadata": {},
     "output_type": "execute_result"
    }
   ],
   "source": [
    "data_all"
   ]
  },
  {
   "cell_type": "code",
   "execution_count": 45,
   "id": "1e73b2e1",
   "metadata": {},
   "outputs": [
    {
     "data": {
      "text/html": [
       "<div>\n",
       "<style scoped>\n",
       "    .dataframe tbody tr th:only-of-type {\n",
       "        vertical-align: middle;\n",
       "    }\n",
       "\n",
       "    .dataframe tbody tr th {\n",
       "        vertical-align: top;\n",
       "    }\n",
       "\n",
       "    .dataframe thead th {\n",
       "        text-align: right;\n",
       "    }\n",
       "</style>\n",
       "<table border=\"1\" class=\"dataframe\">\n",
       "  <thead>\n",
       "    <tr style=\"text-align: right;\">\n",
       "      <th></th>\n",
       "      <th></th>\n",
       "      <th>Общее расстояние</th>\n",
       "      <th>Количество поездок</th>\n",
       "      <th>Общая длительность</th>\n",
       "      <th>Тариф</th>\n",
       "    </tr>\n",
       "    <tr>\n",
       "      <th>user_id</th>\n",
       "      <th>month_number</th>\n",
       "      <th></th>\n",
       "      <th></th>\n",
       "      <th></th>\n",
       "      <th></th>\n",
       "    </tr>\n",
       "  </thead>\n",
       "  <tbody>\n",
       "    <tr>\n",
       "      <th rowspan=\"6\" valign=\"top\">1</th>\n",
       "      <th>1</th>\n",
       "      <td>7027.511294</td>\n",
       "      <td>2</td>\n",
       "      <td>42.0</td>\n",
       "      <td>ultra</td>\n",
       "    </tr>\n",
       "    <tr>\n",
       "      <th>4</th>\n",
       "      <td>754.159807</td>\n",
       "      <td>1</td>\n",
       "      <td>7.0</td>\n",
       "      <td>ultra</td>\n",
       "    </tr>\n",
       "    <tr>\n",
       "      <th>8</th>\n",
       "      <td>6723.470560</td>\n",
       "      <td>2</td>\n",
       "      <td>46.0</td>\n",
       "      <td>ultra</td>\n",
       "    </tr>\n",
       "    <tr>\n",
       "      <th>10</th>\n",
       "      <td>5809.911100</td>\n",
       "      <td>2</td>\n",
       "      <td>32.0</td>\n",
       "      <td>ultra</td>\n",
       "    </tr>\n",
       "    <tr>\n",
       "      <th>11</th>\n",
       "      <td>7003.499363</td>\n",
       "      <td>3</td>\n",
       "      <td>56.0</td>\n",
       "      <td>ultra</td>\n",
       "    </tr>\n",
       "    <tr>\n",
       "      <th>12</th>\n",
       "      <td>6751.629942</td>\n",
       "      <td>2</td>\n",
       "      <td>28.0</td>\n",
       "      <td>ultra</td>\n",
       "    </tr>\n",
       "    <tr>\n",
       "      <th rowspan=\"4\" valign=\"top\">2</th>\n",
       "      <th>3</th>\n",
       "      <td>10187.723006</td>\n",
       "      <td>3</td>\n",
       "      <td>63.0</td>\n",
       "      <td>ultra</td>\n",
       "    </tr>\n",
       "    <tr>\n",
       "      <th>4</th>\n",
       "      <td>6164.381824</td>\n",
       "      <td>2</td>\n",
       "      <td>40.0</td>\n",
       "      <td>ultra</td>\n",
       "    </tr>\n",
       "    <tr>\n",
       "      <th>6</th>\n",
       "      <td>3255.338202</td>\n",
       "      <td>1</td>\n",
       "      <td>14.0</td>\n",
       "      <td>ultra</td>\n",
       "    </tr>\n",
       "    <tr>\n",
       "      <th>7</th>\n",
       "      <td>6780.722964</td>\n",
       "      <td>2</td>\n",
       "      <td>48.0</td>\n",
       "      <td>ultra</td>\n",
       "    </tr>\n",
       "  </tbody>\n",
       "</table>\n",
       "</div>"
      ],
      "text/plain": [
       "                      Общее расстояние  Количество поездок  \\\n",
       "user_id month_number                                         \n",
       "1       1                  7027.511294                   2   \n",
       "        4                   754.159807                   1   \n",
       "        8                  6723.470560                   2   \n",
       "        10                 5809.911100                   2   \n",
       "        11                 7003.499363                   3   \n",
       "        12                 6751.629942                   2   \n",
       "2       3                 10187.723006                   3   \n",
       "        4                  6164.381824                   2   \n",
       "        6                  3255.338202                   1   \n",
       "        7                  6780.722964                   2   \n",
       "\n",
       "                      Общая длительность  Тариф  \n",
       "user_id month_number                             \n",
       "1       1                           42.0  ultra  \n",
       "        4                            7.0  ultra  \n",
       "        8                           46.0  ultra  \n",
       "        10                          32.0  ultra  \n",
       "        11                          56.0  ultra  \n",
       "        12                          28.0  ultra  \n",
       "2       3                           63.0  ultra  \n",
       "        4                           40.0  ultra  \n",
       "        6                           14.0  ultra  \n",
       "        7                           48.0  ultra  "
      ]
     },
     "execution_count": 45,
     "metadata": {},
     "output_type": "execute_result"
    }
   ],
   "source": [
    "# строю сводную таблицу с данными по пользователям по месяцам\n",
    "data_all['duration'] = np.ceil(data_all['duration']) \n",
    "data_all_pivot = data_all.pivot_table(index=['user_id', 'month_number'], values=['distance', 'duration', 'subscription_type'], aggfunc={'distance':'sum', 'duration':['sum', 'count'], 'subscription_type':'first'})\n",
    "data_all_pivot.columns = ['Общее расстояние', 'Количество поездок', 'Общая длительность', 'Тариф']\n",
    "data_all_pivot.head(10)"
   ]
  },
  {
   "cell_type": "markdown",
   "id": "c149ad37",
   "metadata": {},
   "source": [
    "Для ревьюера: почему-то последовательность столбцов с агрегациями по длительности не в нужной последовательности отображаются, пришлось накостылять чуть. Можешь подсказать тут, пожалуйста, как сделать, чтобы сначала был столбец с общей длительностью, а потом - с количеством поездок?"
   ]
  },
  {
   "cell_type": "markdown",
   "id": "2b2287b3",
   "metadata": {},
   "source": [
    "### Подсчёт помесячной выручки"
   ]
  },
  {
   "cell_type": "code",
   "execution_count": 46,
   "id": "e502c050",
   "metadata": {},
   "outputs": [
    {
     "data": {
      "text/html": [
       "<div>\n",
       "<style scoped>\n",
       "    .dataframe tbody tr th:only-of-type {\n",
       "        vertical-align: middle;\n",
       "    }\n",
       "\n",
       "    .dataframe tbody tr th {\n",
       "        vertical-align: top;\n",
       "    }\n",
       "\n",
       "    .dataframe thead th {\n",
       "        text-align: right;\n",
       "    }\n",
       "</style>\n",
       "<table border=\"1\" class=\"dataframe\">\n",
       "  <thead>\n",
       "    <tr style=\"text-align: right;\">\n",
       "      <th></th>\n",
       "      <th></th>\n",
       "      <th>Общее расстояние</th>\n",
       "      <th>Количество поездок</th>\n",
       "      <th>Общая длительность</th>\n",
       "      <th>Тариф</th>\n",
       "      <th>Выручка за месяц</th>\n",
       "    </tr>\n",
       "    <tr>\n",
       "      <th>user_id</th>\n",
       "      <th>month_number</th>\n",
       "      <th></th>\n",
       "      <th></th>\n",
       "      <th></th>\n",
       "      <th></th>\n",
       "      <th></th>\n",
       "    </tr>\n",
       "  </thead>\n",
       "  <tbody>\n",
       "    <tr>\n",
       "      <th rowspan=\"6\" valign=\"top\">1</th>\n",
       "      <th>1</th>\n",
       "      <td>7027.511294</td>\n",
       "      <td>2</td>\n",
       "      <td>42.0</td>\n",
       "      <td>ultra</td>\n",
       "      <td>451.0</td>\n",
       "    </tr>\n",
       "    <tr>\n",
       "      <th>4</th>\n",
       "      <td>754.159807</td>\n",
       "      <td>1</td>\n",
       "      <td>7.0</td>\n",
       "      <td>ultra</td>\n",
       "      <td>241.0</td>\n",
       "    </tr>\n",
       "    <tr>\n",
       "      <th>8</th>\n",
       "      <td>6723.470560</td>\n",
       "      <td>2</td>\n",
       "      <td>46.0</td>\n",
       "      <td>ultra</td>\n",
       "      <td>475.0</td>\n",
       "    </tr>\n",
       "    <tr>\n",
       "      <th>10</th>\n",
       "      <td>5809.911100</td>\n",
       "      <td>2</td>\n",
       "      <td>32.0</td>\n",
       "      <td>ultra</td>\n",
       "      <td>391.0</td>\n",
       "    </tr>\n",
       "    <tr>\n",
       "      <th>11</th>\n",
       "      <td>7003.499363</td>\n",
       "      <td>3</td>\n",
       "      <td>56.0</td>\n",
       "      <td>ultra</td>\n",
       "      <td>535.0</td>\n",
       "    </tr>\n",
       "    <tr>\n",
       "      <th>12</th>\n",
       "      <td>6751.629942</td>\n",
       "      <td>2</td>\n",
       "      <td>28.0</td>\n",
       "      <td>ultra</td>\n",
       "      <td>367.0</td>\n",
       "    </tr>\n",
       "    <tr>\n",
       "      <th rowspan=\"4\" valign=\"top\">2</th>\n",
       "      <th>3</th>\n",
       "      <td>10187.723006</td>\n",
       "      <td>3</td>\n",
       "      <td>63.0</td>\n",
       "      <td>ultra</td>\n",
       "      <td>577.0</td>\n",
       "    </tr>\n",
       "    <tr>\n",
       "      <th>4</th>\n",
       "      <td>6164.381824</td>\n",
       "      <td>2</td>\n",
       "      <td>40.0</td>\n",
       "      <td>ultra</td>\n",
       "      <td>439.0</td>\n",
       "    </tr>\n",
       "    <tr>\n",
       "      <th>6</th>\n",
       "      <td>3255.338202</td>\n",
       "      <td>1</td>\n",
       "      <td>14.0</td>\n",
       "      <td>ultra</td>\n",
       "      <td>283.0</td>\n",
       "    </tr>\n",
       "    <tr>\n",
       "      <th>7</th>\n",
       "      <td>6780.722964</td>\n",
       "      <td>2</td>\n",
       "      <td>48.0</td>\n",
       "      <td>ultra</td>\n",
       "      <td>487.0</td>\n",
       "    </tr>\n",
       "  </tbody>\n",
       "</table>\n",
       "</div>"
      ],
      "text/plain": [
       "                      Общее расстояние  Количество поездок  \\\n",
       "user_id month_number                                         \n",
       "1       1                  7027.511294                   2   \n",
       "        4                   754.159807                   1   \n",
       "        8                  6723.470560                   2   \n",
       "        10                 5809.911100                   2   \n",
       "        11                 7003.499363                   3   \n",
       "        12                 6751.629942                   2   \n",
       "2       3                 10187.723006                   3   \n",
       "        4                  6164.381824                   2   \n",
       "        6                  3255.338202                   1   \n",
       "        7                  6780.722964                   2   \n",
       "\n",
       "                      Общая длительность  Тариф  Выручка за месяц  \n",
       "user_id month_number                                               \n",
       "1       1                           42.0  ultra             451.0  \n",
       "        4                            7.0  ultra             241.0  \n",
       "        8                           46.0  ultra             475.0  \n",
       "        10                          32.0  ultra             391.0  \n",
       "        11                          56.0  ultra             535.0  \n",
       "        12                          28.0  ultra             367.0  \n",
       "2       3                           63.0  ultra             577.0  \n",
       "        4                           40.0  ultra             439.0  \n",
       "        6                           14.0  ultra             283.0  \n",
       "        7                           48.0  ultra             487.0  "
      ]
     },
     "execution_count": 46,
     "metadata": {},
     "output_type": "execute_result"
    }
   ],
   "source": [
    "# строю функцию, которая будет рассчитывать помесячную выручку по пользователям\n",
    "def count_revenue(tariff):\n",
    "    try:\n",
    "        if tariff['Тариф'] == 'ultra':\n",
    "            return 6*tariff['Общая длительность'] + 199\n",
    "        elif tariff['Тариф'] == 'free':\n",
    "            return 50*tariff['Количество поездок'] + 8*tariff['Общая длительность'] \n",
    "    except:\n",
    "        pass\n",
    "\n",
    "# добавляю столбец с выручкой за месяц\n",
    "data_all_pivot['Выручка за месяц'] = data_all_pivot.apply(count_revenue, axis=1)\n",
    "data_all_pivot.head(10)"
   ]
  },
  {
   "cell_type": "markdown",
   "id": "9e92822a",
   "metadata": {},
   "source": [
    "<div class=\"alert alert-success\">\n",
    "<b>Комментарий ревьюера:</b>☀️\n",
    "    \n",
    "Абсолютно верный расчёт доходов, можно двигаться к проверке гипотез"
   ]
  },
  {
   "cell_type": "markdown",
   "id": "2ef6eda8",
   "metadata": {},
   "source": [
    "## Проверка гипотез"
   ]
  },
  {
   "cell_type": "markdown",
   "id": "fa6f4f17",
   "metadata": {},
   "source": [
    "### Ultra vs free: чьи поездки продолжительнее"
   ]
  },
  {
   "cell_type": "markdown",
   "id": "361ae3fe",
   "metadata": {},
   "source": [
    "Важно понять, тратят ли пользователи с подпиской больше времени на поездки. Если да, то пользователи с подпиской могут быть выгоднее для компании."
   ]
  },
  {
   "cell_type": "code",
   "execution_count": 47,
   "id": "32c54de7",
   "metadata": {},
   "outputs": [
    {
     "name": "stdout",
     "output_type": "stream",
     "text": [
      "p-value: 8.577910347796266e-28\n",
      "Отвергаем нулевую гипотезу\n"
     ]
    }
   ],
   "source": [
    "# делаю срезы по пользователям с и без подписки\n",
    "\n",
    "ultra_duration = data_all[data_all['subscription_type'] == 'ultra']['duration']\n",
    "free_duration = data_all[data_all['subscription_type'] == 'free']['duration']\n",
    "\n",
    "alpha = 0.05 # указала уровень стат. значимости\n",
    "\n",
    "# провожу t-тест для двух выборок, альтернативная гипотеза - односторонняя «больше»\n",
    "results = st.ttest_ind(ultra_duration, free_duration, alternative='greater')\n",
    "\n",
    "print(f'p-value: {results.pvalue}')\n",
    "\n",
    "# проверяю p-value\n",
    "if results.pvalue < alpha:\n",
    "    print('Отвергаем нулевую гипотезу')\n",
    "else:\n",
    "    print('Нет оснований отвергнуть нулевую гипотезу')"
   ]
  },
  {
   "cell_type": "markdown",
   "id": "61ef83a8",
   "metadata": {},
   "source": [
    "Есть основания говорить, что пользователи с подпиской тратят на поездки больше времени. \n",
    "\n",
    "Для ревьюера: А нормально, что p-value такое маленькое?) И как тогда соотнести показания теста и гистограмм выше, на которых видно, что ultra и free совершают примерно одинаковые по длительности поездки?"
   ]
  },
  {
   "cell_type": "markdown",
   "id": "551bd6ab",
   "metadata": {},
   "source": [
    "### Проезжают ли ultra больше 3130 м?"
   ]
  },
  {
   "cell_type": "markdown",
   "id": "66073244",
   "metadata": {},
   "source": [
    "Расстояние одной поездки в 3130 метров — оптимальное с точки зрения износа самоката. Можно ли сказать, что среднее расстояние, которое проезжают пользователи с подпиской за одну поездку, не превышает 3130 метров?"
   ]
  },
  {
   "cell_type": "code",
   "execution_count": 48,
   "id": "9f2254ac",
   "metadata": {},
   "outputs": [
    {
     "name": "stdout",
     "output_type": "stream",
     "text": [
      "p-value: 0.9195368847849785\n",
      "Нет оснований отвергнуть нулевую гипотезу\n"
     ]
    }
   ],
   "source": [
    "# делаю срез по пользователям с подпиской и указываю оптимальное значение расстояния\n",
    "ultra_distance = data_all[data_all['subscription_type'] == 'ultra']['distance']\n",
    "optimal_distance = 3130\n",
    "\n",
    "alpha = 0.05\n",
    "\n",
    "# провожу одновыборочный тест, альтернативная гипотеза - односторонняя «больше»\n",
    "results = st.ttest_1samp(ultra_distance, optimal_distance, alternative='greater')\n",
    "\n",
    "print(f'p-value: {results.pvalue}')\n",
    "\n",
    "# проверяю p-value\n",
    "if results.pvalue < alpha:\n",
    "    print('Отвергаем нулевую гипотезу')\n",
    "else:\n",
    "    print('Нет оснований отвергнуть нулевую гипотезу')"
   ]
  },
  {
   "cell_type": "markdown",
   "id": "edcbcb1a",
   "metadata": {},
   "source": [
    "<div class=\"alert alert-danger\">\n",
    "<b>Комментарий ревьюера:</b>☁️\n",
    "\n",
    "При проверке стат тестом гипотез важно формулировать нулевую и альтернативную гипотезу, прошу это добавить\n",
    "</div>"
   ]
  },
  {
   "cell_type": "markdown",
   "id": "2e915c19",
   "metadata": {},
   "source": [
    "Среднее расстояние, которое проезжают пользователи с подпиской за одну поездку, не превышает 3130 метров. Тут всё соотносится с гистограммой."
   ]
  },
  {
   "cell_type": "markdown",
   "id": "9bec320c",
   "metadata": {},
   "source": [
    "### Больше ли выручка от ultra, чем от free?"
   ]
  },
  {
   "cell_type": "markdown",
   "id": "fe96fb22",
   "metadata": {},
   "source": [
    "Проверю, будет ли помесячная выручка от пользователей с подпиской по месяцам выше, чем выручка от пользователей без подписки."
   ]
  },
  {
   "cell_type": "code",
   "execution_count": 49,
   "id": "07bc4e61",
   "metadata": {},
   "outputs": [
    {
     "name": "stdout",
     "output_type": "stream",
     "text": [
      "p-value: 2.0314113674863288e-30\n",
      "Отвергаем нулевую гипотезу\n"
     ]
    }
   ],
   "source": [
    "# делаю срез по пользователям с и без подписки\n",
    "ultra_revenue = data_all_pivot[data_all_pivot['Тариф'] == 'ultra']['Выручка за месяц']\n",
    "free_revenue = data_all_pivot[data_all_pivot['Тариф'] == 'free']['Выручка за месяц']\n",
    "\n",
    "\n",
    "alpha = 0.05\n",
    "\n",
    "# провожу t-тест для двух выборок, альтернативная гипотеза - односторонняя «больше»\n",
    "results = st.ttest_ind(ultra_revenue, free_revenue, alternative='greater')\n",
    "\n",
    "print(f'p-value: {results.pvalue}')\n",
    "\n",
    "# проверяю p-value\n",
    "if results.pvalue < alpha:\n",
    "    print('Отвергаем нулевую гипотезу')\n",
    "else:\n",
    "    print('Нет оснований отвергнуть нулевую гипотезу')"
   ]
  },
  {
   "cell_type": "markdown",
   "id": "ca0d8d6a",
   "metadata": {},
   "source": [
    "Помесячная выручка от пользователей с подпиской по месяцам выше, чем выручка от пользователей без подписки."
   ]
  },
  {
   "cell_type": "markdown",
   "id": "03f086f3",
   "metadata": {},
   "source": [
    "### Вопрос про техническую поддержку"
   ]
  },
  {
   "cell_type": "markdown",
   "id": "5956100a",
   "metadata": {},
   "source": [
    "**Ответ**: тут понадобится проверить гипотезу о равенстве среднего генеральной совокупности для зависимых (парных) выборок в Python. Применю метод scipy.stats.ttest_rel() - парный t-тест."
   ]
  },
  {
   "cell_type": "markdown",
   "id": "d4d7f04d",
   "metadata": {},
   "source": [
    "<div class=\"alert alert-warning\">\n",
    "<b>Комментарий ревьюера:</b>⛅️ \n",
    "\n",
    "Какую альтернативную гипотезу используешь? \n",
    "</div>"
   ]
  },
  {
   "cell_type": "markdown",
   "id": "a1936952",
   "metadata": {},
   "source": [
    "## Выводы"
   ]
  },
  {
   "cell_type": "markdown",
   "id": "648eefbe",
   "metadata": {},
   "source": [
    "- В Пятигорске больше всего пользователей GoFast. Возможно, там находится штаб компании. Второй и третий города - Екатеринбург и Ростов-на-Дону. В столице меньше всего пользуются услугами GoFast.\n",
    "- Больше всего самокатами пользуются молодые люди до 35 лет. Предсказуемо, потому что самокаты - это относительно новый вид транспорта, который быстрее всего освоила молодёжь. Чтобы пользоваться самокатами, надо ещё чуть более продвинуто пользоваться телефонами. Людям старшего поколения это труднее.\n",
    "- Стандартно пользователи проезжают до 4,5 км за поездку. Большинство - около 3 км. Есть всплеск в районе до 1,5 км. Возможно, такие поездки были не по «делам»: люди просто брали самокаты, чтобы попробовать поездить на них или для небольшого веселья.\n",
    "- В данных есть странные поездки продолжительность 0,5 сек. Похоже на какую-то ошибку в системе аренды самокатов. Надо выяснить причины ошибки.\n",
    "- Пользователей без подписки немного больше, чем пользователей с подпиской. Большинство поездок пользователей с подписками - от 10 до 25 минут, а большинство поездок - от 2,5 км до 4 км. Распределение продолжительности поездок пользователей без подписки примерно такое же, как и у пользователей с подпиской - основная масса поездок длилась от 10 до 25 минут. Но вот расстояние немного отличается: пользователи без подписки совершают больше коротких поездок - до 1 км и до 3 км. Основная масса ездит от 2 до 4,5 км.\n",
    "- По гипотезам: пользователи с подпиской тратят на поездки больше времени, среднее расстояние за одну поездку не превышает оптимальных 3130 метров, а помесячная выручка выше, чем выручка от пользователей без подписки. Пока всё говорит за то, что пользователи с подписками выгоднее, чем пользователи без подписок. Но полностью отказываться от бесплатного предложения нельзя, потому что пользователей без подписки больше, чем тех, у кого подписка есть."
   ]
  },
  {
   "cell_type": "markdown",
   "id": "349bd588",
   "metadata": {},
   "source": [
    "<div class=\"alert alert-success\">\n",
    "<b>Комментарий ревьюера:</b>☀️\n",
    "    \n",
    "Благодарю за вывод, пару небольших замечаний и приму работу, желаю с правками лёгкости!)"
   ]
  },
  {
   "cell_type": "code",
   "execution_count": null,
   "id": "db53def0",
   "metadata": {},
   "outputs": [],
   "source": []
  }
 ],
 "metadata": {
  "kernelspec": {
   "display_name": "Python 3 (ipykernel)",
   "language": "python",
   "name": "python3"
  },
  "language_info": {
   "codemirror_mode": {
    "name": "ipython",
    "version": 3
   },
   "file_extension": ".py",
   "mimetype": "text/x-python",
   "name": "python",
   "nbconvert_exporter": "python",
   "pygments_lexer": "ipython3",
   "version": "3.11.4"
  },
  "toc": {
   "base_numbering": 1,
   "nav_menu": {},
   "number_sections": true,
   "sideBar": true,
   "skip_h1_title": true,
   "title_cell": "Table of Contents",
   "title_sidebar": "Contents",
   "toc_cell": true,
   "toc_position": {},
   "toc_section_display": true,
   "toc_window_display": false
  }
 },
 "nbformat": 4,
 "nbformat_minor": 5
}
