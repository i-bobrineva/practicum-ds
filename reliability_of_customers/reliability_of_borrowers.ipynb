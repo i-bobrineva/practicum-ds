{
 "cells": [
  {
   "cell_type": "markdown",
   "id": "ac7f8ca6",
   "metadata": {
    "deletable": false,
    "editable": false,
    "id": "c81daeeb"
   },
   "source": "# Borrower Reliability Research\n"
  },
  {
   "cell_type": "markdown",
   "id": "edfc5388",
   "metadata": {},
   "source": [
    "The customer is the bank's credit department. It is necessary to determine whether the marital status and number of children of a client affect the timely repayment of a loan. The input data from the bank is statistics on the clients' creditworthiness.\n",
    "The results of the study will be taken into account when building a credit scoring model — a special system that assesses the ability of a potential borrower to repay the loan to the bank.\n"
   ]
  },
  {
   "cell_type": "markdown",
   "id": "631ea3ba",
   "metadata": {
    "deletable": false,
    "editable": false,
    "id": "744d7639"
   },
   "source": "## General information about data"
  },
  {
   "cell_type": "markdown",
   "id": "c8b68c8e",
   "metadata": {
    "deletable": false,
    "editable": false,
    "id": "e7a14c31"
   },
   "source": "Importing the pandas library and studying the dataset.\n"
  },
  {
   "cell_type": "code",
   "execution_count": 1,
   "id": "c2dfccb6",
   "metadata": {
    "deletable": false,
    "id": "7bcf75c9"
   },
   "outputs": [],
   "source": [
    "import pandas as pd\n",
    "\n",
    "try:\n",
    "    data = pd.read_csv('/datasets/data.csv')\n",
    "except:\n",
    "    data = pd.read_csv('https://code.s3.yandex.net/datasets/data.csv')"
   ]
  },
  {
   "cell_type": "code",
   "execution_count": 2,
   "id": "c8b24aea",
   "metadata": {
    "deletable": false,
    "id": "2a7cab99",
    "outputId": "1a8f3ef2-d323-4ec2-ddf7-89670b5944c4"
   },
   "outputs": [
    {
     "data": {
      "text/html": [
       "<div>\n",
       "<style scoped>\n",
       "    .dataframe tbody tr th:only-of-type {\n",
       "        vertical-align: middle;\n",
       "    }\n",
       "\n",
       "    .dataframe tbody tr th {\n",
       "        vertical-align: top;\n",
       "    }\n",
       "\n",
       "    .dataframe thead th {\n",
       "        text-align: right;\n",
       "    }\n",
       "</style>\n",
       "<table border=\"1\" class=\"dataframe\">\n",
       "  <thead>\n",
       "    <tr style=\"text-align: right;\">\n",
       "      <th></th>\n",
       "      <th>children</th>\n",
       "      <th>days_employed</th>\n",
       "      <th>dob_years</th>\n",
       "      <th>education</th>\n",
       "      <th>education_id</th>\n",
       "      <th>family_status</th>\n",
       "      <th>family_status_id</th>\n",
       "      <th>gender</th>\n",
       "      <th>income_type</th>\n",
       "      <th>debt</th>\n",
       "      <th>total_income</th>\n",
       "      <th>purpose</th>\n",
       "    </tr>\n",
       "  </thead>\n",
       "  <tbody>\n",
       "    <tr>\n",
       "      <th>0</th>\n",
       "      <td>1</td>\n",
       "      <td>-8437.673028</td>\n",
       "      <td>42</td>\n",
       "      <td>высшее</td>\n",
       "      <td>0</td>\n",
       "      <td>женат / замужем</td>\n",
       "      <td>0</td>\n",
       "      <td>F</td>\n",
       "      <td>сотрудник</td>\n",
       "      <td>0</td>\n",
       "      <td>253875.639453</td>\n",
       "      <td>покупка жилья</td>\n",
       "    </tr>\n",
       "    <tr>\n",
       "      <th>1</th>\n",
       "      <td>1</td>\n",
       "      <td>-4024.803754</td>\n",
       "      <td>36</td>\n",
       "      <td>среднее</td>\n",
       "      <td>1</td>\n",
       "      <td>женат / замужем</td>\n",
       "      <td>0</td>\n",
       "      <td>F</td>\n",
       "      <td>сотрудник</td>\n",
       "      <td>0</td>\n",
       "      <td>112080.014102</td>\n",
       "      <td>приобретение автомобиля</td>\n",
       "    </tr>\n",
       "    <tr>\n",
       "      <th>2</th>\n",
       "      <td>0</td>\n",
       "      <td>-5623.422610</td>\n",
       "      <td>33</td>\n",
       "      <td>Среднее</td>\n",
       "      <td>1</td>\n",
       "      <td>женат / замужем</td>\n",
       "      <td>0</td>\n",
       "      <td>M</td>\n",
       "      <td>сотрудник</td>\n",
       "      <td>0</td>\n",
       "      <td>145885.952297</td>\n",
       "      <td>покупка жилья</td>\n",
       "    </tr>\n",
       "    <tr>\n",
       "      <th>3</th>\n",
       "      <td>3</td>\n",
       "      <td>-4124.747207</td>\n",
       "      <td>32</td>\n",
       "      <td>среднее</td>\n",
       "      <td>1</td>\n",
       "      <td>женат / замужем</td>\n",
       "      <td>0</td>\n",
       "      <td>M</td>\n",
       "      <td>сотрудник</td>\n",
       "      <td>0</td>\n",
       "      <td>267628.550329</td>\n",
       "      <td>дополнительное образование</td>\n",
       "    </tr>\n",
       "    <tr>\n",
       "      <th>4</th>\n",
       "      <td>0</td>\n",
       "      <td>340266.072047</td>\n",
       "      <td>53</td>\n",
       "      <td>среднее</td>\n",
       "      <td>1</td>\n",
       "      <td>гражданский брак</td>\n",
       "      <td>1</td>\n",
       "      <td>F</td>\n",
       "      <td>пенсионер</td>\n",
       "      <td>0</td>\n",
       "      <td>158616.077870</td>\n",
       "      <td>сыграть свадьбу</td>\n",
       "    </tr>\n",
       "    <tr>\n",
       "      <th>5</th>\n",
       "      <td>0</td>\n",
       "      <td>-926.185831</td>\n",
       "      <td>27</td>\n",
       "      <td>высшее</td>\n",
       "      <td>0</td>\n",
       "      <td>гражданский брак</td>\n",
       "      <td>1</td>\n",
       "      <td>M</td>\n",
       "      <td>компаньон</td>\n",
       "      <td>0</td>\n",
       "      <td>255763.565419</td>\n",
       "      <td>покупка жилья</td>\n",
       "    </tr>\n",
       "    <tr>\n",
       "      <th>6</th>\n",
       "      <td>0</td>\n",
       "      <td>-2879.202052</td>\n",
       "      <td>43</td>\n",
       "      <td>высшее</td>\n",
       "      <td>0</td>\n",
       "      <td>женат / замужем</td>\n",
       "      <td>0</td>\n",
       "      <td>F</td>\n",
       "      <td>компаньон</td>\n",
       "      <td>0</td>\n",
       "      <td>240525.971920</td>\n",
       "      <td>операции с жильем</td>\n",
       "    </tr>\n",
       "    <tr>\n",
       "      <th>7</th>\n",
       "      <td>0</td>\n",
       "      <td>-152.779569</td>\n",
       "      <td>50</td>\n",
       "      <td>СРЕДНЕЕ</td>\n",
       "      <td>1</td>\n",
       "      <td>женат / замужем</td>\n",
       "      <td>0</td>\n",
       "      <td>M</td>\n",
       "      <td>сотрудник</td>\n",
       "      <td>0</td>\n",
       "      <td>135823.934197</td>\n",
       "      <td>образование</td>\n",
       "    </tr>\n",
       "    <tr>\n",
       "      <th>8</th>\n",
       "      <td>2</td>\n",
       "      <td>-6929.865299</td>\n",
       "      <td>35</td>\n",
       "      <td>ВЫСШЕЕ</td>\n",
       "      <td>0</td>\n",
       "      <td>гражданский брак</td>\n",
       "      <td>1</td>\n",
       "      <td>F</td>\n",
       "      <td>сотрудник</td>\n",
       "      <td>0</td>\n",
       "      <td>95856.832424</td>\n",
       "      <td>на проведение свадьбы</td>\n",
       "    </tr>\n",
       "    <tr>\n",
       "      <th>9</th>\n",
       "      <td>0</td>\n",
       "      <td>-2188.756445</td>\n",
       "      <td>41</td>\n",
       "      <td>среднее</td>\n",
       "      <td>1</td>\n",
       "      <td>женат / замужем</td>\n",
       "      <td>0</td>\n",
       "      <td>M</td>\n",
       "      <td>сотрудник</td>\n",
       "      <td>0</td>\n",
       "      <td>144425.938277</td>\n",
       "      <td>покупка жилья для семьи</td>\n",
       "    </tr>\n",
       "    <tr>\n",
       "      <th>10</th>\n",
       "      <td>2</td>\n",
       "      <td>-4171.483647</td>\n",
       "      <td>36</td>\n",
       "      <td>высшее</td>\n",
       "      <td>0</td>\n",
       "      <td>женат / замужем</td>\n",
       "      <td>0</td>\n",
       "      <td>M</td>\n",
       "      <td>компаньон</td>\n",
       "      <td>0</td>\n",
       "      <td>113943.491460</td>\n",
       "      <td>покупка недвижимости</td>\n",
       "    </tr>\n",
       "    <tr>\n",
       "      <th>11</th>\n",
       "      <td>0</td>\n",
       "      <td>-792.701887</td>\n",
       "      <td>40</td>\n",
       "      <td>среднее</td>\n",
       "      <td>1</td>\n",
       "      <td>женат / замужем</td>\n",
       "      <td>0</td>\n",
       "      <td>F</td>\n",
       "      <td>сотрудник</td>\n",
       "      <td>0</td>\n",
       "      <td>77069.234271</td>\n",
       "      <td>покупка коммерческой недвижимости</td>\n",
       "    </tr>\n",
       "    <tr>\n",
       "      <th>12</th>\n",
       "      <td>0</td>\n",
       "      <td>NaN</td>\n",
       "      <td>65</td>\n",
       "      <td>среднее</td>\n",
       "      <td>1</td>\n",
       "      <td>гражданский брак</td>\n",
       "      <td>1</td>\n",
       "      <td>M</td>\n",
       "      <td>пенсионер</td>\n",
       "      <td>0</td>\n",
       "      <td>NaN</td>\n",
       "      <td>сыграть свадьбу</td>\n",
       "    </tr>\n",
       "    <tr>\n",
       "      <th>13</th>\n",
       "      <td>0</td>\n",
       "      <td>-1846.641941</td>\n",
       "      <td>54</td>\n",
       "      <td>неоконченное высшее</td>\n",
       "      <td>2</td>\n",
       "      <td>женат / замужем</td>\n",
       "      <td>0</td>\n",
       "      <td>F</td>\n",
       "      <td>сотрудник</td>\n",
       "      <td>0</td>\n",
       "      <td>130458.228857</td>\n",
       "      <td>приобретение автомобиля</td>\n",
       "    </tr>\n",
       "    <tr>\n",
       "      <th>14</th>\n",
       "      <td>0</td>\n",
       "      <td>-1844.956182</td>\n",
       "      <td>56</td>\n",
       "      <td>высшее</td>\n",
       "      <td>0</td>\n",
       "      <td>гражданский брак</td>\n",
       "      <td>1</td>\n",
       "      <td>F</td>\n",
       "      <td>компаньон</td>\n",
       "      <td>1</td>\n",
       "      <td>165127.911772</td>\n",
       "      <td>покупка жилой недвижимости</td>\n",
       "    </tr>\n",
       "    <tr>\n",
       "      <th>15</th>\n",
       "      <td>1</td>\n",
       "      <td>-972.364419</td>\n",
       "      <td>26</td>\n",
       "      <td>среднее</td>\n",
       "      <td>1</td>\n",
       "      <td>женат / замужем</td>\n",
       "      <td>0</td>\n",
       "      <td>F</td>\n",
       "      <td>сотрудник</td>\n",
       "      <td>0</td>\n",
       "      <td>116820.904450</td>\n",
       "      <td>строительство собственной недвижимости</td>\n",
       "    </tr>\n",
       "    <tr>\n",
       "      <th>16</th>\n",
       "      <td>0</td>\n",
       "      <td>-1719.934226</td>\n",
       "      <td>35</td>\n",
       "      <td>среднее</td>\n",
       "      <td>1</td>\n",
       "      <td>женат / замужем</td>\n",
       "      <td>0</td>\n",
       "      <td>F</td>\n",
       "      <td>сотрудник</td>\n",
       "      <td>0</td>\n",
       "      <td>289202.704229</td>\n",
       "      <td>недвижимость</td>\n",
       "    </tr>\n",
       "    <tr>\n",
       "      <th>17</th>\n",
       "      <td>0</td>\n",
       "      <td>-2369.999720</td>\n",
       "      <td>33</td>\n",
       "      <td>высшее</td>\n",
       "      <td>0</td>\n",
       "      <td>гражданский брак</td>\n",
       "      <td>1</td>\n",
       "      <td>M</td>\n",
       "      <td>сотрудник</td>\n",
       "      <td>0</td>\n",
       "      <td>90410.586745</td>\n",
       "      <td>строительство недвижимости</td>\n",
       "    </tr>\n",
       "    <tr>\n",
       "      <th>18</th>\n",
       "      <td>0</td>\n",
       "      <td>400281.136913</td>\n",
       "      <td>53</td>\n",
       "      <td>среднее</td>\n",
       "      <td>1</td>\n",
       "      <td>вдовец / вдова</td>\n",
       "      <td>2</td>\n",
       "      <td>F</td>\n",
       "      <td>пенсионер</td>\n",
       "      <td>0</td>\n",
       "      <td>56823.777243</td>\n",
       "      <td>на покупку подержанного автомобиля</td>\n",
       "    </tr>\n",
       "    <tr>\n",
       "      <th>19</th>\n",
       "      <td>0</td>\n",
       "      <td>-10038.818549</td>\n",
       "      <td>48</td>\n",
       "      <td>СРЕДНЕЕ</td>\n",
       "      <td>1</td>\n",
       "      <td>в разводе</td>\n",
       "      <td>3</td>\n",
       "      <td>F</td>\n",
       "      <td>сотрудник</td>\n",
       "      <td>0</td>\n",
       "      <td>242831.107982</td>\n",
       "      <td>на покупку своего автомобиля</td>\n",
       "    </tr>\n",
       "  </tbody>\n",
       "</table>\n",
       "</div>"
      ],
      "text/plain": [
       "    children  days_employed  dob_years            education  education_id  \\\n",
       "0          1   -8437.673028         42               высшее             0   \n",
       "1          1   -4024.803754         36              среднее             1   \n",
       "2          0   -5623.422610         33              Среднее             1   \n",
       "3          3   -4124.747207         32              среднее             1   \n",
       "4          0  340266.072047         53              среднее             1   \n",
       "5          0    -926.185831         27               высшее             0   \n",
       "6          0   -2879.202052         43               высшее             0   \n",
       "7          0    -152.779569         50              СРЕДНЕЕ             1   \n",
       "8          2   -6929.865299         35               ВЫСШЕЕ             0   \n",
       "9          0   -2188.756445         41              среднее             1   \n",
       "10         2   -4171.483647         36               высшее             0   \n",
       "11         0    -792.701887         40              среднее             1   \n",
       "12         0            NaN         65              среднее             1   \n",
       "13         0   -1846.641941         54  неоконченное высшее             2   \n",
       "14         0   -1844.956182         56               высшее             0   \n",
       "15         1    -972.364419         26              среднее             1   \n",
       "16         0   -1719.934226         35              среднее             1   \n",
       "17         0   -2369.999720         33               высшее             0   \n",
       "18         0  400281.136913         53              среднее             1   \n",
       "19         0  -10038.818549         48              СРЕДНЕЕ             1   \n",
       "\n",
       "       family_status  family_status_id gender income_type  debt  \\\n",
       "0    женат / замужем                 0      F   сотрудник     0   \n",
       "1    женат / замужем                 0      F   сотрудник     0   \n",
       "2    женат / замужем                 0      M   сотрудник     0   \n",
       "3    женат / замужем                 0      M   сотрудник     0   \n",
       "4   гражданский брак                 1      F   пенсионер     0   \n",
       "5   гражданский брак                 1      M   компаньон     0   \n",
       "6    женат / замужем                 0      F   компаньон     0   \n",
       "7    женат / замужем                 0      M   сотрудник     0   \n",
       "8   гражданский брак                 1      F   сотрудник     0   \n",
       "9    женат / замужем                 0      M   сотрудник     0   \n",
       "10   женат / замужем                 0      M   компаньон     0   \n",
       "11   женат / замужем                 0      F   сотрудник     0   \n",
       "12  гражданский брак                 1      M   пенсионер     0   \n",
       "13   женат / замужем                 0      F   сотрудник     0   \n",
       "14  гражданский брак                 1      F   компаньон     1   \n",
       "15   женат / замужем                 0      F   сотрудник     0   \n",
       "16   женат / замужем                 0      F   сотрудник     0   \n",
       "17  гражданский брак                 1      M   сотрудник     0   \n",
       "18    вдовец / вдова                 2      F   пенсионер     0   \n",
       "19         в разводе                 3      F   сотрудник     0   \n",
       "\n",
       "     total_income                                 purpose  \n",
       "0   253875.639453                           покупка жилья  \n",
       "1   112080.014102                 приобретение автомобиля  \n",
       "2   145885.952297                           покупка жилья  \n",
       "3   267628.550329              дополнительное образование  \n",
       "4   158616.077870                         сыграть свадьбу  \n",
       "5   255763.565419                           покупка жилья  \n",
       "6   240525.971920                       операции с жильем  \n",
       "7   135823.934197                             образование  \n",
       "8    95856.832424                   на проведение свадьбы  \n",
       "9   144425.938277                 покупка жилья для семьи  \n",
       "10  113943.491460                    покупка недвижимости  \n",
       "11   77069.234271       покупка коммерческой недвижимости  \n",
       "12            NaN                         сыграть свадьбу  \n",
       "13  130458.228857                 приобретение автомобиля  \n",
       "14  165127.911772              покупка жилой недвижимости  \n",
       "15  116820.904450  строительство собственной недвижимости  \n",
       "16  289202.704229                            недвижимость  \n",
       "17   90410.586745              строительство недвижимости  \n",
       "18   56823.777243      на покупку подержанного автомобиля  \n",
       "19  242831.107982            на покупку своего автомобиля  "
      ]
     },
     "execution_count": 2,
     "metadata": {},
     "output_type": "execute_result"
    }
   ],
   "source": [
    "data.head(20)"
   ]
  },
  {
   "cell_type": "code",
   "execution_count": 3,
   "id": "4c9115a1",
   "metadata": {
    "deletable": false,
    "id": "2b757bca",
    "outputId": "15376089-8dad-46c9-b520-c05248d43158"
   },
   "outputs": [
    {
     "name": "stdout",
     "output_type": "stream",
     "text": [
      "<class 'pandas.core.frame.DataFrame'>\n",
      "RangeIndex: 21525 entries, 0 to 21524\n",
      "Data columns (total 12 columns):\n",
      " #   Column            Non-Null Count  Dtype  \n",
      "---  ------            --------------  -----  \n",
      " 0   children          21525 non-null  int64  \n",
      " 1   days_employed     19351 non-null  float64\n",
      " 2   dob_years         21525 non-null  int64  \n",
      " 3   education         21525 non-null  object \n",
      " 4   education_id      21525 non-null  int64  \n",
      " 5   family_status     21525 non-null  object \n",
      " 6   family_status_id  21525 non-null  int64  \n",
      " 7   gender            21525 non-null  object \n",
      " 8   income_type       21525 non-null  object \n",
      " 9   debt              21525 non-null  int64  \n",
      " 10  total_income      19351 non-null  float64\n",
      " 11  purpose           21525 non-null  object \n",
      "dtypes: float64(2), int64(5), object(5)\n",
      "memory usage: 2.0+ MB\n"
     ]
    }
   ],
   "source": [
    "data.info()"
   ]
  },
  {
   "cell_type": "markdown",
   "id": "42d4bd1e",
   "metadata": {},
   "source": "There are missing values in the columns, but otherwise, the dataset seems fine: the data types are appropriate, and the column names comply with the syntax.\n"
  },
  {
   "cell_type": "markdown",
   "id": "480f78b9",
   "metadata": {
    "deletable": false,
    "editable": false,
    "id": "333ec665"
   },
   "source": "## Data preprocessing"
  },
  {
   "cell_type": "markdown",
   "id": "8c7b19a7",
   "metadata": {
    "deletable": false,
    "editable": false,
    "id": "02d92d53"
   },
   "source": "### Removing missing values"
  },
  {
   "cell_type": "code",
   "execution_count": 4,
   "id": "a81005e1",
   "metadata": {
    "deletable": false,
    "id": "7f9b2309",
    "outputId": "81f4d817-781c-465c-ed15-91ce4446810d"
   },
   "outputs": [
    {
     "data": {
      "text/plain": [
       "children               0\n",
       "days_employed       2174\n",
       "dob_years              0\n",
       "education              0\n",
       "education_id           0\n",
       "family_status          0\n",
       "family_status_id       0\n",
       "gender                 0\n",
       "income_type            0\n",
       "debt                   0\n",
       "total_income        2174\n",
       "purpose                0\n",
       "dtype: int64"
      ]
     },
     "execution_count": 4,
     "metadata": {},
     "output_type": "execute_result"
    }
   ],
   "source": [
    "# the number of missing values for each column\n",
    "data.isna().sum()"
   ]
  },
  {
   "cell_type": "markdown",
   "id": "5df96be9",
   "metadata": {
    "deletable": false,
    "editable": false,
    "id": "db86e27b"
   },
   "source": "I will handle the missing values in the total_income column, which contains income data. The type of employment has the greatest impact on the amount of income, so the missing values in this column should be filled with the median value for each type from the income_type column. For example, a person with the employment type employee should have the missing value in the total_income column filled with the median income among all records with the same employment type."
  },
  {
   "cell_type": "code",
   "execution_count": 5,
   "id": "2cb0c32b",
   "metadata": {
    "deletable": false,
    "id": "42006a93"
   },
   "outputs": [],
   "source": [
    "for t in data['income_type'].unique():\n",
    "    data.loc[(data['income_type'] == t) & (data['total_income'].isna()), 'total_income'] = \\\n",
    "    data.loc[(data['income_type'] == t), 'total_income'].median()"
   ]
  },
  {
   "cell_type": "markdown",
   "id": "f3f82e92",
   "metadata": {
    "deletable": false,
    "editable": false,
    "id": "89da5ece"
   },
   "source": "### Handling of anomalous values"
  },
  {
   "cell_type": "markdown",
   "id": "51d1661b",
   "metadata": {
    "deletable": false,
    "editable": false,
    "id": "57964554"
   },
   "source": "The data may contain anomalies — values that do not reflect reality and appeared due to some error. One such artifact is the negative number of days of employment in the days_employed column. I will replace all negative values with positive ones using the abs() method.\n"
  },
  {
   "cell_type": "code",
   "execution_count": 6,
   "id": "ce3933f5",
   "metadata": {
    "deletable": false,
    "id": "f6f055bf"
   },
   "outputs": [],
   "source": [
    "data['days_employed'] = data['days_employed'].abs()"
   ]
  },
  {
   "cell_type": "markdown",
   "id": "9a389071",
   "metadata": {
    "deletable": false,
    "editable": false,
    "id": "6107dd2f"
   },
   "source": "I will output the median value of employment duration days_employed in days for each type of employment."
  },
  {
   "cell_type": "code",
   "execution_count": 7,
   "id": "c09829e9",
   "metadata": {
    "deletable": false,
    "id": "85a5faf6",
    "outputId": "801ef80e-522b-4668-f34e-565af7432bcf"
   },
   "outputs": [
    {
     "data": {
      "text/plain": [
       "income_type\n",
       "безработный        366413.652744\n",
       "в декрете            3296.759962\n",
       "госслужащий          2689.368353\n",
       "компаньон            1547.382223\n",
       "пенсионер          365213.306266\n",
       "предприниматель       520.848083\n",
       "сотрудник            1574.202821\n",
       "студент               578.751554\n",
       "Name: days_employed, dtype: float64"
      ]
     },
     "execution_count": 7,
     "metadata": {},
     "output_type": "execute_result"
    }
   ],
   "source": [
    "data.groupby('income_type')['days_employed'].agg('median')"
   ]
  },
  {
   "cell_type": "markdown",
   "id": "431d3b1b",
   "metadata": {
    "deletable": false,
    "editable": false,
    "id": "38d1a030"
   },
   "source": "Two types (unemployed - безработный and retirees - пенсионер) have abnormally large values. Correcting such values is difficult, so I will leave them as they are. Moreover, this column will not be needed for the study."
  },
  {
   "cell_type": "markdown",
   "id": "b4b2122b",
   "metadata": {
    "deletable": false,
    "editable": false,
    "id": "d8a9f147"
   },
   "source": "I will output the list of unique values in the children column."
  },
  {
   "cell_type": "code",
   "execution_count": 8,
   "id": "c3a1eeda",
   "metadata": {
    "deletable": false,
    "id": "ef5056eb",
    "outputId": "6975b15c-7f95-4697-d16d-a0c79b657b03"
   },
   "outputs": [
    {
     "data": {
      "text/plain": [
       "array([ 1,  0,  3,  2, -1,  4, 20,  5])"
      ]
     },
     "execution_count": 8,
     "metadata": {},
     "output_type": "execute_result"
    }
   ],
   "source": [
    "data['children'].unique()"
   ]
  },
  {
   "cell_type": "markdown",
   "id": "7abb609f",
   "metadata": {
    "deletable": false,
    "editable": false,
    "id": "40b9ebf2"
   },
   "source": "In the 'children' column, there are two anomalous values. I will remove the rows containing these anomalous values from the 'data' dataframe."
  },
  {
   "cell_type": "code",
   "execution_count": 9,
   "id": "cc912224",
   "metadata": {
    "deletable": false,
    "id": "3ff9801d"
   },
   "outputs": [],
   "source": [
    "data = data[(data['children'] != -1) & (data['children'] != 20)]"
   ]
  },
  {
   "cell_type": "code",
   "execution_count": 10,
   "id": "886ab94b",
   "metadata": {
    "deletable": false,
    "id": "ad4fa8b7",
    "outputId": "b2097101-d49d-44d9-901b-32a65c9463d1"
   },
   "outputs": [
    {
     "data": {
      "text/plain": [
       "array([1, 0, 3, 2, 4, 5])"
      ]
     },
     "execution_count": 10,
     "metadata": {},
     "output_type": "execute_result"
    }
   ],
   "source": [
    "data['children'].unique()"
   ]
  },
  {
   "cell_type": "markdown",
   "id": "900cce9e",
   "metadata": {
    "deletable": false,
    "editable": false,
    "id": "f4ea573f"
   },
   "source": "I will fill the missing values in the days_employed column with the median values for each employment type income_type."
  },
  {
   "cell_type": "code",
   "execution_count": 11,
   "id": "d81a7204",
   "metadata": {
    "deletable": false,
    "id": "af6b1a7e"
   },
   "outputs": [],
   "source": [
    "for t in data['income_type'].unique():\n",
    "    data.loc[(data['income_type'] == t) & (data['days_employed'].isna()), 'days_employed'] = \\\n",
    "    data.loc[(data['income_type'] == t), 'days_employed'].median()"
   ]
  },
  {
   "cell_type": "code",
   "execution_count": 12,
   "id": "a99ea5f6",
   "metadata": {
    "deletable": false,
    "id": "55f78bc2",
    "outputId": "8da1e4e1-358e-4e87-98c9-f261bce0a7b2"
   },
   "outputs": [
    {
     "data": {
      "text/plain": [
       "children            0\n",
       "days_employed       0\n",
       "dob_years           0\n",
       "education           0\n",
       "education_id        0\n",
       "family_status       0\n",
       "family_status_id    0\n",
       "gender              0\n",
       "income_type         0\n",
       "debt                0\n",
       "total_income        0\n",
       "purpose             0\n",
       "dtype: int64"
      ]
     },
     "execution_count": 12,
     "metadata": {},
     "output_type": "execute_result"
    }
   ],
   "source": [
    "data.isna().sum()"
   ]
  },
  {
   "cell_type": "markdown",
   "id": "2aa066a3",
   "metadata": {
    "deletable": false,
    "editable": false,
    "id": "ddc81e43"
   },
   "source": "### Changing data types\n"
  },
  {
   "cell_type": "markdown",
   "id": "4bb5c8bc",
   "metadata": {
    "deletable": false,
    "editable": false,
    "id": "42d19d24"
   },
   "source": "I will replace the float data type in the total_income column."
  },
  {
   "cell_type": "code",
   "execution_count": 13,
   "id": "8a74ceb7",
   "metadata": {
    "deletable": false,
    "id": "920b65ad"
   },
   "outputs": [],
   "source": [
    "data['total_income'] = data['total_income'].astype(int)"
   ]
  },
  {
   "cell_type": "markdown",
   "id": "04f45aab",
   "metadata": {
    "deletable": false,
    "editable": false,
    "id": "80c420ba"
   },
   "source": "### Handling duplicates"
  },
  {
   "cell_type": "markdown",
   "id": "5ee6d5cd",
   "metadata": {
    "deletable": false,
    "editable": false
   },
   "source": "I will handle implicit duplicates in the education column. This column contains the same values recorded differently: using uppercase and lowercase letters. I will convert them to lowercase. I will check the other columns as well."
  },
  {
   "cell_type": "code",
   "execution_count": 14,
   "id": "bee20e79",
   "metadata": {
    "deletable": false
   },
   "outputs": [],
   "source": [
    "data['education'] = data['education'].str.lower()"
   ]
  },
  {
   "cell_type": "markdown",
   "id": "dda4c243",
   "metadata": {
    "deletable": false,
    "editable": false,
    "id": "dc587695"
   },
   "source": "I will display the number of duplicate rows in the data. If such rows are present, I will delete them.\n"
  },
  {
   "cell_type": "code",
   "execution_count": 15,
   "id": "945211ff",
   "metadata": {
    "deletable": false,
    "id": "3ee445e4",
    "outputId": "9684deba-1934-42d1-99e1-cda61740f822"
   },
   "outputs": [
    {
     "data": {
      "text/plain": [
       "71"
      ]
     },
     "execution_count": 15,
     "metadata": {},
     "output_type": "execute_result"
    }
   ],
   "source": [
    "data.duplicated().sum()"
   ]
  },
  {
   "cell_type": "code",
   "execution_count": 16,
   "id": "8b007b3d",
   "metadata": {
    "deletable": false,
    "id": "8575fe05"
   },
   "outputs": [],
   "source": [
    "data = data.drop_duplicates()"
   ]
  },
  {
   "cell_type": "markdown",
   "id": "39093403",
   "metadata": {
    "deletable": false,
    "editable": false,
    "id": "9904cf55"
   },
   "source": "### Data categorization"
  },
  {
   "cell_type": "markdown",
   "id": "8d5e9903",
   "metadata": {
    "deletable": false,
    "editable": false,
    "id": "72fcc8a2"
   },
   "source": [
    "Based on the ranges specified below, I will create a column total_income_category in the dataframe data with the following categories:\n",
    "\n",
    "- 0–30000 — 'E';\n",
    "- 30001–50000 — 'D';\n",
    "- 50001–200000 — 'C';\n",
    "- 200001–1000000 — 'B';\n",
    "- 1000001 and above — 'A'.\n",
    "\n",
    "For example, a borrower with an income of 25000 should be assigned the category 'E', and a client receiving 235000 should be assigned the category 'B'.\n"
   ]
  },
  {
   "cell_type": "code",
   "execution_count": 17,
   "id": "f6e5925b",
   "metadata": {
    "deletable": false,
    "id": "e1771346"
   },
   "outputs": [],
   "source": [
    "def categorize_income(income):\n",
    "    try:\n",
    "        if 0 <= income <= 30000:\n",
    "            return 'E'\n",
    "        elif 30001 <= income <= 50000:\n",
    "            return 'D'\n",
    "        elif 50001 <= income <= 200000:\n",
    "            return 'C'\n",
    "        elif 200001 <= income <= 1000000:\n",
    "            return 'B'\n",
    "        elif income >= 1000001:\n",
    "            return 'A'\n",
    "    except:\n",
    "        pass"
   ]
  },
  {
   "cell_type": "code",
   "execution_count": 18,
   "id": "08b3ba7c",
   "metadata": {
    "deletable": false,
    "id": "d5f3586d"
   },
   "outputs": [],
   "source": [
    "data['total_income_category'] = data['total_income'].apply(categorize_income)"
   ]
  },
  {
   "cell_type": "code",
   "execution_count": 19,
   "id": "2ba14c0b",
   "metadata": {
    "deletable": false,
    "id": "f67ce9b3",
    "outputId": "673c12d9-7d7e-4ae0-9812-c622c89dd244"
   },
   "outputs": [
    {
     "data": {
      "text/plain": [
       "array(['покупка жилья', 'приобретение автомобиля',\n",
       "       'дополнительное образование', 'сыграть свадьбу',\n",
       "       'операции с жильем', 'образование', 'на проведение свадьбы',\n",
       "       'покупка жилья для семьи', 'покупка недвижимости',\n",
       "       'покупка коммерческой недвижимости', 'покупка жилой недвижимости',\n",
       "       'строительство собственной недвижимости', 'недвижимость',\n",
       "       'строительство недвижимости', 'на покупку подержанного автомобиля',\n",
       "       'на покупку своего автомобиля',\n",
       "       'операции с коммерческой недвижимостью',\n",
       "       'строительство жилой недвижимости', 'жилье',\n",
       "       'операции со своей недвижимостью', 'автомобили',\n",
       "       'заняться образованием', 'сделка с подержанным автомобилем',\n",
       "       'получение образования', 'автомобиль', 'свадьба',\n",
       "       'получение дополнительного образования', 'покупка своего жилья',\n",
       "       'операции с недвижимостью', 'получение высшего образования',\n",
       "       'свой автомобиль', 'сделка с автомобилем',\n",
       "       'профильное образование', 'высшее образование',\n",
       "       'покупка жилья для сдачи', 'на покупку автомобиля', 'ремонт жилью',\n",
       "       'заняться высшим образованием'], dtype=object)"
      ]
     },
     "execution_count": 19,
     "metadata": {},
     "output_type": "execute_result"
    }
   ],
   "source": [
    "# unique loan purposes from the purpose column\n",
    "data['purpose'].unique()"
   ]
  },
  {
   "cell_type": "markdown",
   "id": "fdd04377",
   "metadata": {
    "deletable": false,
    "editable": false,
    "id": "85d0aef0"
   },
   "source": [
    "I will create a function that, based on the data from the purpose column, will form a new column purpose_category with the following categories:\n",
    "'операции с автомобилем',\n",
    "'операции с недвижимостью',\n",
    "'проведение свадьбы',\n",
    "'получение образования'.\n",
    "\n",
    "For example, if the purpose column contains the substring 'на покупку автомобиля', then the purpose_category column should contain the string 'операции с автомобилем'."
   ]
  },
  {
   "cell_type": "code",
   "execution_count": 20,
   "id": "ade05f54",
   "metadata": {
    "deletable": false,
    "id": "e149fab4"
   },
   "outputs": [],
   "source": [
    "def categorize_purpose(row):\n",
    "    try:\n",
    "        if 'автом' in row:\n",
    "            return 'операции с автомобилем'\n",
    "        elif 'жил' in row or 'недвиж' in row:\n",
    "            return 'операции с недвижимостью'\n",
    "        elif 'свад' in row:\n",
    "            return 'проведение свадьбы'\n",
    "        elif 'образов' in row:\n",
    "            return 'получение образования'\n",
    "    except:\n",
    "        return 'нет категории'"
   ]
  },
  {
   "cell_type": "code",
   "execution_count": 21,
   "id": "5b2df49b",
   "metadata": {
    "deletable": false,
    "id": "bf36e69b"
   },
   "outputs": [],
   "source": [
    "data['purpose_category'] = data['purpose'].apply(categorize_purpose)"
   ]
  },
  {
   "cell_type": "markdown",
   "id": "05e631ba",
   "metadata": {
    "deletable": false,
    "editable": false,
    "id": "09b242bf"
   },
   "source": "### Data analysis and answering business questions"
  },
  {
   "cell_type": "markdown",
   "id": "544acbdf",
   "metadata": {
    "deletable": false,
    "editable": false,
    "id": "c5d66278"
   },
   "source": "#### Is there a correlation between the number of children and timely loan repayment?"
  },
  {
   "cell_type": "code",
   "execution_count": 22,
   "id": "7fecc871",
   "metadata": {
    "deletable": false,
    "id": "2cacfc4a"
   },
   "outputs": [
    {
     "data": {
      "text/html": [
       "<div>\n",
       "<style scoped>\n",
       "    .dataframe tbody tr th:only-of-type {\n",
       "        vertical-align: middle;\n",
       "    }\n",
       "\n",
       "    .dataframe tbody tr th {\n",
       "        vertical-align: top;\n",
       "    }\n",
       "\n",
       "    .dataframe thead th {\n",
       "        text-align: right;\n",
       "    }\n",
       "</style>\n",
       "<table border=\"1\" class=\"dataframe\">\n",
       "  <thead>\n",
       "    <tr style=\"text-align: right;\">\n",
       "      <th></th>\n",
       "      <th>Всего кредитополучателей</th>\n",
       "      <th>Доля должников</th>\n",
       "      <th>Всего должников</th>\n",
       "    </tr>\n",
       "    <tr>\n",
       "      <th>children</th>\n",
       "      <th></th>\n",
       "      <th></th>\n",
       "      <th></th>\n",
       "    </tr>\n",
       "  </thead>\n",
       "  <tbody>\n",
       "    <tr>\n",
       "      <th>0</th>\n",
       "      <td>14091</td>\n",
       "      <td>1063</td>\n",
       "      <td>0.075438</td>\n",
       "    </tr>\n",
       "    <tr>\n",
       "      <th>1</th>\n",
       "      <td>4808</td>\n",
       "      <td>444</td>\n",
       "      <td>0.092346</td>\n",
       "    </tr>\n",
       "    <tr>\n",
       "      <th>2</th>\n",
       "      <td>2052</td>\n",
       "      <td>194</td>\n",
       "      <td>0.094542</td>\n",
       "    </tr>\n",
       "    <tr>\n",
       "      <th>3</th>\n",
       "      <td>330</td>\n",
       "      <td>27</td>\n",
       "      <td>0.081818</td>\n",
       "    </tr>\n",
       "    <tr>\n",
       "      <th>4</th>\n",
       "      <td>41</td>\n",
       "      <td>4</td>\n",
       "      <td>0.097561</td>\n",
       "    </tr>\n",
       "    <tr>\n",
       "      <th>5</th>\n",
       "      <td>9</td>\n",
       "      <td>0</td>\n",
       "      <td>0.000000</td>\n",
       "    </tr>\n",
       "  </tbody>\n",
       "</table>\n",
       "</div>"
      ],
      "text/plain": [
       "          Всего кредитополучателей  Доля должников  Всего должников\n",
       "children                                                           \n",
       "0                            14091            1063         0.075438\n",
       "1                             4808             444         0.092346\n",
       "2                             2052             194         0.094542\n",
       "3                              330              27         0.081818\n",
       "4                               41               4         0.097561\n",
       "5                                9               0         0.000000"
      ]
     },
     "execution_count": 22,
     "metadata": {},
     "output_type": "execute_result"
    }
   ],
   "source": [
    "\n",
    "kids_pivot = data.pivot_table(index='children', values = 'debt', aggfunc= ['count', 'sum', 'mean']) # counting the number of borrowers, the number of debtors, and the proportion of debtors by the 'debt' column, grouped by the number of children\n",
    "\n",
    "kids_pivot.columns = ['Всего кредитополучателей', 'Доля должников', 'Всего должников'] # renaming the columns to more understandable names\n",
    "\n",
    "kids_pivot.sort_values(by='Всего кредитополучателей', ascending=False) # sorted the table in descending order by the \"Total Borrowers\" column\n",
    "\n"
   ]
  },
  {
   "cell_type": "markdown",
   "id": "4e0be12a",
   "metadata": {
    "deletable": false,
    "id": "3a6b99ec"
   },
   "source": [
    "**Conclusion:** \n",
    "\n",
    "Clients without children take out the most loans, but they also repay them the best. The more children a person has, the less likely they are to take out a loan. However, if a client with children does take out a loan, there is a high probability that they will not repay it."
   ]
  },
  {
   "cell_type": "markdown",
   "id": "7a815049",
   "metadata": {
    "deletable": false,
    "editable": false,
    "id": "97be82ca"
   },
   "source": "#### Is there a correlation between marital status and timely loan repayment?"
  },
  {
   "cell_type": "code",
   "execution_count": 23,
   "id": "51bda836",
   "metadata": {
    "deletable": false,
    "id": "dc3f7ee8"
   },
   "outputs": [
    {
     "data": {
      "text/html": [
       "<div>\n",
       "<style scoped>\n",
       "    .dataframe tbody tr th:only-of-type {\n",
       "        vertical-align: middle;\n",
       "    }\n",
       "\n",
       "    .dataframe tbody tr th {\n",
       "        vertical-align: top;\n",
       "    }\n",
       "\n",
       "    .dataframe thead th {\n",
       "        text-align: right;\n",
       "    }\n",
       "</style>\n",
       "<table border=\"1\" class=\"dataframe\">\n",
       "  <thead>\n",
       "    <tr style=\"text-align: right;\">\n",
       "      <th></th>\n",
       "      <th>Всего кредитополучателей</th>\n",
       "      <th>Доля должников</th>\n",
       "      <th>Всего должников</th>\n",
       "    </tr>\n",
       "    <tr>\n",
       "      <th>family_status</th>\n",
       "      <th></th>\n",
       "      <th></th>\n",
       "      <th></th>\n",
       "    </tr>\n",
       "  </thead>\n",
       "  <tbody>\n",
       "    <tr>\n",
       "      <th>женат / замужем</th>\n",
       "      <td>12261</td>\n",
       "      <td>927</td>\n",
       "      <td>0.075606</td>\n",
       "    </tr>\n",
       "    <tr>\n",
       "      <th>гражданский брак</th>\n",
       "      <td>4134</td>\n",
       "      <td>385</td>\n",
       "      <td>0.093130</td>\n",
       "    </tr>\n",
       "    <tr>\n",
       "      <th>Не женат / не замужем</th>\n",
       "      <td>2796</td>\n",
       "      <td>273</td>\n",
       "      <td>0.097639</td>\n",
       "    </tr>\n",
       "    <tr>\n",
       "      <th>в разводе</th>\n",
       "      <td>1189</td>\n",
       "      <td>84</td>\n",
       "      <td>0.070648</td>\n",
       "    </tr>\n",
       "    <tr>\n",
       "      <th>вдовец / вдова</th>\n",
       "      <td>951</td>\n",
       "      <td>63</td>\n",
       "      <td>0.066246</td>\n",
       "    </tr>\n",
       "  </tbody>\n",
       "</table>\n",
       "</div>"
      ],
      "text/plain": [
       "                       Всего кредитополучателей  Доля должников  \\\n",
       "family_status                                                     \n",
       "женат / замужем                           12261             927   \n",
       "гражданский брак                           4134             385   \n",
       "Не женат / не замужем                      2796             273   \n",
       "в разводе                                  1189              84   \n",
       "вдовец / вдова                              951              63   \n",
       "\n",
       "                       Всего должников  \n",
       "family_status                           \n",
       "женат / замужем               0.075606  \n",
       "гражданский брак              0.093130  \n",
       "Не женат / не замужем         0.097639  \n",
       "в разводе                     0.070648  \n",
       "вдовец / вдова                0.066246  "
      ]
     },
     "execution_count": 23,
     "metadata": {},
     "output_type": "execute_result"
    }
   ],
   "source": [
    "family_pivot = data.pivot_table(index='family_status', values = 'debt', aggfunc= ['count', 'sum', 'mean']) # counting the number of borrowers, the number of debtors, and the proportion of debtors by the 'debt' column, grouped by marital status\n",
    "family_pivot.columns = ['Всего кредитополучателей', 'Доля должников', 'Всего должников']\n",
    "family_pivot.sort_values(by='Всего кредитополучателей', ascending=False)"
   ]
  },
  {
   "cell_type": "markdown",
   "id": "8b448cc1",
   "metadata": {
    "deletable": false,
    "id": "1cef7837"
   },
   "source": [
    "**Conclusion:** \n",
    "\n",
    "Clients who were/are married repay their loans better than those who were not legally bound. However, this conclusion does not clarify how many divorced clients are among those in a civil union.\n",
    "\n",
    "Regarding unmarried clients: there are likely many young people with unstable incomes among them, which is why the repayment rate is so low. More research is needed here."
   ]
  },
  {
   "cell_type": "markdown",
   "id": "497bba7f",
   "metadata": {
    "deletable": false,
    "editable": false,
    "id": "1e8b2fca"
   },
   "source": "#### Is there a correlation between income level and timely loan repayment?"
  },
  {
   "cell_type": "code",
   "execution_count": 24,
   "id": "17e3a354",
   "metadata": {
    "deletable": false,
    "id": "cd7e3720"
   },
   "outputs": [
    {
     "data": {
      "text/html": [
       "<div>\n",
       "<style scoped>\n",
       "    .dataframe tbody tr th:only-of-type {\n",
       "        vertical-align: middle;\n",
       "    }\n",
       "\n",
       "    .dataframe tbody tr th {\n",
       "        vertical-align: top;\n",
       "    }\n",
       "\n",
       "    .dataframe thead th {\n",
       "        text-align: right;\n",
       "    }\n",
       "</style>\n",
       "<table border=\"1\" class=\"dataframe\">\n",
       "  <thead>\n",
       "    <tr style=\"text-align: right;\">\n",
       "      <th></th>\n",
       "      <th>Всего кредитополучателей</th>\n",
       "      <th>Доля должников</th>\n",
       "      <th>Всего должников</th>\n",
       "    </tr>\n",
       "    <tr>\n",
       "      <th>total_income_category</th>\n",
       "      <th></th>\n",
       "      <th></th>\n",
       "      <th></th>\n",
       "    </tr>\n",
       "  </thead>\n",
       "  <tbody>\n",
       "    <tr>\n",
       "      <th>C</th>\n",
       "      <td>15921</td>\n",
       "      <td>1353</td>\n",
       "      <td>0.084982</td>\n",
       "    </tr>\n",
       "    <tr>\n",
       "      <th>B</th>\n",
       "      <td>5014</td>\n",
       "      <td>354</td>\n",
       "      <td>0.070602</td>\n",
       "    </tr>\n",
       "    <tr>\n",
       "      <th>D</th>\n",
       "      <td>349</td>\n",
       "      <td>21</td>\n",
       "      <td>0.060172</td>\n",
       "    </tr>\n",
       "    <tr>\n",
       "      <th>A</th>\n",
       "      <td>25</td>\n",
       "      <td>2</td>\n",
       "      <td>0.080000</td>\n",
       "    </tr>\n",
       "    <tr>\n",
       "      <th>E</th>\n",
       "      <td>22</td>\n",
       "      <td>2</td>\n",
       "      <td>0.090909</td>\n",
       "    </tr>\n",
       "  </tbody>\n",
       "</table>\n",
       "</div>"
      ],
      "text/plain": [
       "                       Всего кредитополучателей  Доля должников  \\\n",
       "total_income_category                                             \n",
       "C                                         15921            1353   \n",
       "B                                          5014             354   \n",
       "D                                           349              21   \n",
       "A                                            25               2   \n",
       "E                                            22               2   \n",
       "\n",
       "                       Всего должников  \n",
       "total_income_category                   \n",
       "C                             0.084982  \n",
       "B                             0.070602  \n",
       "D                             0.060172  \n",
       "A                             0.080000  \n",
       "E                             0.090909  "
      ]
     },
     "execution_count": 24,
     "metadata": {},
     "output_type": "execute_result"
    }
   ],
   "source": [
    "total_income_pivot = data.pivot_table(index='total_income_category', values = 'debt', aggfunc= ['count', 'sum', 'mean']) # counting the number of borrowers, the number of debtors, and the proportion of debtors by the 'debt' column, grouped by income\n",
    "total_income_pivot.columns = ['Всего кредитополучателей', 'Доля должников', 'Всего должников']\n",
    "\n",
    "total_income_pivot.sort_values(by='Всего кредитополучателей', ascending=False)"
   ]
  },
  {
   "cell_type": "markdown",
   "id": "ccb0c5fa",
   "metadata": {
    "deletable": false,
    "id": "e8593def"
   },
   "source": [
    "**Conclusion**\n",
    "\n",
    "Clients with average earnings take out the most loans. They do not repay them very poorly, but they could do better. Clients with earnings from 200,001 to 1,000,000 take out loans much less frequently but repay them better. The higher the income, the lower the proportion of debtors."
   ]
  },
  {
   "cell_type": "markdown",
   "id": "dff0f942",
   "metadata": {
    "deletable": false,
    "editable": false,
    "id": "99ecbd1f"
   },
   "source": "#### How do different loan purposes affect timely repayment?"
  },
  {
   "cell_type": "code",
   "execution_count": 25,
   "id": "64085c9c",
   "metadata": {
    "deletable": false,
    "id": "2b687290"
   },
   "outputs": [
    {
     "data": {
      "text/html": [
       "<div>\n",
       "<style scoped>\n",
       "    .dataframe tbody tr th:only-of-type {\n",
       "        vertical-align: middle;\n",
       "    }\n",
       "\n",
       "    .dataframe tbody tr th {\n",
       "        vertical-align: top;\n",
       "    }\n",
       "\n",
       "    .dataframe thead th {\n",
       "        text-align: right;\n",
       "    }\n",
       "</style>\n",
       "<table border=\"1\" class=\"dataframe\">\n",
       "  <thead>\n",
       "    <tr style=\"text-align: right;\">\n",
       "      <th></th>\n",
       "      <th>Всего кредитополучателей</th>\n",
       "      <th>Доля должников</th>\n",
       "      <th>Всего должников</th>\n",
       "    </tr>\n",
       "    <tr>\n",
       "      <th>purpose_category</th>\n",
       "      <th></th>\n",
       "      <th></th>\n",
       "      <th></th>\n",
       "    </tr>\n",
       "  </thead>\n",
       "  <tbody>\n",
       "    <tr>\n",
       "      <th>операции с недвижимостью</th>\n",
       "      <td>10751</td>\n",
       "      <td>780</td>\n",
       "      <td>0.072551</td>\n",
       "    </tr>\n",
       "    <tr>\n",
       "      <th>операции с автомобилем</th>\n",
       "      <td>4279</td>\n",
       "      <td>400</td>\n",
       "      <td>0.093480</td>\n",
       "    </tr>\n",
       "    <tr>\n",
       "      <th>получение образования</th>\n",
       "      <td>3988</td>\n",
       "      <td>369</td>\n",
       "      <td>0.092528</td>\n",
       "    </tr>\n",
       "    <tr>\n",
       "      <th>проведение свадьбы</th>\n",
       "      <td>2313</td>\n",
       "      <td>183</td>\n",
       "      <td>0.079118</td>\n",
       "    </tr>\n",
       "  </tbody>\n",
       "</table>\n",
       "</div>"
      ],
      "text/plain": [
       "                          Всего кредитополучателей  Доля должников  \\\n",
       "purpose_category                                                     \n",
       "операции с недвижимостью                     10751             780   \n",
       "операции с автомобилем                        4279             400   \n",
       "получение образования                         3988             369   \n",
       "проведение свадьбы                            2313             183   \n",
       "\n",
       "                          Всего должников  \n",
       "purpose_category                           \n",
       "операции с недвижимостью         0.072551  \n",
       "операции с автомобилем           0.093480  \n",
       "получение образования            0.092528  \n",
       "проведение свадьбы               0.079118  "
      ]
     },
     "execution_count": 25,
     "metadata": {},
     "output_type": "execute_result"
    }
   ],
   "source": [
    "purpose_pivot = data.pivot_table(index='purpose_category', values = 'debt', aggfunc= ['count', 'sum', 'mean']) #counting the number of borrowers, the number of debtors, and the proportion of debtors by the 'debt' column, grouped by loan purposes\n",
    "purpose_pivot.columns = ['Всего кредитополучателей', 'Доля должников', 'Всего должников']\n",
    "purpose_pivot.sort_values(by='Всего кредитополучателей', ascending=False) "
   ]
  },
  {
   "cell_type": "markdown",
   "id": "a3bf5880",
   "metadata": {
    "deletable": false,
    "id": "b4bb2ce6"
   },
   "source": [
    "**Conclusion:** \n",
    "\n",
    "People who invest in real estate are the most reliable borrowers. This makes sense, as real estate is usually purchased when life is more or less stable. There are few repayments for education loans because young people take out these loans, and they don't have much money yet. I've never owned a car, so I don't have specific ideas on why auto loans have low repayment rates. Perhaps car repairs are more expensive than not repaying the loan on time."
   ]
  },
  {
   "cell_type": "markdown",
   "id": "11c7e202",
   "metadata": {
    "deletable": false,
    "editable": false,
    "id": "09c3ac4c"
   },
   "source": "#### What are possible reasons for missing values in the original data"
  },
  {
   "cell_type": "markdown",
   "id": "6001b2a6",
   "metadata": {
    "deletable": false,
    "id": "9da2ceda"
   },
   "source": "It is important to note human and technical factors here. Clients might not have provided the data. This information might not be required in some cases. Problems could have arisen during the data loading and extraction stages. An incorrect query or table merging could also be a reason. Quantitative variables contain numerical values within a certain range. Missing values in such variables can be filled with the mean or median. In the dataset, there are missing values in the columns with income and work experience. In this case, some values may stand out significantly among the majority, and the mean value may not accurately characterize the data. It is better to use the median value."
  },
  {
   "cell_type": "markdown",
   "id": "f9219605",
   "metadata": {
    "deletable": false,
    "editable": false,
    "id": "6db5255a"
   },
   "source": "### Genaral conclusion"
  },
  {
   "cell_type": "markdown",
   "id": "be59393b",
   "metadata": {
    "deletable": false,
    "id": "bad65432"
   },
   "source": [
    "#### Data Preprocessing\n",
    "\n",
    "1. Studied the data structure.\n",
    "2. Removed missing values in the columns days_employed and total_income. In days_employed, removed anomalies (eliminated negative values) and filled in the missing values with the median value of the column. In total_income, filled in the missing values with the median value of the column.\n",
    "3. Removed anomalies in the children column: deleted values -1 and 20.\n",
    "4. Changed the data type in the total_income column from float to int.\n",
    "5. Removed duplicates from the education column.\n",
    "6. Added a column total_income_category with income categories and a column purpose_category with purpose categories.\n",
    "\n",
    "#### Calculations\n",
    "\n",
    "1. Counted the number of borrowers, the number of debtors, and the proportion of debtors by the debt column, grouped by marital status, number of children, purposes, and income.\n",
    "2. Generated a summary table for each grouping with the columns 'Total Borrowers', 'Total Debtors', and 'Proportion of Debtors'. Sorted the table in descending order by the 'Total Borrowers' column.\n",
    "\n",
    "#### Conclusions\n",
    "\n",
    "1. Clients without children take out the most loans but repay them well. The more children, the higher the likelihood that the person will not repay the loan.\n",
    "2. Unmarried clients, likely due to their youth, repay loans less frequently. If a person has been married, the likelihood of repaying the loan is higher, probably due to older age.\n",
    "3. Clients with average earnings take out the most loans. Although their repayment is not perfect, I believe they are still the bank's target audience.\n",
    "4. People who invest in real estate are the most reliable borrowers. There are few repayments for education loans because young people take out these loans. Auto loans also have poor repayment rates: maintaining a car is expensive, making it difficult to repay the bank.\n",
    "5. To make more accurate predictions about clients who most frequently default on loans, further data research is needed. It is necessary to examine how young people repay loans, whether there is a correlation between couples, the number of children, and the degree of debt repayment.\n",
    "\n",
    "By income, the ideal client is category B (200,001-1,000,000), the most risky is category C (50,001-200,000). As recommendations, one could suggest a different categorization by income. In the questionnaire, make the fields for income and work experience mandatory to fill out, and add auto-validation for the format of the data entered by the user.\n"
   ]
  }
 ],
 "metadata": {
  "ExecuteTimeLog": [
   {
    "duration": 533,
    "start_time": "2023-10-08T10:09:57.835Z"
   },
   {
    "duration": 26,
    "start_time": "2023-10-08T10:10:00.387Z"
   },
   {
    "duration": 27,
    "start_time": "2023-10-08T10:10:05.734Z"
   },
   {
    "duration": 14,
    "start_time": "2023-10-08T10:10:09.083Z"
   },
   {
    "duration": 4,
    "start_time": "2023-10-08T10:10:32.771Z"
   },
   {
    "duration": 8,
    "start_time": "2023-10-08T10:10:48.766Z"
   },
   {
    "duration": 5,
    "start_time": "2023-10-08T10:10:53.285Z"
   },
   {
    "duration": 7,
    "start_time": "2023-10-08T10:11:00.835Z"
   },
   {
    "duration": 5,
    "start_time": "2023-10-08T10:11:04.189Z"
   },
   {
    "duration": 37,
    "start_time": "2023-10-08T10:11:08.413Z"
   },
   {
    "duration": 12,
    "start_time": "2023-10-08T10:11:12.612Z"
   },
   {
    "duration": 80,
    "start_time": "2023-10-08T10:11:15.956Z"
   },
   {
    "duration": 505,
    "start_time": "2023-10-08T10:11:37.150Z"
   },
   {
    "duration": 24,
    "start_time": "2023-10-08T10:11:37.657Z"
   },
   {
    "duration": 17,
    "start_time": "2023-10-08T10:11:37.682Z"
   },
   {
    "duration": 11,
    "start_time": "2023-10-08T10:11:37.701Z"
   },
   {
    "duration": 65,
    "start_time": "2023-10-08T10:11:37.714Z"
   },
   {
    "duration": 4,
    "start_time": "2023-10-08T10:11:37.780Z"
   },
   {
    "duration": 36,
    "start_time": "2023-10-08T10:11:37.786Z"
   },
   {
    "duration": 4,
    "start_time": "2023-10-08T10:11:37.824Z"
   },
   {
    "duration": 19,
    "start_time": "2023-10-08T10:11:37.830Z"
   },
   {
    "duration": 4,
    "start_time": "2023-10-08T10:11:37.852Z"
   },
   {
    "duration": 40,
    "start_time": "2023-10-08T10:11:37.858Z"
   },
   {
    "duration": 11,
    "start_time": "2023-10-08T10:11:37.899Z"
   },
   {
    "duration": 17,
    "start_time": "2023-10-08T10:11:37.912Z"
   },
   {
    "duration": 25,
    "start_time": "2023-10-08T10:11:37.930Z"
   },
   {
    "duration": 28,
    "start_time": "2023-10-08T10:11:37.957Z"
   },
   {
    "duration": 16,
    "start_time": "2023-10-08T10:11:37.987Z"
   },
   {
    "duration": 4,
    "start_time": "2023-10-08T10:11:38.005Z"
   },
   {
    "duration": 21,
    "start_time": "2023-10-08T10:11:38.010Z"
   },
   {
    "duration": 18,
    "start_time": "2023-10-08T10:11:38.033Z"
   },
   {
    "duration": 13,
    "start_time": "2023-10-08T10:11:38.053Z"
   },
   {
    "duration": 71,
    "start_time": "2023-10-08T10:11:38.068Z"
   },
   {
    "duration": 23,
    "start_time": "2023-10-08T10:11:38.141Z"
   },
   {
    "duration": 32,
    "start_time": "2023-10-08T10:11:38.166Z"
   },
   {
    "duration": 18,
    "start_time": "2023-10-08T10:11:38.201Z"
   },
   {
    "duration": 22,
    "start_time": "2023-10-08T10:11:38.221Z"
   },
   {
    "duration": 23,
    "start_time": "2023-10-08T10:12:28.313Z"
   },
   {
    "duration": 50,
    "start_time": "2023-10-10T10:30:00.259Z"
   },
   {
    "duration": 576,
    "start_time": "2023-10-10T10:30:21.149Z"
   },
   {
    "duration": 25,
    "start_time": "2023-10-10T10:30:21.727Z"
   },
   {
    "duration": 17,
    "start_time": "2023-10-10T10:30:21.753Z"
   },
   {
    "duration": 17,
    "start_time": "2023-10-10T10:30:21.772Z"
   },
   {
    "duration": 38,
    "start_time": "2023-10-10T10:30:21.790Z"
   },
   {
    "duration": 3,
    "start_time": "2023-10-10T10:30:21.830Z"
   },
   {
    "duration": 26,
    "start_time": "2023-10-10T10:30:21.835Z"
   },
   {
    "duration": 15,
    "start_time": "2023-10-10T10:30:21.863Z"
   },
   {
    "duration": 11,
    "start_time": "2023-10-10T10:30:21.880Z"
   },
   {
    "duration": 5,
    "start_time": "2023-10-10T10:30:21.895Z"
   },
   {
    "duration": 41,
    "start_time": "2023-10-10T10:30:21.901Z"
   },
   {
    "duration": 21,
    "start_time": "2023-10-10T10:30:21.944Z"
   },
   {
    "duration": 4,
    "start_time": "2023-10-10T10:30:21.966Z"
   },
   {
    "duration": 15,
    "start_time": "2023-10-10T10:30:21.971Z"
   },
   {
    "duration": 30,
    "start_time": "2023-10-10T10:30:21.988Z"
   },
   {
    "duration": 18,
    "start_time": "2023-10-10T10:30:22.020Z"
   },
   {
    "duration": 4,
    "start_time": "2023-10-10T10:30:22.057Z"
   },
   {
    "duration": 13,
    "start_time": "2023-10-10T10:30:22.062Z"
   },
   {
    "duration": 6,
    "start_time": "2023-10-10T10:30:22.077Z"
   },
   {
    "duration": 4,
    "start_time": "2023-10-10T10:30:22.084Z"
   },
   {
    "duration": 22,
    "start_time": "2023-10-10T10:30:22.089Z"
   },
   {
    "duration": 91,
    "start_time": "2023-10-10T10:30:22.113Z"
   },
   {
    "duration": 0,
    "start_time": "2023-10-10T10:30:22.205Z"
   },
   {
    "duration": 0,
    "start_time": "2023-10-10T10:30:22.207Z"
   },
   {
    "duration": 0,
    "start_time": "2023-10-10T10:30:22.208Z"
   },
   {
    "duration": 145,
    "start_time": "2023-10-10T10:35:29.082Z"
   },
   {
    "duration": 107,
    "start_time": "2023-10-10T10:35:48.956Z"
   },
   {
    "duration": 108,
    "start_time": "2023-10-10T10:36:24.094Z"
   },
   {
    "duration": 519,
    "start_time": "2023-10-10T10:36:32.858Z"
   },
   {
    "duration": 25,
    "start_time": "2023-10-10T10:36:33.380Z"
   },
   {
    "duration": 18,
    "start_time": "2023-10-10T10:36:33.407Z"
   },
   {
    "duration": 32,
    "start_time": "2023-10-10T10:36:33.427Z"
   },
   {
    "duration": 97,
    "start_time": "2023-10-10T10:36:33.461Z"
   },
   {
    "duration": 4,
    "start_time": "2023-10-10T10:36:33.560Z"
   },
   {
    "duration": 24,
    "start_time": "2023-10-10T10:36:33.566Z"
   },
   {
    "duration": 5,
    "start_time": "2023-10-10T10:36:33.592Z"
   },
   {
    "duration": 8,
    "start_time": "2023-10-10T10:36:33.599Z"
   },
   {
    "duration": 14,
    "start_time": "2023-10-10T10:36:33.611Z"
   },
   {
    "duration": 55,
    "start_time": "2023-10-10T10:36:33.627Z"
   },
   {
    "duration": 13,
    "start_time": "2023-10-10T10:36:33.684Z"
   },
   {
    "duration": 4,
    "start_time": "2023-10-10T10:36:33.699Z"
   },
   {
    "duration": 19,
    "start_time": "2023-10-10T10:36:33.704Z"
   },
   {
    "duration": 40,
    "start_time": "2023-10-10T10:36:33.725Z"
   },
   {
    "duration": 19,
    "start_time": "2023-10-10T10:36:33.767Z"
   },
   {
    "duration": 13,
    "start_time": "2023-10-10T10:36:33.788Z"
   },
   {
    "duration": 26,
    "start_time": "2023-10-10T10:36:33.802Z"
   },
   {
    "duration": 20,
    "start_time": "2023-10-10T10:36:33.830Z"
   },
   {
    "duration": 25,
    "start_time": "2023-10-10T10:36:33.852Z"
   },
   {
    "duration": 27,
    "start_time": "2023-10-10T10:36:33.879Z"
   },
   {
    "duration": 98,
    "start_time": "2023-10-10T10:36:33.908Z"
   },
   {
    "duration": 0,
    "start_time": "2023-10-10T10:36:34.008Z"
   },
   {
    "duration": 0,
    "start_time": "2023-10-10T10:36:34.010Z"
   },
   {
    "duration": 0,
    "start_time": "2023-10-10T10:36:34.011Z"
   },
   {
    "duration": 89,
    "start_time": "2023-10-10T10:37:13.194Z"
   },
   {
    "duration": 532,
    "start_time": "2023-10-10T10:37:50.164Z"
   },
   {
    "duration": 25,
    "start_time": "2023-10-10T10:37:50.698Z"
   },
   {
    "duration": 31,
    "start_time": "2023-10-10T10:37:50.725Z"
   },
   {
    "duration": 12,
    "start_time": "2023-10-10T10:37:50.759Z"
   },
   {
    "duration": 55,
    "start_time": "2023-10-10T10:37:50.773Z"
   },
   {
    "duration": 7,
    "start_time": "2023-10-10T10:37:50.830Z"
   },
   {
    "duration": 23,
    "start_time": "2023-10-10T10:37:50.838Z"
   },
   {
    "duration": 13,
    "start_time": "2023-10-10T10:37:50.863Z"
   },
   {
    "duration": 49,
    "start_time": "2023-10-10T10:37:50.878Z"
   },
   {
    "duration": 6,
    "start_time": "2023-10-10T10:37:50.930Z"
   },
   {
    "duration": 65,
    "start_time": "2023-10-10T10:37:50.938Z"
   },
   {
    "duration": 11,
    "start_time": "2023-10-10T10:37:51.004Z"
   },
   {
    "duration": 18,
    "start_time": "2023-10-10T10:37:51.016Z"
   },
   {
    "duration": 14,
    "start_time": "2023-10-10T10:37:51.036Z"
   },
   {
    "duration": 30,
    "start_time": "2023-10-10T10:37:51.052Z"
   },
   {
    "duration": 20,
    "start_time": "2023-10-10T10:37:51.084Z"
   },
   {
    "duration": 4,
    "start_time": "2023-10-10T10:37:51.105Z"
   },
   {
    "duration": 18,
    "start_time": "2023-10-10T10:37:51.111Z"
   },
   {
    "duration": 11,
    "start_time": "2023-10-10T10:37:51.130Z"
   },
   {
    "duration": 11,
    "start_time": "2023-10-10T10:37:51.143Z"
   },
   {
    "duration": 23,
    "start_time": "2023-10-10T10:37:51.155Z"
   },
   {
    "duration": 110,
    "start_time": "2023-10-10T10:37:51.180Z"
   },
   {
    "duration": 0,
    "start_time": "2023-10-10T10:37:51.292Z"
   },
   {
    "duration": 0,
    "start_time": "2023-10-10T10:37:51.293Z"
   },
   {
    "duration": 0,
    "start_time": "2023-10-10T10:37:51.294Z"
   },
   {
    "duration": 95,
    "start_time": "2023-10-10T10:37:55.898Z"
   },
   {
    "duration": 97,
    "start_time": "2023-10-10T10:38:26.600Z"
   },
   {
    "duration": 98,
    "start_time": "2023-10-10T10:39:12.037Z"
   },
   {
    "duration": 14,
    "start_time": "2023-10-10T10:40:03.408Z"
   },
   {
    "duration": 1590,
    "start_time": "2023-10-10T10:42:50.273Z"
   },
   {
    "duration": 1113,
    "start_time": "2023-10-10T10:43:18.399Z"
   },
   {
    "duration": 1314,
    "start_time": "2023-10-10T10:44:07.784Z"
   },
   {
    "duration": 1248,
    "start_time": "2023-10-10T10:44:27.885Z"
   },
   {
    "duration": 1235,
    "start_time": "2023-10-10T10:45:00.660Z"
   },
   {
    "duration": 514,
    "start_time": "2023-10-10T10:45:26.566Z"
   },
   {
    "duration": 24,
    "start_time": "2023-10-10T10:45:27.082Z"
   },
   {
    "duration": 36,
    "start_time": "2023-10-10T10:45:27.108Z"
   },
   {
    "duration": 16,
    "start_time": "2023-10-10T10:45:27.146Z"
   },
   {
    "duration": 52,
    "start_time": "2023-10-10T10:45:27.164Z"
   },
   {
    "duration": 4,
    "start_time": "2023-10-10T10:45:27.218Z"
   },
   {
    "duration": 15,
    "start_time": "2023-10-10T10:45:27.224Z"
   },
   {
    "duration": 5,
    "start_time": "2023-10-10T10:45:27.240Z"
   },
   {
    "duration": 21,
    "start_time": "2023-10-10T10:45:27.246Z"
   },
   {
    "duration": 9,
    "start_time": "2023-10-10T10:45:27.270Z"
   },
   {
    "duration": 65,
    "start_time": "2023-10-10T10:45:27.280Z"
   },
   {
    "duration": 12,
    "start_time": "2023-10-10T10:45:27.347Z"
   },
   {
    "duration": 14,
    "start_time": "2023-10-10T10:45:27.361Z"
   },
   {
    "duration": 31,
    "start_time": "2023-10-10T10:45:27.377Z"
   },
   {
    "duration": 34,
    "start_time": "2023-10-10T10:45:27.410Z"
   },
   {
    "duration": 19,
    "start_time": "2023-10-10T10:45:27.445Z"
   },
   {
    "duration": 15,
    "start_time": "2023-10-10T10:45:27.465Z"
   },
   {
    "duration": 17,
    "start_time": "2023-10-10T10:45:27.482Z"
   },
   {
    "duration": 8,
    "start_time": "2023-10-10T10:45:27.500Z"
   },
   {
    "duration": 11,
    "start_time": "2023-10-10T10:45:27.510Z"
   },
   {
    "duration": 23,
    "start_time": "2023-10-10T10:45:27.523Z"
   },
   {
    "duration": 39,
    "start_time": "2023-10-10T10:45:27.548Z"
   },
   {
    "duration": 2,
    "start_time": "2023-10-10T10:45:27.589Z"
   },
   {
    "duration": 12,
    "start_time": "2023-10-10T10:45:27.593Z"
   },
   {
    "duration": 13,
    "start_time": "2023-10-10T10:45:27.607Z"
   },
   {
    "duration": 9,
    "start_time": "2023-10-10T10:49:40.129Z"
   },
   {
    "duration": 1235,
    "start_time": "2023-10-10T10:49:49.339Z"
   },
   {
    "duration": 513,
    "start_time": "2023-10-10T10:49:56.257Z"
   },
   {
    "duration": 25,
    "start_time": "2023-10-10T10:49:56.773Z"
   },
   {
    "duration": 32,
    "start_time": "2023-10-10T10:49:56.799Z"
   },
   {
    "duration": 41,
    "start_time": "2023-10-10T10:49:56.833Z"
   },
   {
    "duration": 66,
    "start_time": "2023-10-10T10:49:56.876Z"
   },
   {
    "duration": 5,
    "start_time": "2023-10-10T10:49:56.944Z"
   },
   {
    "duration": 27,
    "start_time": "2023-10-10T10:49:56.951Z"
   },
   {
    "duration": 31,
    "start_time": "2023-10-10T10:49:56.979Z"
   },
   {
    "duration": 30,
    "start_time": "2023-10-10T10:49:57.011Z"
   },
   {
    "duration": 23,
    "start_time": "2023-10-10T10:49:57.044Z"
   },
   {
    "duration": 49,
    "start_time": "2023-10-10T10:49:57.069Z"
   },
   {
    "duration": 11,
    "start_time": "2023-10-10T10:49:57.120Z"
   },
   {
    "duration": 26,
    "start_time": "2023-10-10T10:49:57.132Z"
   },
   {
    "duration": 27,
    "start_time": "2023-10-10T10:49:57.160Z"
   },
   {
    "duration": 30,
    "start_time": "2023-10-10T10:49:57.189Z"
   },
   {
    "duration": 21,
    "start_time": "2023-10-10T10:49:57.221Z"
   },
   {
    "duration": 22,
    "start_time": "2023-10-10T10:49:57.244Z"
   },
   {
    "duration": 37,
    "start_time": "2023-10-10T10:49:57.268Z"
   },
   {
    "duration": 22,
    "start_time": "2023-10-10T10:49:57.307Z"
   },
   {
    "duration": 48,
    "start_time": "2023-10-10T10:49:57.331Z"
   },
   {
    "duration": 28,
    "start_time": "2023-10-10T10:49:57.381Z"
   },
   {
    "duration": 24,
    "start_time": "2023-10-10T10:49:57.411Z"
   },
   {
    "duration": 2259,
    "start_time": "2023-10-10T10:49:57.437Z"
   },
   {
    "duration": 0,
    "start_time": "2023-10-10T10:49:59.697Z"
   },
   {
    "duration": 0,
    "start_time": "2023-10-10T10:49:59.699Z"
   },
   {
    "duration": 1243,
    "start_time": "2023-10-10T10:50:19.196Z"
   },
   {
    "duration": 1094,
    "start_time": "2023-10-10T10:50:39.039Z"
   },
   {
    "duration": 540,
    "start_time": "2023-10-10T10:50:46.438Z"
   },
   {
    "duration": 28,
    "start_time": "2023-10-10T10:50:46.980Z"
   },
   {
    "duration": 43,
    "start_time": "2023-10-10T10:50:47.010Z"
   },
   {
    "duration": 25,
    "start_time": "2023-10-10T10:50:47.055Z"
   },
   {
    "duration": 73,
    "start_time": "2023-10-10T10:50:47.082Z"
   },
   {
    "duration": 7,
    "start_time": "2023-10-10T10:50:47.157Z"
   },
   {
    "duration": 52,
    "start_time": "2023-10-10T10:50:47.165Z"
   },
   {
    "duration": 9,
    "start_time": "2023-10-10T10:50:47.219Z"
   },
   {
    "duration": 34,
    "start_time": "2023-10-10T10:50:47.230Z"
   },
   {
    "duration": 18,
    "start_time": "2023-10-10T10:50:47.266Z"
   },
   {
    "duration": 52,
    "start_time": "2023-10-10T10:50:47.286Z"
   },
   {
    "duration": 10,
    "start_time": "2023-10-10T10:50:47.340Z"
   },
   {
    "duration": 18,
    "start_time": "2023-10-10T10:50:47.352Z"
   },
   {
    "duration": 20,
    "start_time": "2023-10-10T10:50:47.372Z"
   },
   {
    "duration": 39,
    "start_time": "2023-10-10T10:50:47.394Z"
   },
   {
    "duration": 19,
    "start_time": "2023-10-10T10:50:47.435Z"
   },
   {
    "duration": 10,
    "start_time": "2023-10-10T10:50:47.456Z"
   },
   {
    "duration": 21,
    "start_time": "2023-10-10T10:50:47.467Z"
   },
   {
    "duration": 25,
    "start_time": "2023-10-10T10:50:47.490Z"
   },
   {
    "duration": 14,
    "start_time": "2023-10-10T10:50:47.519Z"
   },
   {
    "duration": 33,
    "start_time": "2023-10-10T10:50:47.535Z"
   },
   {
    "duration": 17,
    "start_time": "2023-10-10T10:50:47.570Z"
   },
   {
    "duration": 1175,
    "start_time": "2023-10-10T10:50:47.589Z"
   },
   {
    "duration": 0,
    "start_time": "2023-10-10T10:50:48.766Z"
   },
   {
    "duration": 0,
    "start_time": "2023-10-10T10:50:48.767Z"
   },
   {
    "duration": 1050,
    "start_time": "2023-10-10T10:51:57.248Z"
   },
   {
    "duration": 1601,
    "start_time": "2023-10-10T10:59:03.660Z"
   },
   {
    "duration": 12,
    "start_time": "2023-10-10T11:01:11.465Z"
   },
   {
    "duration": 1341,
    "start_time": "2023-10-10T11:12:17.713Z"
   },
   {
    "duration": 1244,
    "start_time": "2023-10-10T11:12:49.679Z"
   },
   {
    "duration": 1320,
    "start_time": "2023-10-10T11:12:53.111Z"
   },
   {
    "duration": 1267,
    "start_time": "2023-10-10T11:13:20.167Z"
   },
   {
    "duration": 507,
    "start_time": "2023-10-10T11:13:31.585Z"
   },
   {
    "duration": 27,
    "start_time": "2023-10-10T11:13:32.094Z"
   },
   {
    "duration": 46,
    "start_time": "2023-10-10T11:13:32.123Z"
   },
   {
    "duration": 43,
    "start_time": "2023-10-10T11:13:32.172Z"
   },
   {
    "duration": 65,
    "start_time": "2023-10-10T11:13:32.217Z"
   },
   {
    "duration": 5,
    "start_time": "2023-10-10T11:13:32.284Z"
   },
   {
    "duration": 47,
    "start_time": "2023-10-10T11:13:32.291Z"
   },
   {
    "duration": 55,
    "start_time": "2023-10-10T11:13:32.341Z"
   },
   {
    "duration": 65,
    "start_time": "2023-10-10T11:13:32.397Z"
   },
   {
    "duration": 72,
    "start_time": "2023-10-10T11:13:32.465Z"
   },
   {
    "duration": 81,
    "start_time": "2023-10-10T11:13:32.540Z"
   },
   {
    "duration": 111,
    "start_time": "2023-10-10T11:13:32.623Z"
   },
   {
    "duration": 12,
    "start_time": "2023-10-10T11:13:32.736Z"
   },
   {
    "duration": 33,
    "start_time": "2023-10-10T11:13:32.750Z"
   },
   {
    "duration": 46,
    "start_time": "2023-10-10T11:13:32.785Z"
   },
   {
    "duration": 41,
    "start_time": "2023-10-10T11:13:32.837Z"
   },
   {
    "duration": 142,
    "start_time": "2023-10-10T11:13:32.880Z"
   },
   {
    "duration": 83,
    "start_time": "2023-10-10T11:13:33.024Z"
   },
   {
    "duration": 106,
    "start_time": "2023-10-10T11:13:33.109Z"
   },
   {
    "duration": 37,
    "start_time": "2023-10-10T11:13:33.217Z"
   },
   {
    "duration": 64,
    "start_time": "2023-10-10T11:13:33.257Z"
   },
   {
    "duration": 131,
    "start_time": "2023-10-10T11:13:33.324Z"
   },
   {
    "duration": 52,
    "start_time": "2023-10-10T11:13:33.457Z"
   },
   {
    "duration": 33,
    "start_time": "2023-10-10T11:13:33.511Z"
   },
   {
    "duration": 56,
    "start_time": "2023-10-10T11:13:33.546Z"
   },
   {
    "duration": 2031,
    "start_time": "2023-10-10T11:15:07.772Z"
   },
   {
    "duration": 1860,
    "start_time": "2023-10-10T11:15:13.065Z"
   },
   {
    "duration": 2462,
    "start_time": "2023-10-10T11:15:23.449Z"
   },
   {
    "duration": 535,
    "start_time": "2023-10-10T11:15:38.901Z"
   },
   {
    "duration": 26,
    "start_time": "2023-10-10T11:15:39.438Z"
   },
   {
    "duration": 18,
    "start_time": "2023-10-10T11:15:39.465Z"
   },
   {
    "duration": 17,
    "start_time": "2023-10-10T11:15:39.486Z"
   },
   {
    "duration": 55,
    "start_time": "2023-10-10T11:15:39.505Z"
   },
   {
    "duration": 4,
    "start_time": "2023-10-10T11:15:39.562Z"
   },
   {
    "duration": 33,
    "start_time": "2023-10-10T11:15:39.568Z"
   },
   {
    "duration": 15,
    "start_time": "2023-10-10T11:15:39.603Z"
   },
   {
    "duration": 21,
    "start_time": "2023-10-10T11:15:39.620Z"
   },
   {
    "duration": 21,
    "start_time": "2023-10-10T11:15:39.645Z"
   },
   {
    "duration": 59,
    "start_time": "2023-10-10T11:15:39.667Z"
   },
   {
    "duration": 12,
    "start_time": "2023-10-10T11:15:39.728Z"
   },
   {
    "duration": 23,
    "start_time": "2023-10-10T11:15:39.742Z"
   },
   {
    "duration": 18,
    "start_time": "2023-10-10T11:15:39.767Z"
   },
   {
    "duration": 51,
    "start_time": "2023-10-10T11:15:39.786Z"
   },
   {
    "duration": 29,
    "start_time": "2023-10-10T11:15:39.839Z"
   },
   {
    "duration": 12,
    "start_time": "2023-10-10T11:15:39.870Z"
   },
   {
    "duration": 28,
    "start_time": "2023-10-10T11:15:39.885Z"
   },
   {
    "duration": 14,
    "start_time": "2023-10-10T11:15:39.915Z"
   },
   {
    "duration": 8,
    "start_time": "2023-10-10T11:15:39.932Z"
   },
   {
    "duration": 25,
    "start_time": "2023-10-10T11:15:39.942Z"
   },
   {
    "duration": 29,
    "start_time": "2023-10-10T11:15:39.969Z"
   },
   {
    "duration": 26,
    "start_time": "2023-10-10T11:15:40.000Z"
   },
   {
    "duration": 20,
    "start_time": "2023-10-10T11:15:40.027Z"
   },
   {
    "duration": 21,
    "start_time": "2023-10-10T11:15:40.049Z"
   },
   {
    "duration": 69,
    "start_time": "2023-10-10T11:17:00.831Z"
   },
   {
    "duration": 2089,
    "start_time": "2023-10-10T11:17:54.658Z"
   },
   {
    "duration": 495,
    "start_time": "2023-10-10T11:18:03.392Z"
   },
   {
    "duration": 25,
    "start_time": "2023-10-10T11:18:03.889Z"
   },
   {
    "duration": 16,
    "start_time": "2023-10-10T11:18:03.916Z"
   },
   {
    "duration": 31,
    "start_time": "2023-10-10T11:18:03.934Z"
   },
   {
    "duration": 43,
    "start_time": "2023-10-10T11:18:03.967Z"
   },
   {
    "duration": 3,
    "start_time": "2023-10-10T11:18:04.012Z"
   },
   {
    "duration": 30,
    "start_time": "2023-10-10T11:18:04.017Z"
   },
   {
    "duration": 17,
    "start_time": "2023-10-10T11:18:04.049Z"
   },
   {
    "duration": 26,
    "start_time": "2023-10-10T11:18:04.067Z"
   },
   {
    "duration": 20,
    "start_time": "2023-10-10T11:18:04.096Z"
   },
   {
    "duration": 62,
    "start_time": "2023-10-10T11:18:04.118Z"
   },
   {
    "duration": 12,
    "start_time": "2023-10-10T11:18:04.182Z"
   },
   {
    "duration": 10,
    "start_time": "2023-10-10T11:18:04.195Z"
   },
   {
    "duration": 27,
    "start_time": "2023-10-10T11:18:04.207Z"
   },
   {
    "duration": 46,
    "start_time": "2023-10-10T11:18:04.236Z"
   },
   {
    "duration": 42,
    "start_time": "2023-10-10T11:18:04.284Z"
   },
   {
    "duration": 3,
    "start_time": "2023-10-10T11:18:04.328Z"
   },
   {
    "duration": 39,
    "start_time": "2023-10-10T11:18:04.333Z"
   },
   {
    "duration": 16,
    "start_time": "2023-10-10T11:18:04.374Z"
   },
   {
    "duration": 16,
    "start_time": "2023-10-10T11:18:04.391Z"
   },
   {
    "duration": 33,
    "start_time": "2023-10-10T11:18:04.409Z"
   },
   {
    "duration": 18,
    "start_time": "2023-10-10T11:18:04.444Z"
   },
   {
    "duration": 26,
    "start_time": "2023-10-10T11:18:04.464Z"
   },
   {
    "duration": 2,
    "start_time": "2023-10-10T11:18:04.492Z"
   },
   {
    "duration": 7,
    "start_time": "2023-10-10T11:18:04.496Z"
   },
   {
    "duration": 7,
    "start_time": "2023-10-10T11:20:57.823Z"
   },
   {
    "duration": 7,
    "start_time": "2023-10-10T11:23:24.784Z"
   },
   {
    "duration": 10,
    "start_time": "2023-10-10T11:23:32.430Z"
   },
   {
    "duration": 8,
    "start_time": "2023-10-10T11:29:37.514Z"
   },
   {
    "duration": 472,
    "start_time": "2023-10-10T11:45:51.207Z"
   },
   {
    "duration": 25,
    "start_time": "2023-10-10T11:45:51.681Z"
   },
   {
    "duration": 17,
    "start_time": "2023-10-10T11:45:51.708Z"
   },
   {
    "duration": 31,
    "start_time": "2023-10-10T11:45:51.728Z"
   },
   {
    "duration": 61,
    "start_time": "2023-10-10T11:45:51.761Z"
   },
   {
    "duration": 4,
    "start_time": "2023-10-10T11:45:51.824Z"
   },
   {
    "duration": 44,
    "start_time": "2023-10-10T11:45:51.830Z"
   },
   {
    "duration": 37,
    "start_time": "2023-10-10T11:45:51.876Z"
   },
   {
    "duration": 32,
    "start_time": "2023-10-10T11:45:51.915Z"
   },
   {
    "duration": 48,
    "start_time": "2023-10-10T11:45:51.950Z"
   },
   {
    "duration": 42,
    "start_time": "2023-10-10T11:45:52.000Z"
   },
   {
    "duration": 11,
    "start_time": "2023-10-10T11:45:52.044Z"
   },
   {
    "duration": 31,
    "start_time": "2023-10-10T11:45:52.058Z"
   },
   {
    "duration": 46,
    "start_time": "2023-10-10T11:45:52.091Z"
   },
   {
    "duration": 39,
    "start_time": "2023-10-10T11:45:52.140Z"
   },
   {
    "duration": 27,
    "start_time": "2023-10-10T11:45:52.182Z"
   },
   {
    "duration": 91,
    "start_time": "2023-10-10T11:45:52.211Z"
   },
   {
    "duration": 63,
    "start_time": "2023-10-10T11:45:52.304Z"
   },
   {
    "duration": 25,
    "start_time": "2023-10-10T11:45:52.369Z"
   },
   {
    "duration": 12,
    "start_time": "2023-10-10T11:45:52.396Z"
   },
   {
    "duration": 27,
    "start_time": "2023-10-10T11:45:52.410Z"
   },
   {
    "duration": 94,
    "start_time": "2023-10-10T11:45:52.439Z"
   },
   {
    "duration": 0,
    "start_time": "2023-10-10T11:45:52.535Z"
   },
   {
    "duration": 0,
    "start_time": "2023-10-10T11:45:52.536Z"
   },
   {
    "duration": 0,
    "start_time": "2023-10-10T11:45:52.537Z"
   },
   {
    "duration": 23,
    "start_time": "2023-10-10T11:49:30.762Z"
   },
   {
    "duration": 14,
    "start_time": "2023-10-10T11:51:28.135Z"
   },
   {
    "duration": 11,
    "start_time": "2023-10-10T11:55:18.105Z"
   },
   {
    "duration": 11,
    "start_time": "2023-10-10T11:55:34.139Z"
   },
   {
    "duration": 7,
    "start_time": "2023-10-10T12:02:08.273Z"
   },
   {
    "duration": 10,
    "start_time": "2023-10-10T12:02:12.444Z"
   },
   {
    "duration": 25,
    "start_time": "2023-10-10T12:05:50.170Z"
   },
   {
    "duration": 12,
    "start_time": "2023-10-10T12:06:07.472Z"
   },
   {
    "duration": 108,
    "start_time": "2023-10-10T12:08:39.786Z"
   },
   {
    "duration": 16,
    "start_time": "2023-10-10T12:08:50.199Z"
   },
   {
    "duration": 14,
    "start_time": "2023-10-10T12:09:38.383Z"
   },
   {
    "duration": 529,
    "start_time": "2023-10-10T12:12:57.436Z"
   },
   {
    "duration": 27,
    "start_time": "2023-10-10T12:12:57.967Z"
   },
   {
    "duration": 23,
    "start_time": "2023-10-10T12:12:57.995Z"
   },
   {
    "duration": 39,
    "start_time": "2023-10-10T12:12:58.021Z"
   },
   {
    "duration": 43,
    "start_time": "2023-10-10T12:12:58.063Z"
   },
   {
    "duration": 4,
    "start_time": "2023-10-10T12:12:58.108Z"
   },
   {
    "duration": 21,
    "start_time": "2023-10-10T12:12:58.114Z"
   },
   {
    "duration": 20,
    "start_time": "2023-10-10T12:12:58.137Z"
   },
   {
    "duration": 33,
    "start_time": "2023-10-10T12:12:58.159Z"
   },
   {
    "duration": 46,
    "start_time": "2023-10-10T12:12:58.195Z"
   },
   {
    "duration": 59,
    "start_time": "2023-10-10T12:12:58.243Z"
   },
   {
    "duration": 12,
    "start_time": "2023-10-10T12:12:58.304Z"
   },
   {
    "duration": 20,
    "start_time": "2023-10-10T12:12:58.317Z"
   },
   {
    "duration": 54,
    "start_time": "2023-10-10T12:12:58.339Z"
   },
   {
    "duration": 44,
    "start_time": "2023-10-10T12:12:58.395Z"
   },
   {
    "duration": 28,
    "start_time": "2023-10-10T12:12:58.441Z"
   },
   {
    "duration": 5,
    "start_time": "2023-10-10T12:12:58.471Z"
   },
   {
    "duration": 36,
    "start_time": "2023-10-10T12:12:58.478Z"
   },
   {
    "duration": 24,
    "start_time": "2023-10-10T12:12:58.516Z"
   },
   {
    "duration": 17,
    "start_time": "2023-10-10T12:12:58.542Z"
   },
   {
    "duration": 11,
    "start_time": "2023-10-10T12:12:58.561Z"
   },
   {
    "duration": 88,
    "start_time": "2023-10-10T12:12:58.574Z"
   },
   {
    "duration": 0,
    "start_time": "2023-10-10T12:12:58.664Z"
   },
   {
    "duration": 0,
    "start_time": "2023-10-10T12:12:58.665Z"
   },
   {
    "duration": 0,
    "start_time": "2023-10-10T12:12:58.666Z"
   },
   {
    "duration": 19,
    "start_time": "2023-10-10T12:15:02.554Z"
   },
   {
    "duration": 12,
    "start_time": "2023-10-10T12:16:47.701Z"
   },
   {
    "duration": 14,
    "start_time": "2023-10-10T12:19:15.484Z"
   },
   {
    "duration": 13,
    "start_time": "2023-10-10T12:19:44.636Z"
   },
   {
    "duration": 11,
    "start_time": "2023-10-10T12:20:24.889Z"
   },
   {
    "duration": 9,
    "start_time": "2023-10-10T12:20:34.195Z"
   },
   {
    "duration": 9,
    "start_time": "2023-10-10T12:20:46.007Z"
   },
   {
    "duration": 10,
    "start_time": "2023-10-10T12:21:41.159Z"
   },
   {
    "duration": 9,
    "start_time": "2023-10-10T12:21:46.676Z"
   },
   {
    "duration": 11,
    "start_time": "2023-10-10T12:22:01.327Z"
   },
   {
    "duration": 25,
    "start_time": "2023-10-10T12:23:00.304Z"
   },
   {
    "duration": 18,
    "start_time": "2023-10-10T12:23:59.820Z"
   },
   {
    "duration": 15,
    "start_time": "2023-10-10T12:24:45.763Z"
   },
   {
    "duration": 8,
    "start_time": "2023-10-10T12:33:31.365Z"
   },
   {
    "duration": 7,
    "start_time": "2023-10-10T12:33:40.494Z"
   },
   {
    "duration": 8,
    "start_time": "2023-10-10T12:35:21.254Z"
   },
   {
    "duration": 530,
    "start_time": "2023-10-10T14:45:03.141Z"
   },
   {
    "duration": 21,
    "start_time": "2023-10-10T14:45:03.673Z"
   },
   {
    "duration": 27,
    "start_time": "2023-10-10T14:45:03.695Z"
   },
   {
    "duration": 28,
    "start_time": "2023-10-10T14:45:03.724Z"
   },
   {
    "duration": 71,
    "start_time": "2023-10-10T14:45:03.753Z"
   },
   {
    "duration": 3,
    "start_time": "2023-10-10T14:45:03.826Z"
   },
   {
    "duration": 36,
    "start_time": "2023-10-10T14:45:03.830Z"
   },
   {
    "duration": 28,
    "start_time": "2023-10-10T14:45:03.867Z"
   },
   {
    "duration": 59,
    "start_time": "2023-10-10T14:45:03.897Z"
   },
   {
    "duration": 43,
    "start_time": "2023-10-10T14:45:03.959Z"
   },
   {
    "duration": 57,
    "start_time": "2023-10-10T14:45:04.003Z"
   },
   {
    "duration": 14,
    "start_time": "2023-10-10T14:45:04.062Z"
   },
   {
    "duration": 23,
    "start_time": "2023-10-10T14:45:04.078Z"
   },
   {
    "duration": 32,
    "start_time": "2023-10-10T14:45:04.103Z"
   },
   {
    "duration": 52,
    "start_time": "2023-10-10T14:45:04.137Z"
   },
   {
    "duration": 30,
    "start_time": "2023-10-10T14:45:04.191Z"
   },
   {
    "duration": 20,
    "start_time": "2023-10-10T14:45:04.222Z"
   },
   {
    "duration": 33,
    "start_time": "2023-10-10T14:45:04.243Z"
   },
   {
    "duration": 54,
    "start_time": "2023-10-10T14:45:04.278Z"
   },
   {
    "duration": 22,
    "start_time": "2023-10-10T14:45:04.334Z"
   },
   {
    "duration": 42,
    "start_time": "2023-10-10T14:45:04.357Z"
   },
   {
    "duration": 39,
    "start_time": "2023-10-10T14:45:04.401Z"
   },
   {
    "duration": 88,
    "start_time": "2023-10-10T14:45:04.442Z"
   },
   {
    "duration": 0,
    "start_time": "2023-10-10T14:45:04.532Z"
   },
   {
    "duration": 0,
    "start_time": "2023-10-10T14:45:04.533Z"
   },
   {
    "duration": 8,
    "start_time": "2023-10-10T14:45:33.130Z"
   },
   {
    "duration": 12,
    "start_time": "2023-10-10T14:47:02.311Z"
   },
   {
    "duration": 7,
    "start_time": "2023-10-10T14:57:37.332Z"
   },
   {
    "duration": 9,
    "start_time": "2023-10-10T15:01:24.928Z"
   },
   {
    "duration": 612,
    "start_time": "2023-10-11T18:23:26.654Z"
   },
   {
    "duration": 25,
    "start_time": "2023-10-11T18:23:27.270Z"
   },
   {
    "duration": 32,
    "start_time": "2023-10-11T18:23:27.297Z"
   },
   {
    "duration": 15,
    "start_time": "2023-10-11T18:23:27.332Z"
   },
   {
    "duration": 55,
    "start_time": "2023-10-11T18:23:27.349Z"
   },
   {
    "duration": 4,
    "start_time": "2023-10-11T18:23:27.407Z"
   },
   {
    "duration": 42,
    "start_time": "2023-10-11T18:23:27.413Z"
   },
   {
    "duration": 34,
    "start_time": "2023-10-11T18:23:27.457Z"
   },
   {
    "duration": 46,
    "start_time": "2023-10-11T18:23:27.493Z"
   },
   {
    "duration": 6,
    "start_time": "2023-10-11T18:23:27.542Z"
   },
   {
    "duration": 74,
    "start_time": "2023-10-11T18:23:27.550Z"
   },
   {
    "duration": 13,
    "start_time": "2023-10-11T18:23:27.626Z"
   },
   {
    "duration": 29,
    "start_time": "2023-10-11T18:23:27.641Z"
   },
   {
    "duration": 15,
    "start_time": "2023-10-11T18:23:27.672Z"
   },
   {
    "duration": 40,
    "start_time": "2023-10-11T18:23:27.690Z"
   },
   {
    "duration": 19,
    "start_time": "2023-10-11T18:23:27.732Z"
   },
   {
    "duration": 9,
    "start_time": "2023-10-11T18:23:27.753Z"
   },
   {
    "duration": 20,
    "start_time": "2023-10-11T18:23:27.765Z"
   },
   {
    "duration": 27,
    "start_time": "2023-10-11T18:23:27.786Z"
   },
   {
    "duration": 4,
    "start_time": "2023-10-11T18:23:27.815Z"
   },
   {
    "duration": 23,
    "start_time": "2023-10-11T18:23:27.821Z"
   },
   {
    "duration": 16,
    "start_time": "2023-10-11T18:23:27.846Z"
   },
   {
    "duration": 10,
    "start_time": "2023-10-11T18:23:27.873Z"
   },
   {
    "duration": 35,
    "start_time": "2023-10-11T18:23:27.885Z"
   },
   {
    "duration": 11,
    "start_time": "2023-10-11T18:23:27.922Z"
   },
   {
    "duration": 672,
    "start_time": "2023-10-12T16:06:44.656Z"
   },
   {
    "duration": 20,
    "start_time": "2023-10-12T16:06:45.330Z"
   },
   {
    "duration": 16,
    "start_time": "2023-10-12T16:06:45.352Z"
   },
   {
    "duration": 23,
    "start_time": "2023-10-12T16:06:45.371Z"
   },
   {
    "duration": 34,
    "start_time": "2023-10-12T16:06:45.396Z"
   },
   {
    "duration": 10,
    "start_time": "2023-10-12T16:06:45.432Z"
   },
   {
    "duration": 29,
    "start_time": "2023-10-12T16:06:45.443Z"
   },
   {
    "duration": 8,
    "start_time": "2023-10-12T16:06:45.473Z"
   },
   {
    "duration": 15,
    "start_time": "2023-10-12T16:06:45.482Z"
   },
   {
    "duration": 6,
    "start_time": "2023-10-12T16:06:45.499Z"
   },
   {
    "duration": 31,
    "start_time": "2023-10-12T16:06:45.507Z"
   },
   {
    "duration": 8,
    "start_time": "2023-10-12T16:06:45.539Z"
   },
   {
    "duration": 16,
    "start_time": "2023-10-12T16:06:45.548Z"
   },
   {
    "duration": 11,
    "start_time": "2023-10-12T16:06:45.566Z"
   },
   {
    "duration": 27,
    "start_time": "2023-10-12T16:06:45.579Z"
   },
   {
    "duration": 17,
    "start_time": "2023-10-12T16:06:45.607Z"
   },
   {
    "duration": 16,
    "start_time": "2023-10-12T16:06:45.626Z"
   },
   {
    "duration": 34,
    "start_time": "2023-10-12T16:06:45.643Z"
   },
   {
    "duration": 17,
    "start_time": "2023-10-12T16:06:45.679Z"
   },
   {
    "duration": 14,
    "start_time": "2023-10-12T16:06:45.698Z"
   },
   {
    "duration": 24,
    "start_time": "2023-10-12T16:06:45.714Z"
   },
   {
    "duration": 89,
    "start_time": "2023-10-12T16:06:45.740Z"
   },
   {
    "duration": 0,
    "start_time": "2023-10-12T16:06:45.831Z"
   },
   {
    "duration": 0,
    "start_time": "2023-10-12T16:06:45.832Z"
   },
   {
    "duration": 0,
    "start_time": "2023-10-12T16:06:45.833Z"
   },
   {
    "duration": 203,
    "start_time": "2023-10-12T16:13:12.242Z"
   },
   {
    "duration": 191,
    "start_time": "2023-10-12T16:13:44.418Z"
   },
   {
    "duration": 19,
    "start_time": "2023-10-12T16:14:01.236Z"
   },
   {
    "duration": 227,
    "start_time": "2023-10-12T16:17:30.431Z"
   },
   {
    "duration": 20,
    "start_time": "2023-10-12T16:17:48.473Z"
   },
   {
    "duration": 20,
    "start_time": "2023-10-12T16:18:19.792Z"
   },
   {
    "duration": 20,
    "start_time": "2023-10-12T16:18:39.764Z"
   },
   {
    "duration": 73,
    "start_time": "2023-10-12T16:20:03.464Z"
   },
   {
    "duration": 475,
    "start_time": "2023-10-12T16:20:50.527Z"
   },
   {
    "duration": 20,
    "start_time": "2023-10-12T16:20:51.004Z"
   },
   {
    "duration": 13,
    "start_time": "2023-10-12T16:20:51.025Z"
   },
   {
    "duration": 9,
    "start_time": "2023-10-12T16:20:51.040Z"
   },
   {
    "duration": 31,
    "start_time": "2023-10-12T16:20:51.051Z"
   },
   {
    "duration": 4,
    "start_time": "2023-10-12T16:20:51.083Z"
   },
   {
    "duration": 8,
    "start_time": "2023-10-12T16:20:51.088Z"
   },
   {
    "duration": 4,
    "start_time": "2023-10-12T16:20:51.097Z"
   },
   {
    "duration": 7,
    "start_time": "2023-10-12T16:20:51.102Z"
   },
   {
    "duration": 5,
    "start_time": "2023-10-12T16:20:51.139Z"
   },
   {
    "duration": 34,
    "start_time": "2023-10-12T16:20:51.145Z"
   },
   {
    "duration": 8,
    "start_time": "2023-10-12T16:20:51.180Z"
   },
   {
    "duration": 7,
    "start_time": "2023-10-12T16:20:51.189Z"
   },
   {
    "duration": 14,
    "start_time": "2023-10-12T16:20:51.197Z"
   },
   {
    "duration": 37,
    "start_time": "2023-10-12T16:20:51.212Z"
   },
   {
    "duration": 17,
    "start_time": "2023-10-12T16:20:51.250Z"
   },
   {
    "duration": 2,
    "start_time": "2023-10-12T16:20:51.269Z"
   },
   {
    "duration": 11,
    "start_time": "2023-10-12T16:20:51.273Z"
   },
   {
    "duration": 7,
    "start_time": "2023-10-12T16:20:51.285Z"
   },
   {
    "duration": 6,
    "start_time": "2023-10-12T16:20:51.294Z"
   },
   {
    "duration": 9,
    "start_time": "2023-10-12T16:20:51.301Z"
   },
   {
    "duration": 110,
    "start_time": "2023-10-12T16:20:51.312Z"
   },
   {
    "duration": 0,
    "start_time": "2023-10-12T16:20:51.424Z"
   },
   {
    "duration": 0,
    "start_time": "2023-10-12T16:20:51.425Z"
   },
   {
    "duration": 0,
    "start_time": "2023-10-12T16:20:51.426Z"
   },
   {
    "duration": 21,
    "start_time": "2023-10-12T16:21:10.444Z"
   },
   {
    "duration": 422,
    "start_time": "2023-10-12T16:21:46.780Z"
   },
   {
    "duration": 19,
    "start_time": "2023-10-12T16:21:47.204Z"
   },
   {
    "duration": 15,
    "start_time": "2023-10-12T16:21:47.225Z"
   },
   {
    "duration": 8,
    "start_time": "2023-10-12T16:21:47.242Z"
   },
   {
    "duration": 31,
    "start_time": "2023-10-12T16:21:47.252Z"
   },
   {
    "duration": 3,
    "start_time": "2023-10-12T16:21:47.284Z"
   },
   {
    "duration": 11,
    "start_time": "2023-10-12T16:21:47.288Z"
   },
   {
    "duration": 5,
    "start_time": "2023-10-12T16:21:47.300Z"
   },
   {
    "duration": 9,
    "start_time": "2023-10-12T16:21:47.306Z"
   },
   {
    "duration": 4,
    "start_time": "2023-10-12T16:21:47.339Z"
   },
   {
    "duration": 30,
    "start_time": "2023-10-12T16:21:47.345Z"
   },
   {
    "duration": 8,
    "start_time": "2023-10-12T16:21:47.377Z"
   },
   {
    "duration": 4,
    "start_time": "2023-10-12T16:21:47.386Z"
   },
   {
    "duration": 14,
    "start_time": "2023-10-12T16:21:47.391Z"
   },
   {
    "duration": 42,
    "start_time": "2023-10-12T16:21:47.407Z"
   },
   {
    "duration": 17,
    "start_time": "2023-10-12T16:21:47.450Z"
   },
   {
    "duration": 4,
    "start_time": "2023-10-12T16:21:47.469Z"
   },
   {
    "duration": 19,
    "start_time": "2023-10-12T16:21:47.474Z"
   },
   {
    "duration": 11,
    "start_time": "2023-10-12T16:21:47.494Z"
   },
   {
    "duration": 4,
    "start_time": "2023-10-12T16:21:47.507Z"
   },
   {
    "duration": 9,
    "start_time": "2023-10-12T16:21:47.513Z"
   },
   {
    "duration": 95,
    "start_time": "2023-10-12T16:21:47.523Z"
   },
   {
    "duration": 0,
    "start_time": "2023-10-12T16:21:47.620Z"
   },
   {
    "duration": 0,
    "start_time": "2023-10-12T16:21:47.621Z"
   },
   {
    "duration": 0,
    "start_time": "2023-10-12T16:21:47.622Z"
   },
   {
    "duration": 18,
    "start_time": "2023-10-12T16:22:05.994Z"
   },
   {
    "duration": 20,
    "start_time": "2023-10-12T16:22:27.931Z"
   },
   {
    "duration": 20,
    "start_time": "2023-10-12T16:22:56.405Z"
   },
   {
    "duration": 21,
    "start_time": "2023-10-12T16:23:01.493Z"
   },
   {
    "duration": 22,
    "start_time": "2023-10-12T16:23:08.956Z"
   },
   {
    "duration": 21,
    "start_time": "2023-10-12T16:25:59.204Z"
   },
   {
    "duration": 21,
    "start_time": "2023-10-12T16:26:52.115Z"
   },
   {
    "duration": 27,
    "start_time": "2023-10-12T16:29:20.076Z"
   },
   {
    "duration": 21,
    "start_time": "2023-10-12T16:31:41.099Z"
   },
   {
    "duration": 22,
    "start_time": "2023-10-12T16:33:45.200Z"
   },
   {
    "duration": 21,
    "start_time": "2023-10-12T16:38:18.548Z"
   },
   {
    "duration": 20,
    "start_time": "2023-10-12T17:31:16.075Z"
   },
   {
    "duration": 776,
    "start_time": "2023-10-13T16:51:53.936Z"
   },
   {
    "duration": 43,
    "start_time": "2023-10-13T16:51:54.715Z"
   },
   {
    "duration": 23,
    "start_time": "2023-10-13T16:51:54.760Z"
   },
   {
    "duration": 11,
    "start_time": "2023-10-13T16:51:54.786Z"
   },
   {
    "duration": 62,
    "start_time": "2023-10-13T16:51:54.799Z"
   },
   {
    "duration": 7,
    "start_time": "2023-10-13T16:51:54.863Z"
   },
   {
    "duration": 18,
    "start_time": "2023-10-13T16:51:54.871Z"
   },
   {
    "duration": 5,
    "start_time": "2023-10-13T16:51:54.891Z"
   },
   {
    "duration": 17,
    "start_time": "2023-10-13T16:51:54.897Z"
   },
   {
    "duration": 4,
    "start_time": "2023-10-13T16:51:54.918Z"
   },
   {
    "duration": 49,
    "start_time": "2023-10-13T16:51:54.924Z"
   },
   {
    "duration": 11,
    "start_time": "2023-10-13T16:51:54.974Z"
   },
   {
    "duration": 6,
    "start_time": "2023-10-13T16:51:54.986Z"
   },
   {
    "duration": 15,
    "start_time": "2023-10-13T16:51:54.994Z"
   },
   {
    "duration": 41,
    "start_time": "2023-10-13T16:51:55.011Z"
   },
   {
    "duration": 25,
    "start_time": "2023-10-13T16:51:55.055Z"
   },
   {
    "duration": 5,
    "start_time": "2023-10-13T16:51:55.082Z"
   },
   {
    "duration": 49,
    "start_time": "2023-10-13T16:51:55.088Z"
   },
   {
    "duration": 6,
    "start_time": "2023-10-13T16:51:55.139Z"
   },
   {
    "duration": 25,
    "start_time": "2023-10-13T16:51:55.147Z"
   },
   {
    "duration": 26,
    "start_time": "2023-10-13T16:51:55.174Z"
   },
   {
    "duration": 46,
    "start_time": "2023-10-13T16:51:55.202Z"
   },
   {
    "duration": 29,
    "start_time": "2023-10-13T16:51:55.250Z"
   },
   {
    "duration": 27,
    "start_time": "2023-10-13T16:51:55.281Z"
   },
   {
    "duration": 57,
    "start_time": "2023-10-13T16:51:55.310Z"
   },
   {
    "duration": 711,
    "start_time": "2023-10-13T18:29:27.285Z"
   },
   {
    "duration": 25,
    "start_time": "2023-10-13T18:29:27.998Z"
   },
   {
    "duration": 17,
    "start_time": "2023-10-13T18:29:28.024Z"
   },
   {
    "duration": 18,
    "start_time": "2023-10-13T18:29:28.043Z"
   },
   {
    "duration": 43,
    "start_time": "2023-10-13T18:29:28.063Z"
   },
   {
    "duration": 4,
    "start_time": "2023-10-13T18:29:28.107Z"
   },
   {
    "duration": 12,
    "start_time": "2023-10-13T18:29:28.112Z"
   },
   {
    "duration": 20,
    "start_time": "2023-10-13T18:29:28.126Z"
   },
   {
    "duration": 13,
    "start_time": "2023-10-13T18:29:28.148Z"
   },
   {
    "duration": 4,
    "start_time": "2023-10-13T18:29:28.165Z"
   },
   {
    "duration": 41,
    "start_time": "2023-10-13T18:29:28.170Z"
   },
   {
    "duration": 12,
    "start_time": "2023-10-13T18:29:28.212Z"
   },
   {
    "duration": 22,
    "start_time": "2023-10-13T18:29:28.225Z"
   },
   {
    "duration": 12,
    "start_time": "2023-10-13T18:29:28.248Z"
   },
   {
    "duration": 28,
    "start_time": "2023-10-13T18:29:28.262Z"
   },
   {
    "duration": 17,
    "start_time": "2023-10-13T18:29:28.292Z"
   },
   {
    "duration": 5,
    "start_time": "2023-10-13T18:29:28.310Z"
   },
   {
    "duration": 31,
    "start_time": "2023-10-13T18:29:28.316Z"
   },
   {
    "duration": 6,
    "start_time": "2023-10-13T18:29:28.348Z"
   },
   {
    "duration": 10,
    "start_time": "2023-10-13T18:29:28.355Z"
   },
   {
    "duration": 31,
    "start_time": "2023-10-13T18:29:28.366Z"
   },
   {
    "duration": 26,
    "start_time": "2023-10-13T18:29:28.399Z"
   },
   {
    "duration": 28,
    "start_time": "2023-10-13T18:29:28.426Z"
   },
   {
    "duration": 26,
    "start_time": "2023-10-13T18:29:28.456Z"
   },
   {
    "duration": 25,
    "start_time": "2023-10-13T18:29:28.484Z"
   },
   {
    "duration": 71,
    "start_time": "2023-10-13T18:40:19.515Z"
   },
   {
    "duration": 29,
    "start_time": "2023-10-13T18:40:25.393Z"
   },
   {
    "duration": 123,
    "start_time": "2023-10-13T18:42:04.290Z"
   },
   {
    "duration": 590,
    "start_time": "2024-06-27T14:43:54.308Z"
   },
   {
    "duration": 18,
    "start_time": "2024-06-27T14:43:54.900Z"
   },
   {
    "duration": 13,
    "start_time": "2024-06-27T14:43:54.919Z"
   },
   {
    "duration": 8,
    "start_time": "2024-06-27T14:43:54.933Z"
   },
   {
    "duration": 35,
    "start_time": "2024-06-27T14:43:54.942Z"
   },
   {
    "duration": 2,
    "start_time": "2024-06-27T14:43:54.979Z"
   },
   {
    "duration": 15,
    "start_time": "2024-06-27T14:43:54.982Z"
   },
   {
    "duration": 21,
    "start_time": "2024-06-27T14:43:54.998Z"
   },
   {
    "duration": 16,
    "start_time": "2024-06-27T14:43:55.020Z"
   },
   {
    "duration": 4,
    "start_time": "2024-06-27T14:43:55.038Z"
   },
   {
    "duration": 38,
    "start_time": "2024-06-27T14:43:55.043Z"
   },
   {
    "duration": 7,
    "start_time": "2024-06-27T14:43:55.083Z"
   },
   {
    "duration": 19,
    "start_time": "2024-06-27T14:43:55.091Z"
   },
   {
    "duration": 28,
    "start_time": "2024-06-27T14:43:55.111Z"
   },
   {
    "duration": 69,
    "start_time": "2024-06-27T14:43:55.140Z"
   },
   {
    "duration": 16,
    "start_time": "2024-06-27T14:43:55.210Z"
   },
   {
    "duration": 7,
    "start_time": "2024-06-27T14:43:55.227Z"
   },
   {
    "duration": 15,
    "start_time": "2024-06-27T14:43:55.235Z"
   },
   {
    "duration": 5,
    "start_time": "2024-06-27T14:43:55.251Z"
   },
   {
    "duration": 4,
    "start_time": "2024-06-27T14:43:55.257Z"
   },
   {
    "duration": 11,
    "start_time": "2024-06-27T14:43:55.262Z"
   },
   {
    "duration": 24,
    "start_time": "2024-06-27T14:43:55.274Z"
   },
   {
    "duration": 24,
    "start_time": "2024-06-27T14:43:55.299Z"
   },
   {
    "duration": 23,
    "start_time": "2024-06-27T14:43:55.324Z"
   },
   {
    "duration": 42,
    "start_time": "2024-06-27T14:43:55.349Z"
   },
   {
    "duration": 5,
    "start_time": "2024-06-27T14:43:55.392Z"
   },
   {
    "duration": 6,
    "start_time": "2024-06-27T14:45:34.426Z"
   }
  ],
  "colab": {
   "name": "dpp_template_part2.ipynb",
   "provenance": []
  },
  "kernelspec": {
   "display_name": "Python 3 (ipykernel)",
   "language": "python",
   "name": "python3"
  },
  "language_info": {
   "codemirror_mode": {
    "name": "ipython",
    "version": 3
   },
   "file_extension": ".py",
   "mimetype": "text/x-python",
   "name": "python",
   "nbconvert_exporter": "python",
   "pygments_lexer": "ipython3",
   "version": "3.9.5"
  },
  "toc": {
   "base_numbering": 1,
   "nav_menu": {},
   "number_sections": true,
   "sideBar": true,
   "skip_h1_title": true,
   "title_cell": "Table of Contents",
   "title_sidebar": "Contents",
   "toc_cell": false,
   "toc_position": {},
   "toc_section_display": true,
   "toc_window_display": false
  }
 },
 "nbformat": 4,
 "nbformat_minor": 5
}
