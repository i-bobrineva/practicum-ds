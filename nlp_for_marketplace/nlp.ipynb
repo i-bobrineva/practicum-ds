{
 "cells": [
  {
   "cell_type": "markdown",
   "id": "1053100c9dee5cfd",
   "metadata": {},
   "source": "# Проект для маркетплейса c BERT"
  },
  {
   "cell_type": "markdown",
   "id": "5f94b54272aebccf",
   "metadata": {},
   "source": "Исследование для интернет-магазина. Магазин запустил новый сервис: теперь пользователи могут редактировать и дополнять описания товаров, как в вики-сообществах. Клиенты предлагают свои правки и комментируют изменения других. Нужно построить модель, которая будет классифицировать комментарии на позитивные и негативные. В распоряжении исследователя набор данных с разметкой о токсичности правок. Значение метрики качества F1 должно быть не меньше 0.75."
  },
  {
   "cell_type": "code",
   "id": "9b438637eaa60ba8",
   "metadata": {
    "ExecuteTime": {
     "end_time": "2024-07-02T16:16:27.020806Z",
     "start_time": "2024-07-02T16:16:23.884664Z"
    }
   },
   "source": [
    "# загружаю все нужные для проекта библиотеки\n",
    "\n",
    "import pandas as pd\n",
    "import os\n",
    "\n",
    "import nltk\n",
    "import numpy as np\n",
    "import re\n",
    "import torch\n",
    "import transformers\n",
    "import matplotlib.pyplot as plt\n",
    "\n",
    "\n",
    "from tqdm import notebook\n",
    "from sklearn.linear_model import LogisticRegression\n",
    "from sklearn.model_selection import train_test_split, RandomizedSearchCV\n",
    "from sklearn.pipeline import Pipeline\n",
    "from sklearn.tree import DecisionTreeClassifier\n",
    "from sklearn.metrics import f1_score\n",
    "from transformers import AutoTokenizer, AutoModelForMaskedLM\n",
    "\n",
    "nltk.download('punkt')\n",
    "nltk.download('wordnet')\n",
    "nltk.download('stopwords')\n",
    "\n"
   ],
   "outputs": [
    {
     "name": "stderr",
     "output_type": "stream",
     "text": [
      "[nltk_data] Downloading package punkt to\n",
      "[nltk_data]     C:\\Users\\danas\\AppData\\Roaming\\nltk_data...\n",
      "[nltk_data]   Package punkt is already up-to-date!\n",
      "[nltk_data] Downloading package wordnet to\n",
      "[nltk_data]     C:\\Users\\danas\\AppData\\Roaming\\nltk_data...\n",
      "[nltk_data]   Package wordnet is already up-to-date!\n",
      "[nltk_data] Downloading package stopwords to\n",
      "[nltk_data]     C:\\Users\\danas\\AppData\\Roaming\\nltk_data...\n",
      "[nltk_data]   Package stopwords is already up-to-date!\n"
     ]
    },
    {
     "data": {
      "text/plain": [
       "True"
      ]
     },
     "execution_count": 1,
     "metadata": {},
     "output_type": "execute_result"
    }
   ],
   "execution_count": 1
  },
  {
   "cell_type": "code",
   "id": "dc40ada7b13d4640",
   "metadata": {
    "ExecuteTime": {
     "end_time": "2024-07-02T16:16:27.025926Z",
     "start_time": "2024-07-02T16:16:27.020806Z"
    }
   },
   "source": [
    "def load_data(file_name): # загрузка данных\n",
    "    data = pd.read_csv(file_name, index_col=0)\n",
    "    print(data.head())\n",
    "    data.info()\n",
    "    return data\n",
    "\n",
    "def preprocess_text(text): # предобработка текста перед токенизацией\n",
    "    processed_text = re.sub(r'[^a-zA-Z]', ' ', text)\n",
    "    processed_text = re.sub(r'<.*?>', ' ', processed_text)\n",
    "    processed_text = processed_text.lower()\n",
    "    return processed_text\n",
    "\n",
    "def tokenize(text): # токенизация текста\n",
    "    tokenized = text.apply(lambda x: tokenizer.encode(x, max_length=MAX_LENGTH, padding='max_length', truncation=True, add_special_tokens=True))\n",
    "    padded = np.array([i + [0]*(MAX_LENGTH - len(i)) for i in tokenized.values])\n",
    "    attention_mask = np.where(padded != 0, 1, 0)\n",
    "    return tokenized, attention_mask\n",
    "\n",
    "def embedder(tokenized, attention_mask): # эмбеддинги\n",
    "    embeddings = []\n",
    "    for i in notebook.tqdm(range(tokenized.shape[0] // BATCH_SIZE)):\n",
    "        slice_top = BATCH_SIZE*(i+1)\n",
    "        if slice_top == 159200:\n",
    "            slice_top = tokenized.shape[0]\n",
    "        batch = torch.LongTensor(tokenized[BATCH_SIZE*i:slice_top].tolist()).to(mps_device)\n",
    "        attention_mask_batch = torch.LongTensor(attention_mask[BATCH_SIZE*i:slice_top]).to(mps_device)\n",
    "        batch = batch.to(mps_device)\n",
    "        attention_mask_batch = attention_mask_batch.to(mps_device)\n",
    "        with torch.no_grad():\n",
    "            batch_embeddings = model(batch, attention_mask=attention_mask_batch)\n",
    "\n",
    "        batch_embeddings = batch_embeddings[0][:,0,:].to('cpu')\n",
    "        embeddings.append(batch_embeddings.numpy())\n",
    "    return embeddings\n",
    "\n",
    "def conctateneter(embeddings, dataset): # конкатенация эмбеддингов и оригинального датасета\n",
    "    features = np.concatenate(embeddings)\n",
    "    features_df = pd.DataFrame(features, columns=['feature' + str(i) for i in range(features.shape[1])])\n",
    "    data = pd.concat([dataset, features_df], axis=1)\n",
    "    return data"
   ],
   "outputs": [],
   "execution_count": 2
  },
  {
   "cell_type": "markdown",
   "id": "124d5d1c4402ff02",
   "metadata": {},
   "source": [
    "## Загрузка и изучение данных"
   ]
  },
  {
   "cell_type": "code",
   "id": "4a356e85bd0cd42b",
   "metadata": {
    "ExecuteTime": {
     "end_time": "2024-07-02T16:16:27.722934Z",
     "start_time": "2024-07-02T16:16:27.025926Z"
    }
   },
   "source": [
    "pth1 = '/Users/ira-bobrineva/Downloads/toxic_comments.csv'\n",
    "pth2 = 'toxic_comments.csv'\n",
    "\n",
    "if os.path.exists(pth1):\n",
    "    text_data = load_data(pth1)\n",
    "elif os.path.exists(pth2):\n",
    "    text_data = load_data(pth2)\n",
    "else:\n",
    "    print('Что-то не так')"
   ],
   "outputs": [
    {
     "name": "stdout",
     "output_type": "stream",
     "text": [
      "                                                text  toxic\n",
      "0  Explanation\\nWhy the edits made under my usern...      0\n",
      "1  D'aww! He matches this background colour I'm s...      0\n",
      "2  Hey man, I'm really not trying to edit war. It...      0\n",
      "3  \"\\nMore\\nI can't make any real suggestions on ...      0\n",
      "4  You, sir, are my hero. Any chance you remember...      0\n",
      "<class 'pandas.core.frame.DataFrame'>\n",
      "Index: 159292 entries, 0 to 159450\n",
      "Data columns (total 2 columns):\n",
      " #   Column  Non-Null Count   Dtype \n",
      "---  ------  --------------   ----- \n",
      " 0   text    159292 non-null  object\n",
      " 1   toxic   159292 non-null  int64 \n",
      "dtypes: int64(1), object(1)\n",
      "memory usage: 3.6+ MB\n"
     ]
    }
   ],
   "execution_count": 3
  },
  {
   "cell_type": "code",
   "id": "855198a47d08ffc",
   "metadata": {
    "ExecuteTime": {
     "end_time": "2024-07-02T16:16:27.801724Z",
     "start_time": "2024-07-02T16:16:27.722934Z"
    }
   },
   "source": [
    "text_data['toxic'].hist(bins=50)\n",
    "plt.show()"
   ],
   "outputs": [
    {
     "data": {
      "text/plain": [
       "<Figure size 640x480 with 1 Axes>"
      ],
      "image/png": "[encoded data removed]"
     },
     "metadata": {},
     "output_type": "display_data"
    }
   ],
   "execution_count": 4
  },
  {
   "cell_type": "markdown",
   "id": "2616d281d8dc56a7",
   "metadata": {},
   "source": [
    "В таргете есть дисбаланс классов, нужно будет их сбалансировать при обучении модели."
   ]
  },
  {
   "cell_type": "markdown",
   "id": "c695aa0f751cedd0",
   "metadata": {},
   "source": [
    "## Обработка текста"
   ]
  },
  {
   "cell_type": "code",
   "id": "71054234db516ea9",
   "metadata": {
    "ExecuteTime": {
     "end_time": "2024-07-02T16:16:27.820674Z",
     "start_time": "2024-07-02T16:16:27.802728Z"
    }
   },
   "source": [
    "RANDOM_STATE = 42\n",
    "\n",
    "# разделение на выборки перед эмбеддингами\n",
    "text_data = text_data.sample(500).reset_index(drop=True)\n",
    "\n",
    "# разделение на выборки перед эмбеддингами, чтобы не было утечки таргета\n",
    "\n",
    "train, test = train_test_split(text_data, test_size=0.5, random_state=RANDOM_STATE, stratify=text_data['toxic'])\n",
    "\n",
    "train = train.reset_index(drop=True)\n",
    "test = test.reset_index(drop=True)\n",
    "\n",
    "# предобрабатываю колонку перед эмбеддингами\n",
    "\n",
    "features_train_cut = train['text'].apply(preprocess_text)\n"
   ],
   "outputs": [],
   "execution_count": 5
  },
  {
   "cell_type": "code",
   "id": "10e7dc60fdaf3020",
   "metadata": {
    "ExecuteTime": {
     "end_time": "2024-07-02T16:16:30.094563Z",
     "start_time": "2024-07-02T16:16:27.820674Z"
    }
   },
   "source": [
    "MAX_LENGTH = 512\n",
    "BATCH_SIZE = 50\n",
    "\n",
    "# тут делаю так, чтобы процессы GPU использовали, а не CPU. У меня мак на M1\n",
    "mps_device = torch.device(\"cuda\")\n",
    "\n",
    "model = transformers.AutoModel.from_pretrained('unitary/toxic-bert').to(mps_device)\n",
    "tokenizer = transformers.AutoTokenizer.from_pretrained('unitary/toxic-bert')\n",
    "\n",
    "tokenized, attention_mask= tokenize(features_train_cut)"
   ],
   "outputs": [
    {
     "name": "stderr",
     "output_type": "stream",
     "text": [
      "C:\\Users\\danas\\DataspellProjects\\untitled\\venv\\Lib\\site-packages\\huggingface_hub\\file_download.py:1132: FutureWarning: `resume_download` is deprecated and will be removed in version 1.0.0. Downloads always resume when possible. If you want to force a new download, use `force_download=True`.\n",
      "  warnings.warn(\n",
      "C:\\Users\\danas\\DataspellProjects\\untitled\\venv\\Lib\\site-packages\\huggingface_hub\\file_download.py:1132: FutureWarning: `resume_download` is deprecated and will be removed in version 1.0.0. Downloads always resume when possible. If you want to force a new download, use `force_download=True`.\n",
      "  warnings.warn(\n"
     ]
    }
   ],
   "execution_count": 6
  },
  {
   "cell_type": "code",
   "id": "e36b4c1df07c4bd5",
   "metadata": {
    "ExecuteTime": {
     "end_time": "2024-07-02T16:16:31.849576Z",
     "start_time": "2024-07-02T16:16:30.094563Z"
    }
   },
   "source": [
    "embeddings = embedder(tokenized, attention_mask)"
   ],
   "outputs": [
    {
     "data": {
      "text/plain": [
       "  0%|          | 0/5 [00:00<?, ?it/s]"
      ],
      "application/vnd.jupyter.widget-view+json": {
       "version_major": 2,
       "version_minor": 0,
       "model_id": "b813c311410f4fa0852b781e8b3922bf"
      }
     },
     "metadata": {},
     "output_type": "display_data"
    }
   ],
   "execution_count": 7
  },
  {
   "cell_type": "code",
   "id": "a71ac7508c75c102",
   "metadata": {
    "ExecuteTime": {
     "end_time": "2024-07-02T16:16:31.854261Z",
     "start_time": "2024-07-02T16:16:31.849576Z"
    }
   },
   "source": [
    "data = conctateneter(embeddings, train)\n",
    "data.shape"
   ],
   "outputs": [
    {
     "data": {
      "text/plain": [
       "(250, 770)"
      ]
     },
     "execution_count": 8,
     "metadata": {},
     "output_type": "execute_result"
    }
   ],
   "execution_count": 8
  },
  {
   "cell_type": "code",
   "id": "dd818b9518909b04",
   "metadata": {
    "ExecuteTime": {
     "end_time": "2024-07-02T16:16:34.154138Z",
     "start_time": "2024-07-02T16:16:31.854261Z"
    }
   },
   "source": [
    "RANDOM_STATE = 42\n",
    "TEST_SIZE = 0.2\n",
    "\n",
    "X = data.drop(['toxic', 'text'], axis=1)\n",
    "y = data['toxic']\n",
    "\n",
    "pipe_final = Pipeline(\n",
    "    [\n",
    "        ('models', LogisticRegression())\n",
    "    ]\n",
    ")\n",
    "\n",
    "param_distributions = [\n",
    "    # словарь для модели LogisticRegression()\n",
    "    {   \n",
    "        'models': [LogisticRegression(random_state=RANDOM_STATE, solver='liblinear', penalty='l1')],\n",
    "        'models__C': range(1, 5),\n",
    "        'models__class_weight': ['balanced']\n",
    "    },\n",
    "\n",
    "    # словарь для модели DecisionTreeClassifier()\n",
    "    {\n",
    "        'models': [DecisionTreeClassifier(random_state=RANDOM_STATE)],\n",
    "        'models__max_depth': range(2, 11)\n",
    "    }\n",
    "]\n",
    "\n",
    "# применила это, чтобы починить то, что токенизатор вызывается перед тем, как процесс разветвляется для параллельных вычислений, использую не все ядра\n",
    "n_jobs = os.cpu_count() - 1\n",
    "\n",
    "randomized_search = RandomizedSearchCV(\n",
    "    pipe_final,\n",
    "    param_distributions=param_distributions,\n",
    "    cv=5,\n",
    "    scoring='f1',\n",
    "    random_state=RANDOM_STATE,\n",
    "    n_jobs=n_jobs,\n",
    "    error_score='raise'\n",
    ")\n",
    "# применила это, чтобы починить то, что токенизатор вызывается перед тем, как процесс разветвляется для параллельных вычислений\n",
    "if __name__ == '__main__':\n",
    "    randomized_search.fit(X, y)\n",
    "\n",
    "best_model = randomized_search.best_estimator_\n",
    "\n",
    "best_model"
   ],
   "outputs": [
    {
     "data": {
      "text/plain": [
       "Pipeline(steps=[('models',\n",
       "                 LogisticRegression(C=1, class_weight='balanced', penalty='l1',\n",
       "                                    random_state=42, solver='liblinear'))])"
      ],
      "text/html": [
       "<style>#sk-container-id-1 {\n",
       "  /* Definition of color scheme common for light and dark mode */\n",
       "  --sklearn-color-text: black;\n",
       "  --sklearn-color-line: gray;\n",
       "  /* Definition of color scheme for unfitted estimators */\n",
       "  --sklearn-color-unfitted-level-0: #fff5e6;\n",
       "  --sklearn-color-unfitted-level-1: #f6e4d2;\n",
       "  --sklearn-color-unfitted-level-2: #ffe0b3;\n",
       "  --sklearn-color-unfitted-level-3: chocolate;\n",
       "  /* Definition of color scheme for fitted estimators */\n",
       "  --sklearn-color-fitted-level-0: #f0f8ff;\n",
       "  --sklearn-color-fitted-level-1: #d4ebff;\n",
       "  --sklearn-color-fitted-level-2: #b3dbfd;\n",
       "  --sklearn-color-fitted-level-3: cornflowerblue;\n",
       "\n",
       "  /* Specific color for light theme */\n",
       "  --sklearn-color-text-on-default-background: var(--sg-text-color, var(--theme-code-foreground, var(--jp-content-font-color1, black)));\n",
       "  --sklearn-color-background: var(--sg-background-color, var(--theme-background, var(--jp-layout-color0, white)));\n",
       "  --sklearn-color-border-box: var(--sg-text-color, var(--theme-code-foreground, var(--jp-content-font-color1, black)));\n",
       "  --sklearn-color-icon: #696969;\n",
       "\n",
       "  @media (prefers-color-scheme: dark) {\n",
       "    /* Redefinition of color scheme for dark theme */\n",
       "    --sklearn-color-text-on-default-background: var(--sg-text-color, var(--theme-code-foreground, var(--jp-content-font-color1, white)));\n",
       "    --sklearn-color-background: var(--sg-background-color, var(--theme-background, var(--jp-layout-color0, #111)));\n",
       "    --sklearn-color-border-box: var(--sg-text-color, var(--theme-code-foreground, var(--jp-content-font-color1, white)));\n",
       "    --sklearn-color-icon: #878787;\n",
       "  }\n",
       "}\n",
       "\n",
       "#sk-container-id-1 {\n",
       "  color: var(--sklearn-color-text);\n",
       "}\n",
       "\n",
       "#sk-container-id-1 pre {\n",
       "  padding: 0;\n",
       "}\n",
       "\n",
       "#sk-container-id-1 input.sk-hidden--visually {\n",
       "  border: 0;\n",
       "  clip: rect(1px 1px 1px 1px);\n",
       "  clip: rect(1px, 1px, 1px, 1px);\n",
       "  height: 1px;\n",
       "  margin: -1px;\n",
       "  overflow: hidden;\n",
       "  padding: 0;\n",
       "  position: absolute;\n",
       "  width: 1px;\n",
       "}\n",
       "\n",
       "#sk-container-id-1 div.sk-dashed-wrapped {\n",
       "  border: 1px dashed var(--sklearn-color-line);\n",
       "  margin: 0 0.4em 0.5em 0.4em;\n",
       "  box-sizing: border-box;\n",
       "  padding-bottom: 0.4em;\n",
       "  background-color: var(--sklearn-color-background);\n",
       "}\n",
       "\n",
       "#sk-container-id-1 div.sk-container {\n",
       "  /* jupyter's `normalize.less` sets `[hidden] { display: none; }`\n",
       "     but bootstrap.min.css set `[hidden] { display: none !important; }`\n",
       "     so we also need the `!important` here to be able to override the\n",
       "     default hidden behavior on the sphinx rendered scikit-learn.org.\n",
       "     See: https://github.com/scikit-learn/scikit-learn/issues/21755 */\n",
       "  display: inline-block !important;\n",
       "  position: relative;\n",
       "}\n",
       "\n",
       "#sk-container-id-1 div.sk-text-repr-fallback {\n",
       "  display: none;\n",
       "}\n",
       "\n",
       "div.sk-parallel-item,\n",
       "div.sk-serial,\n",
       "div.sk-item {\n",
       "  /* draw centered vertical line to link estimators */\n",
       "  background-image: linear-gradient(var(--sklearn-color-text-on-default-background), var(--sklearn-color-text-on-default-background));\n",
       "  background-size: 2px 100%;\n",
       "  background-repeat: no-repeat;\n",
       "  background-position: center center;\n",
       "}\n",
       "\n",
       "/* Parallel-specific style estimator block */\n",
       "\n",
       "#sk-container-id-1 div.sk-parallel-item::after {\n",
       "  content: \"\";\n",
       "  width: 100%;\n",
       "  border-bottom: 2px solid var(--sklearn-color-text-on-default-background);\n",
       "  flex-grow: 1;\n",
       "}\n",
       "\n",
       "#sk-container-id-1 div.sk-parallel {\n",
       "  display: flex;\n",
       "  align-items: stretch;\n",
       "  justify-content: center;\n",
       "  background-color: var(--sklearn-color-background);\n",
       "  position: relative;\n",
       "}\n",
       "\n",
       "#sk-container-id-1 div.sk-parallel-item {\n",
       "  display: flex;\n",
       "  flex-direction: column;\n",
       "}\n",
       "\n",
       "#sk-container-id-1 div.sk-parallel-item:first-child::after {\n",
       "  align-self: flex-end;\n",
       "  width: 50%;\n",
       "}\n",
       "\n",
       "#sk-container-id-1 div.sk-parallel-item:last-child::after {\n",
       "  align-self: flex-start;\n",
       "  width: 50%;\n",
       "}\n",
       "\n",
       "#sk-container-id-1 div.sk-parallel-item:only-child::after {\n",
       "  width: 0;\n",
       "}\n",
       "\n",
       "/* Serial-specific style estimator block */\n",
       "\n",
       "#sk-container-id-1 div.sk-serial {\n",
       "  display: flex;\n",
       "  flex-direction: column;\n",
       "  align-items: center;\n",
       "  background-color: var(--sklearn-color-background);\n",
       "  padding-right: 1em;\n",
       "  padding-left: 1em;\n",
       "}\n",
       "\n",
       "\n",
       "/* Toggleable style: style used for estimator/Pipeline/ColumnTransformer box that is\n",
       "clickable and can be expanded/collapsed.\n",
       "- Pipeline and ColumnTransformer use this feature and define the default style\n",
       "- Estimators will overwrite some part of the style using the `sk-estimator` class\n",
       "*/\n",
       "\n",
       "/* Pipeline and ColumnTransformer style (default) */\n",
       "\n",
       "#sk-container-id-1 div.sk-toggleable {\n",
       "  /* Default theme specific background. It is overwritten whether we have a\n",
       "  specific estimator or a Pipeline/ColumnTransformer */\n",
       "  background-color: var(--sklearn-color-background);\n",
       "}\n",
       "\n",
       "/* Toggleable label */\n",
       "#sk-container-id-1 label.sk-toggleable__label {\n",
       "  cursor: pointer;\n",
       "  display: block;\n",
       "  width: 100%;\n",
       "  margin-bottom: 0;\n",
       "  padding: 0.5em;\n",
       "  box-sizing: border-box;\n",
       "  text-align: center;\n",
       "}\n",
       "\n",
       "#sk-container-id-1 label.sk-toggleable__label-arrow:before {\n",
       "  /* Arrow on the left of the label */\n",
       "  content: \"▸\";\n",
       "  float: left;\n",
       "  margin-right: 0.25em;\n",
       "  color: var(--sklearn-color-icon);\n",
       "}\n",
       "\n",
       "#sk-container-id-1 label.sk-toggleable__label-arrow:hover:before {\n",
       "  color: var(--sklearn-color-text);\n",
       "}\n",
       "\n",
       "/* Toggleable content - dropdown */\n",
       "\n",
       "#sk-container-id-1 div.sk-toggleable__content {\n",
       "  max-height: 0;\n",
       "  max-width: 0;\n",
       "  overflow: hidden;\n",
       "  text-align: left;\n",
       "  /* unfitted */\n",
       "  background-color: var(--sklearn-color-unfitted-level-0);\n",
       "}\n",
       "\n",
       "#sk-container-id-1 div.sk-toggleable__content.fitted {\n",
       "  /* fitted */\n",
       "  background-color: var(--sklearn-color-fitted-level-0);\n",
       "}\n",
       "\n",
       "#sk-container-id-1 div.sk-toggleable__content pre {\n",
       "  margin: 0.2em;\n",
       "  border-radius: 0.25em;\n",
       "  color: var(--sklearn-color-text);\n",
       "  /* unfitted */\n",
       "  background-color: var(--sklearn-color-unfitted-level-0);\n",
       "}\n",
       "\n",
       "#sk-container-id-1 div.sk-toggleable__content.fitted pre {\n",
       "  /* unfitted */\n",
       "  background-color: var(--sklearn-color-fitted-level-0);\n",
       "}\n",
       "\n",
       "#sk-container-id-1 input.sk-toggleable__control:checked~div.sk-toggleable__content {\n",
       "  /* Expand drop-down */\n",
       "  max-height: 200px;\n",
       "  max-width: 100%;\n",
       "  overflow: auto;\n",
       "}\n",
       "\n",
       "#sk-container-id-1 input.sk-toggleable__control:checked~label.sk-toggleable__label-arrow:before {\n",
       "  content: \"▾\";\n",
       "}\n",
       "\n",
       "/* Pipeline/ColumnTransformer-specific style */\n",
       "\n",
       "#sk-container-id-1 div.sk-label input.sk-toggleable__control:checked~label.sk-toggleable__label {\n",
       "  color: var(--sklearn-color-text);\n",
       "  background-color: var(--sklearn-color-unfitted-level-2);\n",
       "}\n",
       "\n",
       "#sk-container-id-1 div.sk-label.fitted input.sk-toggleable__control:checked~label.sk-toggleable__label {\n",
       "  background-color: var(--sklearn-color-fitted-level-2);\n",
       "}\n",
       "\n",
       "/* Estimator-specific style */\n",
       "\n",
       "/* Colorize estimator box */\n",
       "#sk-container-id-1 div.sk-estimator input.sk-toggleable__control:checked~label.sk-toggleable__label {\n",
       "  /* unfitted */\n",
       "  background-color: var(--sklearn-color-unfitted-level-2);\n",
       "}\n",
       "\n",
       "#sk-container-id-1 div.sk-estimator.fitted input.sk-toggleable__control:checked~label.sk-toggleable__label {\n",
       "  /* fitted */\n",
       "  background-color: var(--sklearn-color-fitted-level-2);\n",
       "}\n",
       "\n",
       "#sk-container-id-1 div.sk-label label.sk-toggleable__label,\n",
       "#sk-container-id-1 div.sk-label label {\n",
       "  /* The background is the default theme color */\n",
       "  color: var(--sklearn-color-text-on-default-background);\n",
       "}\n",
       "\n",
       "/* On hover, darken the color of the background */\n",
       "#sk-container-id-1 div.sk-label:hover label.sk-toggleable__label {\n",
       "  color: var(--sklearn-color-text);\n",
       "  background-color: var(--sklearn-color-unfitted-level-2);\n",
       "}\n",
       "\n",
       "/* Label box, darken color on hover, fitted */\n",
       "#sk-container-id-1 div.sk-label.fitted:hover label.sk-toggleable__label.fitted {\n",
       "  color: var(--sklearn-color-text);\n",
       "  background-color: var(--sklearn-color-fitted-level-2);\n",
       "}\n",
       "\n",
       "/* Estimator label */\n",
       "\n",
       "#sk-container-id-1 div.sk-label label {\n",
       "  font-family: monospace;\n",
       "  font-weight: bold;\n",
       "  display: inline-block;\n",
       "  line-height: 1.2em;\n",
       "}\n",
       "\n",
       "#sk-container-id-1 div.sk-label-container {\n",
       "  text-align: center;\n",
       "}\n",
       "\n",
       "/* Estimator-specific */\n",
       "#sk-container-id-1 div.sk-estimator {\n",
       "  font-family: monospace;\n",
       "  border: 1px dotted var(--sklearn-color-border-box);\n",
       "  border-radius: 0.25em;\n",
       "  box-sizing: border-box;\n",
       "  margin-bottom: 0.5em;\n",
       "  /* unfitted */\n",
       "  background-color: var(--sklearn-color-unfitted-level-0);\n",
       "}\n",
       "\n",
       "#sk-container-id-1 div.sk-estimator.fitted {\n",
       "  /* fitted */\n",
       "  background-color: var(--sklearn-color-fitted-level-0);\n",
       "}\n",
       "\n",
       "/* on hover */\n",
       "#sk-container-id-1 div.sk-estimator:hover {\n",
       "  /* unfitted */\n",
       "  background-color: var(--sklearn-color-unfitted-level-2);\n",
       "}\n",
       "\n",
       "#sk-container-id-1 div.sk-estimator.fitted:hover {\n",
       "  /* fitted */\n",
       "  background-color: var(--sklearn-color-fitted-level-2);\n",
       "}\n",
       "\n",
       "/* Specification for estimator info (e.g. \"i\" and \"?\") */\n",
       "\n",
       "/* Common style for \"i\" and \"?\" */\n",
       "\n",
       ".sk-estimator-doc-link,\n",
       "a:link.sk-estimator-doc-link,\n",
       "a:visited.sk-estimator-doc-link {\n",
       "  float: right;\n",
       "  font-size: smaller;\n",
       "  line-height: 1em;\n",
       "  font-family: monospace;\n",
       "  background-color: var(--sklearn-color-background);\n",
       "  border-radius: 1em;\n",
       "  height: 1em;\n",
       "  width: 1em;\n",
       "  text-decoration: none !important;\n",
       "  margin-left: 1ex;\n",
       "  /* unfitted */\n",
       "  border: var(--sklearn-color-unfitted-level-1) 1pt solid;\n",
       "  color: var(--sklearn-color-unfitted-level-1);\n",
       "}\n",
       "\n",
       ".sk-estimator-doc-link.fitted,\n",
       "a:link.sk-estimator-doc-link.fitted,\n",
       "a:visited.sk-estimator-doc-link.fitted {\n",
       "  /* fitted */\n",
       "  border: var(--sklearn-color-fitted-level-1) 1pt solid;\n",
       "  color: var(--sklearn-color-fitted-level-1);\n",
       "}\n",
       "\n",
       "/* On hover */\n",
       "div.sk-estimator:hover .sk-estimator-doc-link:hover,\n",
       ".sk-estimator-doc-link:hover,\n",
       "div.sk-label-container:hover .sk-estimator-doc-link:hover,\n",
       ".sk-estimator-doc-link:hover {\n",
       "  /* unfitted */\n",
       "  background-color: var(--sklearn-color-unfitted-level-3);\n",
       "  color: var(--sklearn-color-background);\n",
       "  text-decoration: none;\n",
       "}\n",
       "\n",
       "div.sk-estimator.fitted:hover .sk-estimator-doc-link.fitted:hover,\n",
       ".sk-estimator-doc-link.fitted:hover,\n",
       "div.sk-label-container:hover .sk-estimator-doc-link.fitted:hover,\n",
       ".sk-estimator-doc-link.fitted:hover {\n",
       "  /* fitted */\n",
       "  background-color: var(--sklearn-color-fitted-level-3);\n",
       "  color: var(--sklearn-color-background);\n",
       "  text-decoration: none;\n",
       "}\n",
       "\n",
       "/* Span, style for the box shown on hovering the info icon */\n",
       ".sk-estimator-doc-link span {\n",
       "  display: none;\n",
       "  z-index: 9999;\n",
       "  position: relative;\n",
       "  font-weight: normal;\n",
       "  right: .2ex;\n",
       "  padding: .5ex;\n",
       "  margin: .5ex;\n",
       "  width: min-content;\n",
       "  min-width: 20ex;\n",
       "  max-width: 50ex;\n",
       "  color: var(--sklearn-color-text);\n",
       "  box-shadow: 2pt 2pt 4pt #999;\n",
       "  /* unfitted */\n",
       "  background: var(--sklearn-color-unfitted-level-0);\n",
       "  border: .5pt solid var(--sklearn-color-unfitted-level-3);\n",
       "}\n",
       "\n",
       ".sk-estimator-doc-link.fitted span {\n",
       "  /* fitted */\n",
       "  background: var(--sklearn-color-fitted-level-0);\n",
       "  border: var(--sklearn-color-fitted-level-3);\n",
       "}\n",
       "\n",
       ".sk-estimator-doc-link:hover span {\n",
       "  display: block;\n",
       "}\n",
       "\n",
       "/* \"?\"-specific style due to the `<a>` HTML tag */\n",
       "\n",
       "#sk-container-id-1 a.estimator_doc_link {\n",
       "  float: right;\n",
       "  font-size: 1rem;\n",
       "  line-height: 1em;\n",
       "  font-family: monospace;\n",
       "  background-color: var(--sklearn-color-background);\n",
       "  border-radius: 1rem;\n",
       "  height: 1rem;\n",
       "  width: 1rem;\n",
       "  text-decoration: none;\n",
       "  /* unfitted */\n",
       "  color: var(--sklearn-color-unfitted-level-1);\n",
       "  border: var(--sklearn-color-unfitted-level-1) 1pt solid;\n",
       "}\n",
       "\n",
       "#sk-container-id-1 a.estimator_doc_link.fitted {\n",
       "  /* fitted */\n",
       "  border: var(--sklearn-color-fitted-level-1) 1pt solid;\n",
       "  color: var(--sklearn-color-fitted-level-1);\n",
       "}\n",
       "\n",
       "/* On hover */\n",
       "#sk-container-id-1 a.estimator_doc_link:hover {\n",
       "  /* unfitted */\n",
       "  background-color: var(--sklearn-color-unfitted-level-3);\n",
       "  color: var(--sklearn-color-background);\n",
       "  text-decoration: none;\n",
       "}\n",
       "\n",
       "#sk-container-id-1 a.estimator_doc_link.fitted:hover {\n",
       "  /* fitted */\n",
       "  background-color: var(--sklearn-color-fitted-level-3);\n",
       "}\n",
       "</style><div id=\"sk-container-id-1\" class=\"sk-top-container\"><div class=\"sk-text-repr-fallback\"><pre>Pipeline(steps=[(&#x27;models&#x27;,\n",
       "                 LogisticRegression(C=1, class_weight=&#x27;balanced&#x27;, penalty=&#x27;l1&#x27;,\n",
       "                                    random_state=42, solver=&#x27;liblinear&#x27;))])</pre><b>In a Jupyter environment, please rerun this cell to show the HTML representation or trust the notebook. <br />On GitHub, the HTML representation is unable to render, please try loading this page with nbviewer.org.</b></div><div class=\"sk-container\" hidden><div class=\"sk-item sk-dashed-wrapped\"><div class=\"sk-label-container\"><div class=\"sk-label fitted sk-toggleable\"><input class=\"sk-toggleable__control sk-hidden--visually\" id=\"sk-estimator-id-1\" type=\"checkbox\" ><label for=\"sk-estimator-id-1\" class=\"sk-toggleable__label fitted sk-toggleable__label-arrow fitted\">&nbsp;&nbsp;Pipeline<a class=\"sk-estimator-doc-link fitted\" rel=\"noreferrer\" target=\"_blank\" href=\"https://scikit-learn.org/1.5/modules/generated/sklearn.pipeline.Pipeline.html\">?<span>Documentation for Pipeline</span></a><span class=\"sk-estimator-doc-link fitted\">i<span>Fitted</span></span></label><div class=\"sk-toggleable__content fitted\"><pre>Pipeline(steps=[(&#x27;models&#x27;,\n",
       "                 LogisticRegression(C=1, class_weight=&#x27;balanced&#x27;, penalty=&#x27;l1&#x27;,\n",
       "                                    random_state=42, solver=&#x27;liblinear&#x27;))])</pre></div> </div></div><div class=\"sk-serial\"><div class=\"sk-item\"><div class=\"sk-estimator fitted sk-toggleable\"><input class=\"sk-toggleable__control sk-hidden--visually\" id=\"sk-estimator-id-2\" type=\"checkbox\" ><label for=\"sk-estimator-id-2\" class=\"sk-toggleable__label fitted sk-toggleable__label-arrow fitted\">&nbsp;LogisticRegression<a class=\"sk-estimator-doc-link fitted\" rel=\"noreferrer\" target=\"_blank\" href=\"https://scikit-learn.org/1.5/modules/generated/sklearn.linear_model.LogisticRegression.html\">?<span>Documentation for LogisticRegression</span></a></label><div class=\"sk-toggleable__content fitted\"><pre>LogisticRegression(C=1, class_weight=&#x27;balanced&#x27;, penalty=&#x27;l1&#x27;, random_state=42,\n",
       "                   solver=&#x27;liblinear&#x27;)</pre></div> </div></div></div></div></div></div>"
      ]
     },
     "execution_count": 9,
     "metadata": {},
     "output_type": "execute_result"
    }
   ],
   "execution_count": 9
  },
  {
   "cell_type": "code",
   "id": "67d49eb80ee82dab",
   "metadata": {
    "ExecuteTime": {
     "end_time": "2024-07-02T16:16:34.162345Z",
     "start_time": "2024-07-02T16:16:34.155145Z"
    }
   },
   "source": [
    "result = pd.DataFrame(randomized_search.cv_results_)\n",
    "print(result[['rank_test_score', 'param_models', 'mean_test_score','params']].sort_values('rank_test_score'))\n",
    "\n",
    "pd.set_option('display.max_colwidth', 10000)"
   ],
   "outputs": [
    {
     "name": "stdout",
     "output_type": "stream",
     "text": [
      "   rank_test_score                                       param_models  \\\n",
      "2                1  LogisticRegression(penalty='l1', random_state=...   \n",
      "5                1  LogisticRegression(penalty='l1', random_state=...   \n",
      "6                1  LogisticRegression(penalty='l1', random_state=...   \n",
      "0                4            DecisionTreeClassifier(random_state=42)   \n",
      "1                4            DecisionTreeClassifier(random_state=42)   \n",
      "3                4            DecisionTreeClassifier(random_state=42)   \n",
      "4                4            DecisionTreeClassifier(random_state=42)   \n",
      "7                4            DecisionTreeClassifier(random_state=42)   \n",
      "8                4            DecisionTreeClassifier(random_state=42)   \n",
      "9                4            DecisionTreeClassifier(random_state=42)   \n",
      "\n",
      "   mean_test_score                                             params  \n",
      "2         0.933822  {'models__class_weight': 'balanced', 'models__...  \n",
      "5         0.933822  {'models__class_weight': 'balanced', 'models__...  \n",
      "6         0.933822  {'models__class_weight': 'balanced', 'models__...  \n",
      "0         0.892696  {'models__max_depth': 9, 'models': DecisionTre...  \n",
      "1         0.892696  {'models__max_depth': 7, 'models': DecisionTre...  \n",
      "3         0.892696  {'models__max_depth': 6, 'models': DecisionTre...  \n",
      "4         0.892696  {'models__max_depth': 3, 'models': DecisionTre...  \n",
      "7         0.892696  {'models__max_depth': 10, 'models': DecisionTr...  \n",
      "8         0.892696  {'models__max_depth': 2, 'models': DecisionTre...  \n",
      "9         0.892696  {'models__max_depth': 5, 'models': DecisionTre...  \n"
     ]
    }
   ],
   "execution_count": 10
  },
  {
   "cell_type": "markdown",
   "id": "48e49d82",
   "metadata": {},
   "source": [
    "Лучшая модель - дерево классификации. Метрика равна 0,88."
   ]
  },
  {
   "cell_type": "code",
   "id": "2ac9b8f910dadca2",
   "metadata": {
    "ExecuteTime": {
     "end_time": "2024-07-02T16:16:35.440742Z",
     "start_time": "2024-07-02T16:16:34.163350Z"
    }
   },
   "source": [
    "features_test_cut = test['text'].apply(preprocess_text)\n",
    "test_tokenized, test_attention_mask = tokenize(features_test_cut)\n",
    "\n",
    "test_embeddings = embedder(test_tokenized, test_attention_mask)"
   ],
   "outputs": [
    {
     "data": {
      "text/plain": [
       "  0%|          | 0/5 [00:00<?, ?it/s]"
      ],
      "application/vnd.jupyter.widget-view+json": {
       "version_major": 2,
       "version_minor": 0,
       "model_id": "f1d1cc2384d34c5ca4ef23eb570a4011"
      }
     },
     "metadata": {},
     "output_type": "display_data"
    }
   ],
   "execution_count": 11
  },
  {
   "cell_type": "code",
   "id": "04bb2072",
   "metadata": {
    "ExecuteTime": {
     "end_time": "2024-07-02T16:16:35.445675Z",
     "start_time": "2024-07-02T16:16:35.440742Z"
    }
   },
   "source": [
    "test_data = conctateneter(test_embeddings, test)\n",
    "test_data.shape"
   ],
   "outputs": [
    {
     "data": {
      "text/plain": [
       "(250, 770)"
      ]
     },
     "execution_count": 12,
     "metadata": {},
     "output_type": "execute_result"
    }
   ],
   "execution_count": 12
  },
  {
   "cell_type": "code",
   "id": "aba90257",
   "metadata": {
    "ExecuteTime": {
     "end_time": "2024-07-02T16:16:35.457256Z",
     "start_time": "2024-07-02T16:16:35.445675Z"
    }
   },
   "source": [
    "test_data.head(1)"
   ],
   "outputs": [
    {
     "data": {
      "text/plain": [
       "                                                                                                                                                                                                                    text  \\\n",
       "0  \"The definition of genre warrior is YOU. I am not \"\"warring\"\" shit. I am adding sources for genres already existing. You are pushing your own opinion as fact. And I will destroy you if you continue to thwart me. \"   \n",
       "\n",
       "   toxic  feature0  feature1  feature2  feature3  feature4  feature5  \\\n",
       "0      1 -0.295073 -0.411693  0.228017   0.54132 -0.284856  0.110273   \n",
       "\n",
       "   feature6  feature7  ...  feature758  feature759  feature760  feature761  \\\n",
       "0  1.491773  0.717856  ...   -0.714788   -0.127359    0.650842   -0.235823   \n",
       "\n",
       "   feature762  feature763  feature764  feature765  feature766  feature767  \n",
       "0   -1.131735    0.124256    0.209515   -1.308503    0.449399    0.111566  \n",
       "\n",
       "[1 rows x 770 columns]"
      ],
      "text/html": [
       "<div>\n",
       "<style scoped>\n",
       "    .dataframe tbody tr th:only-of-type {\n",
       "        vertical-align: middle;\n",
       "    }\n",
       "\n",
       "    .dataframe tbody tr th {\n",
       "        vertical-align: top;\n",
       "    }\n",
       "\n",
       "    .dataframe thead th {\n",
       "        text-align: right;\n",
       "    }\n",
       "</style>\n",
       "<table border=\"1\" class=\"dataframe\">\n",
       "  <thead>\n",
       "    <tr style=\"text-align: right;\">\n",
       "      <th></th>\n",
       "      <th>text</th>\n",
       "      <th>toxic</th>\n",
       "      <th>feature0</th>\n",
       "      <th>feature1</th>\n",
       "      <th>feature2</th>\n",
       "      <th>feature3</th>\n",
       "      <th>feature4</th>\n",
       "      <th>feature5</th>\n",
       "      <th>feature6</th>\n",
       "      <th>feature7</th>\n",
       "      <th>...</th>\n",
       "      <th>feature758</th>\n",
       "      <th>feature759</th>\n",
       "      <th>feature760</th>\n",
       "      <th>feature761</th>\n",
       "      <th>feature762</th>\n",
       "      <th>feature763</th>\n",
       "      <th>feature764</th>\n",
       "      <th>feature765</th>\n",
       "      <th>feature766</th>\n",
       "      <th>feature767</th>\n",
       "    </tr>\n",
       "  </thead>\n",
       "  <tbody>\n",
       "    <tr>\n",
       "      <th>0</th>\n",
       "      <td>\"The definition of genre warrior is YOU. I am not \"\"warring\"\" shit. I am adding sources for genres already existing. You are pushing your own opinion as fact. And I will destroy you if you continue to thwart me. \"</td>\n",
       "      <td>1</td>\n",
       "      <td>-0.295073</td>\n",
       "      <td>-0.411693</td>\n",
       "      <td>0.228017</td>\n",
       "      <td>0.54132</td>\n",
       "      <td>-0.284856</td>\n",
       "      <td>0.110273</td>\n",
       "      <td>1.491773</td>\n",
       "      <td>0.717856</td>\n",
       "      <td>...</td>\n",
       "      <td>-0.714788</td>\n",
       "      <td>-0.127359</td>\n",
       "      <td>0.650842</td>\n",
       "      <td>-0.235823</td>\n",
       "      <td>-1.131735</td>\n",
       "      <td>0.124256</td>\n",
       "      <td>0.209515</td>\n",
       "      <td>-1.308503</td>\n",
       "      <td>0.449399</td>\n",
       "      <td>0.111566</td>\n",
       "    </tr>\n",
       "  </tbody>\n",
       "</table>\n",
       "<p>1 rows × 770 columns</p>\n",
       "</div>"
      ]
     },
     "execution_count": 13,
     "metadata": {},
     "output_type": "execute_result"
    }
   ],
   "execution_count": 13
  },
  {
   "cell_type": "code",
   "id": "4d3ddf2d",
   "metadata": {
    "ExecuteTime": {
     "end_time": "2024-07-02T16:16:35.466104Z",
     "start_time": "2024-07-02T16:16:35.458263Z"
    }
   },
   "source": [
    "X_test = test_data.drop(['text','toxic'], axis=1)\n",
    "predictions = best_model.predict(X_test)\n",
    "f1 = f1_score(test_data['toxic'], predictions)\n",
    "print('F1:', f1)"
   ],
   "outputs": [
    {
     "name": "stdout",
     "output_type": "stream",
     "text": [
      "F1: 0.9122807017543859\n"
     ]
    }
   ],
   "execution_count": 14
  },
  {
   "cell_type": "markdown",
   "id": "30094075",
   "metadata": {},
   "source": [
    "Значение метрики на тестовых данных - 0,81."
   ]
  },
  {
   "cell_type": "markdown",
   "id": "df3e279c",
   "metadata": {},
   "source": [
    "# Выводы\n",
    "\n",
    "С предсказанием токсичности текста хорошо справляются и базовые модели - дерево решений и логистическая регрессия. Catboost давал прям очень высокие показатели метрики - около 0,96. Но чтобы не нагружать комп, взяла для предсказаний дерево решений. У него сохраняется высокие результаты метрики и на валидационных, и на тестовых данных."
   ]
  },
  {
   "cell_type": "code",
   "id": "90394f42",
   "metadata": {
    "ExecuteTime": {
     "end_time": "2024-07-02T16:16:35.468402Z",
     "start_time": "2024-07-02T16:16:35.466104Z"
    }
   },
   "source": [],
   "outputs": [],
   "execution_count": 14
  }
 ],
 "metadata": {
  "kernelspec": {
   "display_name": "Python 3 (ipykernel)",
   "language": "python",
   "name": "python3"
  },
  "language_info": {
   "codemirror_mode": {
    "name": "ipython",
    "version": 3
   },
   "file_extension": ".py",
   "mimetype": "text/x-python",
   "name": "python",
   "nbconvert_exporter": "python",
   "pygments_lexer": "ipython3",
   "version": "3.9.5"
  },
  "toc": {
   "base_numbering": 1,
   "nav_menu": {},
   "number_sections": true,
   "sideBar": true,
   "skip_h1_title": true,
   "title_cell": "Table of Contents",
   "title_sidebar": "Contents",
   "toc_cell": false,
   "toc_position": {},
   "toc_section_display": true,
   "toc_window_display": false
  }
 },
 "nbformat": 4,
 "nbformat_minor": 5
}
