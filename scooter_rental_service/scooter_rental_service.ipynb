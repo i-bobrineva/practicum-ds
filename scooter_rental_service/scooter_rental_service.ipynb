{
 "cells": [
  {
   "cell_type": "markdown",
   "id": "535a071f",
   "metadata": {},
   "source": "# Data research of the scooter rental service"
  },
  {
   "cell_type": "code",
   "id": "c2ad94b7",
   "metadata": {
    "ExecuteTime": {
     "end_time": "2024-06-29T18:00:24.827172Z",
     "start_time": "2024-06-29T18:00:23.130062Z"
    }
   },
   "source": [
    "# loading all necessary libraries for the project\n",
    "\n",
    "import pandas as pd\n",
    "import matplotlib.pyplot as plt\n",
    "import numpy as np\n",
    "from scipy import stats as st\n",
    "from math import factorial"
   ],
   "outputs": [],
   "execution_count": 1
  },
  {
   "cell_type": "markdown",
   "id": "13e87c98",
   "metadata": {},
   "source": "## Loading and exploring the data"
  },
  {
   "cell_type": "markdown",
   "id": "82c9f6df",
   "metadata": {},
   "source": "### User Data"
  },
  {
   "cell_type": "code",
   "id": "703d1ff3",
   "metadata": {
    "ExecuteTime": {
     "end_time": "2024-06-29T18:00:24.839445Z",
     "start_time": "2024-06-29T18:00:24.828269Z"
    }
   },
   "source": [
    "try:\n",
    "    data_users = pd.read_csv('/Users/ira-bobrineva/Downloads/users_go.csv')\n",
    "except:\n",
    "    data_users = pd.read_csv('/datasets/users_go.csv')\n",
    "data_users.head(10)"
   ],
   "outputs": [
    {
     "data": {
      "text/plain": [
       "   user_id        name  age            city subscription_type\n",
       "0        1        Кира   22          Тюмень             ultra\n",
       "1        2   Станислав   31            Омск             ultra\n",
       "2        3     Алексей   20          Москва             ultra\n",
       "3        4  Константин   26  Ростов-на-Дону             ultra\n",
       "4        5       Адель   28            Омск             ultra\n",
       "5        6      Регина   25       Краснодар             ultra\n",
       "6        7       Игорь   23            Омск             ultra\n",
       "7        8        Юрий   23       Краснодар             ultra\n",
       "8        9          Ян   21       Пятигорск             ultra\n",
       "9       10     Валерий   18    Екатеринбург             ultra"
      ],
      "text/html": [
       "<div>\n",
       "<style scoped>\n",
       "    .dataframe tbody tr th:only-of-type {\n",
       "        vertical-align: middle;\n",
       "    }\n",
       "\n",
       "    .dataframe tbody tr th {\n",
       "        vertical-align: top;\n",
       "    }\n",
       "\n",
       "    .dataframe thead th {\n",
       "        text-align: right;\n",
       "    }\n",
       "</style>\n",
       "<table border=\"1\" class=\"dataframe\">\n",
       "  <thead>\n",
       "    <tr style=\"text-align: right;\">\n",
       "      <th></th>\n",
       "      <th>user_id</th>\n",
       "      <th>name</th>\n",
       "      <th>age</th>\n",
       "      <th>city</th>\n",
       "      <th>subscription_type</th>\n",
       "    </tr>\n",
       "  </thead>\n",
       "  <tbody>\n",
       "    <tr>\n",
       "      <th>0</th>\n",
       "      <td>1</td>\n",
       "      <td>Кира</td>\n",
       "      <td>22</td>\n",
       "      <td>Тюмень</td>\n",
       "      <td>ultra</td>\n",
       "    </tr>\n",
       "    <tr>\n",
       "      <th>1</th>\n",
       "      <td>2</td>\n",
       "      <td>Станислав</td>\n",
       "      <td>31</td>\n",
       "      <td>Омск</td>\n",
       "      <td>ultra</td>\n",
       "    </tr>\n",
       "    <tr>\n",
       "      <th>2</th>\n",
       "      <td>3</td>\n",
       "      <td>Алексей</td>\n",
       "      <td>20</td>\n",
       "      <td>Москва</td>\n",
       "      <td>ultra</td>\n",
       "    </tr>\n",
       "    <tr>\n",
       "      <th>3</th>\n",
       "      <td>4</td>\n",
       "      <td>Константин</td>\n",
       "      <td>26</td>\n",
       "      <td>Ростов-на-Дону</td>\n",
       "      <td>ultra</td>\n",
       "    </tr>\n",
       "    <tr>\n",
       "      <th>4</th>\n",
       "      <td>5</td>\n",
       "      <td>Адель</td>\n",
       "      <td>28</td>\n",
       "      <td>Омск</td>\n",
       "      <td>ultra</td>\n",
       "    </tr>\n",
       "    <tr>\n",
       "      <th>5</th>\n",
       "      <td>6</td>\n",
       "      <td>Регина</td>\n",
       "      <td>25</td>\n",
       "      <td>Краснодар</td>\n",
       "      <td>ultra</td>\n",
       "    </tr>\n",
       "    <tr>\n",
       "      <th>6</th>\n",
       "      <td>7</td>\n",
       "      <td>Игорь</td>\n",
       "      <td>23</td>\n",
       "      <td>Омск</td>\n",
       "      <td>ultra</td>\n",
       "    </tr>\n",
       "    <tr>\n",
       "      <th>7</th>\n",
       "      <td>8</td>\n",
       "      <td>Юрий</td>\n",
       "      <td>23</td>\n",
       "      <td>Краснодар</td>\n",
       "      <td>ultra</td>\n",
       "    </tr>\n",
       "    <tr>\n",
       "      <th>8</th>\n",
       "      <td>9</td>\n",
       "      <td>Ян</td>\n",
       "      <td>21</td>\n",
       "      <td>Пятигорск</td>\n",
       "      <td>ultra</td>\n",
       "    </tr>\n",
       "    <tr>\n",
       "      <th>9</th>\n",
       "      <td>10</td>\n",
       "      <td>Валерий</td>\n",
       "      <td>18</td>\n",
       "      <td>Екатеринбург</td>\n",
       "      <td>ultra</td>\n",
       "    </tr>\n",
       "  </tbody>\n",
       "</table>\n",
       "</div>"
      ]
     },
     "execution_count": 2,
     "metadata": {},
     "output_type": "execute_result"
    }
   ],
   "execution_count": 2
  },
  {
   "cell_type": "code",
   "id": "63b66899",
   "metadata": {
    "ExecuteTime": {
     "end_time": "2024-06-29T18:00:24.846200Z",
     "start_time": "2024-06-29T18:00:24.840261Z"
    }
   },
   "source": [
    "data_users.info()"
   ],
   "outputs": [
    {
     "name": "stdout",
     "output_type": "stream",
     "text": [
      "<class 'pandas.core.frame.DataFrame'>\n",
      "RangeIndex: 1565 entries, 0 to 1564\n",
      "Data columns (total 5 columns):\n",
      " #   Column             Non-Null Count  Dtype \n",
      "---  ------             --------------  ----- \n",
      " 0   user_id            1565 non-null   int64 \n",
      " 1   name               1565 non-null   object\n",
      " 2   age                1565 non-null   int64 \n",
      " 3   city               1565 non-null   object\n",
      " 4   subscription_type  1565 non-null   object\n",
      "dtypes: int64(2), object(3)\n",
      "memory usage: 61.3+ KB\n"
     ]
    }
   ],
   "execution_count": 3
  },
  {
   "cell_type": "markdown",
   "id": "ad4a0868",
   "metadata": {},
   "source": "So far, the data is fine, there are no missing values, and the data types are correct. For optimization, one can convert the values from int64 to int32 to reduce memory usage. The data allows this adjustment."
  },
  {
   "cell_type": "markdown",
   "id": "3ab82ce4",
   "metadata": {},
   "source": "### Rides data"
  },
  {
   "cell_type": "code",
   "id": "2cf006a2",
   "metadata": {
    "ExecuteTime": {
     "end_time": "2024-06-29T18:00:24.859868Z",
     "start_time": "2024-06-29T18:00:24.847575Z"
    }
   },
   "source": [
    "try:\n",
    "    data_rides = pd.read_csv('/Users/ira-bobrineva/Downloads/rides_go.csv')\n",
    "except:\n",
    "    data_rides = pd.read_csv('/datasets/rides_go.csv')\n",
    "data_rides.head(10)"
   ],
   "outputs": [
    {
     "data": {
      "text/plain": [
       "   user_id     distance   duration        date\n",
       "0        1  4409.919140  25.599769  2021-01-01\n",
       "1        1  2617.592153  15.816871  2021-01-18\n",
       "2        1   754.159807   6.232113  2021-04-20\n",
       "3        1  2694.783254  18.511000  2021-08-11\n",
       "4        1  4028.687306  26.265803  2021-08-28\n",
       "5        1  2770.890808  16.650138  2021-10-09\n",
       "6        1  3039.020292  14.927879  2021-10-19\n",
       "7        1  2842.118050  23.117468  2021-11-06\n",
       "8        1  3412.690668  15.238072  2021-11-14\n",
       "9        1   748.690645  15.041884  2021-11-22"
      ],
      "text/html": [
       "<div>\n",
       "<style scoped>\n",
       "    .dataframe tbody tr th:only-of-type {\n",
       "        vertical-align: middle;\n",
       "    }\n",
       "\n",
       "    .dataframe tbody tr th {\n",
       "        vertical-align: top;\n",
       "    }\n",
       "\n",
       "    .dataframe thead th {\n",
       "        text-align: right;\n",
       "    }\n",
       "</style>\n",
       "<table border=\"1\" class=\"dataframe\">\n",
       "  <thead>\n",
       "    <tr style=\"text-align: right;\">\n",
       "      <th></th>\n",
       "      <th>user_id</th>\n",
       "      <th>distance</th>\n",
       "      <th>duration</th>\n",
       "      <th>date</th>\n",
       "    </tr>\n",
       "  </thead>\n",
       "  <tbody>\n",
       "    <tr>\n",
       "      <th>0</th>\n",
       "      <td>1</td>\n",
       "      <td>4409.919140</td>\n",
       "      <td>25.599769</td>\n",
       "      <td>2021-01-01</td>\n",
       "    </tr>\n",
       "    <tr>\n",
       "      <th>1</th>\n",
       "      <td>1</td>\n",
       "      <td>2617.592153</td>\n",
       "      <td>15.816871</td>\n",
       "      <td>2021-01-18</td>\n",
       "    </tr>\n",
       "    <tr>\n",
       "      <th>2</th>\n",
       "      <td>1</td>\n",
       "      <td>754.159807</td>\n",
       "      <td>6.232113</td>\n",
       "      <td>2021-04-20</td>\n",
       "    </tr>\n",
       "    <tr>\n",
       "      <th>3</th>\n",
       "      <td>1</td>\n",
       "      <td>2694.783254</td>\n",
       "      <td>18.511000</td>\n",
       "      <td>2021-08-11</td>\n",
       "    </tr>\n",
       "    <tr>\n",
       "      <th>4</th>\n",
       "      <td>1</td>\n",
       "      <td>4028.687306</td>\n",
       "      <td>26.265803</td>\n",
       "      <td>2021-08-28</td>\n",
       "    </tr>\n",
       "    <tr>\n",
       "      <th>5</th>\n",
       "      <td>1</td>\n",
       "      <td>2770.890808</td>\n",
       "      <td>16.650138</td>\n",
       "      <td>2021-10-09</td>\n",
       "    </tr>\n",
       "    <tr>\n",
       "      <th>6</th>\n",
       "      <td>1</td>\n",
       "      <td>3039.020292</td>\n",
       "      <td>14.927879</td>\n",
       "      <td>2021-10-19</td>\n",
       "    </tr>\n",
       "    <tr>\n",
       "      <th>7</th>\n",
       "      <td>1</td>\n",
       "      <td>2842.118050</td>\n",
       "      <td>23.117468</td>\n",
       "      <td>2021-11-06</td>\n",
       "    </tr>\n",
       "    <tr>\n",
       "      <th>8</th>\n",
       "      <td>1</td>\n",
       "      <td>3412.690668</td>\n",
       "      <td>15.238072</td>\n",
       "      <td>2021-11-14</td>\n",
       "    </tr>\n",
       "    <tr>\n",
       "      <th>9</th>\n",
       "      <td>1</td>\n",
       "      <td>748.690645</td>\n",
       "      <td>15.041884</td>\n",
       "      <td>2021-11-22</td>\n",
       "    </tr>\n",
       "  </tbody>\n",
       "</table>\n",
       "</div>"
      ]
     },
     "execution_count": 4,
     "metadata": {},
     "output_type": "execute_result"
    }
   ],
   "execution_count": 4
  },
  {
   "cell_type": "code",
   "id": "e7fd9002",
   "metadata": {
    "ExecuteTime": {
     "end_time": "2024-06-29T18:00:24.865564Z",
     "start_time": "2024-06-29T18:00:24.860661Z"
    }
   },
   "source": [
    "data_rides.info()"
   ],
   "outputs": [
    {
     "name": "stdout",
     "output_type": "stream",
     "text": [
      "<class 'pandas.core.frame.DataFrame'>\n",
      "RangeIndex: 18068 entries, 0 to 18067\n",
      "Data columns (total 4 columns):\n",
      " #   Column    Non-Null Count  Dtype  \n",
      "---  ------    --------------  -----  \n",
      " 0   user_id   18068 non-null  int64  \n",
      " 1   distance  18068 non-null  float64\n",
      " 2   duration  18068 non-null  float64\n",
      " 3   date      18068 non-null  object \n",
      "dtypes: float64(2), int64(1), object(1)\n",
      "memory usage: 564.8+ KB\n"
     ]
    }
   ],
   "execution_count": 5
  },
  {
   "cell_type": "markdown",
   "id": "9d029b51",
   "metadata": {},
   "source": "There are no missing values, but I will correct the data type for the date and convert the values from int64 to int32 for optimization and to reduce memory usage."
  },
  {
   "cell_type": "markdown",
   "id": "2f68294b",
   "metadata": {},
   "source": "### Subscription data"
  },
  {
   "cell_type": "code",
   "id": "fb209ee2",
   "metadata": {
    "ExecuteTime": {
     "end_time": "2024-06-29T18:00:24.871414Z",
     "start_time": "2024-06-29T18:00:24.866499Z"
    }
   },
   "source": [
    "try:\n",
    "    data_subscriptions = pd.read_csv('/Users/ira-bobrineva/Downloads/subscriptions_go.csv') \n",
    "except:\n",
    "    data_subscriptions = pd.read_csv('/datasets/subscriptions_go.csv')\n",
    "data_subscriptions.head(10)"
   ],
   "outputs": [
    {
     "data": {
      "text/plain": [
       "  subscription_type  minute_price  start_ride_price  subscription_fee\n",
       "0              free             8                50                 0\n",
       "1             ultra             6                 0               199"
      ],
      "text/html": [
       "<div>\n",
       "<style scoped>\n",
       "    .dataframe tbody tr th:only-of-type {\n",
       "        vertical-align: middle;\n",
       "    }\n",
       "\n",
       "    .dataframe tbody tr th {\n",
       "        vertical-align: top;\n",
       "    }\n",
       "\n",
       "    .dataframe thead th {\n",
       "        text-align: right;\n",
       "    }\n",
       "</style>\n",
       "<table border=\"1\" class=\"dataframe\">\n",
       "  <thead>\n",
       "    <tr style=\"text-align: right;\">\n",
       "      <th></th>\n",
       "      <th>subscription_type</th>\n",
       "      <th>minute_price</th>\n",
       "      <th>start_ride_price</th>\n",
       "      <th>subscription_fee</th>\n",
       "    </tr>\n",
       "  </thead>\n",
       "  <tbody>\n",
       "    <tr>\n",
       "      <th>0</th>\n",
       "      <td>free</td>\n",
       "      <td>8</td>\n",
       "      <td>50</td>\n",
       "      <td>0</td>\n",
       "    </tr>\n",
       "    <tr>\n",
       "      <th>1</th>\n",
       "      <td>ultra</td>\n",
       "      <td>6</td>\n",
       "      <td>0</td>\n",
       "      <td>199</td>\n",
       "    </tr>\n",
       "  </tbody>\n",
       "</table>\n",
       "</div>"
      ]
     },
     "execution_count": 6,
     "metadata": {},
     "output_type": "execute_result"
    }
   ],
   "execution_count": 6
  },
  {
   "cell_type": "code",
   "id": "fd4dac97",
   "metadata": {
    "ExecuteTime": {
     "end_time": "2024-06-29T18:00:24.876054Z",
     "start_time": "2024-06-29T18:00:24.872110Z"
    }
   },
   "source": [
    "data_subscriptions.info()"
   ],
   "outputs": [
    {
     "name": "stdout",
     "output_type": "stream",
     "text": [
      "<class 'pandas.core.frame.DataFrame'>\n",
      "RangeIndex: 2 entries, 0 to 1\n",
      "Data columns (total 4 columns):\n",
      " #   Column             Non-Null Count  Dtype \n",
      "---  ------             --------------  ----- \n",
      " 0   subscription_type  2 non-null      object\n",
      " 1   minute_price       2 non-null      int64 \n",
      " 2   start_ride_price   2 non-null      int64 \n",
      " 3   subscription_fee   2 non-null      int64 \n",
      "dtypes: int64(3), object(1)\n",
      "memory usage: 192.0+ bytes\n"
     ]
    }
   ],
   "execution_count": 7
  },
  {
   "cell_type": "markdown",
   "id": "b5c9376e",
   "metadata": {},
   "source": "So far, the data is fine, there are no missing values, and the data types are correct. For optimization, will convert the values from int64 to int32 to reduce memory usage."
  },
  {
   "cell_type": "markdown",
   "id": "9f5bf4d5",
   "metadata": {},
   "source": "## Data preprocessing"
  },
  {
   "cell_type": "markdown",
   "id": "2403517e",
   "metadata": {},
   "source": "### Changing data types"
  },
  {
   "cell_type": "code",
   "id": "e3b82f3b",
   "metadata": {
    "scrolled": true,
    "ExecuteTime": {
     "end_time": "2024-06-29T18:00:24.888991Z",
     "start_time": "2024-06-29T18:00:24.876787Z"
    }
   },
   "source": [
    "data_users_dict = {'user_id': 'int16', 'age': 'int16'}\n",
    "data_users = data_users.astype(data_users_dict)\n",
    "\n",
    "data_subscriptions_dict = {'minute_price': 'int16', 'start_ride_price': 'int16', 'subscription_fee': 'int16'}\n",
    "data_subscriptions = data_subscriptions.astype(data_subscriptions_dict)\n",
    "\n",
    "data_rides['user_id'] = data_rides['user_id'].astype('int16')\n",
    "\n",
    "data_rides['date'] = pd.to_datetime(data_rides['date'], format='%Y-%m-%d')\n",
    "\n",
    "data_rides.info()\n",
    "data_users.info()\n",
    "data_subscriptions.info()"
   ],
   "outputs": [
    {
     "name": "stdout",
     "output_type": "stream",
     "text": [
      "<class 'pandas.core.frame.DataFrame'>\n",
      "RangeIndex: 18068 entries, 0 to 18067\n",
      "Data columns (total 4 columns):\n",
      " #   Column    Non-Null Count  Dtype         \n",
      "---  ------    --------------  -----         \n",
      " 0   user_id   18068 non-null  int16         \n",
      " 1   distance  18068 non-null  float64       \n",
      " 2   duration  18068 non-null  float64       \n",
      " 3   date      18068 non-null  datetime64[ns]\n",
      "dtypes: datetime64[ns](1), float64(2), int16(1)\n",
      "memory usage: 458.9 KB\n",
      "<class 'pandas.core.frame.DataFrame'>\n",
      "RangeIndex: 1565 entries, 0 to 1564\n",
      "Data columns (total 5 columns):\n",
      " #   Column             Non-Null Count  Dtype \n",
      "---  ------             --------------  ----- \n",
      " 0   user_id            1565 non-null   int16 \n",
      " 1   name               1565 non-null   object\n",
      " 2   age                1565 non-null   int16 \n",
      " 3   city               1565 non-null   object\n",
      " 4   subscription_type  1565 non-null   object\n",
      "dtypes: int16(2), object(3)\n",
      "memory usage: 42.9+ KB\n",
      "<class 'pandas.core.frame.DataFrame'>\n",
      "RangeIndex: 2 entries, 0 to 1\n",
      "Data columns (total 4 columns):\n",
      " #   Column             Non-Null Count  Dtype \n",
      "---  ------             --------------  ----- \n",
      " 0   subscription_type  2 non-null      object\n",
      " 1   minute_price       2 non-null      int16 \n",
      " 2   start_ride_price   2 non-null      int16 \n",
      " 3   subscription_fee   2 non-null      int16 \n",
      "dtypes: int16(3), object(1)\n",
      "memory usage: 156.0+ bytes\n"
     ]
    }
   ],
   "execution_count": 8
  },
  {
   "cell_type": "markdown",
   "id": "671d2e95",
   "metadata": {},
   "source": "### Adding a column with the month number"
  },
  {
   "cell_type": "code",
   "id": "089c6dbe",
   "metadata": {
    "ExecuteTime": {
     "end_time": "2024-06-29T18:00:24.895150Z",
     "start_time": "2024-06-29T18:00:24.889939Z"
    }
   },
   "source": [
    "data_rides['month_number'] = data_rides['date'].dt.month\n",
    "data_rides.head()"
   ],
   "outputs": [
    {
     "data": {
      "text/plain": [
       "   user_id     distance   duration       date  month_number\n",
       "0        1  4409.919140  25.599769 2021-01-01             1\n",
       "1        1  2617.592153  15.816871 2021-01-18             1\n",
       "2        1   754.159807   6.232113 2021-04-20             4\n",
       "3        1  2694.783254  18.511000 2021-08-11             8\n",
       "4        1  4028.687306  26.265803 2021-08-28             8"
      ],
      "text/html": [
       "<div>\n",
       "<style scoped>\n",
       "    .dataframe tbody tr th:only-of-type {\n",
       "        vertical-align: middle;\n",
       "    }\n",
       "\n",
       "    .dataframe tbody tr th {\n",
       "        vertical-align: top;\n",
       "    }\n",
       "\n",
       "    .dataframe thead th {\n",
       "        text-align: right;\n",
       "    }\n",
       "</style>\n",
       "<table border=\"1\" class=\"dataframe\">\n",
       "  <thead>\n",
       "    <tr style=\"text-align: right;\">\n",
       "      <th></th>\n",
       "      <th>user_id</th>\n",
       "      <th>distance</th>\n",
       "      <th>duration</th>\n",
       "      <th>date</th>\n",
       "      <th>month_number</th>\n",
       "    </tr>\n",
       "  </thead>\n",
       "  <tbody>\n",
       "    <tr>\n",
       "      <th>0</th>\n",
       "      <td>1</td>\n",
       "      <td>4409.919140</td>\n",
       "      <td>25.599769</td>\n",
       "      <td>2021-01-01</td>\n",
       "      <td>1</td>\n",
       "    </tr>\n",
       "    <tr>\n",
       "      <th>1</th>\n",
       "      <td>1</td>\n",
       "      <td>2617.592153</td>\n",
       "      <td>15.816871</td>\n",
       "      <td>2021-01-18</td>\n",
       "      <td>1</td>\n",
       "    </tr>\n",
       "    <tr>\n",
       "      <th>2</th>\n",
       "      <td>1</td>\n",
       "      <td>754.159807</td>\n",
       "      <td>6.232113</td>\n",
       "      <td>2021-04-20</td>\n",
       "      <td>4</td>\n",
       "    </tr>\n",
       "    <tr>\n",
       "      <th>3</th>\n",
       "      <td>1</td>\n",
       "      <td>2694.783254</td>\n",
       "      <td>18.511000</td>\n",
       "      <td>2021-08-11</td>\n",
       "      <td>8</td>\n",
       "    </tr>\n",
       "    <tr>\n",
       "      <th>4</th>\n",
       "      <td>1</td>\n",
       "      <td>4028.687306</td>\n",
       "      <td>26.265803</td>\n",
       "      <td>2021-08-28</td>\n",
       "      <td>8</td>\n",
       "    </tr>\n",
       "  </tbody>\n",
       "</table>\n",
       "</div>"
      ]
     },
     "execution_count": 9,
     "metadata": {},
     "output_type": "execute_result"
    }
   ],
   "execution_count": 9
  },
  {
   "cell_type": "markdown",
   "id": "d16cdab0",
   "metadata": {},
   "source": "There are no missing values in the dataframes, but I will check for duplicates."
  },
  {
   "cell_type": "markdown",
   "id": "a0c4a188",
   "metadata": {},
   "source": "### Removing duplicates"
  },
  {
   "cell_type": "code",
   "id": "0e84263a",
   "metadata": {
    "ExecuteTime": {
     "end_time": "2024-06-29T18:00:24.901594Z",
     "start_time": "2024-06-29T18:00:24.897681Z"
    }
   },
   "source": [
    "data_users.duplicated().sum()"
   ],
   "outputs": [
    {
     "data": {
      "text/plain": [
       "31"
      ]
     },
     "execution_count": 10,
     "metadata": {},
     "output_type": "execute_result"
    }
   ],
   "execution_count": 10
  },
  {
   "cell_type": "code",
   "id": "07b45d3b",
   "metadata": {
    "ExecuteTime": {
     "end_time": "2024-06-29T18:00:24.906375Z",
     "start_time": "2024-06-29T18:00:24.902277Z"
    }
   },
   "source": [
    "data_users_clean = data_users.drop_duplicates().reset_index(drop=True) # adjusting the index order in the dataframe after removing duplicates\n",
    "data_users_clean.duplicated().sum()"
   ],
   "outputs": [
    {
     "data": {
      "text/plain": [
       "0"
      ]
     },
     "execution_count": 11,
     "metadata": {},
     "output_type": "execute_result"
    }
   ],
   "execution_count": 11
  },
  {
   "cell_type": "code",
   "id": "7e83e45d",
   "metadata": {
    "ExecuteTime": {
     "end_time": "2024-06-29T18:00:24.912169Z",
     "start_time": "2024-06-29T18:00:24.907268Z"
    }
   },
   "source": [
    "data_rides.duplicated().sum()"
   ],
   "outputs": [
    {
     "data": {
      "text/plain": [
       "0"
      ]
     },
     "execution_count": 12,
     "metadata": {},
     "output_type": "execute_result"
    }
   ],
   "execution_count": 12
  },
  {
   "cell_type": "code",
   "id": "ffc0eb7f",
   "metadata": {
    "ExecuteTime": {
     "end_time": "2024-06-29T18:00:24.915878Z",
     "start_time": "2024-06-29T18:00:24.912843Z"
    }
   },
   "source": [
    "data_subscriptions.duplicated().sum()"
   ],
   "outputs": [
    {
     "data": {
      "text/plain": [
       "0"
      ]
     },
     "execution_count": 13,
     "metadata": {},
     "output_type": "execute_result"
    }
   ],
   "execution_count": 13
  },
  {
   "cell_type": "markdown",
   "id": "78cef95d",
   "metadata": {},
   "source": "## Research data analysis"
  },
  {
   "cell_type": "markdown",
   "id": "d512393a",
   "metadata": {},
   "source": "### Frequency of city occurrences"
  },
  {
   "cell_type": "code",
   "id": "5b7f4537",
   "metadata": {
    "ExecuteTime": {
     "end_time": "2024-06-29T18:00:24.919207Z",
     "start_time": "2024-06-29T18:00:24.916661Z"
    }
   },
   "source": [
    "# displaying unique city values\n",
    "data_users_clean['city'].unique()"
   ],
   "outputs": [
    {
     "data": {
      "text/plain": [
       "array(['Тюмень', 'Омск', 'Москва', 'Ростов-на-Дону', 'Краснодар',\n",
       "       'Пятигорск', 'Екатеринбург', 'Сочи'], dtype=object)"
      ]
     },
     "execution_count": 14,
     "metadata": {},
     "output_type": "execute_result"
    }
   ],
   "execution_count": 14
  },
  {
   "cell_type": "code",
   "id": "8f93cd07",
   "metadata": {
    "ExecuteTime": {
     "end_time": "2024-06-29T18:00:24.925338Z",
     "start_time": "2024-06-29T18:00:24.919864Z"
    }
   },
   "source": [
    "# building a pivot table with the city and its frequency of occurrence\n",
    "city_amount = data_users_clean.pivot_table(index='city', values='user_id', aggfunc='count')\n",
    "city_amount.columns = ['Frequency of occurrence']\n",
    "city_amount = city_amount.sort_values(by='Frequency of occurrence', ascending=False)\n",
    "city_amount"
   ],
   "outputs": [
    {
     "data": {
      "text/plain": [
       "                Frequency of occurrence\n",
       "city                                   \n",
       "Пятигорск                           219\n",
       "Екатеринбург                        204\n",
       "Ростов-на-Дону                      198\n",
       "Краснодар                           193\n",
       "Сочи                                189\n",
       "Омск                                183\n",
       "Тюмень                              180\n",
       "Москва                              168"
      ],
      "text/html": [
       "<div>\n",
       "<style scoped>\n",
       "    .dataframe tbody tr th:only-of-type {\n",
       "        vertical-align: middle;\n",
       "    }\n",
       "\n",
       "    .dataframe tbody tr th {\n",
       "        vertical-align: top;\n",
       "    }\n",
       "\n",
       "    .dataframe thead th {\n",
       "        text-align: right;\n",
       "    }\n",
       "</style>\n",
       "<table border=\"1\" class=\"dataframe\">\n",
       "  <thead>\n",
       "    <tr style=\"text-align: right;\">\n",
       "      <th></th>\n",
       "      <th>Frequency of occurrence</th>\n",
       "    </tr>\n",
       "    <tr>\n",
       "      <th>city</th>\n",
       "      <th></th>\n",
       "    </tr>\n",
       "  </thead>\n",
       "  <tbody>\n",
       "    <tr>\n",
       "      <th>Пятигорск</th>\n",
       "      <td>219</td>\n",
       "    </tr>\n",
       "    <tr>\n",
       "      <th>Екатеринбург</th>\n",
       "      <td>204</td>\n",
       "    </tr>\n",
       "    <tr>\n",
       "      <th>Ростов-на-Дону</th>\n",
       "      <td>198</td>\n",
       "    </tr>\n",
       "    <tr>\n",
       "      <th>Краснодар</th>\n",
       "      <td>193</td>\n",
       "    </tr>\n",
       "    <tr>\n",
       "      <th>Сочи</th>\n",
       "      <td>189</td>\n",
       "    </tr>\n",
       "    <tr>\n",
       "      <th>Омск</th>\n",
       "      <td>183</td>\n",
       "    </tr>\n",
       "    <tr>\n",
       "      <th>Тюмень</th>\n",
       "      <td>180</td>\n",
       "    </tr>\n",
       "    <tr>\n",
       "      <th>Москва</th>\n",
       "      <td>168</td>\n",
       "    </tr>\n",
       "  </tbody>\n",
       "</table>\n",
       "</div>"
      ]
     },
     "execution_count": 15,
     "metadata": {},
     "output_type": "execute_result"
    }
   ],
   "execution_count": 15
  },
  {
   "cell_type": "code",
   "id": "5930bf70",
   "metadata": {
    "ExecuteTime": {
     "end_time": "2024-06-29T18:00:25.028198Z",
     "start_time": "2024-06-29T18:00:24.926074Z"
    }
   },
   "source": [
    "# displaying a bar chart for the frequency of city occurrences\n",
    "\n",
    "plt.figure(figsize=(15, 6))\n",
    "plt.bar(city_amount.index, city_amount['Frequency of occurrence'])\n",
    "plt.xlabel('Cities')\n",
    "plt.ylabel('Frequency of occurrence')\n",
    "plt.title('Frequency of city occurrences')\n",
    "plt.show()"
   ],
   "outputs": [
    {
     "data": {
      "text/plain": [
       "<Figure size 1500x600 with 1 Axes>"
      ],
      "image/png": "[encoded data removed]"
     },
     "metadata": {},
     "output_type": "display_data"
    }
   ],
   "execution_count": 16
  },
  {
   "cell_type": "markdown",
   "id": "601db5ee",
   "metadata": {},
   "source": "Most users are from Pyatigorsk. It is possible that the company's headquarters is located there. The second and third cities are Yekaterinburg and Rostov-on-Don. In the capital, the company's services are used the least."
  },
  {
   "cell_type": "markdown",
   "id": "00305c33",
   "metadata": {},
   "source": "### Distribution of users with subscription and users without subscription"
  },
  {
   "cell_type": "code",
   "id": "cd237708",
   "metadata": {
    "ExecuteTime": {
     "end_time": "2024-06-29T18:00:25.036475Z",
     "start_time": "2024-06-29T18:00:25.029417Z"
    }
   },
   "source": [
    "# building a pivot table with the number of users based on subscriptions\n",
    "\n",
    "free_vs_ultra = data_users_clean.pivot_table(index='subscription_type', values='user_id', aggfunc='count')\n",
    "free_vs_ultra.columns = ['Number of users']\n",
    "free_vs_ultra.sort_values(by='Number of users', ascending=False)"
   ],
   "outputs": [
    {
     "data": {
      "text/plain": [
       "                   Number of users\n",
       "subscription_type                 \n",
       "free                           835\n",
       "ultra                          699"
      ],
      "text/html": [
       "<div>\n",
       "<style scoped>\n",
       "    .dataframe tbody tr th:only-of-type {\n",
       "        vertical-align: middle;\n",
       "    }\n",
       "\n",
       "    .dataframe tbody tr th {\n",
       "        vertical-align: top;\n",
       "    }\n",
       "\n",
       "    .dataframe thead th {\n",
       "        text-align: right;\n",
       "    }\n",
       "</style>\n",
       "<table border=\"1\" class=\"dataframe\">\n",
       "  <thead>\n",
       "    <tr style=\"text-align: right;\">\n",
       "      <th></th>\n",
       "      <th>Number of users</th>\n",
       "    </tr>\n",
       "    <tr>\n",
       "      <th>subscription_type</th>\n",
       "      <th></th>\n",
       "    </tr>\n",
       "  </thead>\n",
       "  <tbody>\n",
       "    <tr>\n",
       "      <th>free</th>\n",
       "      <td>835</td>\n",
       "    </tr>\n",
       "    <tr>\n",
       "      <th>ultra</th>\n",
       "      <td>699</td>\n",
       "    </tr>\n",
       "  </tbody>\n",
       "</table>\n",
       "</div>"
      ]
     },
     "execution_count": 17,
     "metadata": {},
     "output_type": "execute_result"
    }
   ],
   "execution_count": 17
  },
  {
   "cell_type": "code",
   "id": "7fcf865a",
   "metadata": {
    "ExecuteTime": {
     "end_time": "2024-06-29T18:00:25.079551Z",
     "start_time": "2024-06-29T18:00:25.037233Z"
    }
   },
   "source": [
    "plt.figure(figsize=(6, 6))\n",
    "plt.pie(free_vs_ultra['Number of users'], labels=free_vs_ultra.index, autopct='%1.1f%%')\n",
    "plt.title('Distribution of users with subscription and users without subscription')\n",
    "plt.show()"
   ],
   "outputs": [
    {
     "data": {
      "text/plain": [
       "<Figure size 600x600 with 1 Axes>"
      ],
      "image/png": "[encoded data removed]"
     },
     "metadata": {},
     "output_type": "display_data"
    }
   ],
   "execution_count": 18
  },
  {
   "cell_type": "markdown",
   "id": "7d6ce6bd",
   "metadata": {},
   "source": "There are slightly more users without a subscription than users with a subscription."
  },
  {
   "cell_type": "markdown",
   "id": "6f835fbf",
   "metadata": {},
   "source": "### User age"
  },
  {
   "cell_type": "code",
   "id": "07532d2e",
   "metadata": {
    "ExecuteTime": {
     "end_time": "2024-06-29T18:00:25.083776Z",
     "start_time": "2024-06-29T18:00:25.080556Z"
    }
   },
   "source": [
    "# displaying unique age values, verifying that there are no anomalous values\n",
    "data_users_clean['age'].unique()"
   ],
   "outputs": [
    {
     "data": {
      "text/plain": [
       "array([22, 31, 20, 26, 28, 25, 23, 21, 18, 27, 24, 29, 32, 14, 19, 30, 17,\n",
       "       12, 35, 33, 13, 15, 37, 16, 34, 38, 36, 39, 43], dtype=int16)"
      ]
     },
     "execution_count": 19,
     "metadata": {},
     "output_type": "execute_result"
    }
   ],
   "execution_count": 19
  },
  {
   "cell_type": "code",
   "id": "097eb232",
   "metadata": {
    "ExecuteTime": {
     "end_time": "2024-06-29T18:00:25.088735Z",
     "start_time": "2024-06-29T18:00:25.084623Z"
    }
   },
   "source": [
    "data_users_clean['age'].describe()"
   ],
   "outputs": [
    {
     "data": {
      "text/plain": [
       "count    1534.000000\n",
       "mean       24.903520\n",
       "std         4.572367\n",
       "min        12.000000\n",
       "25%        22.000000\n",
       "50%        25.000000\n",
       "75%        28.000000\n",
       "max        43.000000\n",
       "Name: age, dtype: float64"
      ]
     },
     "execution_count": 20,
     "metadata": {},
     "output_type": "execute_result"
    }
   ],
   "execution_count": 20
  },
  {
   "cell_type": "code",
   "id": "7e1644d5",
   "metadata": {
    "ExecuteTime": {
     "end_time": "2024-06-29T18:00:25.095512Z",
     "start_time": "2024-06-29T18:00:25.089662Z"
    }
   },
   "source": [
    "# building a function that will categorize users by age\n",
    "\n",
    "def categorize_age(age):\n",
    "    try:\n",
    "        if 12 <= age <= 18:\n",
    "            return '12-18'\n",
    "        elif 19 <= age <= 25:\n",
    "            return '19-25'\n",
    "        elif 26 <= age <= 35:\n",
    "            return '26-35'\n",
    "        elif age >= 36:\n",
    "            return '36+'\n",
    "    except:\n",
    "        pass\n",
    "\n",
    "# applying the function to the age_category column\n",
    "data_users_clean['age_category'] = data_users_clean['age'].apply(categorize_age)\n",
    "\n",
    "data_users_clean.head()"
   ],
   "outputs": [
    {
     "data": {
      "text/plain": [
       "   user_id        name  age            city subscription_type age_category\n",
       "0        1        Кира   22          Тюмень             ultra        19-25\n",
       "1        2   Станислав   31            Омск             ultra        26-35\n",
       "2        3     Алексей   20          Москва             ultra        19-25\n",
       "3        4  Константин   26  Ростов-на-Дону             ultra        26-35\n",
       "4        5       Адель   28            Омск             ultra        26-35"
      ],
      "text/html": [
       "<div>\n",
       "<style scoped>\n",
       "    .dataframe tbody tr th:only-of-type {\n",
       "        vertical-align: middle;\n",
       "    }\n",
       "\n",
       "    .dataframe tbody tr th {\n",
       "        vertical-align: top;\n",
       "    }\n",
       "\n",
       "    .dataframe thead th {\n",
       "        text-align: right;\n",
       "    }\n",
       "</style>\n",
       "<table border=\"1\" class=\"dataframe\">\n",
       "  <thead>\n",
       "    <tr style=\"text-align: right;\">\n",
       "      <th></th>\n",
       "      <th>user_id</th>\n",
       "      <th>name</th>\n",
       "      <th>age</th>\n",
       "      <th>city</th>\n",
       "      <th>subscription_type</th>\n",
       "      <th>age_category</th>\n",
       "    </tr>\n",
       "  </thead>\n",
       "  <tbody>\n",
       "    <tr>\n",
       "      <th>0</th>\n",
       "      <td>1</td>\n",
       "      <td>Кира</td>\n",
       "      <td>22</td>\n",
       "      <td>Тюмень</td>\n",
       "      <td>ultra</td>\n",
       "      <td>19-25</td>\n",
       "    </tr>\n",
       "    <tr>\n",
       "      <th>1</th>\n",
       "      <td>2</td>\n",
       "      <td>Станислав</td>\n",
       "      <td>31</td>\n",
       "      <td>Омск</td>\n",
       "      <td>ultra</td>\n",
       "      <td>26-35</td>\n",
       "    </tr>\n",
       "    <tr>\n",
       "      <th>2</th>\n",
       "      <td>3</td>\n",
       "      <td>Алексей</td>\n",
       "      <td>20</td>\n",
       "      <td>Москва</td>\n",
       "      <td>ultra</td>\n",
       "      <td>19-25</td>\n",
       "    </tr>\n",
       "    <tr>\n",
       "      <th>3</th>\n",
       "      <td>4</td>\n",
       "      <td>Константин</td>\n",
       "      <td>26</td>\n",
       "      <td>Ростов-на-Дону</td>\n",
       "      <td>ultra</td>\n",
       "      <td>26-35</td>\n",
       "    </tr>\n",
       "    <tr>\n",
       "      <th>4</th>\n",
       "      <td>5</td>\n",
       "      <td>Адель</td>\n",
       "      <td>28</td>\n",
       "      <td>Омск</td>\n",
       "      <td>ultra</td>\n",
       "      <td>26-35</td>\n",
       "    </tr>\n",
       "  </tbody>\n",
       "</table>\n",
       "</div>"
      ]
     },
     "execution_count": 21,
     "metadata": {},
     "output_type": "execute_result"
    }
   ],
   "execution_count": 21
  },
  {
   "cell_type": "code",
   "id": "1977bd33",
   "metadata": {
    "ExecuteTime": {
     "end_time": "2024-06-29T18:00:25.101437Z",
     "start_time": "2024-06-29T18:00:25.096306Z"
    }
   },
   "source": [
    "# displaying the table with the distribution of users by age groups\n",
    "age_category = data_users_clean.pivot_table(index='age_category', values='user_id', aggfunc='count')\n",
    "age_category.columns = ['Number of users']\n",
    "age_category.sort_values(by='Number of users', ascending=False)"
   ],
   "outputs": [
    {
     "data": {
      "text/plain": [
       "              Number of users\n",
       "age_category                 \n",
       "19-25                     736\n",
       "26-35                     660\n",
       "12-18                     125\n",
       "36+                        13"
      ],
      "text/html": [
       "<div>\n",
       "<style scoped>\n",
       "    .dataframe tbody tr th:only-of-type {\n",
       "        vertical-align: middle;\n",
       "    }\n",
       "\n",
       "    .dataframe tbody tr th {\n",
       "        vertical-align: top;\n",
       "    }\n",
       "\n",
       "    .dataframe thead th {\n",
       "        text-align: right;\n",
       "    }\n",
       "</style>\n",
       "<table border=\"1\" class=\"dataframe\">\n",
       "  <thead>\n",
       "    <tr style=\"text-align: right;\">\n",
       "      <th></th>\n",
       "      <th>Number of users</th>\n",
       "    </tr>\n",
       "    <tr>\n",
       "      <th>age_category</th>\n",
       "      <th></th>\n",
       "    </tr>\n",
       "  </thead>\n",
       "  <tbody>\n",
       "    <tr>\n",
       "      <th>19-25</th>\n",
       "      <td>736</td>\n",
       "    </tr>\n",
       "    <tr>\n",
       "      <th>26-35</th>\n",
       "      <td>660</td>\n",
       "    </tr>\n",
       "    <tr>\n",
       "      <th>12-18</th>\n",
       "      <td>125</td>\n",
       "    </tr>\n",
       "    <tr>\n",
       "      <th>36+</th>\n",
       "      <td>13</td>\n",
       "    </tr>\n",
       "  </tbody>\n",
       "</table>\n",
       "</div>"
      ]
     },
     "execution_count": 22,
     "metadata": {},
     "output_type": "execute_result"
    }
   ],
   "execution_count": 22
  },
  {
   "cell_type": "code",
   "id": "15fa870f",
   "metadata": {
    "ExecuteTime": {
     "end_time": "2024-06-29T18:00:25.202590Z",
     "start_time": "2024-06-29T18:00:25.102128Z"
    }
   },
   "source": [
    "plt.figure(figsize=(10, 6))\n",
    "plt.bar(age_category.index, age_category['Number of users'])\n",
    "plt.xlabel('Age category')\n",
    "plt.ylabel('Number of users')\n",
    "plt.title('Distribution of user ages')\n",
    "plt.show()"
   ],
   "outputs": [
    {
     "data": {
      "text/plain": [
       "<Figure size 1000x600 with 1 Axes>"
      ],
      "image/png": "[encoded data removed]"
     },
     "metadata": {},
     "output_type": "display_data"
    }
   ],
   "execution_count": 23
  },
  {
   "cell_type": "markdown",
   "id": "74969248",
   "metadata": {},
   "source": "Most scooter users are young people under 35. This is predictable, as scooters are a relatively new mode of transportation that the youth have adopted the fastest. Additionally, to use scooters, one needs to be somewhat proficient with smartphones. This is more challenging for the older generation."
  },
  {
   "cell_type": "markdown",
   "id": "a60e2d22",
   "metadata": {},
   "source": "### Distance covered by user in a single trip"
  },
  {
   "cell_type": "code",
   "id": "9314a6cf",
   "metadata": {
    "ExecuteTime": {
     "end_time": "2024-06-29T18:00:25.206114Z",
     "start_time": "2024-06-29T18:00:25.203623Z"
    }
   },
   "source": [
    "# displayed the maximum value to then check for any limits or constraints.\n",
    "data_rides['distance'].max()"
   ],
   "outputs": [
    {
     "data": {
      "text/plain": [
       "7211.007744598519"
      ]
     },
     "execution_count": 24,
     "metadata": {},
     "output_type": "execute_result"
    }
   ],
   "execution_count": 24
  },
  {
   "cell_type": "code",
   "id": "8c943904",
   "metadata": {
    "ExecuteTime": {
     "end_time": "2024-06-29T18:00:25.309212Z",
     "start_time": "2024-06-29T18:00:25.206867Z"
    }
   },
   "source": [
    "# building a histogram of the distance distribution\n",
    "data_rides_cropped = data_rides.query('distance < 7000') # limit the value to 7 km because data beyond that point is sparse\n",
    "data_rides_cropped['distance'].hist(bins=100)\n",
    "plt.title('Distribution of distance covered by user in a single trip')\n",
    "plt.show()"
   ],
   "outputs": [
    {
     "data": {
      "text/plain": [
       "<Figure size 640x480 with 1 Axes>"
      ],
      "image/png": "[encoded data removed]"
     },
     "metadata": {},
     "output_type": "display_data"
    }
   ],
   "execution_count": 25
  },
  {
   "cell_type": "markdown",
   "id": "4c60bff3",
   "metadata": {},
   "source": "Typically, users travel up to 4.5 km per trip, with most trips being around 3 km. There is a noticeable peak at around 1.5 km. Such short trips might not have been for practical purposes: people might have taken scooters just to try them out or for a bit of fun."
  },
  {
   "cell_type": "code",
   "id": "24238d4f",
   "metadata": {
    "ExecuteTime": {
     "end_time": "2024-06-29T18:00:25.423002Z",
     "start_time": "2024-06-29T18:00:25.310051Z"
    }
   },
   "source": [
    "data_rides_cropped = data_rides.query('0 <= distance < 200') \n",
    "data_rides_cropped['distance'].hist(bins=100)\n",
    "plt.title('Distribution of distance covered by user in a single trip')\n",
    "plt.show()"
   ],
   "outputs": [
    {
     "data": {
      "text/plain": [
       "<Figure size 640x480 with 1 Axes>"
      ],
      "image/png": "[encoded data removed]"
     },
     "metadata": {},
     "output_type": "display_data"
    }
   ],
   "execution_count": 26
  },
  {
   "cell_type": "markdown",
   "id": "36f36470",
   "metadata": {},
   "source": "There are also trips with very short distances—less than 200 meters. This might include situations where a problem was identified with the scooter, and the user quickly returned it to its place. The presence of a few distance peaks suggests that there may be several usage scenarios for the application, and it might be worth addressing these categories separately."
  },
  {
   "cell_type": "markdown",
   "id": "4279a4b2",
   "metadata": {},
   "source": "### Ride duration"
  },
  {
   "cell_type": "code",
   "id": "e4ad6603",
   "metadata": {
    "ExecuteTime": {
     "end_time": "2024-06-29T18:00:25.427394Z",
     "start_time": "2024-06-29T18:00:25.424134Z"
    }
   },
   "source": [
    "# displaying the maximum value to then check for any limits or constraints\n",
    "data_rides['duration'].max()"
   ],
   "outputs": [
    {
     "data": {
      "text/plain": [
       "40.82396261922424"
      ]
     },
     "execution_count": 27,
     "metadata": {},
     "output_type": "execute_result"
    }
   ],
   "execution_count": 27
  },
  {
   "cell_type": "code",
   "id": "6055a046",
   "metadata": {
    "ExecuteTime": {
     "end_time": "2024-06-29T18:00:25.522157Z",
     "start_time": "2024-06-29T18:00:25.431669Z"
    }
   },
   "source": [
    "# building a histogram of the trip duration distribution\n",
    "data_rides['duration'].hist(bins=100)\n",
    "plt.show()"
   ],
   "outputs": [
    {
     "data": {
      "text/plain": [
       "<Figure size 640x480 with 1 Axes>"
      ],
      "image/png": "[encoded data removed]"
     },
     "metadata": {},
     "output_type": "display_data"
    }
   ],
   "execution_count": 28
  },
  {
   "cell_type": "markdown",
   "id": "dfa78380",
   "metadata": {},
   "source": "The histogram shows an unusual spike in the range from 0 to 1. Examining these outliers in more detail."
  },
  {
   "cell_type": "code",
   "id": "b4e966b5",
   "metadata": {
    "ExecuteTime": {
     "end_time": "2024-06-29T18:00:25.581303Z",
     "start_time": "2024-06-29T18:00:25.522991Z"
    }
   },
   "source": [
    "data_rides['duration'].hist(bins=10, range=(0.4, 0.6))\n",
    "plt.show()"
   ],
   "outputs": [
    {
     "data": {
      "text/plain": [
       "<Figure size 640x480 with 1 Axes>"
      ],
      "image/png": "[encoded data removed]"
     },
     "metadata": {},
     "output_type": "display_data"
    }
   ],
   "execution_count": 29
  },
  {
   "cell_type": "code",
   "id": "c45291f4",
   "metadata": {
    "ExecuteTime": {
     "end_time": "2024-06-29T18:00:25.587181Z",
     "start_time": "2024-06-29T18:00:25.582521Z"
    }
   },
   "source": [
    "data_rides.query('duration < 1')['duration'].unique()"
   ],
   "outputs": [
    {
     "data": {
      "text/plain": [
       "array([0.5])"
      ]
     },
     "execution_count": 30,
     "metadata": {},
     "output_type": "execute_result"
    }
   ],
   "execution_count": 30
  },
  {
   "cell_type": "code",
   "id": "ab5e745b",
   "metadata": {
    "ExecuteTime": {
     "end_time": "2024-06-29T18:00:25.592330Z",
     "start_time": "2024-06-29T18:00:25.587840Z"
    }
   },
   "source": [
    "data_rides.query('duration < 1')['distance'].head(10)"
   ],
   "outputs": [
    {
     "data": {
      "text/plain": [
       "6531    4196.445201\n",
       "6570    4830.824371\n",
       "6680    4684.004397\n",
       "6695    5215.642710\n",
       "6768    5197.436649\n",
       "6860    6225.520342\n",
       "6883    4452.491518\n",
       "7018    4406.954812\n",
       "7160    5286.167732\n",
       "7364    4881.391865\n",
       "Name: distance, dtype: float64"
      ]
     },
     "execution_count": 31,
     "metadata": {},
     "output_type": "execute_result"
    }
   ],
   "execution_count": 31
  },
  {
   "cell_type": "markdown",
   "id": "9b18ba2a",
   "metadata": {},
   "source": "It appears that people are covering around 4-5 km in just 0.5 seconds. This seems like an error in the scooter rental system, possibly indicating some kind of testing. I will remove the anomaly."
  },
  {
   "cell_type": "code",
   "id": "73845692",
   "metadata": {
    "ExecuteTime": {
     "end_time": "2024-06-29T18:00:25.691986Z",
     "start_time": "2024-06-29T18:00:25.593087Z"
    }
   },
   "source": [
    "data_rides_clean = data_rides[(data_rides['duration'] > 0.5)]\n",
    "data_rides_clean['duration'].hist(bins=100)\n",
    "plt.title('Distribution of ride duration')\n",
    "plt.show()"
   ],
   "outputs": [
    {
     "data": {
      "text/plain": [
       "<Figure size 640x480 with 1 Axes>"
      ],
      "image/png": "[encoded data removed]"
     },
     "metadata": {},
     "output_type": "display_data"
    }
   ],
   "execution_count": 32
  },
  {
   "cell_type": "code",
   "id": "282ced05",
   "metadata": {
    "ExecuteTime": {
     "end_time": "2024-06-29T18:00:25.695779Z",
     "start_time": "2024-06-29T18:00:25.692853Z"
    }
   },
   "source": [
    "# displaying the minimum value to verify that there are no other unusual values\n",
    "data_rides_clean['duration'].min()"
   ],
   "outputs": [
    {
     "data": {
      "text/plain": [
       "2.0356324681963884"
      ]
     },
     "execution_count": 33,
     "metadata": {},
     "output_type": "execute_result"
    }
   ],
   "execution_count": 33
  },
  {
   "cell_type": "code",
   "id": "e338c38b",
   "metadata": {
    "ExecuteTime": {
     "end_time": "2024-06-29T18:00:25.701001Z",
     "start_time": "2024-06-29T18:00:25.696597Z"
    }
   },
   "source": [
    "data_rides_clean.info()"
   ],
   "outputs": [
    {
     "name": "stdout",
     "output_type": "stream",
     "text": [
      "<class 'pandas.core.frame.DataFrame'>\n",
      "Index: 17973 entries, 0 to 18067\n",
      "Data columns (total 5 columns):\n",
      " #   Column        Non-Null Count  Dtype         \n",
      "---  ------        --------------  -----         \n",
      " 0   user_id       17973 non-null  int16         \n",
      " 1   distance      17973 non-null  float64       \n",
      " 2   duration      17973 non-null  float64       \n",
      " 3   date          17973 non-null  datetime64[ns]\n",
      " 4   month_number  17973 non-null  int32         \n",
      "dtypes: datetime64[ns](1), float64(2), int16(1), int32(1)\n",
      "memory usage: 667.0 KB\n"
     ]
    }
   ],
   "execution_count": 34
  },
  {
   "cell_type": "markdown",
   "id": "e17c8b89",
   "metadata": {},
   "source": "## Data merging"
  },
  {
   "cell_type": "code",
   "id": "bd23be79",
   "metadata": {
    "ExecuteTime": {
     "end_time": "2024-06-29T18:00:25.711742Z",
     "start_time": "2024-06-29T18:00:25.701737Z"
    }
   },
   "source": [
    "# the first step is to merge the tables `data_users_clean` and `data_rides_clean` using the common column `user_id`\n",
    "users_vs_rides = pd.merge(data_users_clean, data_rides_clean, on='user_id')\n",
    "users_vs_rides"
   ],
   "outputs": [
    {
     "data": {
      "text/plain": [
       "       user_id     name  age       city subscription_type age_category  \\\n",
       "0            1     Кира   22     Тюмень             ultra        19-25   \n",
       "1            1     Кира   22     Тюмень             ultra        19-25   \n",
       "2            1     Кира   22     Тюмень             ultra        19-25   \n",
       "3            1     Кира   22     Тюмень             ultra        19-25   \n",
       "4            1     Кира   22     Тюмень             ultra        19-25   \n",
       "...        ...      ...  ...        ...               ...          ...   \n",
       "17968     1534  Альберт   25  Краснодар              free        19-25   \n",
       "17969     1534  Альберт   25  Краснодар              free        19-25   \n",
       "17970     1534  Альберт   25  Краснодар              free        19-25   \n",
       "17971     1534  Альберт   25  Краснодар              free        19-25   \n",
       "17972     1534  Альберт   25  Краснодар              free        19-25   \n",
       "\n",
       "          distance   duration       date  month_number  \n",
       "0      4409.919140  25.599769 2021-01-01             1  \n",
       "1      2617.592153  15.816871 2021-01-18             1  \n",
       "2       754.159807   6.232113 2021-04-20             4  \n",
       "3      2694.783254  18.511000 2021-08-11             8  \n",
       "4      4028.687306  26.265803 2021-08-28             8  \n",
       "...            ...        ...        ...           ...  \n",
       "17968  3781.098080  19.822962 2021-11-04            11  \n",
       "17969  2840.423057  21.409799 2021-11-16            11  \n",
       "17970  3826.185507  18.435051 2021-11-18            11  \n",
       "17971  2902.308661  16.674362 2021-11-27            11  \n",
       "17972  2371.711192  15.893917 2021-12-29            12  \n",
       "\n",
       "[17973 rows x 10 columns]"
      ],
      "text/html": [
       "<div>\n",
       "<style scoped>\n",
       "    .dataframe tbody tr th:only-of-type {\n",
       "        vertical-align: middle;\n",
       "    }\n",
       "\n",
       "    .dataframe tbody tr th {\n",
       "        vertical-align: top;\n",
       "    }\n",
       "\n",
       "    .dataframe thead th {\n",
       "        text-align: right;\n",
       "    }\n",
       "</style>\n",
       "<table border=\"1\" class=\"dataframe\">\n",
       "  <thead>\n",
       "    <tr style=\"text-align: right;\">\n",
       "      <th></th>\n",
       "      <th>user_id</th>\n",
       "      <th>name</th>\n",
       "      <th>age</th>\n",
       "      <th>city</th>\n",
       "      <th>subscription_type</th>\n",
       "      <th>age_category</th>\n",
       "      <th>distance</th>\n",
       "      <th>duration</th>\n",
       "      <th>date</th>\n",
       "      <th>month_number</th>\n",
       "    </tr>\n",
       "  </thead>\n",
       "  <tbody>\n",
       "    <tr>\n",
       "      <th>0</th>\n",
       "      <td>1</td>\n",
       "      <td>Кира</td>\n",
       "      <td>22</td>\n",
       "      <td>Тюмень</td>\n",
       "      <td>ultra</td>\n",
       "      <td>19-25</td>\n",
       "      <td>4409.919140</td>\n",
       "      <td>25.599769</td>\n",
       "      <td>2021-01-01</td>\n",
       "      <td>1</td>\n",
       "    </tr>\n",
       "    <tr>\n",
       "      <th>1</th>\n",
       "      <td>1</td>\n",
       "      <td>Кира</td>\n",
       "      <td>22</td>\n",
       "      <td>Тюмень</td>\n",
       "      <td>ultra</td>\n",
       "      <td>19-25</td>\n",
       "      <td>2617.592153</td>\n",
       "      <td>15.816871</td>\n",
       "      <td>2021-01-18</td>\n",
       "      <td>1</td>\n",
       "    </tr>\n",
       "    <tr>\n",
       "      <th>2</th>\n",
       "      <td>1</td>\n",
       "      <td>Кира</td>\n",
       "      <td>22</td>\n",
       "      <td>Тюмень</td>\n",
       "      <td>ultra</td>\n",
       "      <td>19-25</td>\n",
       "      <td>754.159807</td>\n",
       "      <td>6.232113</td>\n",
       "      <td>2021-04-20</td>\n",
       "      <td>4</td>\n",
       "    </tr>\n",
       "    <tr>\n",
       "      <th>3</th>\n",
       "      <td>1</td>\n",
       "      <td>Кира</td>\n",
       "      <td>22</td>\n",
       "      <td>Тюмень</td>\n",
       "      <td>ultra</td>\n",
       "      <td>19-25</td>\n",
       "      <td>2694.783254</td>\n",
       "      <td>18.511000</td>\n",
       "      <td>2021-08-11</td>\n",
       "      <td>8</td>\n",
       "    </tr>\n",
       "    <tr>\n",
       "      <th>4</th>\n",
       "      <td>1</td>\n",
       "      <td>Кира</td>\n",
       "      <td>22</td>\n",
       "      <td>Тюмень</td>\n",
       "      <td>ultra</td>\n",
       "      <td>19-25</td>\n",
       "      <td>4028.687306</td>\n",
       "      <td>26.265803</td>\n",
       "      <td>2021-08-28</td>\n",
       "      <td>8</td>\n",
       "    </tr>\n",
       "    <tr>\n",
       "      <th>...</th>\n",
       "      <td>...</td>\n",
       "      <td>...</td>\n",
       "      <td>...</td>\n",
       "      <td>...</td>\n",
       "      <td>...</td>\n",
       "      <td>...</td>\n",
       "      <td>...</td>\n",
       "      <td>...</td>\n",
       "      <td>...</td>\n",
       "      <td>...</td>\n",
       "    </tr>\n",
       "    <tr>\n",
       "      <th>17968</th>\n",
       "      <td>1534</td>\n",
       "      <td>Альберт</td>\n",
       "      <td>25</td>\n",
       "      <td>Краснодар</td>\n",
       "      <td>free</td>\n",
       "      <td>19-25</td>\n",
       "      <td>3781.098080</td>\n",
       "      <td>19.822962</td>\n",
       "      <td>2021-11-04</td>\n",
       "      <td>11</td>\n",
       "    </tr>\n",
       "    <tr>\n",
       "      <th>17969</th>\n",
       "      <td>1534</td>\n",
       "      <td>Альберт</td>\n",
       "      <td>25</td>\n",
       "      <td>Краснодар</td>\n",
       "      <td>free</td>\n",
       "      <td>19-25</td>\n",
       "      <td>2840.423057</td>\n",
       "      <td>21.409799</td>\n",
       "      <td>2021-11-16</td>\n",
       "      <td>11</td>\n",
       "    </tr>\n",
       "    <tr>\n",
       "      <th>17970</th>\n",
       "      <td>1534</td>\n",
       "      <td>Альберт</td>\n",
       "      <td>25</td>\n",
       "      <td>Краснодар</td>\n",
       "      <td>free</td>\n",
       "      <td>19-25</td>\n",
       "      <td>3826.185507</td>\n",
       "      <td>18.435051</td>\n",
       "      <td>2021-11-18</td>\n",
       "      <td>11</td>\n",
       "    </tr>\n",
       "    <tr>\n",
       "      <th>17971</th>\n",
       "      <td>1534</td>\n",
       "      <td>Альберт</td>\n",
       "      <td>25</td>\n",
       "      <td>Краснодар</td>\n",
       "      <td>free</td>\n",
       "      <td>19-25</td>\n",
       "      <td>2902.308661</td>\n",
       "      <td>16.674362</td>\n",
       "      <td>2021-11-27</td>\n",
       "      <td>11</td>\n",
       "    </tr>\n",
       "    <tr>\n",
       "      <th>17972</th>\n",
       "      <td>1534</td>\n",
       "      <td>Альберт</td>\n",
       "      <td>25</td>\n",
       "      <td>Краснодар</td>\n",
       "      <td>free</td>\n",
       "      <td>19-25</td>\n",
       "      <td>2371.711192</td>\n",
       "      <td>15.893917</td>\n",
       "      <td>2021-12-29</td>\n",
       "      <td>12</td>\n",
       "    </tr>\n",
       "  </tbody>\n",
       "</table>\n",
       "<p>17973 rows × 10 columns</p>\n",
       "</div>"
      ]
     },
     "execution_count": 35,
     "metadata": {},
     "output_type": "execute_result"
    }
   ],
   "execution_count": 35
  },
  {
   "cell_type": "code",
   "id": "6ad577fd",
   "metadata": {
    "ExecuteTime": {
     "end_time": "2024-06-29T18:00:25.721788Z",
     "start_time": "2024-06-29T18:00:25.712941Z"
    }
   },
   "source": [
    "users_vs_rides.info()"
   ],
   "outputs": [
    {
     "name": "stdout",
     "output_type": "stream",
     "text": [
      "<class 'pandas.core.frame.DataFrame'>\n",
      "RangeIndex: 17973 entries, 0 to 17972\n",
      "Data columns (total 10 columns):\n",
      " #   Column             Non-Null Count  Dtype         \n",
      "---  ------             --------------  -----         \n",
      " 0   user_id            17973 non-null  int16         \n",
      " 1   name               17973 non-null  object        \n",
      " 2   age                17973 non-null  int16         \n",
      " 3   city               17973 non-null  object        \n",
      " 4   subscription_type  17973 non-null  object        \n",
      " 5   age_category       17973 non-null  object        \n",
      " 6   distance           17973 non-null  float64       \n",
      " 7   duration           17973 non-null  float64       \n",
      " 8   date               17973 non-null  datetime64[ns]\n",
      " 9   month_number       17973 non-null  int32         \n",
      "dtypes: datetime64[ns](1), float64(2), int16(2), int32(1), object(4)\n",
      "memory usage: 1.1+ MB\n"
     ]
    }
   ],
   "execution_count": 36
  },
  {
   "cell_type": "code",
   "id": "c84c70c7",
   "metadata": {
    "ExecuteTime": {
     "end_time": "2024-06-29T18:00:25.728367Z",
     "start_time": "2024-06-29T18:00:25.722603Z"
    }
   },
   "source": [
    "# adjusting the data type of the month number for better readability\n",
    "users_vs_rides['month_number'] = users_vs_rides['month_number'].astype('int16')\n",
    "users_vs_rides.info()"
   ],
   "outputs": [
    {
     "name": "stdout",
     "output_type": "stream",
     "text": [
      "<class 'pandas.core.frame.DataFrame'>\n",
      "RangeIndex: 17973 entries, 0 to 17972\n",
      "Data columns (total 10 columns):\n",
      " #   Column             Non-Null Count  Dtype         \n",
      "---  ------             --------------  -----         \n",
      " 0   user_id            17973 non-null  int16         \n",
      " 1   name               17973 non-null  object        \n",
      " 2   age                17973 non-null  int16         \n",
      " 3   city               17973 non-null  object        \n",
      " 4   subscription_type  17973 non-null  object        \n",
      " 5   age_category       17973 non-null  object        \n",
      " 6   distance           17973 non-null  float64       \n",
      " 7   duration           17973 non-null  float64       \n",
      " 8   date               17973 non-null  datetime64[ns]\n",
      " 9   month_number       17973 non-null  int16         \n",
      "dtypes: datetime64[ns](1), float64(2), int16(3), object(4)\n",
      "memory usage: 1.1+ MB\n"
     ]
    }
   ],
   "execution_count": 37
  },
  {
   "cell_type": "code",
   "id": "bb30d798",
   "metadata": {
    "ExecuteTime": {
     "end_time": "2024-06-29T18:00:25.739014Z",
     "start_time": "2024-06-29T18:00:25.728992Z"
    }
   },
   "source": [
    "# The second step is to merge the `users_vs_rides` table and the `data_subscriptions` table using the common column `subscription_type`.\n",
    "data_all = pd.merge(users_vs_rides, data_subscriptions, on='subscription_type')\n",
    "data_all"
   ],
   "outputs": [
    {
     "data": {
      "text/plain": [
       "       user_id     name  age       city subscription_type age_category  \\\n",
       "0            1     Кира   22     Тюмень             ultra        19-25   \n",
       "1            1     Кира   22     Тюмень             ultra        19-25   \n",
       "2            1     Кира   22     Тюмень             ultra        19-25   \n",
       "3            1     Кира   22     Тюмень             ultra        19-25   \n",
       "4            1     Кира   22     Тюмень             ultra        19-25   \n",
       "...        ...      ...  ...        ...               ...          ...   \n",
       "17968     1534  Альберт   25  Краснодар              free        19-25   \n",
       "17969     1534  Альберт   25  Краснодар              free        19-25   \n",
       "17970     1534  Альберт   25  Краснодар              free        19-25   \n",
       "17971     1534  Альберт   25  Краснодар              free        19-25   \n",
       "17972     1534  Альберт   25  Краснодар              free        19-25   \n",
       "\n",
       "          distance   duration       date  month_number  minute_price  \\\n",
       "0      4409.919140  25.599769 2021-01-01             1             6   \n",
       "1      2617.592153  15.816871 2021-01-18             1             6   \n",
       "2       754.159807   6.232113 2021-04-20             4             6   \n",
       "3      2694.783254  18.511000 2021-08-11             8             6   \n",
       "4      4028.687306  26.265803 2021-08-28             8             6   \n",
       "...            ...        ...        ...           ...           ...   \n",
       "17968  3781.098080  19.822962 2021-11-04            11             8   \n",
       "17969  2840.423057  21.409799 2021-11-16            11             8   \n",
       "17970  3826.185507  18.435051 2021-11-18            11             8   \n",
       "17971  2902.308661  16.674362 2021-11-27            11             8   \n",
       "17972  2371.711192  15.893917 2021-12-29            12             8   \n",
       "\n",
       "       start_ride_price  subscription_fee  \n",
       "0                     0               199  \n",
       "1                     0               199  \n",
       "2                     0               199  \n",
       "3                     0               199  \n",
       "4                     0               199  \n",
       "...                 ...               ...  \n",
       "17968                50                 0  \n",
       "17969                50                 0  \n",
       "17970                50                 0  \n",
       "17971                50                 0  \n",
       "17972                50                 0  \n",
       "\n",
       "[17973 rows x 13 columns]"
      ],
      "text/html": [
       "<div>\n",
       "<style scoped>\n",
       "    .dataframe tbody tr th:only-of-type {\n",
       "        vertical-align: middle;\n",
       "    }\n",
       "\n",
       "    .dataframe tbody tr th {\n",
       "        vertical-align: top;\n",
       "    }\n",
       "\n",
       "    .dataframe thead th {\n",
       "        text-align: right;\n",
       "    }\n",
       "</style>\n",
       "<table border=\"1\" class=\"dataframe\">\n",
       "  <thead>\n",
       "    <tr style=\"text-align: right;\">\n",
       "      <th></th>\n",
       "      <th>user_id</th>\n",
       "      <th>name</th>\n",
       "      <th>age</th>\n",
       "      <th>city</th>\n",
       "      <th>subscription_type</th>\n",
       "      <th>age_category</th>\n",
       "      <th>distance</th>\n",
       "      <th>duration</th>\n",
       "      <th>date</th>\n",
       "      <th>month_number</th>\n",
       "      <th>minute_price</th>\n",
       "      <th>start_ride_price</th>\n",
       "      <th>subscription_fee</th>\n",
       "    </tr>\n",
       "  </thead>\n",
       "  <tbody>\n",
       "    <tr>\n",
       "      <th>0</th>\n",
       "      <td>1</td>\n",
       "      <td>Кира</td>\n",
       "      <td>22</td>\n",
       "      <td>Тюмень</td>\n",
       "      <td>ultra</td>\n",
       "      <td>19-25</td>\n",
       "      <td>4409.919140</td>\n",
       "      <td>25.599769</td>\n",
       "      <td>2021-01-01</td>\n",
       "      <td>1</td>\n",
       "      <td>6</td>\n",
       "      <td>0</td>\n",
       "      <td>199</td>\n",
       "    </tr>\n",
       "    <tr>\n",
       "      <th>1</th>\n",
       "      <td>1</td>\n",
       "      <td>Кира</td>\n",
       "      <td>22</td>\n",
       "      <td>Тюмень</td>\n",
       "      <td>ultra</td>\n",
       "      <td>19-25</td>\n",
       "      <td>2617.592153</td>\n",
       "      <td>15.816871</td>\n",
       "      <td>2021-01-18</td>\n",
       "      <td>1</td>\n",
       "      <td>6</td>\n",
       "      <td>0</td>\n",
       "      <td>199</td>\n",
       "    </tr>\n",
       "    <tr>\n",
       "      <th>2</th>\n",
       "      <td>1</td>\n",
       "      <td>Кира</td>\n",
       "      <td>22</td>\n",
       "      <td>Тюмень</td>\n",
       "      <td>ultra</td>\n",
       "      <td>19-25</td>\n",
       "      <td>754.159807</td>\n",
       "      <td>6.232113</td>\n",
       "      <td>2021-04-20</td>\n",
       "      <td>4</td>\n",
       "      <td>6</td>\n",
       "      <td>0</td>\n",
       "      <td>199</td>\n",
       "    </tr>\n",
       "    <tr>\n",
       "      <th>3</th>\n",
       "      <td>1</td>\n",
       "      <td>Кира</td>\n",
       "      <td>22</td>\n",
       "      <td>Тюмень</td>\n",
       "      <td>ultra</td>\n",
       "      <td>19-25</td>\n",
       "      <td>2694.783254</td>\n",
       "      <td>18.511000</td>\n",
       "      <td>2021-08-11</td>\n",
       "      <td>8</td>\n",
       "      <td>6</td>\n",
       "      <td>0</td>\n",
       "      <td>199</td>\n",
       "    </tr>\n",
       "    <tr>\n",
       "      <th>4</th>\n",
       "      <td>1</td>\n",
       "      <td>Кира</td>\n",
       "      <td>22</td>\n",
       "      <td>Тюмень</td>\n",
       "      <td>ultra</td>\n",
       "      <td>19-25</td>\n",
       "      <td>4028.687306</td>\n",
       "      <td>26.265803</td>\n",
       "      <td>2021-08-28</td>\n",
       "      <td>8</td>\n",
       "      <td>6</td>\n",
       "      <td>0</td>\n",
       "      <td>199</td>\n",
       "    </tr>\n",
       "    <tr>\n",
       "      <th>...</th>\n",
       "      <td>...</td>\n",
       "      <td>...</td>\n",
       "      <td>...</td>\n",
       "      <td>...</td>\n",
       "      <td>...</td>\n",
       "      <td>...</td>\n",
       "      <td>...</td>\n",
       "      <td>...</td>\n",
       "      <td>...</td>\n",
       "      <td>...</td>\n",
       "      <td>...</td>\n",
       "      <td>...</td>\n",
       "      <td>...</td>\n",
       "    </tr>\n",
       "    <tr>\n",
       "      <th>17968</th>\n",
       "      <td>1534</td>\n",
       "      <td>Альберт</td>\n",
       "      <td>25</td>\n",
       "      <td>Краснодар</td>\n",
       "      <td>free</td>\n",
       "      <td>19-25</td>\n",
       "      <td>3781.098080</td>\n",
       "      <td>19.822962</td>\n",
       "      <td>2021-11-04</td>\n",
       "      <td>11</td>\n",
       "      <td>8</td>\n",
       "      <td>50</td>\n",
       "      <td>0</td>\n",
       "    </tr>\n",
       "    <tr>\n",
       "      <th>17969</th>\n",
       "      <td>1534</td>\n",
       "      <td>Альберт</td>\n",
       "      <td>25</td>\n",
       "      <td>Краснодар</td>\n",
       "      <td>free</td>\n",
       "      <td>19-25</td>\n",
       "      <td>2840.423057</td>\n",
       "      <td>21.409799</td>\n",
       "      <td>2021-11-16</td>\n",
       "      <td>11</td>\n",
       "      <td>8</td>\n",
       "      <td>50</td>\n",
       "      <td>0</td>\n",
       "    </tr>\n",
       "    <tr>\n",
       "      <th>17970</th>\n",
       "      <td>1534</td>\n",
       "      <td>Альберт</td>\n",
       "      <td>25</td>\n",
       "      <td>Краснодар</td>\n",
       "      <td>free</td>\n",
       "      <td>19-25</td>\n",
       "      <td>3826.185507</td>\n",
       "      <td>18.435051</td>\n",
       "      <td>2021-11-18</td>\n",
       "      <td>11</td>\n",
       "      <td>8</td>\n",
       "      <td>50</td>\n",
       "      <td>0</td>\n",
       "    </tr>\n",
       "    <tr>\n",
       "      <th>17971</th>\n",
       "      <td>1534</td>\n",
       "      <td>Альберт</td>\n",
       "      <td>25</td>\n",
       "      <td>Краснодар</td>\n",
       "      <td>free</td>\n",
       "      <td>19-25</td>\n",
       "      <td>2902.308661</td>\n",
       "      <td>16.674362</td>\n",
       "      <td>2021-11-27</td>\n",
       "      <td>11</td>\n",
       "      <td>8</td>\n",
       "      <td>50</td>\n",
       "      <td>0</td>\n",
       "    </tr>\n",
       "    <tr>\n",
       "      <th>17972</th>\n",
       "      <td>1534</td>\n",
       "      <td>Альберт</td>\n",
       "      <td>25</td>\n",
       "      <td>Краснодар</td>\n",
       "      <td>free</td>\n",
       "      <td>19-25</td>\n",
       "      <td>2371.711192</td>\n",
       "      <td>15.893917</td>\n",
       "      <td>2021-12-29</td>\n",
       "      <td>12</td>\n",
       "      <td>8</td>\n",
       "      <td>50</td>\n",
       "      <td>0</td>\n",
       "    </tr>\n",
       "  </tbody>\n",
       "</table>\n",
       "<p>17973 rows × 13 columns</p>\n",
       "</div>"
      ]
     },
     "execution_count": 38,
     "metadata": {},
     "output_type": "execute_result"
    }
   ],
   "execution_count": 38
  },
  {
   "cell_type": "code",
   "id": "82a8ea69",
   "metadata": {
    "ExecuteTime": {
     "end_time": "2024-06-29T18:00:25.747837Z",
     "start_time": "2024-06-29T18:00:25.740657Z"
    }
   },
   "source": [
    "data_all.info()"
   ],
   "outputs": [
    {
     "name": "stdout",
     "output_type": "stream",
     "text": [
      "<class 'pandas.core.frame.DataFrame'>\n",
      "RangeIndex: 17973 entries, 0 to 17972\n",
      "Data columns (total 13 columns):\n",
      " #   Column             Non-Null Count  Dtype         \n",
      "---  ------             --------------  -----         \n",
      " 0   user_id            17973 non-null  int16         \n",
      " 1   name               17973 non-null  object        \n",
      " 2   age                17973 non-null  int16         \n",
      " 3   city               17973 non-null  object        \n",
      " 4   subscription_type  17973 non-null  object        \n",
      " 5   age_category       17973 non-null  object        \n",
      " 6   distance           17973 non-null  float64       \n",
      " 7   duration           17973 non-null  float64       \n",
      " 8   date               17973 non-null  datetime64[ns]\n",
      " 9   month_number       17973 non-null  int16         \n",
      " 10  minute_price       17973 non-null  int16         \n",
      " 11  start_ride_price   17973 non-null  int16         \n",
      " 12  subscription_fee   17973 non-null  int16         \n",
      "dtypes: datetime64[ns](1), float64(2), int16(6), object(4)\n",
      "memory usage: 1.2+ MB\n"
     ]
    }
   ],
   "execution_count": 39
  },
  {
   "cell_type": "markdown",
   "id": "ef75d96a",
   "metadata": {},
   "source": "### Data on users with subscription"
  },
  {
   "cell_type": "code",
   "id": "cdd378fc",
   "metadata": {
    "ExecuteTime": {
     "end_time": "2024-06-29T18:00:25.759544Z",
     "start_time": "2024-06-29T18:00:25.748658Z"
    }
   },
   "source": [
    "# Creating a data subset for users with a subscription\n",
    "users_ultra = data_all[data_all['subscription_type'] == 'ultra'].reset_index(drop=True) \n",
    "users_ultra"
   ],
   "outputs": [
    {
     "data": {
      "text/plain": [
       "      user_id    name  age    city subscription_type age_category  \\\n",
       "0           1    Кира   22  Тюмень             ultra        19-25   \n",
       "1           1    Кира   22  Тюмень             ultra        19-25   \n",
       "2           1    Кира   22  Тюмень             ultra        19-25   \n",
       "3           1    Кира   22  Тюмень             ultra        19-25   \n",
       "4           1    Кира   22  Тюмень             ultra        19-25   \n",
       "...       ...     ...  ...     ...               ...          ...   \n",
       "6495      699  Оксана   22  Москва             ultra        19-25   \n",
       "6496      699  Оксана   22  Москва             ultra        19-25   \n",
       "6497      699  Оксана   22  Москва             ultra        19-25   \n",
       "6498      699  Оксана   22  Москва             ultra        19-25   \n",
       "6499      699  Оксана   22  Москва             ultra        19-25   \n",
       "\n",
       "         distance   duration       date  month_number  minute_price  \\\n",
       "0     4409.919140  25.599769 2021-01-01             1             6   \n",
       "1     2617.592153  15.816871 2021-01-18             1             6   \n",
       "2      754.159807   6.232113 2021-04-20             4             6   \n",
       "3     2694.783254  18.511000 2021-08-11             8             6   \n",
       "4     4028.687306  26.265803 2021-08-28             8             6   \n",
       "...           ...        ...        ...           ...           ...   \n",
       "6495  3973.046497  24.671163 2021-08-29             8             6   \n",
       "6496  3288.702563  15.892886 2021-09-12             9             6   \n",
       "6497  3076.159348  14.389525 2021-09-26             9             6   \n",
       "6498  4707.845501  15.839579 2021-10-17            10             6   \n",
       "6499  3202.890770  25.217345 2021-12-03            12             6   \n",
       "\n",
       "      start_ride_price  subscription_fee  \n",
       "0                    0               199  \n",
       "1                    0               199  \n",
       "2                    0               199  \n",
       "3                    0               199  \n",
       "4                    0               199  \n",
       "...                ...               ...  \n",
       "6495                 0               199  \n",
       "6496                 0               199  \n",
       "6497                 0               199  \n",
       "6498                 0               199  \n",
       "6499                 0               199  \n",
       "\n",
       "[6500 rows x 13 columns]"
      ],
      "text/html": [
       "<div>\n",
       "<style scoped>\n",
       "    .dataframe tbody tr th:only-of-type {\n",
       "        vertical-align: middle;\n",
       "    }\n",
       "\n",
       "    .dataframe tbody tr th {\n",
       "        vertical-align: top;\n",
       "    }\n",
       "\n",
       "    .dataframe thead th {\n",
       "        text-align: right;\n",
       "    }\n",
       "</style>\n",
       "<table border=\"1\" class=\"dataframe\">\n",
       "  <thead>\n",
       "    <tr style=\"text-align: right;\">\n",
       "      <th></th>\n",
       "      <th>user_id</th>\n",
       "      <th>name</th>\n",
       "      <th>age</th>\n",
       "      <th>city</th>\n",
       "      <th>subscription_type</th>\n",
       "      <th>age_category</th>\n",
       "      <th>distance</th>\n",
       "      <th>duration</th>\n",
       "      <th>date</th>\n",
       "      <th>month_number</th>\n",
       "      <th>minute_price</th>\n",
       "      <th>start_ride_price</th>\n",
       "      <th>subscription_fee</th>\n",
       "    </tr>\n",
       "  </thead>\n",
       "  <tbody>\n",
       "    <tr>\n",
       "      <th>0</th>\n",
       "      <td>1</td>\n",
       "      <td>Кира</td>\n",
       "      <td>22</td>\n",
       "      <td>Тюмень</td>\n",
       "      <td>ultra</td>\n",
       "      <td>19-25</td>\n",
       "      <td>4409.919140</td>\n",
       "      <td>25.599769</td>\n",
       "      <td>2021-01-01</td>\n",
       "      <td>1</td>\n",
       "      <td>6</td>\n",
       "      <td>0</td>\n",
       "      <td>199</td>\n",
       "    </tr>\n",
       "    <tr>\n",
       "      <th>1</th>\n",
       "      <td>1</td>\n",
       "      <td>Кира</td>\n",
       "      <td>22</td>\n",
       "      <td>Тюмень</td>\n",
       "      <td>ultra</td>\n",
       "      <td>19-25</td>\n",
       "      <td>2617.592153</td>\n",
       "      <td>15.816871</td>\n",
       "      <td>2021-01-18</td>\n",
       "      <td>1</td>\n",
       "      <td>6</td>\n",
       "      <td>0</td>\n",
       "      <td>199</td>\n",
       "    </tr>\n",
       "    <tr>\n",
       "      <th>2</th>\n",
       "      <td>1</td>\n",
       "      <td>Кира</td>\n",
       "      <td>22</td>\n",
       "      <td>Тюмень</td>\n",
       "      <td>ultra</td>\n",
       "      <td>19-25</td>\n",
       "      <td>754.159807</td>\n",
       "      <td>6.232113</td>\n",
       "      <td>2021-04-20</td>\n",
       "      <td>4</td>\n",
       "      <td>6</td>\n",
       "      <td>0</td>\n",
       "      <td>199</td>\n",
       "    </tr>\n",
       "    <tr>\n",
       "      <th>3</th>\n",
       "      <td>1</td>\n",
       "      <td>Кира</td>\n",
       "      <td>22</td>\n",
       "      <td>Тюмень</td>\n",
       "      <td>ultra</td>\n",
       "      <td>19-25</td>\n",
       "      <td>2694.783254</td>\n",
       "      <td>18.511000</td>\n",
       "      <td>2021-08-11</td>\n",
       "      <td>8</td>\n",
       "      <td>6</td>\n",
       "      <td>0</td>\n",
       "      <td>199</td>\n",
       "    </tr>\n",
       "    <tr>\n",
       "      <th>4</th>\n",
       "      <td>1</td>\n",
       "      <td>Кира</td>\n",
       "      <td>22</td>\n",
       "      <td>Тюмень</td>\n",
       "      <td>ultra</td>\n",
       "      <td>19-25</td>\n",
       "      <td>4028.687306</td>\n",
       "      <td>26.265803</td>\n",
       "      <td>2021-08-28</td>\n",
       "      <td>8</td>\n",
       "      <td>6</td>\n",
       "      <td>0</td>\n",
       "      <td>199</td>\n",
       "    </tr>\n",
       "    <tr>\n",
       "      <th>...</th>\n",
       "      <td>...</td>\n",
       "      <td>...</td>\n",
       "      <td>...</td>\n",
       "      <td>...</td>\n",
       "      <td>...</td>\n",
       "      <td>...</td>\n",
       "      <td>...</td>\n",
       "      <td>...</td>\n",
       "      <td>...</td>\n",
       "      <td>...</td>\n",
       "      <td>...</td>\n",
       "      <td>...</td>\n",
       "      <td>...</td>\n",
       "    </tr>\n",
       "    <tr>\n",
       "      <th>6495</th>\n",
       "      <td>699</td>\n",
       "      <td>Оксана</td>\n",
       "      <td>22</td>\n",
       "      <td>Москва</td>\n",
       "      <td>ultra</td>\n",
       "      <td>19-25</td>\n",
       "      <td>3973.046497</td>\n",
       "      <td>24.671163</td>\n",
       "      <td>2021-08-29</td>\n",
       "      <td>8</td>\n",
       "      <td>6</td>\n",
       "      <td>0</td>\n",
       "      <td>199</td>\n",
       "    </tr>\n",
       "    <tr>\n",
       "      <th>6496</th>\n",
       "      <td>699</td>\n",
       "      <td>Оксана</td>\n",
       "      <td>22</td>\n",
       "      <td>Москва</td>\n",
       "      <td>ultra</td>\n",
       "      <td>19-25</td>\n",
       "      <td>3288.702563</td>\n",
       "      <td>15.892886</td>\n",
       "      <td>2021-09-12</td>\n",
       "      <td>9</td>\n",
       "      <td>6</td>\n",
       "      <td>0</td>\n",
       "      <td>199</td>\n",
       "    </tr>\n",
       "    <tr>\n",
       "      <th>6497</th>\n",
       "      <td>699</td>\n",
       "      <td>Оксана</td>\n",
       "      <td>22</td>\n",
       "      <td>Москва</td>\n",
       "      <td>ultra</td>\n",
       "      <td>19-25</td>\n",
       "      <td>3076.159348</td>\n",
       "      <td>14.389525</td>\n",
       "      <td>2021-09-26</td>\n",
       "      <td>9</td>\n",
       "      <td>6</td>\n",
       "      <td>0</td>\n",
       "      <td>199</td>\n",
       "    </tr>\n",
       "    <tr>\n",
       "      <th>6498</th>\n",
       "      <td>699</td>\n",
       "      <td>Оксана</td>\n",
       "      <td>22</td>\n",
       "      <td>Москва</td>\n",
       "      <td>ultra</td>\n",
       "      <td>19-25</td>\n",
       "      <td>4707.845501</td>\n",
       "      <td>15.839579</td>\n",
       "      <td>2021-10-17</td>\n",
       "      <td>10</td>\n",
       "      <td>6</td>\n",
       "      <td>0</td>\n",
       "      <td>199</td>\n",
       "    </tr>\n",
       "    <tr>\n",
       "      <th>6499</th>\n",
       "      <td>699</td>\n",
       "      <td>Оксана</td>\n",
       "      <td>22</td>\n",
       "      <td>Москва</td>\n",
       "      <td>ultra</td>\n",
       "      <td>19-25</td>\n",
       "      <td>3202.890770</td>\n",
       "      <td>25.217345</td>\n",
       "      <td>2021-12-03</td>\n",
       "      <td>12</td>\n",
       "      <td>6</td>\n",
       "      <td>0</td>\n",
       "      <td>199</td>\n",
       "    </tr>\n",
       "  </tbody>\n",
       "</table>\n",
       "<p>6500 rows × 13 columns</p>\n",
       "</div>"
      ]
     },
     "execution_count": 40,
     "metadata": {},
     "output_type": "execute_result"
    }
   ],
   "execution_count": 40
  },
  {
   "cell_type": "markdown",
   "id": "ddc14e79",
   "metadata": {},
   "source": "### Data on users without subscription"
  },
  {
   "cell_type": "code",
   "id": "f518c9b5",
   "metadata": {
    "ExecuteTime": {
     "end_time": "2024-06-29T18:00:25.823725Z",
     "start_time": "2024-06-29T18:00:25.760848Z"
    }
   },
   "source": [
    "# creating a data subset for users without a subscription\n",
    "users_free = data_all[data_all['subscription_type'] == 'free'].reset_index(drop=True) \n",
    "users_free"
   ],
   "outputs": [
    {
     "data": {
      "text/plain": [
       "       user_id     name  age       city subscription_type age_category  \\\n",
       "0          700    Айдар   22       Омск              free        19-25   \n",
       "1          700    Айдар   22       Омск              free        19-25   \n",
       "2          700    Айдар   22       Омск              free        19-25   \n",
       "3          700    Айдар   22       Омск              free        19-25   \n",
       "4          700    Айдар   22       Омск              free        19-25   \n",
       "...        ...      ...  ...        ...               ...          ...   \n",
       "11468     1534  Альберт   25  Краснодар              free        19-25   \n",
       "11469     1534  Альберт   25  Краснодар              free        19-25   \n",
       "11470     1534  Альберт   25  Краснодар              free        19-25   \n",
       "11471     1534  Альберт   25  Краснодар              free        19-25   \n",
       "11472     1534  Альберт   25  Краснодар              free        19-25   \n",
       "\n",
       "          distance   duration       date  month_number  minute_price  \\\n",
       "0      2515.690719  14.944286 2021-01-02             1             8   \n",
       "1       846.932642  16.234663 2021-02-01             2             8   \n",
       "2      4004.434142  20.016628 2021-02-04             2             8   \n",
       "3      1205.911290   9.782872 2021-02-10             2             8   \n",
       "4      3047.379435  17.427673 2021-02-14             2             8   \n",
       "...            ...        ...        ...           ...           ...   \n",
       "11468  3781.098080  19.822962 2021-11-04            11             8   \n",
       "11469  2840.423057  21.409799 2021-11-16            11             8   \n",
       "11470  3826.185507  18.435051 2021-11-18            11             8   \n",
       "11471  2902.308661  16.674362 2021-11-27            11             8   \n",
       "11472  2371.711192  15.893917 2021-12-29            12             8   \n",
       "\n",
       "       start_ride_price  subscription_fee  \n",
       "0                    50                 0  \n",
       "1                    50                 0  \n",
       "2                    50                 0  \n",
       "3                    50                 0  \n",
       "4                    50                 0  \n",
       "...                 ...               ...  \n",
       "11468                50                 0  \n",
       "11469                50                 0  \n",
       "11470                50                 0  \n",
       "11471                50                 0  \n",
       "11472                50                 0  \n",
       "\n",
       "[11473 rows x 13 columns]"
      ],
      "text/html": [
       "<div>\n",
       "<style scoped>\n",
       "    .dataframe tbody tr th:only-of-type {\n",
       "        vertical-align: middle;\n",
       "    }\n",
       "\n",
       "    .dataframe tbody tr th {\n",
       "        vertical-align: top;\n",
       "    }\n",
       "\n",
       "    .dataframe thead th {\n",
       "        text-align: right;\n",
       "    }\n",
       "</style>\n",
       "<table border=\"1\" class=\"dataframe\">\n",
       "  <thead>\n",
       "    <tr style=\"text-align: right;\">\n",
       "      <th></th>\n",
       "      <th>user_id</th>\n",
       "      <th>name</th>\n",
       "      <th>age</th>\n",
       "      <th>city</th>\n",
       "      <th>subscription_type</th>\n",
       "      <th>age_category</th>\n",
       "      <th>distance</th>\n",
       "      <th>duration</th>\n",
       "      <th>date</th>\n",
       "      <th>month_number</th>\n",
       "      <th>minute_price</th>\n",
       "      <th>start_ride_price</th>\n",
       "      <th>subscription_fee</th>\n",
       "    </tr>\n",
       "  </thead>\n",
       "  <tbody>\n",
       "    <tr>\n",
       "      <th>0</th>\n",
       "      <td>700</td>\n",
       "      <td>Айдар</td>\n",
       "      <td>22</td>\n",
       "      <td>Омск</td>\n",
       "      <td>free</td>\n",
       "      <td>19-25</td>\n",
       "      <td>2515.690719</td>\n",
       "      <td>14.944286</td>\n",
       "      <td>2021-01-02</td>\n",
       "      <td>1</td>\n",
       "      <td>8</td>\n",
       "      <td>50</td>\n",
       "      <td>0</td>\n",
       "    </tr>\n",
       "    <tr>\n",
       "      <th>1</th>\n",
       "      <td>700</td>\n",
       "      <td>Айдар</td>\n",
       "      <td>22</td>\n",
       "      <td>Омск</td>\n",
       "      <td>free</td>\n",
       "      <td>19-25</td>\n",
       "      <td>846.932642</td>\n",
       "      <td>16.234663</td>\n",
       "      <td>2021-02-01</td>\n",
       "      <td>2</td>\n",
       "      <td>8</td>\n",
       "      <td>50</td>\n",
       "      <td>0</td>\n",
       "    </tr>\n",
       "    <tr>\n",
       "      <th>2</th>\n",
       "      <td>700</td>\n",
       "      <td>Айдар</td>\n",
       "      <td>22</td>\n",
       "      <td>Омск</td>\n",
       "      <td>free</td>\n",
       "      <td>19-25</td>\n",
       "      <td>4004.434142</td>\n",
       "      <td>20.016628</td>\n",
       "      <td>2021-02-04</td>\n",
       "      <td>2</td>\n",
       "      <td>8</td>\n",
       "      <td>50</td>\n",
       "      <td>0</td>\n",
       "    </tr>\n",
       "    <tr>\n",
       "      <th>3</th>\n",
       "      <td>700</td>\n",
       "      <td>Айдар</td>\n",
       "      <td>22</td>\n",
       "      <td>Омск</td>\n",
       "      <td>free</td>\n",
       "      <td>19-25</td>\n",
       "      <td>1205.911290</td>\n",
       "      <td>9.782872</td>\n",
       "      <td>2021-02-10</td>\n",
       "      <td>2</td>\n",
       "      <td>8</td>\n",
       "      <td>50</td>\n",
       "      <td>0</td>\n",
       "    </tr>\n",
       "    <tr>\n",
       "      <th>4</th>\n",
       "      <td>700</td>\n",
       "      <td>Айдар</td>\n",
       "      <td>22</td>\n",
       "      <td>Омск</td>\n",
       "      <td>free</td>\n",
       "      <td>19-25</td>\n",
       "      <td>3047.379435</td>\n",
       "      <td>17.427673</td>\n",
       "      <td>2021-02-14</td>\n",
       "      <td>2</td>\n",
       "      <td>8</td>\n",
       "      <td>50</td>\n",
       "      <td>0</td>\n",
       "    </tr>\n",
       "    <tr>\n",
       "      <th>...</th>\n",
       "      <td>...</td>\n",
       "      <td>...</td>\n",
       "      <td>...</td>\n",
       "      <td>...</td>\n",
       "      <td>...</td>\n",
       "      <td>...</td>\n",
       "      <td>...</td>\n",
       "      <td>...</td>\n",
       "      <td>...</td>\n",
       "      <td>...</td>\n",
       "      <td>...</td>\n",
       "      <td>...</td>\n",
       "      <td>...</td>\n",
       "    </tr>\n",
       "    <tr>\n",
       "      <th>11468</th>\n",
       "      <td>1534</td>\n",
       "      <td>Альберт</td>\n",
       "      <td>25</td>\n",
       "      <td>Краснодар</td>\n",
       "      <td>free</td>\n",
       "      <td>19-25</td>\n",
       "      <td>3781.098080</td>\n",
       "      <td>19.822962</td>\n",
       "      <td>2021-11-04</td>\n",
       "      <td>11</td>\n",
       "      <td>8</td>\n",
       "      <td>50</td>\n",
       "      <td>0</td>\n",
       "    </tr>\n",
       "    <tr>\n",
       "      <th>11469</th>\n",
       "      <td>1534</td>\n",
       "      <td>Альберт</td>\n",
       "      <td>25</td>\n",
       "      <td>Краснодар</td>\n",
       "      <td>free</td>\n",
       "      <td>19-25</td>\n",
       "      <td>2840.423057</td>\n",
       "      <td>21.409799</td>\n",
       "      <td>2021-11-16</td>\n",
       "      <td>11</td>\n",
       "      <td>8</td>\n",
       "      <td>50</td>\n",
       "      <td>0</td>\n",
       "    </tr>\n",
       "    <tr>\n",
       "      <th>11470</th>\n",
       "      <td>1534</td>\n",
       "      <td>Альберт</td>\n",
       "      <td>25</td>\n",
       "      <td>Краснодар</td>\n",
       "      <td>free</td>\n",
       "      <td>19-25</td>\n",
       "      <td>3826.185507</td>\n",
       "      <td>18.435051</td>\n",
       "      <td>2021-11-18</td>\n",
       "      <td>11</td>\n",
       "      <td>8</td>\n",
       "      <td>50</td>\n",
       "      <td>0</td>\n",
       "    </tr>\n",
       "    <tr>\n",
       "      <th>11471</th>\n",
       "      <td>1534</td>\n",
       "      <td>Альберт</td>\n",
       "      <td>25</td>\n",
       "      <td>Краснодар</td>\n",
       "      <td>free</td>\n",
       "      <td>19-25</td>\n",
       "      <td>2902.308661</td>\n",
       "      <td>16.674362</td>\n",
       "      <td>2021-11-27</td>\n",
       "      <td>11</td>\n",
       "      <td>8</td>\n",
       "      <td>50</td>\n",
       "      <td>0</td>\n",
       "    </tr>\n",
       "    <tr>\n",
       "      <th>11472</th>\n",
       "      <td>1534</td>\n",
       "      <td>Альберт</td>\n",
       "      <td>25</td>\n",
       "      <td>Краснодар</td>\n",
       "      <td>free</td>\n",
       "      <td>19-25</td>\n",
       "      <td>2371.711192</td>\n",
       "      <td>15.893917</td>\n",
       "      <td>2021-12-29</td>\n",
       "      <td>12</td>\n",
       "      <td>8</td>\n",
       "      <td>50</td>\n",
       "      <td>0</td>\n",
       "    </tr>\n",
       "  </tbody>\n",
       "</table>\n",
       "<p>11473 rows × 13 columns</p>\n",
       "</div>"
      ]
     },
     "execution_count": 41,
     "metadata": {},
     "output_type": "execute_result"
    }
   ],
   "execution_count": 41
  },
  {
   "cell_type": "markdown",
   "id": "36976a6a",
   "metadata": {},
   "source": "### Histograms with distributions: Ultra vs Free."
  },
  {
   "cell_type": "code",
   "id": "94cab2ba",
   "metadata": {
    "ExecuteTime": {
     "end_time": "2024-06-29T18:00:26.000668Z",
     "start_time": "2024-06-29T18:00:25.825596Z"
    }
   },
   "source": [
    "# building histograms of trip distance distribution by user types\n",
    "\n",
    "plt.hist(users_ultra['distance'], bins=100, alpha=0.5, label='ultra')\n",
    "plt.hist(users_free['distance'], bins=100, alpha=0.5, label='free')\n",
    "plt.xlabel('Distance')\n",
    "plt.ylabel('Frequency')\n",
    "plt.title('Distribution of ride distance by user types')\n",
    "plt.legend(loc='upper right')\n",
    "\n",
    "plt.show()\n"
   ],
   "outputs": [
    {
     "data": {
      "text/plain": [
       "<Figure size 640x480 with 1 Axes>"
      ],
      "image/png": "[encoded data removed]"
     },
     "metadata": {},
     "output_type": "display_data"
    }
   ],
   "execution_count": 42
  },
  {
   "cell_type": "markdown",
   "id": "7f771c8a",
   "metadata": {},
   "source": [
    "Most trips by users with subscriptions are between 2.5 km and 4 km. These users likely take scooters for practical purposes, using them as an alternative to public transportation. There's also a peak around 1 km, which represents very short trips. These trips are less frequent, probably because users can simply walk to their destinations without spending much time.\n",
    "\n",
    "The trip distances of users without a subscription are slightly different. These users tend to take more short trips—up to 1 km and up to 3 km. The majority of their trips range from 2 to 4.5 km."
   ]
  },
  {
   "cell_type": "code",
   "id": "7db1d1f7",
   "metadata": {
    "ExecuteTime": {
     "end_time": "2024-06-29T18:00:26.216040Z",
     "start_time": "2024-06-29T18:00:26.002033Z"
    }
   },
   "source": [
    "# building histograms of trip duration distribution by user types\n",
    "plt.hist(users_ultra['duration'], bins=100, alpha=0.5, label='ultra')\n",
    "plt.hist(users_free['duration'], bins=100, alpha=0.5, label='free')\n",
    "plt.xlabel('Duration')\n",
    "plt.ylabel('Frequency')\n",
    "plt.title('Distribution of ride duration by user types')\n",
    "plt.legend(loc='upper right')\n",
    "\n",
    "plt.show()"
   ],
   "outputs": [
    {
     "data": {
      "text/plain": [
       "<Figure size 640x480 with 1 Axes>"
      ],
      "image/png": "[encoded data removed]"
     },
     "metadata": {},
     "output_type": "display_data"
    }
   ],
   "execution_count": 43
  },
  {
   "cell_type": "markdown",
   "id": "62f7e07d",
   "metadata": {},
   "source": "Most trips by users with subscriptions last between 10 to 25 minutes. Since there are more users without a subscription, the histogram for their trips is denser. The distribution of trip duration for them is approximately the same as for users with a subscription—the majority of trips last between 10 to 25 minutes."
  },
  {
   "cell_type": "markdown",
   "id": "dc714cf6",
   "metadata": {},
   "source": "## Revenue calculation"
  },
  {
   "cell_type": "code",
   "id": "1e73b2e1",
   "metadata": {
    "ExecuteTime": {
     "end_time": "2024-06-29T18:00:26.246013Z",
     "start_time": "2024-06-29T18:00:26.220068Z"
    }
   },
   "source": [
    "# building a pivot table with data on users by month\n",
    "data_all['duration'] = np.ceil(data_all['duration']) \n",
    "data_all_pivot = data_all.pivot_table(index=['user_id', 'month_number'], values=['distance', 'duration', 'subscription_type'], aggfunc={'distance':'sum', 'duration':['sum', 'count'], 'subscription_type':'first'})\n",
    "data_all_pivot.columns = ['Total distance', 'Number of rides', 'Total duration', 'Rate']\n",
    "data_all_pivot.head(10)"
   ],
   "outputs": [
    {
     "data": {
      "text/plain": [
       "                      Total distance  Number of rides  Total duration   Rate\n",
       "user_id month_number                                                        \n",
       "1       1                7027.511294                2            42.0  ultra\n",
       "        4                 754.159807                1             7.0  ultra\n",
       "        8                6723.470560                2            46.0  ultra\n",
       "        10               5809.911100                2            32.0  ultra\n",
       "        11               7003.499363                3            56.0  ultra\n",
       "        12               6751.629942                2            28.0  ultra\n",
       "2       3               10187.723006                3            63.0  ultra\n",
       "        4                6164.381824                2            40.0  ultra\n",
       "        6                3255.338202                1            14.0  ultra\n",
       "        7                6780.722964                2            48.0  ultra"
      ],
      "text/html": [
       "<div>\n",
       "<style scoped>\n",
       "    .dataframe tbody tr th:only-of-type {\n",
       "        vertical-align: middle;\n",
       "    }\n",
       "\n",
       "    .dataframe tbody tr th {\n",
       "        vertical-align: top;\n",
       "    }\n",
       "\n",
       "    .dataframe thead th {\n",
       "        text-align: right;\n",
       "    }\n",
       "</style>\n",
       "<table border=\"1\" class=\"dataframe\">\n",
       "  <thead>\n",
       "    <tr style=\"text-align: right;\">\n",
       "      <th></th>\n",
       "      <th></th>\n",
       "      <th>Total distance</th>\n",
       "      <th>Number of rides</th>\n",
       "      <th>Total duration</th>\n",
       "      <th>Rate</th>\n",
       "    </tr>\n",
       "    <tr>\n",
       "      <th>user_id</th>\n",
       "      <th>month_number</th>\n",
       "      <th></th>\n",
       "      <th></th>\n",
       "      <th></th>\n",
       "      <th></th>\n",
       "    </tr>\n",
       "  </thead>\n",
       "  <tbody>\n",
       "    <tr>\n",
       "      <th rowspan=\"6\" valign=\"top\">1</th>\n",
       "      <th>1</th>\n",
       "      <td>7027.511294</td>\n",
       "      <td>2</td>\n",
       "      <td>42.0</td>\n",
       "      <td>ultra</td>\n",
       "    </tr>\n",
       "    <tr>\n",
       "      <th>4</th>\n",
       "      <td>754.159807</td>\n",
       "      <td>1</td>\n",
       "      <td>7.0</td>\n",
       "      <td>ultra</td>\n",
       "    </tr>\n",
       "    <tr>\n",
       "      <th>8</th>\n",
       "      <td>6723.470560</td>\n",
       "      <td>2</td>\n",
       "      <td>46.0</td>\n",
       "      <td>ultra</td>\n",
       "    </tr>\n",
       "    <tr>\n",
       "      <th>10</th>\n",
       "      <td>5809.911100</td>\n",
       "      <td>2</td>\n",
       "      <td>32.0</td>\n",
       "      <td>ultra</td>\n",
       "    </tr>\n",
       "    <tr>\n",
       "      <th>11</th>\n",
       "      <td>7003.499363</td>\n",
       "      <td>3</td>\n",
       "      <td>56.0</td>\n",
       "      <td>ultra</td>\n",
       "    </tr>\n",
       "    <tr>\n",
       "      <th>12</th>\n",
       "      <td>6751.629942</td>\n",
       "      <td>2</td>\n",
       "      <td>28.0</td>\n",
       "      <td>ultra</td>\n",
       "    </tr>\n",
       "    <tr>\n",
       "      <th rowspan=\"4\" valign=\"top\">2</th>\n",
       "      <th>3</th>\n",
       "      <td>10187.723006</td>\n",
       "      <td>3</td>\n",
       "      <td>63.0</td>\n",
       "      <td>ultra</td>\n",
       "    </tr>\n",
       "    <tr>\n",
       "      <th>4</th>\n",
       "      <td>6164.381824</td>\n",
       "      <td>2</td>\n",
       "      <td>40.0</td>\n",
       "      <td>ultra</td>\n",
       "    </tr>\n",
       "    <tr>\n",
       "      <th>6</th>\n",
       "      <td>3255.338202</td>\n",
       "      <td>1</td>\n",
       "      <td>14.0</td>\n",
       "      <td>ultra</td>\n",
       "    </tr>\n",
       "    <tr>\n",
       "      <th>7</th>\n",
       "      <td>6780.722964</td>\n",
       "      <td>2</td>\n",
       "      <td>48.0</td>\n",
       "      <td>ultra</td>\n",
       "    </tr>\n",
       "  </tbody>\n",
       "</table>\n",
       "</div>"
      ]
     },
     "execution_count": 44,
     "metadata": {},
     "output_type": "execute_result"
    }
   ],
   "execution_count": 44
  },
  {
   "cell_type": "markdown",
   "id": "2b2287b3",
   "metadata": {},
   "source": "### Monthly revenue calculation"
  },
  {
   "cell_type": "code",
   "id": "e502c050",
   "metadata": {
    "ExecuteTime": {
     "end_time": "2024-06-29T18:00:26.302186Z",
     "start_time": "2024-06-29T18:00:26.246938Z"
    }
   },
   "source": [
    "# building a function that will calculate monthly revenue per user\n",
    "def count_revenue(tariff):\n",
    "    try:\n",
    "        if tariff['Rate'] == 'ultra':\n",
    "            return 6*tariff['Total duration'] + 199\n",
    "        elif tariff['Rate'] == 'free':\n",
    "            return 50*tariff['Number of rides'] + 8*tariff['Total duration'] \n",
    "    except:\n",
    "        pass\n",
    "\n",
    "# adding a column with monthly revenue.\n",
    "data_all_pivot['Monthly revenue'] = data_all_pivot.apply(count_revenue, axis=1)\n",
    "data_all_pivot.head(10)"
   ],
   "outputs": [
    {
     "data": {
      "text/plain": [
       "                      Total distance  Number of rides  Total duration   Rate  \\\n",
       "user_id month_number                                                           \n",
       "1       1                7027.511294                2            42.0  ultra   \n",
       "        4                 754.159807                1             7.0  ultra   \n",
       "        8                6723.470560                2            46.0  ultra   \n",
       "        10               5809.911100                2            32.0  ultra   \n",
       "        11               7003.499363                3            56.0  ultra   \n",
       "        12               6751.629942                2            28.0  ultra   \n",
       "2       3               10187.723006                3            63.0  ultra   \n",
       "        4                6164.381824                2            40.0  ultra   \n",
       "        6                3255.338202                1            14.0  ultra   \n",
       "        7                6780.722964                2            48.0  ultra   \n",
       "\n",
       "                      Monthly revenue  \n",
       "user_id month_number                   \n",
       "1       1                       451.0  \n",
       "        4                       241.0  \n",
       "        8                       475.0  \n",
       "        10                      391.0  \n",
       "        11                      535.0  \n",
       "        12                      367.0  \n",
       "2       3                       577.0  \n",
       "        4                       439.0  \n",
       "        6                       283.0  \n",
       "        7                       487.0  "
      ],
      "text/html": [
       "<div>\n",
       "<style scoped>\n",
       "    .dataframe tbody tr th:only-of-type {\n",
       "        vertical-align: middle;\n",
       "    }\n",
       "\n",
       "    .dataframe tbody tr th {\n",
       "        vertical-align: top;\n",
       "    }\n",
       "\n",
       "    .dataframe thead th {\n",
       "        text-align: right;\n",
       "    }\n",
       "</style>\n",
       "<table border=\"1\" class=\"dataframe\">\n",
       "  <thead>\n",
       "    <tr style=\"text-align: right;\">\n",
       "      <th></th>\n",
       "      <th></th>\n",
       "      <th>Total distance</th>\n",
       "      <th>Number of rides</th>\n",
       "      <th>Total duration</th>\n",
       "      <th>Rate</th>\n",
       "      <th>Monthly revenue</th>\n",
       "    </tr>\n",
       "    <tr>\n",
       "      <th>user_id</th>\n",
       "      <th>month_number</th>\n",
       "      <th></th>\n",
       "      <th></th>\n",
       "      <th></th>\n",
       "      <th></th>\n",
       "      <th></th>\n",
       "    </tr>\n",
       "  </thead>\n",
       "  <tbody>\n",
       "    <tr>\n",
       "      <th rowspan=\"6\" valign=\"top\">1</th>\n",
       "      <th>1</th>\n",
       "      <td>7027.511294</td>\n",
       "      <td>2</td>\n",
       "      <td>42.0</td>\n",
       "      <td>ultra</td>\n",
       "      <td>451.0</td>\n",
       "    </tr>\n",
       "    <tr>\n",
       "      <th>4</th>\n",
       "      <td>754.159807</td>\n",
       "      <td>1</td>\n",
       "      <td>7.0</td>\n",
       "      <td>ultra</td>\n",
       "      <td>241.0</td>\n",
       "    </tr>\n",
       "    <tr>\n",
       "      <th>8</th>\n",
       "      <td>6723.470560</td>\n",
       "      <td>2</td>\n",
       "      <td>46.0</td>\n",
       "      <td>ultra</td>\n",
       "      <td>475.0</td>\n",
       "    </tr>\n",
       "    <tr>\n",
       "      <th>10</th>\n",
       "      <td>5809.911100</td>\n",
       "      <td>2</td>\n",
       "      <td>32.0</td>\n",
       "      <td>ultra</td>\n",
       "      <td>391.0</td>\n",
       "    </tr>\n",
       "    <tr>\n",
       "      <th>11</th>\n",
       "      <td>7003.499363</td>\n",
       "      <td>3</td>\n",
       "      <td>56.0</td>\n",
       "      <td>ultra</td>\n",
       "      <td>535.0</td>\n",
       "    </tr>\n",
       "    <tr>\n",
       "      <th>12</th>\n",
       "      <td>6751.629942</td>\n",
       "      <td>2</td>\n",
       "      <td>28.0</td>\n",
       "      <td>ultra</td>\n",
       "      <td>367.0</td>\n",
       "    </tr>\n",
       "    <tr>\n",
       "      <th rowspan=\"4\" valign=\"top\">2</th>\n",
       "      <th>3</th>\n",
       "      <td>10187.723006</td>\n",
       "      <td>3</td>\n",
       "      <td>63.0</td>\n",
       "      <td>ultra</td>\n",
       "      <td>577.0</td>\n",
       "    </tr>\n",
       "    <tr>\n",
       "      <th>4</th>\n",
       "      <td>6164.381824</td>\n",
       "      <td>2</td>\n",
       "      <td>40.0</td>\n",
       "      <td>ultra</td>\n",
       "      <td>439.0</td>\n",
       "    </tr>\n",
       "    <tr>\n",
       "      <th>6</th>\n",
       "      <td>3255.338202</td>\n",
       "      <td>1</td>\n",
       "      <td>14.0</td>\n",
       "      <td>ultra</td>\n",
       "      <td>283.0</td>\n",
       "    </tr>\n",
       "    <tr>\n",
       "      <th>7</th>\n",
       "      <td>6780.722964</td>\n",
       "      <td>2</td>\n",
       "      <td>48.0</td>\n",
       "      <td>ultra</td>\n",
       "      <td>487.0</td>\n",
       "    </tr>\n",
       "  </tbody>\n",
       "</table>\n",
       "</div>"
      ]
     },
     "execution_count": 45,
     "metadata": {},
     "output_type": "execute_result"
    }
   ],
   "execution_count": 45
  },
  {
   "cell_type": "markdown",
   "id": "2ef6eda8",
   "metadata": {},
   "source": "## Hypothesis testing"
  },
  {
   "cell_type": "markdown",
   "id": "fa6f4f17",
   "metadata": {},
   "source": "### Ultra vs Free: Whose trips are longer?"
  },
  {
   "cell_type": "markdown",
   "id": "361ae3fe",
   "metadata": {},
   "source": [
    "It is important to understand whether subscribed users spend more time on trips. If they do, subscribed users might be more profitable for the company.\n",
    "\n",
    "Null Hypothesis: Subscribed users do not spend more time on trips than non-subscribed users.\n",
    "\n",
    "Alternative Hypothesis: Subscribed users spend more time on trips than non-subscribed users."
   ]
  },
  {
   "cell_type": "code",
   "id": "32c54de7",
   "metadata": {
    "ExecuteTime": {
     "end_time": "2024-06-29T18:00:26.312089Z",
     "start_time": "2024-06-29T18:00:26.303489Z"
    }
   },
   "source": [
    "# creating slices for users with and without subscriptions\n",
    "\n",
    "ultra_duration = data_all[data_all['subscription_type'] == 'ultra']['duration']\n",
    "free_duration = data_all[data_all['subscription_type'] == 'free']['duration']\n",
    "\n",
    "alpha = 0.05 # specified the level of statistical significance\n",
    "\n",
    "# conducting a t-test for two samples, with the alternative hypothesis being one-sided \"greater\"\n",
    "results = st.ttest_ind(ultra_duration, free_duration, alternative='greater')\n",
    "\n",
    "print(f'p-value: {results.pvalue}')\n",
    "\n",
    "# checking the p-value\n",
    "if results.pvalue < alpha:\n",
    "    print('Reject the null hypothesis')\n",
    "else:\n",
    "    print('There is no basis to reject the null hypothesis')"
   ],
   "outputs": [
    {
     "name": "stdout",
     "output_type": "stream",
     "text": [
      "p-value: 8.577910347796266e-28\n",
      "Reject the null hypothesis\n"
     ]
    }
   ],
   "execution_count": 46
  },
  {
   "cell_type": "markdown",
   "id": "61ef83a8",
   "metadata": {},
   "source": "There is a basis to say that subscribed users spend more time on trips.\n"
  },
  {
   "cell_type": "markdown",
   "id": "551bd6ab",
   "metadata": {},
   "source": "### Do Ultra users travel more than 3130 meters?"
  },
  {
   "cell_type": "markdown",
   "id": "66073244",
   "metadata": {},
   "source": [
    "A trip distance of 3130 meters is optimal in terms of scooter wear and tear. Can we say that the average distance traveled by subscribed users in one trip does not exceed 3130 meters?\n",
    " \n",
    "Null Hypothesis: The average distance traveled by subscribed users in one trip does not exceed 3130 meters.\n",
    "\n",
    "Alternative Hypothesis: The average distance traveled by subscribed users in one trip exceeds 3130 meters."
   ]
  },
  {
   "cell_type": "code",
   "id": "9f2254ac",
   "metadata": {
    "ExecuteTime": {
     "end_time": "2024-06-29T18:00:26.318989Z",
     "start_time": "2024-06-29T18:00:26.313508Z"
    }
   },
   "source": [
    "# creating a slice for subscribed users and specifying the optimal distance value\n",
    "ultra_distance = data_all[data_all['subscription_type'] == 'ultra']['distance']\n",
    "optimal_distance = 3130\n",
    "\n",
    "alpha = 0.05\n",
    "\n",
    "# conducting a one-sample test, with the alternative hypothesis being one-sided \"greater\"\n",
    "results = st.ttest_1samp(ultra_distance, optimal_distance, alternative='greater')\n",
    "\n",
    "print(f'p-value: {results.pvalue}')\n",
    "\n",
    "# checking the p-value\n",
    "if results.pvalue < alpha:\n",
    "    print('Reject the null hypothesis')\n",
    "else:\n",
    "    print('There is no basis to reject the null hypothesis')"
   ],
   "outputs": [
    {
     "name": "stdout",
     "output_type": "stream",
     "text": [
      "p-value: 0.9195368847849785\n",
      "There is no basis to reject the null hypothesis\n"
     ]
    }
   ],
   "execution_count": 47
  },
  {
   "cell_type": "markdown",
   "id": "2e915c19",
   "metadata": {},
   "source": "The average distance traveled by subscribed users in one trip does not exceed 3130 meters. This aligns with the histogram."
  },
  {
   "cell_type": "markdown",
   "id": "9bec320c",
   "metadata": {},
   "source": "### Is the revenue from Ultra users higher than from Free users?"
  },
  {
   "cell_type": "markdown",
   "id": "fe96fb22",
   "metadata": {},
   "source": [
    "I will check whether the monthly revenue from subscribed users is higher than the revenue from non-subscribed users.\n",
    "\n",
    "Null Hypothesis: The monthly revenue from subscribed users is not higher than the monthly revenue from non-subscribed users.\n",
    "\n",
    "Alternative Hypothesis: The monthly revenue from subscribed users is higher than the monthly revenue from non-subscribed users."
   ]
  },
  {
   "cell_type": "code",
   "id": "07bc4e61",
   "metadata": {
    "ExecuteTime": {
     "end_time": "2024-06-29T18:04:26.648971Z",
     "start_time": "2024-06-29T18:04:26.643927Z"
    }
   },
   "source": [
    "# creating slices for users with and without subscriptions\n",
    "ultra_revenue = data_all_pivot[data_all_pivot['Rate'] == 'ultra']['Monthly revenue']\n",
    "free_revenue = data_all_pivot[data_all_pivot['Rate'] == 'free']['Monthly revenue']\n",
    "\n",
    "\n",
    "alpha = 0.05\n",
    "\n",
    "# conducting a t-test for two samples, with the alternative hypothesis being one-sided \"greater\"\n",
    "results = st.ttest_ind(ultra_revenue, free_revenue, alternative='greater')\n",
    "\n",
    "print(f'p-value: {results.pvalue}')\n",
    "\n",
    "# checking the p-value\n",
    "if results.pvalue < alpha:\n",
    "    print('Reject the null hypothesis')\n",
    "else:\n",
    "    print('There is no basis to reject the null hypothesis')"
   ],
   "outputs": [
    {
     "name": "stdout",
     "output_type": "stream",
     "text": [
      "p-value: 2.0314113674863288e-30\n",
      "Reject the null hypothesis\n"
     ]
    }
   ],
   "execution_count": 50
  },
  {
   "cell_type": "markdown",
   "id": "ca0d8d6a",
   "metadata": {},
   "source": "The monthly revenue from subscribed users is higher than the revenue from non-subscribed users."
  },
  {
   "cell_type": "markdown",
   "id": "a1936952",
   "metadata": {},
   "source": "## Conclusions"
  },
  {
   "cell_type": "markdown",
   "id": "648eefbe",
   "metadata": {},
   "source": [
    "In Pyatigorsk, there are the most users, possibly because the company's headquarters is located there. The second and third cities are Yekaterinburg and Rostov-on-Don. In the capital, company's services are used the least.\n",
    "\n",
    "- The majority of users are young people under 35. This is predictable because scooters are a relatively new form of transport that young people have adopted the quickest. To use scooters, one must also be more adept with smartphones, which is harder for the older generation.\n",
    "- Typically, users travel up to 4.5 km per trip, with most trips being around 3 km. There is a notable peak around trips up to 1.5 km. These trips might not have been for practical purposes; people may have just taken scooters to try them out or for a bit of fun.\n",
    "- There are some odd trips lasting 0.5 seconds in the data, which seem to indicate an issue with the scooter rental system. The reasons for this error need to be investigated.\n",
    "- There are slightly more non-subscribed users than subscribed ones. Most trips by subscribed users last from 10 to 25 minutes, and most distances range from 2.5 km to 4 km. The duration distribution of trips for non-subscribed users is roughly the same as for subscribed users—the majority of trips last from 10 to 25 minutes. However, the distances differ a bit: non-subscribed users make more short trips—up to 1 km and up to 3 km. Most travel between 2 and 4.5 km.\n",
    "- Regarding hypotheses: subscribed users spend more time on trips, the average distance per trip does not exceed the optimal 3130 meters, and the monthly revenue is higher than that from non-subscribed users. All indications are that subscribed users are more profitable than non-subscribed users. However, it is not advisable to completely abandon the free offering, as there are more non-subscribed users than subscribed ones."
   ]
  }
 ],
 "metadata": {
  "ExecuteTimeLog": [
   {
    "duration": 46,
    "start_time": "2023-11-13T15:40:25.073Z"
   },
   {
    "duration": 1180,
    "start_time": "2023-11-13T15:40:35.715Z"
   },
   {
    "duration": 97,
    "start_time": "2023-11-13T15:40:36.897Z"
   },
   {
    "duration": 9,
    "start_time": "2023-11-13T15:40:36.996Z"
   },
   {
    "duration": 96,
    "start_time": "2023-11-13T15:40:37.007Z"
   },
   {
    "duration": 0,
    "start_time": "2023-11-13T15:40:37.105Z"
   },
   {
    "duration": 0,
    "start_time": "2023-11-13T15:40:37.106Z"
   },
   {
    "duration": 0,
    "start_time": "2023-11-13T15:40:37.107Z"
   },
   {
    "duration": 0,
    "start_time": "2023-11-13T15:40:37.108Z"
   },
   {
    "duration": 0,
    "start_time": "2023-11-13T15:40:37.109Z"
   },
   {
    "duration": 0,
    "start_time": "2023-11-13T15:40:37.109Z"
   },
   {
    "duration": 0,
    "start_time": "2023-11-13T15:40:37.110Z"
   },
   {
    "duration": 0,
    "start_time": "2023-11-13T15:40:37.111Z"
   },
   {
    "duration": 0,
    "start_time": "2023-11-13T15:40:37.112Z"
   },
   {
    "duration": 0,
    "start_time": "2023-11-13T15:40:37.113Z"
   },
   {
    "duration": 0,
    "start_time": "2023-11-13T15:40:37.114Z"
   },
   {
    "duration": 1,
    "start_time": "2023-11-13T15:40:37.114Z"
   },
   {
    "duration": 0,
    "start_time": "2023-11-13T15:40:37.115Z"
   },
   {
    "duration": 0,
    "start_time": "2023-11-13T15:40:37.116Z"
   },
   {
    "duration": 0,
    "start_time": "2023-11-13T15:40:37.117Z"
   },
   {
    "duration": 0,
    "start_time": "2023-11-13T15:40:37.118Z"
   },
   {
    "duration": 0,
    "start_time": "2023-11-13T15:40:37.118Z"
   },
   {
    "duration": 0,
    "start_time": "2023-11-13T15:40:37.119Z"
   },
   {
    "duration": 0,
    "start_time": "2023-11-13T15:40:37.120Z"
   },
   {
    "duration": 0,
    "start_time": "2023-11-13T15:40:37.121Z"
   },
   {
    "duration": 0,
    "start_time": "2023-11-13T15:40:37.122Z"
   },
   {
    "duration": 0,
    "start_time": "2023-11-13T15:40:37.123Z"
   },
   {
    "duration": 0,
    "start_time": "2023-11-13T15:40:37.124Z"
   },
   {
    "duration": 0,
    "start_time": "2023-11-13T15:40:37.125Z"
   },
   {
    "duration": 0,
    "start_time": "2023-11-13T15:40:37.126Z"
   },
   {
    "duration": 0,
    "start_time": "2023-11-13T15:40:37.156Z"
   },
   {
    "duration": 0,
    "start_time": "2023-11-13T15:40:37.157Z"
   },
   {
    "duration": 0,
    "start_time": "2023-11-13T15:40:37.157Z"
   },
   {
    "duration": 1,
    "start_time": "2023-11-13T15:40:37.158Z"
   },
   {
    "duration": 0,
    "start_time": "2023-11-13T15:40:37.159Z"
   },
   {
    "duration": 0,
    "start_time": "2023-11-13T15:40:37.160Z"
   },
   {
    "duration": 0,
    "start_time": "2023-11-13T15:40:37.161Z"
   },
   {
    "duration": 0,
    "start_time": "2023-11-13T15:40:37.162Z"
   },
   {
    "duration": 0,
    "start_time": "2023-11-13T15:40:37.163Z"
   },
   {
    "duration": 0,
    "start_time": "2023-11-13T15:40:37.164Z"
   },
   {
    "duration": 0,
    "start_time": "2023-11-13T15:40:37.165Z"
   },
   {
    "duration": 0,
    "start_time": "2023-11-13T15:40:37.166Z"
   },
   {
    "duration": 0,
    "start_time": "2023-11-13T15:40:37.167Z"
   },
   {
    "duration": 0,
    "start_time": "2023-11-13T15:40:37.167Z"
   },
   {
    "duration": 0,
    "start_time": "2023-11-13T15:40:37.168Z"
   },
   {
    "duration": 0,
    "start_time": "2023-11-13T15:40:37.169Z"
   },
   {
    "duration": 0,
    "start_time": "2023-11-13T15:40:37.170Z"
   },
   {
    "duration": 0,
    "start_time": "2023-11-13T15:40:37.171Z"
   },
   {
    "duration": 0,
    "start_time": "2023-11-13T15:40:37.172Z"
   },
   {
    "duration": 0,
    "start_time": "2023-11-13T15:40:37.173Z"
   },
   {
    "duration": 178,
    "start_time": "2023-11-13T15:43:07.355Z"
   },
   {
    "duration": 43,
    "start_time": "2023-11-13T15:43:15.881Z"
   },
   {
    "duration": 73,
    "start_time": "2023-11-13T15:44:24.294Z"
   },
   {
    "duration": 9,
    "start_time": "2023-11-13T15:44:26.906Z"
   },
   {
    "duration": 12,
    "start_time": "2023-11-13T16:02:23.341Z"
   },
   {
    "duration": 9,
    "start_time": "2023-11-13T16:05:02.488Z"
   },
   {
    "duration": 1066,
    "start_time": "2023-11-13T16:11:03.321Z"
   },
   {
    "duration": 39,
    "start_time": "2023-11-13T16:11:04.388Z"
   },
   {
    "duration": 10,
    "start_time": "2023-11-13T16:11:04.428Z"
   },
   {
    "duration": 38,
    "start_time": "2023-11-13T16:11:04.439Z"
   },
   {
    "duration": 10,
    "start_time": "2023-11-13T16:11:04.478Z"
   },
   {
    "duration": 20,
    "start_time": "2023-11-13T16:11:04.489Z"
   },
   {
    "duration": 9,
    "start_time": "2023-11-13T16:11:04.510Z"
   },
   {
    "duration": 35,
    "start_time": "2023-11-13T16:11:04.520Z"
   },
   {
    "duration": 19,
    "start_time": "2023-11-13T16:11:04.557Z"
   },
   {
    "duration": 6,
    "start_time": "2023-11-13T16:11:04.578Z"
   },
   {
    "duration": 8,
    "start_time": "2023-11-13T16:11:04.585Z"
   },
   {
    "duration": 7,
    "start_time": "2023-11-13T16:11:04.594Z"
   },
   {
    "duration": 5,
    "start_time": "2023-11-13T16:11:04.602Z"
   },
   {
    "duration": 12,
    "start_time": "2023-11-13T16:11:04.609Z"
   },
   {
    "duration": 42,
    "start_time": "2023-11-13T16:11:04.622Z"
   },
   {
    "duration": 161,
    "start_time": "2023-11-13T16:11:04.665Z"
   },
   {
    "duration": 11,
    "start_time": "2023-11-13T16:11:04.827Z"
   },
   {
    "duration": 117,
    "start_time": "2023-11-13T16:11:04.840Z"
   },
   {
    "duration": 3,
    "start_time": "2023-11-13T16:11:04.959Z"
   },
   {
    "duration": 23,
    "start_time": "2023-11-13T16:11:04.964Z"
   },
   {
    "duration": 22,
    "start_time": "2023-11-13T16:11:04.989Z"
   },
   {
    "duration": 155,
    "start_time": "2023-11-13T16:11:05.013Z"
   },
   {
    "duration": 4,
    "start_time": "2023-11-13T16:11:05.169Z"
   },
   {
    "duration": 251,
    "start_time": "2023-11-13T16:11:05.174Z"
   },
   {
    "duration": 235,
    "start_time": "2023-11-13T16:11:05.426Z"
   },
   {
    "duration": 4,
    "start_time": "2023-11-13T16:11:05.663Z"
   },
   {
    "duration": 250,
    "start_time": "2023-11-13T16:11:05.668Z"
   },
   {
    "duration": 200,
    "start_time": "2023-11-13T16:11:05.921Z"
   },
   {
    "duration": 6,
    "start_time": "2023-11-13T16:11:06.123Z"
   },
   {
    "duration": 249,
    "start_time": "2023-11-13T16:11:06.130Z"
   },
   {
    "duration": 4,
    "start_time": "2023-11-13T16:11:06.381Z"
   },
   {
    "duration": 50,
    "start_time": "2023-11-13T16:11:06.386Z"
   },
   {
    "duration": 34,
    "start_time": "2023-11-13T16:11:06.437Z"
   },
   {
    "duration": 12,
    "start_time": "2023-11-13T16:11:06.473Z"
   },
   {
    "duration": 28,
    "start_time": "2023-11-13T16:11:06.487Z"
   },
   {
    "duration": 25,
    "start_time": "2023-11-13T16:11:06.516Z"
   },
   {
    "duration": 21,
    "start_time": "2023-11-13T16:11:06.542Z"
   },
   {
    "duration": 20,
    "start_time": "2023-11-13T16:11:06.564Z"
   },
   {
    "duration": 283,
    "start_time": "2023-11-13T16:11:06.586Z"
   },
   {
    "duration": 215,
    "start_time": "2023-11-13T16:11:06.871Z"
   },
   {
    "duration": 19,
    "start_time": "2023-11-13T16:11:07.087Z"
   },
   {
    "duration": 225,
    "start_time": "2023-11-13T16:11:07.107Z"
   },
   {
    "duration": 324,
    "start_time": "2023-11-13T16:11:07.333Z"
   },
   {
    "duration": 16,
    "start_time": "2023-11-13T16:11:07.658Z"
   },
   {
    "duration": 37,
    "start_time": "2023-11-13T16:11:07.676Z"
   },
   {
    "duration": 142,
    "start_time": "2023-11-13T16:11:07.715Z"
   },
   {
    "duration": 9,
    "start_time": "2023-11-13T16:11:07.858Z"
   },
   {
    "duration": 11,
    "start_time": "2023-11-13T16:11:07.868Z"
   },
   {
    "duration": 34,
    "start_time": "2023-11-13T16:11:07.880Z"
   },
   {
    "duration": 137,
    "start_time": "2023-11-13T16:25:09.877Z"
   },
   {
    "duration": 11,
    "start_time": "2023-11-13T16:25:23.526Z"
   },
   {
    "duration": 150,
    "start_time": "2023-11-13T16:25:26.258Z"
   },
   {
    "duration": 9,
    "start_time": "2023-11-13T16:26:43.250Z"
   },
   {
    "duration": 12,
    "start_time": "2023-11-13T16:26:50.666Z"
   },
   {
    "duration": 137,
    "start_time": "2023-11-13T16:26:55.900Z"
   },
   {
    "duration": 95,
    "start_time": "2023-11-13T16:30:51.248Z"
   },
   {
    "duration": 68,
    "start_time": "2023-11-13T16:32:02.224Z"
   },
   {
    "duration": 9,
    "start_time": "2023-11-13T16:38:53.875Z"
   },
   {
    "duration": 8,
    "start_time": "2023-11-13T16:41:01.147Z"
   },
   {
    "duration": 7,
    "start_time": "2023-11-13T16:41:26.877Z"
   },
   {
    "duration": 344,
    "start_time": "2023-11-13T16:59:50.972Z"
   },
   {
    "duration": 446,
    "start_time": "2023-11-13T17:00:51.947Z"
   },
   {
    "duration": 348,
    "start_time": "2023-11-13T17:03:48.556Z"
   },
   {
    "duration": 364,
    "start_time": "2023-11-13T17:04:33.284Z"
   },
   {
    "duration": 1081,
    "start_time": "2023-11-13T17:27:49.608Z"
   },
   {
    "duration": 38,
    "start_time": "2023-11-13T17:27:50.691Z"
   },
   {
    "duration": 14,
    "start_time": "2023-11-13T17:27:50.731Z"
   },
   {
    "duration": 44,
    "start_time": "2023-11-13T17:27:50.747Z"
   },
   {
    "duration": 14,
    "start_time": "2023-11-13T17:27:50.793Z"
   },
   {
    "duration": 23,
    "start_time": "2023-11-13T17:27:50.809Z"
   },
   {
    "duration": 13,
    "start_time": "2023-11-13T17:27:50.834Z"
   },
   {
    "duration": 37,
    "start_time": "2023-11-13T17:27:50.849Z"
   },
   {
    "duration": 10,
    "start_time": "2023-11-13T17:27:50.888Z"
   },
   {
    "duration": 5,
    "start_time": "2023-11-13T17:27:50.901Z"
   },
   {
    "duration": 33,
    "start_time": "2023-11-13T17:27:50.908Z"
   },
   {
    "duration": 12,
    "start_time": "2023-11-13T17:27:50.943Z"
   },
   {
    "duration": 5,
    "start_time": "2023-11-13T17:27:50.957Z"
   },
   {
    "duration": 5,
    "start_time": "2023-11-13T17:27:50.964Z"
   },
   {
    "duration": 14,
    "start_time": "2023-11-13T17:27:50.971Z"
   },
   {
    "duration": 188,
    "start_time": "2023-11-13T17:27:50.987Z"
   },
   {
    "duration": 14,
    "start_time": "2023-11-13T17:27:51.177Z"
   },
   {
    "duration": 105,
    "start_time": "2023-11-13T17:27:51.193Z"
   },
   {
    "duration": 5,
    "start_time": "2023-11-13T17:27:51.300Z"
   },
   {
    "duration": 14,
    "start_time": "2023-11-13T17:27:51.306Z"
   },
   {
    "duration": 11,
    "start_time": "2023-11-13T17:27:51.322Z"
   },
   {
    "duration": 37,
    "start_time": "2023-11-13T17:27:51.334Z"
   },
   {
    "duration": 150,
    "start_time": "2023-11-13T17:27:51.373Z"
   },
   {
    "duration": 4,
    "start_time": "2023-11-13T17:27:51.525Z"
   },
   {
    "duration": 260,
    "start_time": "2023-11-13T17:27:51.530Z"
   },
   {
    "duration": 258,
    "start_time": "2023-11-13T17:27:51.792Z"
   },
   {
    "duration": 6,
    "start_time": "2023-11-13T17:27:52.055Z"
   },
   {
    "duration": 240,
    "start_time": "2023-11-13T17:27:52.065Z"
   },
   {
    "duration": 199,
    "start_time": "2023-11-13T17:27:52.307Z"
   },
   {
    "duration": 6,
    "start_time": "2023-11-13T17:27:52.508Z"
   },
   {
    "duration": 8,
    "start_time": "2023-11-13T17:27:52.516Z"
   },
   {
    "duration": 251,
    "start_time": "2023-11-13T17:27:52.526Z"
   },
   {
    "duration": 4,
    "start_time": "2023-11-13T17:27:52.779Z"
   },
   {
    "duration": 17,
    "start_time": "2023-11-13T17:27:52.784Z"
   },
   {
    "duration": 31,
    "start_time": "2023-11-13T17:27:52.802Z"
   },
   {
    "duration": 37,
    "start_time": "2023-11-13T17:27:52.835Z"
   },
   {
    "duration": 20,
    "start_time": "2023-11-13T17:27:52.875Z"
   },
   {
    "duration": 28,
    "start_time": "2023-11-13T17:27:52.897Z"
   },
   {
    "duration": 39,
    "start_time": "2023-11-13T17:27:52.927Z"
   },
   {
    "duration": 21,
    "start_time": "2023-11-13T17:27:52.968Z"
   },
   {
    "duration": 25,
    "start_time": "2023-11-13T17:27:52.993Z"
   },
   {
    "duration": 387,
    "start_time": "2023-11-13T17:27:53.020Z"
   },
   {
    "duration": 368,
    "start_time": "2023-11-13T17:27:53.409Z"
   },
   {
    "duration": 17,
    "start_time": "2023-11-13T17:27:53.778Z"
   },
   {
    "duration": 42,
    "start_time": "2023-11-13T17:27:53.796Z"
   },
   {
    "duration": 141,
    "start_time": "2023-11-13T17:27:53.839Z"
   },
   {
    "duration": 9,
    "start_time": "2023-11-13T17:27:53.981Z"
   },
   {
    "duration": 24,
    "start_time": "2023-11-13T17:27:53.991Z"
   },
   {
    "duration": 12,
    "start_time": "2023-11-13T17:27:54.016Z"
   }
  ],
  "kernelspec": {
   "display_name": "Python 3 (ipykernel)",
   "language": "python",
   "name": "python3"
  },
  "language_info": {
   "codemirror_mode": {
    "name": "ipython",
    "version": 3
   },
   "file_extension": ".py",
   "mimetype": "text/x-python",
   "name": "python",
   "nbconvert_exporter": "python",
   "pygments_lexer": "ipython3",
   "version": "3.9.5"
  },
  "toc": {
   "base_numbering": 1,
   "nav_menu": {},
   "number_sections": true,
   "sideBar": true,
   "skip_h1_title": true,
   "title_cell": "Table of Contents",
   "title_sidebar": "Contents",
   "toc_cell": true,
   "toc_position": {},
   "toc_section_display": true,
   "toc_window_display": false
  }
 },
 "nbformat": 4,
 "nbformat_minor": 5
}
