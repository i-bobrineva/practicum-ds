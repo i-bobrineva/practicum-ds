{
 "cells": [
  {
   "cell_type": "markdown",
   "id": "3973d9cf",
   "metadata": {
    "toc": true
   },
   "source": [
    "<h1>Table of Contents<span class=\"tocSkip\"></span></h1>\n",
    "<div class=\"toc\"><ul class=\"toc-item\"><li><span><a href=\"#Изучение-информации\" data-toc-modified-id=\"Изучение-информации-1\"><span class=\"toc-item-num\">1&nbsp;&nbsp;</span>Изучение информации</a></span></li><li><span><a href=\"#Предобработка\" data-toc-modified-id=\"Предобработка-2\"><span class=\"toc-item-num\">2&nbsp;&nbsp;</span>Предобработка</a></span><ul class=\"toc-item\"><li><span><a href=\"#Обработка-пропущенных-значений\" data-toc-modified-id=\"Обработка-пропущенных-значений-2.1\"><span class=\"toc-item-num\">2.1&nbsp;&nbsp;</span>Обработка пропущенных значений</a></span></li><li><span><a href=\"#Изменение-типов-данных\" data-toc-modified-id=\"Изменение-типов-данных-2.2\"><span class=\"toc-item-num\">2.2&nbsp;&nbsp;</span>Изменение типов данных</a></span></li><li><span><a href=\"#Удаление-неявных-дубликатов\" data-toc-modified-id=\"Удаление-неявных-дубликатов-2.3\"><span class=\"toc-item-num\">2.3&nbsp;&nbsp;</span>Удаление неявных дубликатов</a></span></li><li><span><a href=\"#Добавление-новых-столбцов\" data-toc-modified-id=\"Добавление-новых-столбцов-2.4\"><span class=\"toc-item-num\">2.4&nbsp;&nbsp;</span>Добавление новых столбцов</a></span></li></ul></li><li><span><a href=\"#Исследовательский-анализ-данных\" data-toc-modified-id=\"Исследовательский-анализ-данных-3\"><span class=\"toc-item-num\">3&nbsp;&nbsp;</span>Исследовательский анализ данных</a></span><ul class=\"toc-item\"><li><span><a href=\"#Гистограммы-по-параметрам\" data-toc-modified-id=\"Гистограммы-по-параметрам-3.1\"><span class=\"toc-item-num\">3.1&nbsp;&nbsp;</span>Гистограммы по параметрам</a></span><ul class=\"toc-item\"><li><span><a href=\"#Общая-площадь\" data-toc-modified-id=\"Общая-площадь-3.1.1\"><span class=\"toc-item-num\">3.1.1&nbsp;&nbsp;</span>Общая площадь</a></span></li><li><span><a href=\"#Жилая-площадь\" data-toc-modified-id=\"Жилая-площадь-3.1.2\"><span class=\"toc-item-num\">3.1.2&nbsp;&nbsp;</span>Жилая площадь</a></span></li><li><span><a href=\"#Площадь-кухни\" data-toc-modified-id=\"Площадь-кухни-3.1.3\"><span class=\"toc-item-num\">3.1.3&nbsp;&nbsp;</span>Площадь кухни</a></span></li><li><span><a href=\"#Цена-объекта\" data-toc-modified-id=\"Цена-объекта-3.1.4\"><span class=\"toc-item-num\">3.1.4&nbsp;&nbsp;</span>Цена объекта</a></span></li><li><span><a href=\"#Количество-комнат\" data-toc-modified-id=\"Количество-комнат-3.1.5\"><span class=\"toc-item-num\">3.1.5&nbsp;&nbsp;</span>Количество комнат</a></span></li><li><span><a href=\"#Высота-потолков\" data-toc-modified-id=\"Высота-потолков-3.1.6\"><span class=\"toc-item-num\">3.1.6&nbsp;&nbsp;</span>Высота потолков</a></span></li><li><span><a href=\"#Тип-этажа-квартиры\" data-toc-modified-id=\"Тип-этажа-квартиры-3.1.7\"><span class=\"toc-item-num\">3.1.7&nbsp;&nbsp;</span>Тип этажа квартиры</a></span></li><li><span><a href=\"#Общее-количество-этажей-в-доме\" data-toc-modified-id=\"Общее-количество-этажей-в-доме-3.1.8\"><span class=\"toc-item-num\">3.1.8&nbsp;&nbsp;</span>Общее количество этажей в доме</a></span></li><li><span><a href=\"#Расстояние-до-центра-города-в-метрах\" data-toc-modified-id=\"Расстояние-до-центра-города-в-метрах-3.1.9\"><span class=\"toc-item-num\">3.1.9&nbsp;&nbsp;</span>Расстояние до центра города в метрах</a></span></li><li><span><a href=\"#Расстояние-до-ближайшего-парка\" data-toc-modified-id=\"Расстояние-до-ближайшего-парка-3.1.10\"><span class=\"toc-item-num\">3.1.10&nbsp;&nbsp;</span>Расстояние до ближайшего парка</a></span></li></ul></li><li><span><a href=\"#Скорость-продажи-квартир\" data-toc-modified-id=\"Скорость-продажи-квартир-3.2\"><span class=\"toc-item-num\">3.2&nbsp;&nbsp;</span>Скорость продажи квартир</a></span></li><li><span><a href=\"#Факторы,-которые-влияют-на-стоимость-квартиры\" data-toc-modified-id=\"Факторы,-которые-влияют-на-стоимость-квартиры-3.3\"><span class=\"toc-item-num\">3.3&nbsp;&nbsp;</span>Факторы, которые влияют на стоимость квартиры</a></span><ul class=\"toc-item\"><li><span><a href=\"#Связь-цены-с-общей-площадью\" data-toc-modified-id=\"Связь-цены-с-общей-площадью-3.3.1\"><span class=\"toc-item-num\">3.3.1&nbsp;&nbsp;</span>Связь цены с общей площадью</a></span></li><li><span><a href=\"#Связь-цены-с-жилой-площадью\" data-toc-modified-id=\"Связь-цены-с-жилой-площадью-3.3.2\"><span class=\"toc-item-num\">3.3.2&nbsp;&nbsp;</span>Связь цены с жилой площадью</a></span></li><li><span><a href=\"#Связь-цены-с-площадью-кухни\" data-toc-modified-id=\"Связь-цены-с-площадью-кухни-3.3.3\"><span class=\"toc-item-num\">3.3.3&nbsp;&nbsp;</span>Связь цены с площадью кухни</a></span></li><li><span><a href=\"#Связь-цены-и-количества-комнат\" data-toc-modified-id=\"Связь-цены-и-количества-комнат-3.3.4\"><span class=\"toc-item-num\">3.3.4&nbsp;&nbsp;</span>Связь цены и количества комнат</a></span></li><li><span><a href=\"#Связь-цены-с-этажом\" data-toc-modified-id=\"Связь-цены-с-этажом-3.3.5\"><span class=\"toc-item-num\">3.3.5&nbsp;&nbsp;</span>Связь цены с этажом</a></span></li><li><span><a href=\"#Связь-цены-с-датой-размещения\" data-toc-modified-id=\"Связь-цены-с-датой-размещения-3.3.6\"><span class=\"toc-item-num\">3.3.6&nbsp;&nbsp;</span>Связь цены с датой размещения</a></span></li></ul></li><li><span><a href=\"#Cредняя-цена-одного-квадратного-метра-в-10-населённых-пунктах-с-наибольшим-числом-объявлений\" data-toc-modified-id=\"Cредняя-цена-одного-квадратного-метра-в-10-населённых-пунктах-с-наибольшим-числом-объявлений-3.4\"><span class=\"toc-item-num\">3.4&nbsp;&nbsp;</span>Cредняя цена одного квадратного метра в 10 населённых пунктах с наибольшим числом объявлений</a></span></li><li><span><a href=\"#Связь-цены-и-близости-к-центру-города\" data-toc-modified-id=\"Связь-цены-и-близости-к-центру-города-3.5\"><span class=\"toc-item-num\">3.5&nbsp;&nbsp;</span>Связь цены и близости к центру города</a></span></li></ul></li><li><span><a href=\"#Общий-вывод\" data-toc-modified-id=\"Общий-вывод-4\"><span class=\"toc-item-num\">4&nbsp;&nbsp;</span>Общий вывод</a></span></li></ul></div>"
   ]
  },
  {
   "cell_type": "markdown",
   "id": "1d4f5b62",
   "metadata": {},
   "source": [
    "# Исследование объявлений о продаже квартир"
   ]
  },
  {
   "cell_type": "markdown",
   "id": "d9b1a71f",
   "metadata": {},
   "source": [
    "## Изучение информации"
   ]
  },
  {
   "cell_type": "code",
   "execution_count": 1,
   "id": "22177858",
   "metadata": {},
   "outputs": [
    {
     "name": "stdout",
     "output_type": "stream",
     "text": [
      "  total_images\\tlast_price\\ttotal_area\\tfirst_day_exposition\\trooms\\tceiling_height\\tfloors_total\\tliving_area\\tfloor\\tis_apartment\\tstudio\\topen_plan\\tkitchen_area\\tbalcony\\tlocality_name\\tairports_nearest\\tcityCenters_nearest\\tparks_around3000\\tparks_nearest\\tponds_around3000\\tponds_nearest\\tdays_exposition\n",
      "0  20\\t13000000.0\\t108.0\\t2019-03-07T00:00:00\\t3\\...                                                                                                                                                                                                                                                                  \n",
      "1  7\\t3350000.0\\t40.4\\t2018-12-04T00:00:00\\t1\\t\\t...                                                                                                                                                                                                                                                                  \n",
      "2  10\\t5196000.0\\t56.0\\t2015-08-20T00:00:00\\t2\\t\\...                                                                                                                                                                                                                                                                  \n",
      "3  0\\t64900000.0\\t159.0\\t2015-07-24T00:00:00\\t3\\t...                                                                                                                                                                                                                                                                  \n",
      "4  2\\t10000000.0\\t100.0\\t2018-06-19T00:00:00\\t2\\t...                                                                                                                                                                                                                                                                  \n",
      "5  10\\t2890000.0\\t30.4\\t2018-09-10T00:00:00\\t1\\t\\...                                                                                                                                                                                                                                                                  \n",
      "6  6\\t3700000.0\\t37.3\\t2017-11-02T00:00:00\\t1\\t\\t...                                                                                                                                                                                                                                                                  \n",
      "7  5\\t7915000.0\\t71.6\\t2019-04-18T00:00:00\\t2\\t\\t...                                                                                                                                                                                                                                                                  \n",
      "8  20\\t2900000.0\\t33.16\\t2018-05-23T00:00:00\\t1\\t...                                                                                                                                                                                                                                                                  \n",
      "9  18\\t5400000.0\\t61.0\\t2017-02-26T00:00:00\\t3\\t2...                                                                                                                                                                                                                                                                  \n"
     ]
    }
   ],
   "source": [
    "import pandas as pd # импортирую библиотеку pandas\n",
    "data = pd.read_csv('/Users/ira-bobrineva/Downloads/real_estate_data.csv') # открываю датасет\n",
    "print(data.head(10)) # вывожу часть датасета, чтобы предварительно изучить данные"
   ]
  },
  {
   "cell_type": "markdown",
   "id": "760a31e9",
   "metadata": {},
   "source": [
    "Данные слиплись. Надо их обработать и положить в таблицу"
   ]
  },
  {
   "cell_type": "code",
   "execution_count": 2,
   "id": "afe49535",
   "metadata": {},
   "outputs": [
    {
     "name": "stdout",
     "output_type": "stream",
     "text": [
      "   total_images  last_price  total_area first_day_exposition  rooms  \\\n",
      "0            20  13000000.0      108.00  2019-03-07T00:00:00      3   \n",
      "1             7   3350000.0       40.40  2018-12-04T00:00:00      1   \n",
      "2            10   5196000.0       56.00  2015-08-20T00:00:00      2   \n",
      "3             0  64900000.0      159.00  2015-07-24T00:00:00      3   \n",
      "4             2  10000000.0      100.00  2018-06-19T00:00:00      2   \n",
      "5            10   2890000.0       30.40  2018-09-10T00:00:00      1   \n",
      "6             6   3700000.0       37.30  2017-11-02T00:00:00      1   \n",
      "7             5   7915000.0       71.60  2019-04-18T00:00:00      2   \n",
      "8            20   2900000.0       33.16  2018-05-23T00:00:00      1   \n",
      "9            18   5400000.0       61.00  2017-02-26T00:00:00      3   \n",
      "\n",
      "   ceiling_height  floors_total  living_area  floor is_apartment  ...  \\\n",
      "0            2.70          16.0        51.00      8          NaN  ...   \n",
      "1             NaN          11.0        18.60      1          NaN  ...   \n",
      "2             NaN           5.0        34.30      4          NaN  ...   \n",
      "3             NaN          14.0          NaN      9          NaN  ...   \n",
      "4            3.03          14.0        32.00     13          NaN  ...   \n",
      "5             NaN          12.0        14.40      5          NaN  ...   \n",
      "6             NaN          26.0        10.60      6          NaN  ...   \n",
      "7             NaN          24.0          NaN     22          NaN  ...   \n",
      "8             NaN          27.0        15.43     26          NaN  ...   \n",
      "9            2.50           9.0        43.60      7          NaN  ...   \n",
      "\n",
      "   kitchen_area  balcony              locality_name  airports_nearest  \\\n",
      "0         25.00      NaN            Санкт-Петербург           18863.0   \n",
      "1         11.00      2.0             посёлок Шушары           12817.0   \n",
      "2          8.30      0.0            Санкт-Петербург           21741.0   \n",
      "3           NaN      0.0            Санкт-Петербург           28098.0   \n",
      "4         41.00      NaN            Санкт-Петербург           31856.0   \n",
      "5          9.10      NaN  городской посёлок Янино-1               NaN   \n",
      "6         14.40      1.0          посёлок Парголово           52996.0   \n",
      "7         18.90      2.0            Санкт-Петербург           23982.0   \n",
      "8          8.81      NaN             посёлок Мурино               NaN   \n",
      "9          6.50      2.0            Санкт-Петербург           50898.0   \n",
      "\n",
      "  cityCenters_nearest  parks_around3000  parks_nearest  ponds_around3000  \\\n",
      "0             16028.0               1.0          482.0               2.0   \n",
      "1             18603.0               0.0            NaN               0.0   \n",
      "2             13933.0               1.0           90.0               2.0   \n",
      "3              6800.0               2.0           84.0               3.0   \n",
      "4              8098.0               2.0          112.0               1.0   \n",
      "5                 NaN               NaN            NaN               NaN   \n",
      "6             19143.0               0.0            NaN               0.0   \n",
      "7             11634.0               0.0            NaN               0.0   \n",
      "8                 NaN               NaN            NaN               NaN   \n",
      "9             15008.0               0.0            NaN               0.0   \n",
      "\n",
      "   ponds_nearest  days_exposition  \n",
      "0          755.0              NaN  \n",
      "1            NaN             81.0  \n",
      "2          574.0            558.0  \n",
      "3          234.0            424.0  \n",
      "4           48.0            121.0  \n",
      "5            NaN             55.0  \n",
      "6            NaN            155.0  \n",
      "7            NaN              NaN  \n",
      "8            NaN            189.0  \n",
      "9            NaN            289.0  \n",
      "\n",
      "[10 rows x 22 columns]\n"
     ]
    }
   ],
   "source": [
    "data = pd.read_csv('/Users/ira-bobrineva/Downloads/real_estate_data.csv', sep='\\t') # разделила данные в датасете по столбцам\n",
    "\n",
    "print(data.head(10))                   "
   ]
  },
  {
   "cell_type": "code",
   "execution_count": 3,
   "id": "7ac1f58a",
   "metadata": {},
   "outputs": [
    {
     "name": "stdout",
     "output_type": "stream",
     "text": [
      "<class 'pandas.core.frame.DataFrame'>\n",
      "RangeIndex: 23699 entries, 0 to 23698\n",
      "Data columns (total 22 columns):\n",
      " #   Column                Non-Null Count  Dtype  \n",
      "---  ------                --------------  -----  \n",
      " 0   total_images          23699 non-null  int64  \n",
      " 1   last_price            23699 non-null  float64\n",
      " 2   total_area            23699 non-null  float64\n",
      " 3   first_day_exposition  23699 non-null  object \n",
      " 4   rooms                 23699 non-null  int64  \n",
      " 5   ceiling_height        14504 non-null  float64\n",
      " 6   floors_total          23613 non-null  float64\n",
      " 7   living_area           21796 non-null  float64\n",
      " 8   floor                 23699 non-null  int64  \n",
      " 9   is_apartment          2775 non-null   object \n",
      " 10  studio                23699 non-null  bool   \n",
      " 11  open_plan             23699 non-null  bool   \n",
      " 12  kitchen_area          21421 non-null  float64\n",
      " 13  balcony               12180 non-null  float64\n",
      " 14  locality_name         23650 non-null  object \n",
      " 15  airports_nearest      18157 non-null  float64\n",
      " 16  cityCenters_nearest   18180 non-null  float64\n",
      " 17  parks_around3000      18181 non-null  float64\n",
      " 18  parks_nearest         8079 non-null   float64\n",
      " 19  ponds_around3000      18181 non-null  float64\n",
      " 20  ponds_nearest         9110 non-null   float64\n",
      " 21  days_exposition       20518 non-null  float64\n",
      "dtypes: bool(2), float64(14), int64(3), object(3)\n",
      "memory usage: 3.7+ MB\n"
     ]
    }
   ],
   "source": [
    "data.info() # посмотрим в целом на данные"
   ]
  },
  {
   "cell_type": "markdown",
   "id": "8cf48d91",
   "metadata": {},
   "source": [
    "Предварительный анализ: в данных есть нулевые значения, не все типы данных обусловлены самими данными (напр. is_apartment должен быть булевым типом), надо поправить название cityCenters_nearest"
   ]
  },
  {
   "cell_type": "code",
   "execution_count": 4,
   "id": "3d002227",
   "metadata": {},
   "outputs": [
    {
     "data": {
      "text/plain": [
       "array([[<Axes: title={'center': 'total_images'}>,\n",
       "        <Axes: title={'center': 'last_price'}>,\n",
       "        <Axes: title={'center': 'total_area'}>,\n",
       "        <Axes: title={'center': 'rooms'}>],\n",
       "       [<Axes: title={'center': 'ceiling_height'}>,\n",
       "        <Axes: title={'center': 'floors_total'}>,\n",
       "        <Axes: title={'center': 'living_area'}>,\n",
       "        <Axes: title={'center': 'floor'}>],\n",
       "       [<Axes: title={'center': 'kitchen_area'}>,\n",
       "        <Axes: title={'center': 'balcony'}>,\n",
       "        <Axes: title={'center': 'airports_nearest'}>,\n",
       "        <Axes: title={'center': 'cityCenters_nearest'}>],\n",
       "       [<Axes: title={'center': 'parks_around3000'}>,\n",
       "        <Axes: title={'center': 'parks_nearest'}>,\n",
       "        <Axes: title={'center': 'ponds_around3000'}>,\n",
       "        <Axes: title={'center': 'ponds_nearest'}>],\n",
       "       [<Axes: title={'center': 'days_exposition'}>, <Axes: >, <Axes: >,\n",
       "        <Axes: >]], dtype=object)"
      ]
     },
     "execution_count": 4,
     "metadata": {},
     "output_type": "execute_result"
    },
    {
     "data": {
      "image/png": "[encoded data removed]",
      "text/plain": [
       "<Figure size 2000x2000 with 20 Axes>"
      ]
     },
     "metadata": {},
     "output_type": "display_data"
    }
   ],
   "source": [
    "data.hist(figsize=(20, 20)) # построю гистограммы по числовым значениям, чтобы ещё раз изучить данные\n"
   ]
  },
  {
   "cell_type": "markdown",
   "id": "3077fdde",
   "metadata": {},
   "source": [
    "## Предобработка"
   ]
  },
  {
   "cell_type": "markdown",
   "id": "d8bfeb0a",
   "metadata": {},
   "source": [
    "### Обработка пропущенных значений"
   ]
  },
  {
   "cell_type": "code",
   "execution_count": 5,
   "id": "b00889b4",
   "metadata": {},
   "outputs": [
    {
     "data": {
      "text/plain": [
       "total_images                0\n",
       "last_price                  0\n",
       "total_area                  0\n",
       "first_day_exposition        0\n",
       "rooms                       0\n",
       "ceiling_height           9195\n",
       "floors_total               86\n",
       "living_area              1903\n",
       "floor                       0\n",
       "is_apartment            20924\n",
       "studio                      0\n",
       "open_plan                   0\n",
       "kitchen_area             2278\n",
       "balcony                 11519\n",
       "locality_name              49\n",
       "airports_nearest         5542\n",
       "cityCenters_nearest      5519\n",
       "parks_around3000         5518\n",
       "parks_nearest           15620\n",
       "ponds_around3000         5518\n",
       "ponds_nearest           14589\n",
       "days_exposition          3181\n",
       "dtype: int64"
      ]
     },
     "execution_count": 5,
     "metadata": {},
     "output_type": "execute_result"
    }
   ],
   "source": [
    "data.isna().sum() # вывожу количество нулевых значений в каждом столбце"
   ]
  },
  {
   "cell_type": "markdown",
   "id": "969d4192",
   "metadata": {},
   "source": [
    "Пропущенные значения есть в следующих столбцах: ceiling_height (высота потолков), floors_total (всего этажей в доме), living_area (жилая площадь в м²), is_apartment (апартаменты - да/нет), kitchen_area (площадь кухни в м²), balcony (число балконов), locality_name (название нас. пункта), airports_nearest (расстояние до ближайшего аэропорта в м), cityCenters_nearest (расстояние до центра города (м)), parks_around3000 (число парков в радиусе 3 км), parks_nearest (расстояние до ближайшего парка (м)), ponds_around3000 (число водоёмов в радиусе 3 км), ponds_nearest (расстояние до ближайшего водоёма (м)), days_exposition (сколько дней было размещено объявление (от публикации до снятия))\n",
    "\n",
    "Как можно заполнить пропуски:\n",
    "* ceiling_height (высота потолков) - в объявлениях редко указывают высоту потолков, это не самый важный показатель. Можно заменить пропуски на медиану по всем квартирам, потому что высота потолков в целом стандартная.\n",
    "* floors_total (всего этажей в доме) - пропущенных значений немного, я бы просто удалила строки с пропусками.\n",
    "* living_area (жилая площадь в м²) - вот это плохо, если не указали, важный параметр. Нельзя заполнить логически. Оставляю пропуски.\n",
    "* is_apartment (апартаменты - да/нет) - некоторые владельцы могли просто не отметить, что у них не апартаменты. Пропуски можно заменить на False.\n",
    "* kitchen_area (площадь кухни в м²) - тоже нельзя заполнить. Оставляю пропуски.\n",
    "* balcony (число балконов) - возможно, хозяин не указал число балконов, потому что их нет в квартире, можно заменить пропуски на 0.\n",
    "* locality_name (название нас. пункта) - таких пропусков немного, поэтому я бы удалила просто эти строки.\n",
    "* airports_nearest (расстояние до ближайшего аэропорта в м) - пропуски заполняются автоматически, логически восстановить значения нельзя, оставляю пропуски.\n",
    "* cityCenters_nearest (расстояние до центра города (м)) - пропуски заполняются автоматически, логически восстановить значения нельзя, оставляю пропуски.\n",
    "* parks_around3000 (число парков в радиусе 3 км) - не везде есть близко парки, можно поставить 0 в пропусках.\n",
    "* parks_nearest (расстояние до ближайшего парка (м)) - пропуски заполняются автоматически, логически восстановить значения нельзя, оставляю пропуски.\n",
    "* ponds_around3000 (число водоёмов в радиусе 3 км) - не везде есть близко водоёмы, можно поставить 0 в пропусках.\n",
    "* ponds_nearest (расстояние до ближайшего водоёма (м)) - пропуски заполняются автоматически, логически восстановить значения нельзя, оставляю пропуски.\n",
    "* days_exposition (сколько дней было размещено объявление (от публикации до снятия)) - пропуски заполняются автоматически, логически восстановить значения нельзя, оставляю пропуски."
   ]
  },
  {
   "cell_type": "code",
   "execution_count": 6,
   "id": "13bb0fea",
   "metadata": {},
   "outputs": [
    {
     "data": {
      "text/plain": [
       "total_images                0\n",
       "last_price                  0\n",
       "total_area                  0\n",
       "first_day_exposition        0\n",
       "rooms                       0\n",
       "ceiling_height              0\n",
       "floors_total                0\n",
       "living_area              1865\n",
       "floor                       0\n",
       "is_apartment                0\n",
       "studio                      0\n",
       "open_plan                   0\n",
       "kitchen_area             2222\n",
       "balcony                     0\n",
       "locality_name               0\n",
       "airports_nearest         5524\n",
       "city_centers_nearest     5501\n",
       "parks_around3000            0\n",
       "parks_nearest           15535\n",
       "ponds_around3000            0\n",
       "ponds_nearest           14529\n",
       "days_exposition          3171\n",
       "dtype: int64"
      ]
     },
     "execution_count": 6,
     "metadata": {},
     "output_type": "execute_result"
    }
   ],
   "source": [
    "data['ceiling_height'] = data['ceiling_height'].fillna(data['ceiling_height'].median()) # заполняю высоту потолков\n",
    "\n",
    "data['is_apartment'] = data['is_apartment'].fillna(False) # заполняю пропуски False \n",
    "data['balcony'] = data['balcony'].fillna(0)\n",
    "\n",
    "data = data.dropna(subset=['floors_total', 'locality_name']) # удаляю строки без указания этажей и нас. пунктов\n",
    "\n",
    "data['parks_around3000'] = data['parks_around3000'].fillna(0) # заполняю пропущенные значения на 0\n",
    "\n",
    "data['ponds_around3000'] = data['ponds_around3000'].fillna(0) # заполняю пропущенные значения на 0\n",
    "\n",
    "data = data.rename(columns={'cityCenters_nearest': 'city_centers_nearest'}) # исправила синтаксис названия столбца\n",
    "\n",
    "data.isna().sum()"
   ]
  },
  {
   "cell_type": "markdown",
   "id": "405acfed",
   "metadata": {},
   "source": [
    "### Изменение типов данных"
   ]
  },
  {
   "cell_type": "code",
   "execution_count": 7,
   "id": "a36fef59",
   "metadata": {},
   "outputs": [
    {
     "name": "stdout",
     "output_type": "stream",
     "text": [
      "<class 'pandas.core.frame.DataFrame'>\n",
      "Int64Index: 23565 entries, 0 to 23698\n",
      "Data columns (total 22 columns):\n",
      " #   Column                Non-Null Count  Dtype  \n",
      "---  ------                --------------  -----  \n",
      " 0   total_images          23565 non-null  int64  \n",
      " 1   last_price            23565 non-null  float64\n",
      " 2   total_area            23565 non-null  float64\n",
      " 3   first_day_exposition  23565 non-null  object \n",
      " 4   rooms                 23565 non-null  int64  \n",
      " 5   ceiling_height        23565 non-null  float64\n",
      " 6   floors_total          23565 non-null  float64\n",
      " 7   living_area           21700 non-null  float64\n",
      " 8   floor                 23565 non-null  int64  \n",
      " 9   is_apartment          23565 non-null  bool   \n",
      " 10  studio                23565 non-null  bool   \n",
      " 11  open_plan             23565 non-null  bool   \n",
      " 12  kitchen_area          21343 non-null  float64\n",
      " 13  balcony               23565 non-null  float64\n",
      " 14  locality_name         23565 non-null  object \n",
      " 15  airports_nearest      18041 non-null  float64\n",
      " 16  city_centers_nearest  18064 non-null  float64\n",
      " 17  parks_around3000      23565 non-null  float64\n",
      " 18  parks_nearest         8030 non-null   float64\n",
      " 19  ponds_around3000      23565 non-null  float64\n",
      " 20  ponds_nearest         9036 non-null   float64\n",
      " 21  days_exposition       20394 non-null  float64\n",
      "dtypes: bool(3), float64(14), int64(3), object(2)\n",
      "memory usage: 3.7+ MB\n"
     ]
    }
   ],
   "source": [
    "data.info()"
   ]
  },
  {
   "cell_type": "markdown",
   "id": "d33cd43d",
   "metadata": {},
   "source": [
    "Тип данных нужно изменить у следующих целых значений: floors_total (float64), balcony (float64), parks_around3000 (float64), ponds_around3000 (float64).\n",
    "А также поменять строковый тип данных у first_day_exposition на datetime64."
   ]
  },
  {
   "cell_type": "code",
   "execution_count": 8,
   "id": "23faebb3",
   "metadata": {},
   "outputs": [
    {
     "name": "stdout",
     "output_type": "stream",
     "text": [
      "<class 'pandas.core.frame.DataFrame'>\n",
      "Int64Index: 23565 entries, 0 to 23698\n",
      "Data columns (total 22 columns):\n",
      " #   Column                Non-Null Count  Dtype         \n",
      "---  ------                --------------  -----         \n",
      " 0   total_images          23565 non-null  int64         \n",
      " 1   last_price            23565 non-null  float64       \n",
      " 2   total_area            23565 non-null  float64       \n",
      " 3   first_day_exposition  23565 non-null  datetime64[ns]\n",
      " 4   rooms                 23565 non-null  int64         \n",
      " 5   ceiling_height        23565 non-null  float64       \n",
      " 6   floors_total          23565 non-null  int64         \n",
      " 7   living_area           21700 non-null  float64       \n",
      " 8   floor                 23565 non-null  int64         \n",
      " 9   is_apartment          23565 non-null  bool          \n",
      " 10  studio                23565 non-null  bool          \n",
      " 11  open_plan             23565 non-null  bool          \n",
      " 12  kitchen_area          21343 non-null  float64       \n",
      " 13  balcony               23565 non-null  int64         \n",
      " 14  locality_name         23565 non-null  object        \n",
      " 15  airports_nearest      18041 non-null  float64       \n",
      " 16  city_centers_nearest  18064 non-null  float64       \n",
      " 17  parks_around3000      23565 non-null  int64         \n",
      " 18  parks_nearest         8030 non-null   float64       \n",
      " 19  ponds_around3000      23565 non-null  int64         \n",
      " 20  ponds_nearest         9036 non-null   float64       \n",
      " 21  days_exposition       20394 non-null  float64       \n",
      "dtypes: bool(3), datetime64[ns](1), float64(10), int64(7), object(1)\n",
      "memory usage: 3.7+ MB\n"
     ]
    }
   ],
   "source": [
    "data['floors_total'] = data['floors_total'].astype(int)\n",
    "data['balcony'] = data['balcony'].astype(int)\n",
    "data['parks_around3000'] = data['parks_around3000'].astype(int)\n",
    "data['ponds_around3000'] = data['ponds_around3000'].astype(int)\n",
    "data['first_day_exposition'] = pd.to_datetime(data['first_day_exposition'], format='%Y-%m-%dT%H:%M:%S')\n",
    "\n",
    "data.info()"
   ]
  },
  {
   "cell_type": "markdown",
   "id": "d9746277",
   "metadata": {},
   "source": [
    "### Удаление неявных дубликатов"
   ]
  },
  {
   "cell_type": "code",
   "execution_count": 9,
   "id": "87b69a9f",
   "metadata": {},
   "outputs": [
    {
     "data": {
      "text/plain": [
       "array(['Санкт-Петербург', 'посёлок Шушары', 'городской посёлок Янино-1',\n",
       "       'посёлок Парголово', 'посёлок Мурино', 'Ломоносов', 'Сертолово',\n",
       "       'Петергоф', 'Пушкин', 'деревня Кудрово', 'Коммунар', 'Колпино',\n",
       "       'поселок городского типа Красный Бор', 'Гатчина', 'поселок Мурино',\n",
       "       'деревня Фёдоровское', 'Выборг', 'Кронштадт', 'Кировск',\n",
       "       'деревня Новое Девяткино', 'посёлок Металлострой',\n",
       "       'посёлок городского типа Лебяжье',\n",
       "       'посёлок городского типа Сиверский', 'поселок Молодцово',\n",
       "       'поселок городского типа Кузьмоловский',\n",
       "       'садовое товарищество Новая Ропша', 'Павловск',\n",
       "       'деревня Пикколово', 'Всеволожск', 'Волхов', 'Кингисепп',\n",
       "       'Приозерск', 'Сестрорецк', 'деревня Куттузи', 'посёлок Аннино',\n",
       "       'поселок городского типа Ефимовский', 'посёлок Плодовое',\n",
       "       'деревня Заклинье', 'поселок Торковичи', 'поселок Первомайское',\n",
       "       'Красное Село', 'посёлок Понтонный', 'Сясьстрой', 'деревня Старая',\n",
       "       'деревня Лесколово', 'посёлок Новый Свет', 'Сланцы',\n",
       "       'село Путилово', 'Ивангород', 'Мурино', 'Шлиссельбург',\n",
       "       'Никольское', 'Зеленогорск', 'Сосновый Бор', 'поселок Новый Свет',\n",
       "       'деревня Оржицы', 'деревня Кальтино', 'Кудрово',\n",
       "       'поселок Романовка', 'посёлок Бугры', 'поселок Бугры',\n",
       "       'поселок городского типа Рощино', 'Кириши', 'Луга', 'Волосово',\n",
       "       'Отрадное', 'село Павлово', 'поселок Оредеж', 'село Копорье',\n",
       "       'посёлок городского типа Красный Бор', 'посёлок Молодёжное',\n",
       "       'Тихвин', 'посёлок Победа', 'деревня Нурма',\n",
       "       'поселок городского типа Синявино', 'Тосно',\n",
       "       'посёлок городского типа Кузьмоловский', 'посёлок Стрельна',\n",
       "       'Бокситогорск', 'посёлок Александровская', 'деревня Лопухинка',\n",
       "       'Пикалёво', 'поселок Терволово',\n",
       "       'поселок городского типа Советский', 'Подпорожье',\n",
       "       'посёлок Петровское', 'посёлок городского типа Токсово',\n",
       "       'поселок Сельцо', 'посёлок городского типа Вырица',\n",
       "       'деревня Кипень', 'деревня Келози', 'деревня Вартемяги',\n",
       "       'посёлок Тельмана', 'поселок Севастьяново',\n",
       "       'городской поселок Большая Ижора', 'городской посёлок Павлово',\n",
       "       'деревня Агалатово', 'посёлок Новогорелово',\n",
       "       'городской посёлок Лесогорский', 'деревня Лаголово',\n",
       "       'поселок Цвелодубово', 'поселок городского типа Рахья',\n",
       "       'поселок городского типа Вырица', 'деревня Белогорка',\n",
       "       'поселок Заводской', 'городской посёлок Новоселье',\n",
       "       'деревня Большие Колпаны', 'деревня Горбунки', 'деревня Батово',\n",
       "       'деревня Заневка', 'деревня Иссад', 'Приморск',\n",
       "       'городской посёлок Фёдоровское', 'деревня Мистолово',\n",
       "       'Новая Ладога', 'поселок Зимитицы', 'поселок Барышево',\n",
       "       'деревня Разметелево', 'поселок городского типа имени Свердлова',\n",
       "       'деревня Пеники', 'поселок Рябово', 'деревня Пудомяги',\n",
       "       'поселок станции Корнево', 'деревня Низино', 'деревня Бегуницы',\n",
       "       'посёлок Поляны', 'городской посёлок Мга', 'поселок Елизаветино',\n",
       "       'посёлок городского типа Кузнечное', 'деревня Колтуши',\n",
       "       'поселок Запорожское', 'посёлок городского типа Рощино',\n",
       "       'деревня Гостилицы', 'деревня Малое Карлино',\n",
       "       'посёлок Мичуринское', 'посёлок городского типа имени Морозова',\n",
       "       'посёлок Песочный', 'посёлок Сосново', 'деревня Аро',\n",
       "       'поселок Ильичёво', 'посёлок городского типа Тайцы',\n",
       "       'деревня Малое Верево', 'деревня Извара', 'поселок станции Вещево',\n",
       "       'село Паша', 'деревня Калитино',\n",
       "       'посёлок городского типа Ульяновка', 'деревня Чудской Бор',\n",
       "       'поселок городского типа Дубровка', 'деревня Мины',\n",
       "       'поселок Войсковицы', 'посёлок городского типа имени Свердлова',\n",
       "       'деревня Коркино', 'посёлок Ропша',\n",
       "       'поселок городского типа Приладожский', 'посёлок Щеглово',\n",
       "       'посёлок Гаврилово', 'Лодейное Поле', 'деревня Рабитицы',\n",
       "       'поселок городского типа Никольский', 'деревня Кузьмолово',\n",
       "       'деревня Малые Колпаны', 'поселок Тельмана',\n",
       "       'посёлок Петро-Славянка', 'городской посёлок Назия',\n",
       "       'посёлок Репино', 'посёлок Ильичёво', 'поселок Углово',\n",
       "       'поселок Старая Малукса', 'садовое товарищество Рахья',\n",
       "       'поселок Аннино', 'поселок Победа', 'деревня Меньково',\n",
       "       'деревня Старые Бегуницы', 'посёлок Сапёрный', 'поселок Семрино',\n",
       "       'поселок Гаврилово', 'поселок Глажево', 'поселок Кобринское',\n",
       "       'деревня Гарболово', 'деревня Юкки',\n",
       "       'поселок станции Приветнинское', 'деревня Мануйлово',\n",
       "       'деревня Пчева', 'поселок Поляны', 'поселок Цвылёво',\n",
       "       'поселок Мельниково', 'посёлок Пудость', 'посёлок Усть-Луга',\n",
       "       'Светогорск', 'Любань', 'поселок Селезнёво',\n",
       "       'поселок городского типа Рябово', 'Каменногорск', 'деревня Кривко',\n",
       "       'поселок Глебычево', 'деревня Парицы', 'поселок Жилпосёлок',\n",
       "       'посёлок городского типа Мга', 'городской поселок Янино-1',\n",
       "       'посёлок Войскорово', 'село Никольское', 'посёлок Терволово',\n",
       "       'поселок Стеклянный', 'посёлок городского типа Важины',\n",
       "       'посёлок Мыза-Ивановка', 'село Русско-Высоцкое',\n",
       "       'поселок городского типа Лебяжье',\n",
       "       'поселок городского типа Форносово', 'село Старая Ладога',\n",
       "       'поселок Житково', 'городской посёлок Виллози', 'деревня Лампово',\n",
       "       'деревня Шпаньково', 'деревня Лаврики', 'посёлок Сумино',\n",
       "       'посёлок Возрождение', 'деревня Старосиверская',\n",
       "       'посёлок Кикерино', 'поселок Возрождение',\n",
       "       'деревня Старое Хинколово', 'посёлок Пригородный',\n",
       "       'посёлок Торфяное', 'городской посёлок Будогощь',\n",
       "       'поселок Суходолье', 'поселок Красная Долина', 'деревня Хапо-Ое',\n",
       "       'поселок городского типа Дружная Горка', 'поселок Лисий Нос',\n",
       "       'деревня Яльгелево', 'посёлок Стеклянный', 'село Рождествено',\n",
       "       'деревня Старополье', 'посёлок Левашово', 'деревня Сяськелево',\n",
       "       'деревня Камышовка',\n",
       "       'садоводческое некоммерческое товарищество Лесная Поляна',\n",
       "       'деревня Хязельки', 'поселок Жилгородок',\n",
       "       'посёлок городского типа Павлово', 'деревня Ялгино',\n",
       "       'поселок Новый Учхоз', 'городской посёлок Рощино',\n",
       "       'поселок Гончарово', 'поселок Почап', 'посёлок Сапёрное',\n",
       "       'посёлок Платформа 69-й километр', 'поселок Каложицы',\n",
       "       'деревня Фалилеево', 'деревня Пельгора',\n",
       "       'поселок городского типа Лесогорский', 'деревня Торошковичи',\n",
       "       'посёлок Белоостров', 'посёлок Алексеевка', 'поселок Серебрянский',\n",
       "       'поселок Лукаши', 'поселок Петровское', 'деревня Щеглово',\n",
       "       'поселок Мичуринское', 'деревня Тарасово', 'поселок Кингисеппский',\n",
       "       'посёлок при железнодорожной станции Вещево', 'поселок Ушаки',\n",
       "       'деревня Котлы', 'деревня Сижно', 'деревня Торосово',\n",
       "       'посёлок Форт Красная Горка', 'деревня Новолисино',\n",
       "       'посёлок станции Громово', 'деревня Глинка', 'посёлок Мельниково',\n",
       "       'поселок городского типа Назия', 'деревня Старая Пустошь',\n",
       "       'поселок Коммунары', 'поселок Починок',\n",
       "       'посёлок городского типа Вознесенье', 'деревня Разбегаево',\n",
       "       'посёлок городского типа Рябово', 'поселок Гладкое',\n",
       "       'посёлок при железнодорожной станции Приветнинское',\n",
       "       'поселок Тёсово-4', 'посёлок Жилгородок', 'деревня Бор',\n",
       "       'посёлок Коробицыно', 'деревня Большая Вруда', 'деревня Курковицы',\n",
       "       'посёлок Лисий Нос', 'городской посёлок Советский',\n",
       "       'посёлок Кобралово', 'деревня Суоранда', 'поселок Кобралово',\n",
       "       'поселок городского типа Кондратьево',\n",
       "       'коттеджный поселок Счастье', 'поселок Любань', 'деревня Реброво',\n",
       "       'деревня Зимитицы', 'деревня Тойворово', 'поселок Семиозерье',\n",
       "       'поселок Лесное', 'поселок Совхозный', 'поселок Усть-Луга',\n",
       "       'посёлок Ленинское', 'посёлок Суйда',\n",
       "       'посёлок городского типа Форносово', 'деревня Нижние Осельки',\n",
       "       'посёлок станции Свирь', 'поселок Перово', 'Высоцк',\n",
       "       'поселок Гарболово', 'село Шум', 'поселок Котельский',\n",
       "       'поселок станции Лужайка', 'деревня Большая Пустомержа',\n",
       "       'поселок Красносельское', 'деревня Вахнова Кара', 'деревня Пижма',\n",
       "       'коттеджный поселок Кивеннапа Север', 'поселок Коробицыно',\n",
       "       'поселок Ромашки', 'посёлок Перово', 'деревня Каськово',\n",
       "       'деревня Куровицы', 'посёлок Плоское', 'поселок Сумино',\n",
       "       'поселок городского типа Большая Ижора', 'поселок Кирпичное',\n",
       "       'деревня Ям-Тесово', 'деревня Раздолье', 'деревня Терпилицы',\n",
       "       'поселок городского типа Токсово', 'посёлок Шугозеро',\n",
       "       'деревня Ваганово', 'поселок Пушное', 'садовое товарищество Садко',\n",
       "       'посёлок Усть-Ижора', 'деревня Выскатка',\n",
       "       'городской посёлок Свирьстрой', 'поселок Громово',\n",
       "       'деревня Кисельня', 'посёлок Старая Малукса',\n",
       "       'деревня Трубников Бор', 'поселок Калитино',\n",
       "       'посёлок Высокоключевой', 'садовое товарищество Приладожский',\n",
       "       'посёлок Пансионат Зелёный Бор', 'деревня Ненимяки',\n",
       "       'поселок Пансионат Зелёный Бор', 'деревня Снегирёвка',\n",
       "       'деревня Рапполово', 'деревня Пустынка', 'поселок Рабитицы',\n",
       "       'деревня Большой Сабск', 'деревня Русско', 'деревня Лупполово',\n",
       "       'деревня Большое Рейзино', 'деревня Малая Романовка',\n",
       "       'поселок Дружноселье', 'поселок Пчевжа', 'поселок Володарское',\n",
       "       'деревня Нижняя', 'коттеджный посёлок Лесное', 'деревня Тихковицы',\n",
       "       'деревня Борисова Грива', 'посёлок Дзержинского'], dtype=object)"
      ]
     },
     "execution_count": 9,
     "metadata": {},
     "output_type": "execute_result"
    }
   ],
   "source": [
    "data['locality_name'].unique() # изучу все уникальные значения в столбце"
   ]
  },
  {
   "cell_type": "markdown",
   "id": "d15858ed",
   "metadata": {},
   "source": [
    "Полных дубликатов нет вообще, но есть несколько неявных дубликатов. Удалю их."
   ]
  },
  {
   "cell_type": "code",
   "execution_count": 10,
   "id": "15896e17",
   "metadata": {},
   "outputs": [
    {
     "data": {
      "text/plain": [
       "array(['Санкт-Петербург', 'посёлок Шушары', 'городской посёлок Янино-1',\n",
       "       'посёлок Парголово', 'Мурино', 'Ломоносов', 'Сертолово',\n",
       "       'Петергоф', 'Пушкин', 'Кудрово', 'Коммунар', 'Колпино',\n",
       "       'городской посёлок Красный Бор', 'Гатчина',\n",
       "       'городской посёлок Фёдоровское', 'Выборг', 'Кронштадт', 'Кировск',\n",
       "       'деревня Новое Девяткино', 'посёлок Металлострой',\n",
       "       'городской посёлок Лебяжье', 'городской посёлок Сиверский',\n",
       "       'посёлок Молодцово', 'городской посёлок Кузьмоловский',\n",
       "       'садовое товарищество Новая Ропша', 'Павловск',\n",
       "       'деревня Пикколово', 'Всеволожск', 'Волхов', 'Кингисепп',\n",
       "       'Приозерск', 'Сестрорецк', 'деревня Куттузи', 'посёлок Аннино',\n",
       "       'городской посёлок Ефимовский', 'посёлок Плодовое',\n",
       "       'деревня Заклинье', 'посёлок Торковичи', 'посёлок Первомайское',\n",
       "       'Красное Село', 'посёлок Понтонный', 'Сясьстрой', 'деревня Старая',\n",
       "       'деревня Лесколово', 'посёлок Новый Свет', 'Сланцы',\n",
       "       'село Путилово', 'Ивангород', 'Шлиссельбург', 'село Никольское',\n",
       "       'Зеленогорск', 'Сосновый Бор', 'деревня Оржицы',\n",
       "       'деревня Кальтино', 'посёлок Романовка', 'посёлок Бугры',\n",
       "       'городской посёлок Рощино', 'Кириши', 'Луга', 'Волосово',\n",
       "       'Отрадное', 'село Павлово', 'посёлок Оредеж', 'село Копорье',\n",
       "       'посёлок Молодёжное', 'Тихвин', 'посёлок Победа', 'деревня Нурма',\n",
       "       'городской посёлок Синявино', 'Тосно', 'посёлок Стрельна',\n",
       "       'Бокситогорск', 'посёлок Александровская', 'деревня Лопухинка',\n",
       "       'Пикалёво', 'посёлок Терволово', 'городской посёлок Советский',\n",
       "       'Подпорожье', 'посёлок Петровское', 'городской посёлок Токсово',\n",
       "       'посёлок Сельцо', 'городской посёлок Вырица', 'деревня Кипень',\n",
       "       'деревня Келози', 'деревня Вартемяги', 'посёлок Тельмана',\n",
       "       'посёлок Севастьяново', 'городской посёлок Большая Ижора',\n",
       "       'деревня Агалатово', 'посёлок Новогорелово',\n",
       "       'городской посёлок Лесогорский', 'деревня Лаголово',\n",
       "       'посёлок Цвелодубово', 'городской посёлок Рахья',\n",
       "       'деревня Белогорка', 'посёлок Заводской',\n",
       "       'городской посёлок Новоселье', 'деревня Большие Колпаны',\n",
       "       'деревня Горбунки', 'деревня Батово', 'деревня Заневка',\n",
       "       'деревня Иссад', 'Приморск', 'деревня Мистолово', 'Новая Ладога',\n",
       "       'посёлок Зимитицы', 'посёлок Барышево', 'деревня Разметелево',\n",
       "       'городской посёлок имени Свердлова', 'деревня Пеники',\n",
       "       'посёлок Рябово', 'деревня Пудомяги', 'посёлок станции Корнево',\n",
       "       'деревня Низино', 'деревня Бегуницы', 'посёлок Поляны',\n",
       "       'городской посёлок Мга', 'посёлок Елизаветино',\n",
       "       'городской посёлок Кузнечное', 'деревня Колтуши',\n",
       "       'посёлок Запорожское', 'деревня Гостилицы',\n",
       "       'деревня Малое Карлино', 'посёлок Мичуринское',\n",
       "       'городской посёлок имени Морозова', 'посёлок Песочный',\n",
       "       'посёлок Сосново', 'деревня Аро', 'посёлок Ильичёво',\n",
       "       'городской посёлок Тайцы', 'деревня Малое Верево',\n",
       "       'деревня Извара', 'посёлок при железнодорожной станции Вещево',\n",
       "       'село Паша', 'деревня Калитино', 'городской посёлок Ульяновка',\n",
       "       'деревня Чудской Бор', 'городской посёлок Дубровка',\n",
       "       'деревня Мины', 'посёлок Войсковицы', 'деревня Коркино',\n",
       "       'посёлок Ропша', 'городской посёлок Приладожский',\n",
       "       'посёлок Щеглово', 'посёлок Гаврилово', 'Лодейное Поле',\n",
       "       'деревня Рабитицы', 'городской посёлок Никольский',\n",
       "       'деревня Кузьмолово', 'деревня Малые Колпаны',\n",
       "       'посёлок Петро-Славянка', 'городской посёлок Назия',\n",
       "       'посёлок Репино', 'посёлок Углово', 'посёлок Старая Малукса',\n",
       "       'садовое товарищество Рахья', 'деревня Меньково',\n",
       "       'деревня Старые Бегуницы', 'посёлок Сапёрный', 'посёлок Семрино',\n",
       "       'посёлок Глажево', 'посёлок Кобринское', 'деревня Гарболово',\n",
       "       'деревня Юкки',\n",
       "       'посёлок при железнодорожной станции Приветнинское',\n",
       "       'деревня Мануйлово', 'деревня Пчева', 'посёлок Цвылёво',\n",
       "       'посёлок Мельниково', 'посёлок Пудость', 'посёлок Усть-Луга',\n",
       "       'Светогорск', 'Любань', 'посёлок Селезнёво', 'Каменногорск',\n",
       "       'деревня Кривко', 'посёлок Глебычево', 'деревня Парицы',\n",
       "       'посёлок Жилпосёлок', 'посёлок Войскорово', 'посёлок Стеклянный',\n",
       "       'городской посёлок Важины', 'посёлок Мыза-Ивановка',\n",
       "       'село Русско-Высоцкое', 'городской посёлок Форносово',\n",
       "       'село Старая Ладога', 'посёлок Житково',\n",
       "       'городской посёлок Виллози', 'деревня Лампово',\n",
       "       'деревня Шпаньково', 'деревня Лаврики', 'посёлок Сумино',\n",
       "       'посёлок Возрождение', 'деревня Старосиверская',\n",
       "       'посёлок Кикерино', 'деревня Старое Хинколово',\n",
       "       'посёлок Пригородный', 'посёлок Торфяное',\n",
       "       'городской посёлок Будогощь', 'посёлок Суходолье',\n",
       "       'посёлок Красная Долина', 'деревня Хапо-Ое',\n",
       "       'городской посёлок Дружная Горка', 'посёлок Лисий Нос',\n",
       "       'деревня Яльгелево', 'село Рождествено', 'деревня Старополье',\n",
       "       'посёлок Левашово', 'деревня Сяськелево', 'деревня Камышовка',\n",
       "       'садоводческое некоммерческое товарищество Лесная Поляна',\n",
       "       'деревня Хязельки', 'посёлок Жилгородок', 'деревня Ялгино',\n",
       "       'посёлок Новый Учхоз', 'посёлок Гончарово', 'посёлок Почап',\n",
       "       'посёлок Сапёрное', 'посёлок Платформа 69-й километр',\n",
       "       'посёлок Каложицы', 'деревня Фалилеево', 'деревня Пельгора',\n",
       "       'деревня Торошковичи', 'посёлок Белоостров', 'посёлок Алексеевка',\n",
       "       'посёлок Серебрянский', 'посёлок Лукаши', 'деревня Щеглово',\n",
       "       'деревня Тарасово', 'посёлок Кингисеппский', 'посёлок Ушаки',\n",
       "       'деревня Котлы', 'деревня Сижно', 'деревня Торосово',\n",
       "       'посёлок Форт Красная Горка', 'деревня Новолисино',\n",
       "       'посёлок станции Громово', 'деревня Глинка',\n",
       "       'деревня Старая Пустошь', 'посёлок Коммунары', 'посёлок Починок',\n",
       "       'городской посёлок Вознесенье', 'деревня Разбегаево',\n",
       "       'посёлок Гладкое', 'посёлок Тёсово-4', 'деревня Бор',\n",
       "       'посёлок Коробицыно', 'деревня Большая Вруда', 'деревня Курковицы',\n",
       "       'посёлок Кобралово', 'деревня Суоранда',\n",
       "       'городской посёлок Кондратьево', 'коттеджный посёлок Счастье',\n",
       "       'посёлок Любань', 'деревня Реброво', 'деревня Зимитицы',\n",
       "       'деревня Тойворово', 'посёлок Семиозерье', 'посёлок Лесное',\n",
       "       'посёлок Совхозный', 'посёлок Ленинское', 'посёлок Суйда',\n",
       "       'деревня Нижние Осельки', 'посёлок станции Свирь',\n",
       "       'посёлок Перово', 'Высоцк', 'посёлок Гарболово', 'село Шум',\n",
       "       'посёлок Котельский', 'посёлок станции Лужайка',\n",
       "       'деревня Большая Пустомержа', 'посёлок Красносельское',\n",
       "       'деревня Вахнова Кара', 'деревня Пижма',\n",
       "       'коттеджный посёлок Кивеннапа Север', 'посёлок Ромашки',\n",
       "       'деревня Каськово', 'деревня Куровицы', 'посёлок Плоское',\n",
       "       'посёлок Кирпичное', 'деревня Ям-Тесово', 'деревня Раздолье',\n",
       "       'деревня Терпилицы', 'посёлок Шугозеро', 'деревня Ваганово',\n",
       "       'посёлок Пушное', 'садовое товарищество Садко',\n",
       "       'посёлок Усть-Ижора', 'деревня Выскатка',\n",
       "       'городской посёлок Свирьстрой', 'посёлок Громово',\n",
       "       'деревня Кисельня', 'деревня Трубников Бор', 'посёлок Калитино',\n",
       "       'посёлок Высокоключевой', 'посёлок Пансионат Зелёный Бор',\n",
       "       'деревня Ненимяки', 'деревня Снегирёвка', 'деревня Рапполово',\n",
       "       'деревня Пустынка', 'посёлок Рабитицы', 'деревня Большой Сабск',\n",
       "       'деревня Русско', 'деревня Лупполово', 'деревня Большое Рейзино',\n",
       "       'деревня Малая Романовка', 'посёлок Дружноселье', 'посёлок Пчевжа',\n",
       "       'посёлок Володарское', 'деревня Нижняя', 'деревня Тихковицы',\n",
       "       'деревня Борисова Грива', 'посёлок Дзержинского'], dtype=object)"
      ]
     },
     "execution_count": 10,
     "metadata": {},
     "output_type": "execute_result"
    }
   ],
   "source": [
    "data['locality_name'] = (\n",
    "    data['locality_name']\n",
    "    .str.replace('поселок', 'посёлок')\n",
    "    .replace('посёлок городского типа Рябово', 'посёлок Рябово')\n",
    "    .str.replace('посёлок городского типа', 'городской посёлок')\n",
    "    .replace('посёлок Мурино', 'Мурино')\n",
    "    .replace('деревня Кудрово', 'Кудрово')\n",
    "    .replace('коттеджный посёлок Лесное', 'посёлок Лесное')\n",
    "    .replace('посёлок станции Приветнинское', 'посёлок при железнодорожной станции Приветнинское')\n",
    "    .replace('посёлок станции Вещево', 'посёлок при железнодорожной станции Вещево')\n",
    "    .replace('деревня Фёдоровское', 'городской посёлок Фёдоровское')\n",
    "    .replace('садовое товарищество Приладожский', 'городской посёлок Приладожский')\n",
    "    .replace('Никольское', 'село Никольское')\n",
    "    .replace('городской посёлок Павлово', 'село Павлово')\n",
    ")\n",
    "\n",
    "data['locality_name'].unique()"
   ]
  },
  {
   "cell_type": "markdown",
   "id": "4adbf565",
   "metadata": {},
   "source": [
    "### Добавление новых столбцов"
   ]
  },
  {
   "cell_type": "code",
   "execution_count": 11,
   "id": "b96c9cc5",
   "metadata": {},
   "outputs": [
    {
     "data": {
      "text/html": [
       "<div>\n",
       "<style scoped>\n",
       "    .dataframe tbody tr th:only-of-type {\n",
       "        vertical-align: middle;\n",
       "    }\n",
       "\n",
       "    .dataframe tbody tr th {\n",
       "        vertical-align: top;\n",
       "    }\n",
       "\n",
       "    .dataframe thead th {\n",
       "        text-align: right;\n",
       "    }\n",
       "</style>\n",
       "<table border=\"1\" class=\"dataframe\">\n",
       "  <thead>\n",
       "    <tr style=\"text-align: right;\">\n",
       "      <th></th>\n",
       "      <th>total_images</th>\n",
       "      <th>last_price</th>\n",
       "      <th>total_area</th>\n",
       "      <th>first_day_exposition</th>\n",
       "      <th>rooms</th>\n",
       "      <th>ceiling_height</th>\n",
       "      <th>floors_total</th>\n",
       "      <th>living_area</th>\n",
       "      <th>floor</th>\n",
       "      <th>is_apartment</th>\n",
       "      <th>...</th>\n",
       "      <th>parks_nearest</th>\n",
       "      <th>ponds_around3000</th>\n",
       "      <th>ponds_nearest</th>\n",
       "      <th>days_exposition</th>\n",
       "      <th>price_for_m_2</th>\n",
       "      <th>weekday_exposition</th>\n",
       "      <th>month_exposition</th>\n",
       "      <th>year_exposition</th>\n",
       "      <th>floor_category</th>\n",
       "      <th>city_center_km</th>\n",
       "    </tr>\n",
       "  </thead>\n",
       "  <tbody>\n",
       "    <tr>\n",
       "      <th>0</th>\n",
       "      <td>20</td>\n",
       "      <td>13000000.0</td>\n",
       "      <td>108.0</td>\n",
       "      <td>2019-03-07</td>\n",
       "      <td>3</td>\n",
       "      <td>2.70</td>\n",
       "      <td>16</td>\n",
       "      <td>51.0</td>\n",
       "      <td>8</td>\n",
       "      <td>False</td>\n",
       "      <td>...</td>\n",
       "      <td>482.0</td>\n",
       "      <td>2</td>\n",
       "      <td>755.0</td>\n",
       "      <td>NaN</td>\n",
       "      <td>120370.37</td>\n",
       "      <td>3</td>\n",
       "      <td>3</td>\n",
       "      <td>2019</td>\n",
       "      <td>Другой</td>\n",
       "      <td>16.0</td>\n",
       "    </tr>\n",
       "    <tr>\n",
       "      <th>1</th>\n",
       "      <td>7</td>\n",
       "      <td>3350000.0</td>\n",
       "      <td>40.4</td>\n",
       "      <td>2018-12-04</td>\n",
       "      <td>1</td>\n",
       "      <td>2.65</td>\n",
       "      <td>11</td>\n",
       "      <td>18.6</td>\n",
       "      <td>1</td>\n",
       "      <td>False</td>\n",
       "      <td>...</td>\n",
       "      <td>NaN</td>\n",
       "      <td>0</td>\n",
       "      <td>NaN</td>\n",
       "      <td>81.0</td>\n",
       "      <td>82920.79</td>\n",
       "      <td>1</td>\n",
       "      <td>12</td>\n",
       "      <td>2018</td>\n",
       "      <td>Первый</td>\n",
       "      <td>19.0</td>\n",
       "    </tr>\n",
       "    <tr>\n",
       "      <th>2</th>\n",
       "      <td>10</td>\n",
       "      <td>5196000.0</td>\n",
       "      <td>56.0</td>\n",
       "      <td>2015-08-20</td>\n",
       "      <td>2</td>\n",
       "      <td>2.65</td>\n",
       "      <td>5</td>\n",
       "      <td>34.3</td>\n",
       "      <td>4</td>\n",
       "      <td>False</td>\n",
       "      <td>...</td>\n",
       "      <td>90.0</td>\n",
       "      <td>2</td>\n",
       "      <td>574.0</td>\n",
       "      <td>558.0</td>\n",
       "      <td>92785.71</td>\n",
       "      <td>3</td>\n",
       "      <td>8</td>\n",
       "      <td>2015</td>\n",
       "      <td>Другой</td>\n",
       "      <td>14.0</td>\n",
       "    </tr>\n",
       "    <tr>\n",
       "      <th>3</th>\n",
       "      <td>0</td>\n",
       "      <td>64900000.0</td>\n",
       "      <td>159.0</td>\n",
       "      <td>2015-07-24</td>\n",
       "      <td>3</td>\n",
       "      <td>2.65</td>\n",
       "      <td>14</td>\n",
       "      <td>NaN</td>\n",
       "      <td>9</td>\n",
       "      <td>False</td>\n",
       "      <td>...</td>\n",
       "      <td>84.0</td>\n",
       "      <td>3</td>\n",
       "      <td>234.0</td>\n",
       "      <td>424.0</td>\n",
       "      <td>408176.10</td>\n",
       "      <td>4</td>\n",
       "      <td>7</td>\n",
       "      <td>2015</td>\n",
       "      <td>Другой</td>\n",
       "      <td>7.0</td>\n",
       "    </tr>\n",
       "    <tr>\n",
       "      <th>4</th>\n",
       "      <td>2</td>\n",
       "      <td>10000000.0</td>\n",
       "      <td>100.0</td>\n",
       "      <td>2018-06-19</td>\n",
       "      <td>2</td>\n",
       "      <td>3.03</td>\n",
       "      <td>14</td>\n",
       "      <td>32.0</td>\n",
       "      <td>13</td>\n",
       "      <td>False</td>\n",
       "      <td>...</td>\n",
       "      <td>112.0</td>\n",
       "      <td>1</td>\n",
       "      <td>48.0</td>\n",
       "      <td>121.0</td>\n",
       "      <td>100000.00</td>\n",
       "      <td>1</td>\n",
       "      <td>6</td>\n",
       "      <td>2018</td>\n",
       "      <td>Другой</td>\n",
       "      <td>8.0</td>\n",
       "    </tr>\n",
       "  </tbody>\n",
       "</table>\n",
       "<p>5 rows × 28 columns</p>\n",
       "</div>"
      ],
      "text/plain": [
       "   total_images  last_price  total_area first_day_exposition  rooms  \\\n",
       "0            20  13000000.0       108.0           2019-03-07      3   \n",
       "1             7   3350000.0        40.4           2018-12-04      1   \n",
       "2            10   5196000.0        56.0           2015-08-20      2   \n",
       "3             0  64900000.0       159.0           2015-07-24      3   \n",
       "4             2  10000000.0       100.0           2018-06-19      2   \n",
       "\n",
       "   ceiling_height  floors_total  living_area  floor  is_apartment  ...  \\\n",
       "0            2.70            16         51.0      8         False  ...   \n",
       "1            2.65            11         18.6      1         False  ...   \n",
       "2            2.65             5         34.3      4         False  ...   \n",
       "3            2.65            14          NaN      9         False  ...   \n",
       "4            3.03            14         32.0     13         False  ...   \n",
       "\n",
       "   parks_nearest  ponds_around3000  ponds_nearest  days_exposition  \\\n",
       "0          482.0                 2          755.0              NaN   \n",
       "1            NaN                 0            NaN             81.0   \n",
       "2           90.0                 2          574.0            558.0   \n",
       "3           84.0                 3          234.0            424.0   \n",
       "4          112.0                 1           48.0            121.0   \n",
       "\n",
       "  price_for_m_2  weekday_exposition  month_exposition  year_exposition  \\\n",
       "0     120370.37                   3                 3             2019   \n",
       "1      82920.79                   1                12             2018   \n",
       "2      92785.71                   3                 8             2015   \n",
       "3     408176.10                   4                 7             2015   \n",
       "4     100000.00                   1                 6             2018   \n",
       "\n",
       "   floor_category  city_center_km  \n",
       "0          Другой            16.0  \n",
       "1          Первый            19.0  \n",
       "2          Другой            14.0  \n",
       "3          Другой             7.0  \n",
       "4          Другой             8.0  \n",
       "\n",
       "[5 rows x 28 columns]"
      ]
     },
     "execution_count": 11,
     "metadata": {},
     "output_type": "execute_result"
    }
   ],
   "source": [
    "data['price_for_m_2'] = (data['last_price'] / data['total_area']).round(2) # цена одного квадратного метра\n",
    "data['weekday_exposition'] = data['first_day_exposition'].dt.weekday # день публикации\n",
    "data['month_exposition'] = data['first_day_exposition'].dt.month # месяц публикации\n",
    "data['year_exposition'] = data['first_day_exposition'].dt.year # год публикации\n",
    "\n",
    "def categorize_floor(row): # функция, которая просчитывает тип этажа\n",
    "    try:\n",
    "        if row['floor'] == 1:\n",
    "            return 'Первый'\n",
    "        elif row['floor'] == row['floors_total']:\n",
    "            return 'Последний'\n",
    "        else:\n",
    "            return 'Другой'\n",
    "    except:\n",
    "        pass\n",
    "    \n",
    "data['floor_category'] = data.apply(categorize_floor, axis=1) # применяю функцию к строкам\n",
    "\n",
    "\n",
    "data['city_center_km'] = (data['city_centers_nearest'] / 1000).round() # перевожу метры в километры в расстоянии до центра города\n",
    "\n",
    "data.head()\n"
   ]
  },
  {
   "cell_type": "markdown",
   "id": "a59fa32e",
   "metadata": {},
   "source": [
    "## Исследовательский анализ данных"
   ]
  },
  {
   "cell_type": "markdown",
   "id": "c19dd23c",
   "metadata": {},
   "source": [
    "### Гистограммы по параметрам"
   ]
  },
  {
   "cell_type": "markdown",
   "id": "a415abe9",
   "metadata": {},
   "source": [
    "#### Общая площадь"
   ]
  },
  {
   "cell_type": "code",
   "execution_count": 12,
   "id": "8cf598ea",
   "metadata": {},
   "outputs": [
    {
     "data": {
      "text/plain": [
       "<Axes: >"
      ]
     },
     "execution_count": 12,
     "metadata": {},
     "output_type": "execute_result"
    },
    {
     "data": {
      "image/png": "[encoded data removed]",
      "text/plain": [
       "<Figure size 640x480 with 1 Axes>"
      ]
     },
     "metadata": {},
     "output_type": "display_data"
    }
   ],
   "source": [
    "data = data.query('total_area <= 300') # ограничила общую площадь значением в 300 м_2, потому что дальше данных не очень много\n",
    "\n",
    "data['total_area'].hist(bins=100, range=(0, 300)) # гистограмма с 50 корзинами и ограничением"
   ]
  },
  {
   "cell_type": "markdown",
   "id": "ef39d49d",
   "metadata": {},
   "source": [
    "Больше всего продают квартир с общей площадью от 30 до 50 м_2. Есть ещё всплеск в районе 60 м_2."
   ]
  },
  {
   "cell_type": "markdown",
   "id": "d6d2b879",
   "metadata": {},
   "source": [
    "#### Жилая площадь"
   ]
  },
  {
   "cell_type": "code",
   "execution_count": 13,
   "id": "b0e3717f",
   "metadata": {},
   "outputs": [
    {
     "data": {
      "text/plain": [
       "<Axes: >"
      ]
     },
     "execution_count": 13,
     "metadata": {},
     "output_type": "execute_result"
    },
    {
     "data": {
      "image/png": "[encoded data removed]",
      "text/plain": [
       "<Figure size 640x480 with 1 Axes>"
      ]
     },
     "metadata": {},
     "output_type": "display_data"
    }
   ],
   "source": [
    "data = data.query('living_area <= 200') # ограничила жилую площадь значением в 200 м_2, потому что дальше данных не очень много\n",
    "\n",
    "data['living_area'].hist(bins=50, range=(0, 200)) # гистограмма с 50 корзинами и ограничением"
   ]
  },
  {
   "cell_type": "code",
   "execution_count": 14,
   "id": "6e96e733",
   "metadata": {},
   "outputs": [
    {
     "data": {
      "text/plain": [
       "<Axes: >"
      ]
     },
     "execution_count": 14,
     "metadata": {},
     "output_type": "execute_result"
    },
    {
     "data": {
      "image/png": "[encoded data removed]",
      "text/plain": [
       "<Figure size 640x480 with 1 Axes>"
      ]
     },
     "metadata": {},
     "output_type": "display_data"
    }
   ],
   "source": [
    "data['living_area'].hist(bins=50, range=(0, 50)) # ещё ограничим гистограмму, чтобы лучше рассмотреть самые выделяющиеся значения"
   ]
  },
  {
   "cell_type": "markdown",
   "id": "5876750d",
   "metadata": {},
   "source": [
    "Много квартир с жилой площадью, равной 15-20 м_2, а также 25-50 м_2."
   ]
  },
  {
   "cell_type": "markdown",
   "id": "e1dc0bf7",
   "metadata": {},
   "source": [
    "#### Площадь кухни"
   ]
  },
  {
   "cell_type": "code",
   "execution_count": 15,
   "id": "16129d97",
   "metadata": {},
   "outputs": [
    {
     "data": {
      "text/plain": [
       "<Axes: >"
      ]
     },
     "execution_count": 15,
     "metadata": {},
     "output_type": "execute_result"
    },
    {
     "data": {
      "image/png": "[encoded data removed]",
      "text/plain": [
       "<Figure size 640x480 with 1 Axes>"
      ]
     },
     "metadata": {},
     "output_type": "display_data"
    }
   ],
   "source": [
    "data = data.query('kitchen_area <= 55') # ограничила площадь кухни значением в 55 м_2, потому что дальше данных не очень много\n",
    "\n",
    "data['kitchen_area'].hist(bins=50, range=(0, 55)) # гистограмма с 50 корзинами и ограничением"
   ]
  },
  {
   "cell_type": "markdown",
   "id": "fa58542b",
   "metadata": {},
   "source": [
    "Обычно площадь кухни в продаваемых квартирах от 5 до 15 м_2."
   ]
  },
  {
   "cell_type": "markdown",
   "id": "94d881e4",
   "metadata": {},
   "source": [
    "#### Цена объекта"
   ]
  },
  {
   "cell_type": "code",
   "execution_count": 16,
   "id": "3bfa58cc",
   "metadata": {},
   "outputs": [
    {
     "data": {
      "text/plain": [
       "<Axes: >"
      ]
     },
     "execution_count": 16,
     "metadata": {},
     "output_type": "execute_result"
    },
    {
     "data": {
      "image/png": "[encoded data removed]",
      "text/plain": [
       "<Figure size 640x480 with 1 Axes>"
      ]
     },
     "metadata": {},
     "output_type": "display_data"
    }
   ],
   "source": [
    "data = data.query('last_price <= 50000000') # ограничила стоимость значением в 50 мил, потому что дальше данных не очень много\n",
    "data['last_price'].hist(bins=100, range=(0, 50000000)) # гистограмма с 100 корзинами и ограничением\n",
    "\n"
   ]
  },
  {
   "cell_type": "markdown",
   "id": "5008229a",
   "metadata": {},
   "source": [
    "Чаще всего квартиры продавались меньше, чем за 10 000 000.  Дальше я категоризировала квартиры по стоимости, там становится лучше понятно, что большинство квартир стоило меньше 5 000 000."
   ]
  },
  {
   "cell_type": "markdown",
   "id": "f4b03df1",
   "metadata": {},
   "source": [
    "#### Количество комнат"
   ]
  },
  {
   "cell_type": "code",
   "execution_count": 17,
   "id": "258c3091",
   "metadata": {},
   "outputs": [
    {
     "data": {
      "text/plain": [
       "array([ 3,  1,  2,  4,  5,  6, 11,  7,  8, 10,  9, 16, 14])"
      ]
     },
     "execution_count": 17,
     "metadata": {},
     "output_type": "execute_result"
    }
   ],
   "source": [
    "data['rooms'].unique() # смотрю в целом на значения, чтобы понять, как можно ограничить значения для гистограммы"
   ]
  },
  {
   "cell_type": "code",
   "execution_count": 18,
   "id": "02175e5a",
   "metadata": {},
   "outputs": [
    {
     "data": {
      "text/plain": [
       "<Axes: >"
      ]
     },
     "execution_count": 18,
     "metadata": {},
     "output_type": "execute_result"
    },
    {
     "data": {
      "image/png": "[encoded data removed]",
      "text/plain": [
       "<Figure size 640x480 with 1 Axes>"
      ]
     },
     "metadata": {},
     "output_type": "display_data"
    }
   ],
   "source": [
    "data = data.query('rooms <= 10') # поскольку больше 10 комнат - редкость, можно этим значением и ограничить гистограмму\n",
    "\n",
    "data['rooms'].hist(bins=20, range=(0, 10)) # гистограмма с 20 корзинами и ограничением\n"
   ]
  },
  {
   "cell_type": "markdown",
   "id": "5d0400dc",
   "metadata": {},
   "source": [
    "Больше всего продаётся однушек и двушек. В однушки могут включатся также и студии. Трёшки тоже есть, а всё, что дальше - уже намного реже.  "
   ]
  },
  {
   "cell_type": "markdown",
   "id": "408704a3",
   "metadata": {},
   "source": [
    "#### Высота потолков"
   ]
  },
  {
   "cell_type": "code",
   "execution_count": 19,
   "id": "1e38f28f",
   "metadata": {},
   "outputs": [
    {
     "data": {
      "text/plain": [
       "array([  2.7 ,   2.65,   3.03,   2.5 ,   2.67,   2.56,   3.05,   2.75,\n",
       "         2.6 ,   2.9 ,   2.8 ,   2.55,   3.  ,   3.2 ,   2.61,   3.25,\n",
       "         3.45,   2.77,   2.85,   2.64,   2.57,   4.15,   3.3 ,   4.  ,\n",
       "         2.47,   2.84,   3.1 ,   3.4 ,   3.5 ,   2.72,   2.54,   2.51,\n",
       "         2.78,   2.76,   2.58,   3.7 ,   2.52,   2.87,   2.66,   2.59,\n",
       "         2.  ,   2.45,   3.6 ,   2.92,   3.11,   3.13,   3.8 ,   3.15,\n",
       "         3.55,   3.62,   2.53,   2.73,   2.96,   2.46,   2.74,   2.95,\n",
       "         4.06,   2.94,   2.79,   3.54,   3.53,   2.83,   2.4 ,   3.38,\n",
       "         3.01,   3.65,   3.18,   2.71,   3.35,   2.3 ,   3.57,   2.48,\n",
       "         2.62,   2.82,   3.98,   3.12,   2.63,   3.83,   3.52,   3.95,\n",
       "         3.75,   2.88,   3.67,   3.87,   3.66,   4.19,   3.24,   4.8 ,\n",
       "         4.5 ,   4.2 ,   3.36,   3.86,  32.  ,   3.68,   3.07,   3.37,\n",
       "         3.09,   8.  ,   3.16,   3.26,   3.34,   2.81,   3.44,   2.97,\n",
       "         3.14,   4.37,   2.68,   3.9 ,   3.22,   3.27,  25.  ,   2.93,\n",
       "         3.46,  24.  ,   3.47,  27.  ,   3.63,   3.33,   3.32,  26.  ,\n",
       "         1.2 ,   8.3 ,   4.1 ,   2.86,   3.08,   3.17,   3.28,   3.04,\n",
       "         4.45,   5.5 ,   3.84,   3.23,   3.02,   3.21,   3.78,   4.3 ,\n",
       "         3.06,   3.39,   4.4 ,   3.31,   3.56,   2.2 ,   3.85,   3.93,\n",
       "         3.42,  14.  ,   2.91,   3.88,   1.75,   4.25,   3.29,  20.  ,\n",
       "         3.51,   2.25,   4.7 ,  22.6 ,   2.89,   3.58,  27.5 ,   2.69,\n",
       "         2.49,   3.48,   2.98,   1.  ,   3.49, 100.  ,   3.59])"
      ]
     },
     "execution_count": 19,
     "metadata": {},
     "output_type": "execute_result"
    }
   ],
   "source": [
    "data['ceiling_height'].unique() # смотрю в целом на значения"
   ]
  },
  {
   "cell_type": "code",
   "execution_count": 20,
   "id": "47e9e383",
   "metadata": {},
   "outputs": [
    {
     "data": {
      "text/plain": [
       "<Axes: >"
      ]
     },
     "execution_count": 20,
     "metadata": {},
     "output_type": "execute_result"
    },
    {
     "data": {
      "image/png": "[encoded data removed]",
      "text/plain": [
       "<Figure size 640x480 with 1 Axes>"
      ]
     },
     "metadata": {},
     "output_type": "display_data"
    }
   ],
   "source": [
    "data['ceiling_height'] = data['ceiling_height'].replace({25: 2.5, 100: 1, 32: 3.2, 27: 2.7, 24: 2.4, 26: 2.6, 14: 1.4, 20: 2, 22.6: 2.26, 10.3: 1.03, 27.5: 2.75}) # исправляю аномалии\n",
    "data = data.query('2 <= ceiling_height < 5') # в среднем высота потолков не меньше 2 м и не больше 5 м, можно этими значениеми и ограничить гистограмму\n",
    "data['ceiling_height'].hist(bins=50, range=(2, 5)) # гистограмма с 20 корзинами и ограничением"
   ]
  },
  {
   "cell_type": "markdown",
   "id": "9145d756",
   "metadata": {},
   "source": [
    "Больше всего квартир с потолками между 2,5 и 3 метрами. "
   ]
  },
  {
   "cell_type": "markdown",
   "id": "dbee2543",
   "metadata": {},
   "source": [
    "#### Тип этажа квартиры"
   ]
  },
  {
   "cell_type": "code",
   "execution_count": 21,
   "id": "6aa6de65",
   "metadata": {},
   "outputs": [
    {
     "data": {
      "text/plain": [
       "<Axes: >"
      ]
     },
     "execution_count": 21,
     "metadata": {},
     "output_type": "execute_result"
    },
    {
     "data": {
      "image/png": "[encoded data removed]",
      "text/plain": [
       "<Figure size 640x480 with 1 Axes>"
      ]
     },
     "metadata": {},
     "output_type": "display_data"
    }
   ],
   "source": [
    "data['floor_category'].hist() # гистограмма по распределению квартир по типам этажей"
   ]
  },
  {
   "cell_type": "markdown",
   "id": "9260c847",
   "metadata": {},
   "source": [
    "Предсказуемо, стандартно квартиры не на первом и не на последнем этаже."
   ]
  },
  {
   "cell_type": "markdown",
   "id": "9908b29c",
   "metadata": {},
   "source": [
    "#### Общее количество этажей в доме"
   ]
  },
  {
   "cell_type": "code",
   "execution_count": 22,
   "id": "80b7641e",
   "metadata": {},
   "outputs": [
    {
     "data": {
      "text/plain": [
       "array([16, 11,  5, 14, 12, 26, 27,  9,  6, 17, 25,  3, 23, 19, 18,  4, 24,\n",
       "        8,  2, 10,  7, 15, 22, 13, 20, 28, 36, 21, 35, 60,  1, 29, 33, 52])"
      ]
     },
     "execution_count": 22,
     "metadata": {},
     "output_type": "execute_result"
    }
   ],
   "source": [
    "data['floors_total'].unique() # изучаю значения этажей, чтобы понять, как поставить ограничения"
   ]
  },
  {
   "cell_type": "code",
   "execution_count": 23,
   "id": "814fcf80",
   "metadata": {},
   "outputs": [
    {
     "data": {
      "text/plain": [
       "<Axes: >"
      ]
     },
     "execution_count": 23,
     "metadata": {},
     "output_type": "execute_result"
    },
    {
     "data": {
      "image/png": "[encoded data removed]",
      "text/plain": [
       "<Figure size 640x480 with 1 Axes>"
      ]
     },
     "metadata": {},
     "output_type": "display_data"
    }
   ],
   "source": [
    "data['floors_total'].hist(bins=50) # гистограмма на 50 корзин без ограничений, потому что все этажи важны, все этажи нужны"
   ]
  },
  {
   "cell_type": "code",
   "execution_count": 24,
   "id": "8722eaeb",
   "metadata": {},
   "outputs": [
    {
     "data": {
      "text/plain": [
       "<Axes: >"
      ]
     },
     "execution_count": 24,
     "metadata": {},
     "output_type": "execute_result"
    },
    {
     "data": {
      "image/png": "[encoded data removed]",
      "text/plain": [
       "<Figure size 640x480 with 1 Axes>"
      ]
     },
     "metadata": {},
     "output_type": "display_data"
    }
   ],
   "source": [
    "data['floors_total'].hist(bins=50, range=(0, 10)) # посмотрим на выделяющиеся значения поближе"
   ]
  },
  {
   "cell_type": "markdown",
   "id": "df7a68c9",
   "metadata": {},
   "source": [
    "Больше всего квартир продают в домах с 10 этажами. Пятиэтажки и девятиэтажки лидируют."
   ]
  },
  {
   "cell_type": "markdown",
   "id": "88d4989f",
   "metadata": {},
   "source": [
    "#### Расстояние до центра города в метрах"
   ]
  },
  {
   "cell_type": "code",
   "execution_count": 25,
   "id": "1d64746a",
   "metadata": {},
   "outputs": [
    {
     "data": {
      "text/plain": [
       "<Axes: >"
      ]
     },
     "execution_count": 25,
     "metadata": {},
     "output_type": "execute_result"
    },
    {
     "data": {
      "image/png": "[encoded data removed]",
      "text/plain": [
       "<Figure size 640x480 with 1 Axes>"
      ]
     },
     "metadata": {},
     "output_type": "display_data"
    }
   ],
   "source": [
    "data = data.query('city_centers_nearest < 60000') # ограничила значение в 60 км, потому что дальше данных не очень много\n",
    "\n",
    "data['city_centers_nearest'].hist(bins=50) # гистограмма на 50 корзин без ограничений"
   ]
  },
  {
   "cell_type": "markdown",
   "id": "cf4eda39",
   "metadata": {},
   "source": [
    "Больше всего квартир в радиусе до 15 км от центра города."
   ]
  },
  {
   "cell_type": "markdown",
   "id": "7ee96871",
   "metadata": {},
   "source": [
    "#### Расстояние до ближайшего парка"
   ]
  },
  {
   "cell_type": "code",
   "execution_count": 26,
   "id": "ed3ba32d",
   "metadata": {},
   "outputs": [
    {
     "data": {
      "text/plain": [
       "<Axes: >"
      ]
     },
     "execution_count": 26,
     "metadata": {},
     "output_type": "execute_result"
    },
    {
     "data": {
      "image/png": "[encoded data removed]",
      "text/plain": [
       "<Figure size 640x480 with 1 Axes>"
      ]
     },
     "metadata": {},
     "output_type": "display_data"
    }
   ],
   "source": [
    "data = data.query('parks_nearest <= 3000') # ограничила значение в 3 км, потому что дальше данных не очень много\n",
    "\n",
    "data['parks_nearest'].hist(bins=50) # гистограмма на 50 корзин без ограничений\n"
   ]
  },
  {
   "cell_type": "markdown",
   "id": "97a966fa",
   "metadata": {},
   "source": [
    "Больше всего квартир расположено в радиусе 5 км от ближайшего парка."
   ]
  },
  {
   "cell_type": "markdown",
   "id": "a758d3b0",
   "metadata": {},
   "source": [
    "### Скорость продажи квартир"
   ]
  },
  {
   "cell_type": "code",
   "execution_count": 27,
   "id": "bda6dc51",
   "metadata": {},
   "outputs": [
    {
     "data": {
      "text/plain": [
       "'Среднее равно 195.38554809110275, медиана равна 108.0'"
      ]
     },
     "execution_count": 27,
     "metadata": {},
     "output_type": "execute_result"
    },
    {
     "data": {
      "image/png": "[encoded data removed]",
      "text/plain": [
       "<Figure size 640x480 with 1 Axes>"
      ]
     },
     "metadata": {},
     "output_type": "display_data"
    }
   ],
   "source": [
    "data['days_exposition'].hist(bins=100) # вывожу общий график скорости продажи квартир\n",
    "# подсчитываю среднее и медиану скорости\n",
    "f\"Среднее равно {data['days_exposition'].mean()}, медиана равна {data['days_exposition'].median()}\""
   ]
  },
  {
   "cell_type": "markdown",
   "id": "85bc8af3",
   "metadata": {},
   "source": [
    "Обычно продажа квартиры занимает где-то от 4 до 6 месяцев. Некоторые прожажи могут растянуться на год. Необычно долгие продажи - больше двух лет."
   ]
  },
  {
   "cell_type": "code",
   "execution_count": 28,
   "id": "fe43f996",
   "metadata": {},
   "outputs": [
    {
     "data": {
      "text/plain": [
       "1.0"
      ]
     },
     "execution_count": 28,
     "metadata": {},
     "output_type": "execute_result"
    },
    {
     "data": {
      "image/png": "[encoded data removed]",
      "text/plain": [
       "<Figure size 640x480 with 1 Axes>"
      ]
     },
     "metadata": {},
     "output_type": "display_data"
    }
   ],
   "source": [
    "# посмотрим на гистограмму поближе, найдём самый быстрые значения\n",
    "data['days_exposition'].hist(bins=100, range=(0, 200))\n",
    "data['days_exposition'].min()"
   ]
  },
  {
   "cell_type": "markdown",
   "id": "5a8e027f",
   "metadata": {},
   "source": [
    "Быстрые продажи совершались меньше, чем за месяц. Больше всего квартир продали за два месяца."
   ]
  },
  {
   "cell_type": "markdown",
   "id": "14b0aa35",
   "metadata": {},
   "source": [
    "### Факторы, которые влияют на стоимость квартиры"
   ]
  },
  {
   "cell_type": "markdown",
   "id": "6c97fa77",
   "metadata": {},
   "source": [
    "#### Связь цены с общей площадью"
   ]
  },
  {
   "cell_type": "code",
   "execution_count": 29,
   "id": "45afaf63",
   "metadata": {},
   "outputs": [
    {
     "data": {
      "text/html": [
       "<div>\n",
       "<style scoped>\n",
       "    .dataframe tbody tr th:only-of-type {\n",
       "        vertical-align: middle;\n",
       "    }\n",
       "\n",
       "    .dataframe tbody tr th {\n",
       "        vertical-align: top;\n",
       "    }\n",
       "\n",
       "    .dataframe thead th {\n",
       "        text-align: right;\n",
       "    }\n",
       "</style>\n",
       "<table border=\"1\" class=\"dataframe\">\n",
       "  <thead>\n",
       "    <tr style=\"text-align: right;\">\n",
       "      <th></th>\n",
       "      <th>total_images</th>\n",
       "      <th>last_price</th>\n",
       "      <th>total_area</th>\n",
       "      <th>first_day_exposition</th>\n",
       "      <th>rooms</th>\n",
       "      <th>ceiling_height</th>\n",
       "      <th>floors_total</th>\n",
       "      <th>living_area</th>\n",
       "      <th>floor</th>\n",
       "      <th>is_apartment</th>\n",
       "      <th>...</th>\n",
       "      <th>ponds_around3000</th>\n",
       "      <th>ponds_nearest</th>\n",
       "      <th>days_exposition</th>\n",
       "      <th>price_for_m_2</th>\n",
       "      <th>weekday_exposition</th>\n",
       "      <th>month_exposition</th>\n",
       "      <th>year_exposition</th>\n",
       "      <th>floor_category</th>\n",
       "      <th>city_center_km</th>\n",
       "      <th>last_price_category</th>\n",
       "    </tr>\n",
       "  </thead>\n",
       "  <tbody>\n",
       "    <tr>\n",
       "      <th>0</th>\n",
       "      <td>20</td>\n",
       "      <td>13000000.0</td>\n",
       "      <td>108.0</td>\n",
       "      <td>2019-03-07</td>\n",
       "      <td>3</td>\n",
       "      <td>2.70</td>\n",
       "      <td>16</td>\n",
       "      <td>51.0</td>\n",
       "      <td>8</td>\n",
       "      <td>False</td>\n",
       "      <td>...</td>\n",
       "      <td>2</td>\n",
       "      <td>755.0</td>\n",
       "      <td>NaN</td>\n",
       "      <td>120370.37</td>\n",
       "      <td>3</td>\n",
       "      <td>3</td>\n",
       "      <td>2019</td>\n",
       "      <td>Другой</td>\n",
       "      <td>16.0</td>\n",
       "      <td>C</td>\n",
       "    </tr>\n",
       "    <tr>\n",
       "      <th>2</th>\n",
       "      <td>10</td>\n",
       "      <td>5196000.0</td>\n",
       "      <td>56.0</td>\n",
       "      <td>2015-08-20</td>\n",
       "      <td>2</td>\n",
       "      <td>2.65</td>\n",
       "      <td>5</td>\n",
       "      <td>34.3</td>\n",
       "      <td>4</td>\n",
       "      <td>False</td>\n",
       "      <td>...</td>\n",
       "      <td>2</td>\n",
       "      <td>574.0</td>\n",
       "      <td>558.0</td>\n",
       "      <td>92785.71</td>\n",
       "      <td>3</td>\n",
       "      <td>8</td>\n",
       "      <td>2015</td>\n",
       "      <td>Другой</td>\n",
       "      <td>14.0</td>\n",
       "      <td>D</td>\n",
       "    </tr>\n",
       "    <tr>\n",
       "      <th>4</th>\n",
       "      <td>2</td>\n",
       "      <td>10000000.0</td>\n",
       "      <td>100.0</td>\n",
       "      <td>2018-06-19</td>\n",
       "      <td>2</td>\n",
       "      <td>3.03</td>\n",
       "      <td>14</td>\n",
       "      <td>32.0</td>\n",
       "      <td>13</td>\n",
       "      <td>False</td>\n",
       "      <td>...</td>\n",
       "      <td>1</td>\n",
       "      <td>48.0</td>\n",
       "      <td>121.0</td>\n",
       "      <td>100000.00</td>\n",
       "      <td>1</td>\n",
       "      <td>6</td>\n",
       "      <td>2018</td>\n",
       "      <td>Другой</td>\n",
       "      <td>8.0</td>\n",
       "      <td>D</td>\n",
       "    </tr>\n",
       "    <tr>\n",
       "      <th>10</th>\n",
       "      <td>5</td>\n",
       "      <td>5050000.0</td>\n",
       "      <td>39.6</td>\n",
       "      <td>2017-11-16</td>\n",
       "      <td>1</td>\n",
       "      <td>2.67</td>\n",
       "      <td>12</td>\n",
       "      <td>20.3</td>\n",
       "      <td>3</td>\n",
       "      <td>False</td>\n",
       "      <td>...</td>\n",
       "      <td>2</td>\n",
       "      <td>553.0</td>\n",
       "      <td>137.0</td>\n",
       "      <td>127525.25</td>\n",
       "      <td>3</td>\n",
       "      <td>11</td>\n",
       "      <td>2017</td>\n",
       "      <td>Другой</td>\n",
       "      <td>14.0</td>\n",
       "      <td>D</td>\n",
       "    </tr>\n",
       "    <tr>\n",
       "      <th>13</th>\n",
       "      <td>20</td>\n",
       "      <td>3550000.0</td>\n",
       "      <td>42.8</td>\n",
       "      <td>2017-07-01</td>\n",
       "      <td>2</td>\n",
       "      <td>2.56</td>\n",
       "      <td>5</td>\n",
       "      <td>27.0</td>\n",
       "      <td>5</td>\n",
       "      <td>False</td>\n",
       "      <td>...</td>\n",
       "      <td>3</td>\n",
       "      <td>298.0</td>\n",
       "      <td>366.0</td>\n",
       "      <td>82943.93</td>\n",
       "      <td>5</td>\n",
       "      <td>7</td>\n",
       "      <td>2017</td>\n",
       "      <td>Последний</td>\n",
       "      <td>33.0</td>\n",
       "      <td>E</td>\n",
       "    </tr>\n",
       "  </tbody>\n",
       "</table>\n",
       "<p>5 rows × 29 columns</p>\n",
       "</div>"
      ],
      "text/plain": [
       "    total_images  last_price  total_area first_day_exposition  rooms  \\\n",
       "0             20  13000000.0       108.0           2019-03-07      3   \n",
       "2             10   5196000.0        56.0           2015-08-20      2   \n",
       "4              2  10000000.0       100.0           2018-06-19      2   \n",
       "10             5   5050000.0        39.6           2017-11-16      1   \n",
       "13            20   3550000.0        42.8           2017-07-01      2   \n",
       "\n",
       "    ceiling_height  floors_total  living_area  floor  is_apartment  ...  \\\n",
       "0             2.70            16         51.0      8         False  ...   \n",
       "2             2.65             5         34.3      4         False  ...   \n",
       "4             3.03            14         32.0     13         False  ...   \n",
       "10            2.67            12         20.3      3         False  ...   \n",
       "13            2.56             5         27.0      5         False  ...   \n",
       "\n",
       "    ponds_around3000  ponds_nearest  days_exposition  price_for_m_2  \\\n",
       "0                  2          755.0              NaN      120370.37   \n",
       "2                  2          574.0            558.0       92785.71   \n",
       "4                  1           48.0            121.0      100000.00   \n",
       "10                 2          553.0            137.0      127525.25   \n",
       "13                 3          298.0            366.0       82943.93   \n",
       "\n",
       "   weekday_exposition  month_exposition  year_exposition  floor_category  \\\n",
       "0                   3                 3             2019          Другой   \n",
       "2                   3                 8             2015          Другой   \n",
       "4                   1                 6             2018          Другой   \n",
       "10                  3                11             2017          Другой   \n",
       "13                  5                 7             2017       Последний   \n",
       "\n",
       "    city_center_km  last_price_category  \n",
       "0             16.0                    C  \n",
       "2             14.0                    D  \n",
       "4              8.0                    D  \n",
       "10            14.0                    D  \n",
       "13            33.0                    E  \n",
       "\n",
       "[5 rows x 29 columns]"
      ]
     },
     "execution_count": 29,
     "metadata": {},
     "output_type": "execute_result"
    }
   ],
   "source": [
    "# пишу функцию, которая категоризует цены, применяю её к столбцу с ценами и добавляю новый столбец с категориями\n",
    "\n",
    "def categorize_price(price):\n",
    "    try:\n",
    "        if 0 <= price <= 5000000:\n",
    "            return 'E'\n",
    "        elif 5000001 <= price <= 10000000:\n",
    "            return 'D'\n",
    "        elif 10000001 <= price <= 15000000:\n",
    "            return 'C'\n",
    "        elif 15000001 <= price <= 25000000:\n",
    "            return 'B'\n",
    "        elif price >= 25000001:\n",
    "            return 'A'\n",
    "    except:\n",
    "        pass\n",
    "\n",
    "data['last_price_category'] = data['last_price'].apply(categorize_price)\n",
    "\n",
    "data.head()"
   ]
  },
  {
   "cell_type": "code",
   "execution_count": 30,
   "id": "1550301e",
   "metadata": {},
   "outputs": [
    {
     "data": {
      "text/html": [
       "<div>\n",
       "<style scoped>\n",
       "    .dataframe tbody tr th:only-of-type {\n",
       "        vertical-align: middle;\n",
       "    }\n",
       "\n",
       "    .dataframe tbody tr th {\n",
       "        vertical-align: top;\n",
       "    }\n",
       "\n",
       "    .dataframe thead th {\n",
       "        text-align: right;\n",
       "    }\n",
       "</style>\n",
       "<table border=\"1\" class=\"dataframe\">\n",
       "  <thead>\n",
       "    <tr style=\"text-align: right;\">\n",
       "      <th></th>\n",
       "      <th>Всего квартир</th>\n",
       "      <th>Медиана общей площади</th>\n",
       "    </tr>\n",
       "    <tr>\n",
       "      <th>last_price_category</th>\n",
       "      <th></th>\n",
       "      <th></th>\n",
       "    </tr>\n",
       "  </thead>\n",
       "  <tbody>\n",
       "    <tr>\n",
       "      <th>D</th>\n",
       "      <td>2905</td>\n",
       "      <td>63.00</td>\n",
       "    </tr>\n",
       "    <tr>\n",
       "      <th>E</th>\n",
       "      <td>2821</td>\n",
       "      <td>41.80</td>\n",
       "    </tr>\n",
       "    <tr>\n",
       "      <th>C</th>\n",
       "      <td>779</td>\n",
       "      <td>94.11</td>\n",
       "    </tr>\n",
       "    <tr>\n",
       "      <th>B</th>\n",
       "      <td>431</td>\n",
       "      <td>119.00</td>\n",
       "    </tr>\n",
       "    <tr>\n",
       "      <th>A</th>\n",
       "      <td>183</td>\n",
       "      <td>143.00</td>\n",
       "    </tr>\n",
       "  </tbody>\n",
       "</table>\n",
       "</div>"
      ],
      "text/plain": [
       "                     Всего квартир  Медиана общей площади\n",
       "last_price_category                                      \n",
       "D                             2905                  63.00\n",
       "E                             2821                  41.80\n",
       "C                              779                  94.11\n",
       "B                              431                 119.00\n",
       "A                              183                 143.00"
      ]
     },
     "execution_count": 30,
     "metadata": {},
     "output_type": "execute_result"
    }
   ],
   "source": [
    "# строю сводную таблицу с категориями цены, количеством квартир в каждой категории и медианой общей площади по каждой группе\n",
    "# просто интересно посмотреть на общее соотношение\n",
    "price_vs_total_area = data.pivot_table(index='last_price_category', values='total_area', aggfunc=['count', 'median'])\n",
    "price_vs_total_area.columns = ['Всего квартир', 'Медиана общей площади']\n",
    "price_vs_total_area.sort_values(by='Всего квартир', ascending=False)\n"
   ]
  },
  {
   "cell_type": "code",
   "execution_count": 31,
   "id": "5dee79ef",
   "metadata": {},
   "outputs": [
    {
     "data": {
      "text/plain": [
       "<Axes: xlabel='total_area', ylabel='last_price'>"
      ]
     },
     "execution_count": 31,
     "metadata": {},
     "output_type": "execute_result"
    },
    {
     "data": {
      "image/png": "[encoded data removed]",
      "text/plain": [
       "<Figure size 800x600 with 2 Axes>"
      ]
     },
     "metadata": {},
     "output_type": "display_data"
    }
   ],
   "source": [
    "# строю график по корреляции общей площади и цене квартиры \n",
    "\n",
    "data.plot(x='total_area', y='last_price', kind='hexbin', gridsize=15, figsize=(8, 6), sharex=False, grid=True) "
   ]
  },
  {
   "cell_type": "code",
   "execution_count": 32,
   "id": "2d4a3681",
   "metadata": {},
   "outputs": [
    {
     "data": {
      "text/plain": [
       "0.7874295802438263"
      ]
     },
     "execution_count": 32,
     "metadata": {},
     "output_type": "execute_result"
    }
   ],
   "source": [
    "# посмотрим ещё на коэффициент корреляции Пирсона\n",
    "\n",
    "data['total_area'].corr(data['last_price'])"
   ]
  },
  {
   "cell_type": "markdown",
   "id": "a5cabbd8",
   "metadata": {},
   "source": [
    "По всем значениям получается, что чем больше общая площадь, тем выше стоимость квартиры."
   ]
  },
  {
   "cell_type": "markdown",
   "id": "dc736b31",
   "metadata": {},
   "source": [
    "#### Связь цены с жилой площадью"
   ]
  },
  {
   "cell_type": "code",
   "execution_count": 33,
   "id": "6be409b9",
   "metadata": {},
   "outputs": [
    {
     "data": {
      "text/html": [
       "<div>\n",
       "<style scoped>\n",
       "    .dataframe tbody tr th:only-of-type {\n",
       "        vertical-align: middle;\n",
       "    }\n",
       "\n",
       "    .dataframe tbody tr th {\n",
       "        vertical-align: top;\n",
       "    }\n",
       "\n",
       "    .dataframe thead th {\n",
       "        text-align: right;\n",
       "    }\n",
       "</style>\n",
       "<table border=\"1\" class=\"dataframe\">\n",
       "  <thead>\n",
       "    <tr style=\"text-align: right;\">\n",
       "      <th></th>\n",
       "      <th>Всего квартир</th>\n",
       "      <th>Медиана жилой площади</th>\n",
       "    </tr>\n",
       "    <tr>\n",
       "      <th>last_price_category</th>\n",
       "      <th></th>\n",
       "      <th></th>\n",
       "    </tr>\n",
       "  </thead>\n",
       "  <tbody>\n",
       "    <tr>\n",
       "      <th>D</th>\n",
       "      <td>2905</td>\n",
       "      <td>37.0</td>\n",
       "    </tr>\n",
       "    <tr>\n",
       "      <th>E</th>\n",
       "      <td>2821</td>\n",
       "      <td>20.4</td>\n",
       "    </tr>\n",
       "    <tr>\n",
       "      <th>C</th>\n",
       "      <td>779</td>\n",
       "      <td>53.5</td>\n",
       "    </tr>\n",
       "    <tr>\n",
       "      <th>B</th>\n",
       "      <td>431</td>\n",
       "      <td>67.0</td>\n",
       "    </tr>\n",
       "    <tr>\n",
       "      <th>A</th>\n",
       "      <td>183</td>\n",
       "      <td>80.2</td>\n",
       "    </tr>\n",
       "  </tbody>\n",
       "</table>\n",
       "</div>"
      ],
      "text/plain": [
       "                     Всего квартир  Медиана жилой площади\n",
       "last_price_category                                      \n",
       "D                             2905                   37.0\n",
       "E                             2821                   20.4\n",
       "C                              779                   53.5\n",
       "B                              431                   67.0\n",
       "A                              183                   80.2"
      ]
     },
     "execution_count": 33,
     "metadata": {},
     "output_type": "execute_result"
    }
   ],
   "source": [
    "# строю сводную таблицу с категориями цены, количеством квартир в каждой категории и медианой жилой площади по каждой группе\n",
    "\n",
    "price_vs_living_area = data.pivot_table(index='last_price_category', values='living_area', aggfunc=['count', 'median'])\n",
    "price_vs_living_area.columns = ['Всего квартир', 'Медиана жилой площади']\n",
    "price_vs_living_area.sort_values(by='Всего квартир', ascending=False)"
   ]
  },
  {
   "cell_type": "code",
   "execution_count": 34,
   "id": "44c5cd8b",
   "metadata": {},
   "outputs": [
    {
     "data": {
      "text/plain": [
       "<Axes: xlabel='living_area', ylabel='last_price'>"
      ]
     },
     "execution_count": 34,
     "metadata": {},
     "output_type": "execute_result"
    },
    {
     "data": {
      "image/png": "[encoded data removed]",
      "text/plain": [
       "<Figure size 800x600 with 2 Axes>"
      ]
     },
     "metadata": {},
     "output_type": "display_data"
    }
   ],
   "source": [
    "# строю график по корреляции жилой площади и цене квартиры \n",
    "\n",
    "data.plot(x='living_area', y='last_price', kind='hexbin', gridsize=15, figsize=(8, 6), sharex=False, grid=True) "
   ]
  },
  {
   "cell_type": "code",
   "execution_count": 35,
   "id": "faa135a5",
   "metadata": {},
   "outputs": [
    {
     "data": {
      "text/plain": [
       "0.6937807532423991"
      ]
     },
     "execution_count": 35,
     "metadata": {},
     "output_type": "execute_result"
    }
   ],
   "source": [
    "# посмотрим ещё на коэффициент корреляции Пирсона\n",
    "\n",
    "data['living_area'].corr(data['last_price'])"
   ]
  },
  {
   "cell_type": "markdown",
   "id": "12959868",
   "metadata": {},
   "source": [
    "Стоимость квартиры чуть меньше зависит от размера жилой площади, но зависимость всё равно достаточно сильна. Чем больше жилая площадь, тем дороже квартира."
   ]
  },
  {
   "cell_type": "markdown",
   "id": "08d69c09",
   "metadata": {},
   "source": [
    "#### Связь цены с площадью кухни"
   ]
  },
  {
   "cell_type": "code",
   "execution_count": 36,
   "id": "5eae19bf",
   "metadata": {},
   "outputs": [
    {
     "data": {
      "text/html": [
       "<div>\n",
       "<style scoped>\n",
       "    .dataframe tbody tr th:only-of-type {\n",
       "        vertical-align: middle;\n",
       "    }\n",
       "\n",
       "    .dataframe tbody tr th {\n",
       "        vertical-align: top;\n",
       "    }\n",
       "\n",
       "    .dataframe thead th {\n",
       "        text-align: right;\n",
       "    }\n",
       "</style>\n",
       "<table border=\"1\" class=\"dataframe\">\n",
       "  <thead>\n",
       "    <tr style=\"text-align: right;\">\n",
       "      <th></th>\n",
       "      <th>Всего квартир</th>\n",
       "      <th>Медиана площади кухни</th>\n",
       "    </tr>\n",
       "    <tr>\n",
       "      <th>last_price_category</th>\n",
       "      <th></th>\n",
       "      <th></th>\n",
       "    </tr>\n",
       "  </thead>\n",
       "  <tbody>\n",
       "    <tr>\n",
       "      <th>D</th>\n",
       "      <td>2905</td>\n",
       "      <td>10.00</td>\n",
       "    </tr>\n",
       "    <tr>\n",
       "      <th>E</th>\n",
       "      <td>2821</td>\n",
       "      <td>7.00</td>\n",
       "    </tr>\n",
       "    <tr>\n",
       "      <th>C</th>\n",
       "      <td>779</td>\n",
       "      <td>14.20</td>\n",
       "    </tr>\n",
       "    <tr>\n",
       "      <th>B</th>\n",
       "      <td>431</td>\n",
       "      <td>17.10</td>\n",
       "    </tr>\n",
       "    <tr>\n",
       "      <th>A</th>\n",
       "      <td>183</td>\n",
       "      <td>19.35</td>\n",
       "    </tr>\n",
       "  </tbody>\n",
       "</table>\n",
       "</div>"
      ],
      "text/plain": [
       "                     Всего квартир  Медиана площади кухни\n",
       "last_price_category                                      \n",
       "D                             2905                  10.00\n",
       "E                             2821                   7.00\n",
       "C                              779                  14.20\n",
       "B                              431                  17.10\n",
       "A                              183                  19.35"
      ]
     },
     "execution_count": 36,
     "metadata": {},
     "output_type": "execute_result"
    }
   ],
   "source": [
    "# строю сводную таблицу с категориями цены, количеством квартир в каждой категории и медианой площади кухни по каждой группе\n",
    "\n",
    "price_vs_kitchen_area = data.pivot_table(index='last_price_category', values='kitchen_area', aggfunc=['count', 'median'])\n",
    "price_vs_kitchen_area.columns = ['Всего квартир', 'Медиана площади кухни']\n",
    "price_vs_kitchen_area.sort_values(by='Всего квартир', ascending=False)"
   ]
  },
  {
   "cell_type": "code",
   "execution_count": 37,
   "id": "0acfef93",
   "metadata": {},
   "outputs": [
    {
     "data": {
      "text/plain": [
       "<Axes: xlabel='kitchen_area', ylabel='last_price'>"
      ]
     },
     "execution_count": 37,
     "metadata": {},
     "output_type": "execute_result"
    },
    {
     "data": {
      "image/png": "[encoded data removed]",
      "text/plain": [
       "<Figure size 800x600 with 2 Axes>"
      ]
     },
     "metadata": {},
     "output_type": "display_data"
    }
   ],
   "source": [
    "# строю график по корреляции площади кухни и цене квартиры \n",
    "\n",
    "data.plot(x='kitchen_area', y='last_price', kind='hexbin', gridsize=15, figsize=(8, 6), sharex=False, grid=True)"
   ]
  },
  {
   "cell_type": "code",
   "execution_count": 38,
   "id": "0ea02e43",
   "metadata": {},
   "outputs": [
    {
     "data": {
      "text/plain": [
       "0.6041908571754372"
      ]
     },
     "execution_count": 38,
     "metadata": {},
     "output_type": "execute_result"
    }
   ],
   "source": [
    "# посмотрим ещё на коэффициент корреляции Пирсона\n",
    "\n",
    "data['kitchen_area'].corr(data['last_price'])"
   ]
  },
  {
   "cell_type": "markdown",
   "id": "375a7d19",
   "metadata": {},
   "source": [
    "Стоимость квартиры ещё меньше зависит от размера кухни, но зависимость есть, потому что площадь кухни учитывается в общей площади. Поэтому чем больше кухня, тем больше общая площадь и, соответственно, цена квартиры."
   ]
  },
  {
   "cell_type": "markdown",
   "id": "3555a8cf",
   "metadata": {},
   "source": [
    "#### Связь цены и количества комнат"
   ]
  },
  {
   "cell_type": "code",
   "execution_count": 39,
   "id": "f3019939",
   "metadata": {},
   "outputs": [
    {
     "data": {
      "text/html": [
       "<div>\n",
       "<style scoped>\n",
       "    .dataframe tbody tr th:only-of-type {\n",
       "        vertical-align: middle;\n",
       "    }\n",
       "\n",
       "    .dataframe tbody tr th {\n",
       "        vertical-align: top;\n",
       "    }\n",
       "\n",
       "    .dataframe thead th {\n",
       "        text-align: right;\n",
       "    }\n",
       "</style>\n",
       "<table border=\"1\" class=\"dataframe\">\n",
       "  <thead>\n",
       "    <tr style=\"text-align: right;\">\n",
       "      <th></th>\n",
       "      <th>Всего квартир</th>\n",
       "      <th>Средняя цена</th>\n",
       "    </tr>\n",
       "    <tr>\n",
       "      <th>rooms</th>\n",
       "      <th></th>\n",
       "      <th></th>\n",
       "    </tr>\n",
       "  </thead>\n",
       "  <tbody>\n",
       "    <tr>\n",
       "      <th>9</th>\n",
       "      <td>2</td>\n",
       "      <td>23125000.0</td>\n",
       "    </tr>\n",
       "    <tr>\n",
       "      <th>10</th>\n",
       "      <td>3</td>\n",
       "      <td>23000000.0</td>\n",
       "    </tr>\n",
       "    <tr>\n",
       "      <th>8</th>\n",
       "      <td>6</td>\n",
       "      <td>18200000.0</td>\n",
       "    </tr>\n",
       "    <tr>\n",
       "      <th>7</th>\n",
       "      <td>26</td>\n",
       "      <td>17900000.0</td>\n",
       "    </tr>\n",
       "    <tr>\n",
       "      <th>6</th>\n",
       "      <td>49</td>\n",
       "      <td>16650000.0</td>\n",
       "    </tr>\n",
       "    <tr>\n",
       "      <th>5</th>\n",
       "      <td>142</td>\n",
       "      <td>13950000.0</td>\n",
       "    </tr>\n",
       "    <tr>\n",
       "      <th>4</th>\n",
       "      <td>479</td>\n",
       "      <td>11000000.0</td>\n",
       "    </tr>\n",
       "    <tr>\n",
       "      <th>3</th>\n",
       "      <td>1985</td>\n",
       "      <td>7499000.0</td>\n",
       "    </tr>\n",
       "    <tr>\n",
       "      <th>2</th>\n",
       "      <td>2398</td>\n",
       "      <td>5600000.0</td>\n",
       "    </tr>\n",
       "    <tr>\n",
       "      <th>1</th>\n",
       "      <td>2029</td>\n",
       "      <td>4000000.0</td>\n",
       "    </tr>\n",
       "  </tbody>\n",
       "</table>\n",
       "</div>"
      ],
      "text/plain": [
       "       Всего квартир  Средняя цена\n",
       "rooms                             \n",
       "9                  2    23125000.0\n",
       "10                 3    23000000.0\n",
       "8                  6    18200000.0\n",
       "7                 26    17900000.0\n",
       "6                 49    16650000.0\n",
       "5                142    13950000.0\n",
       "4                479    11000000.0\n",
       "3               1985     7499000.0\n",
       "2               2398     5600000.0\n",
       "1               2029     4000000.0"
      ]
     },
     "execution_count": 39,
     "metadata": {},
     "output_type": "execute_result"
    }
   ],
   "source": [
    "# строю сводную таблицу с количеством комнат, количеством квартир в каждой категории и средней цене по каждой группе\n",
    "\n",
    "price_vs_rooms = data.pivot_table(index='rooms', values='last_price', aggfunc=['count', 'median'])\n",
    "price_vs_rooms.columns = ['Всего квартир', 'Средняя цена']\n",
    "price_vs_rooms.sort_values(by='Средняя цена', ascending=False)"
   ]
  },
  {
   "cell_type": "code",
   "execution_count": 40,
   "id": "e3644b25",
   "metadata": {},
   "outputs": [
    {
     "data": {
      "image/png": "[encoded data removed]",
      "text/plain": [
       "<Figure size 1000x600 with 1 Axes>"
      ]
     },
     "metadata": {},
     "output_type": "display_data"
    }
   ],
   "source": [
    "# строю график по корреляции количеству комнат и цене квартиры \n",
    "\n",
    "import matplotlib.pyplot as plt\n",
    "plt.figure(figsize=(10, 6))\n",
    "plt.bar(price_vs_rooms.index, price_vs_rooms['Средняя цена'])\n",
    "plt.xlabel('Количество комнат')\n",
    "plt.ylabel('Средняя цена')\n",
    "plt.show()"
   ]
  },
  {
   "cell_type": "code",
   "execution_count": 41,
   "id": "4db3fda6",
   "metadata": {},
   "outputs": [
    {
     "data": {
      "text/plain": [
       "0.5242941886902619"
      ]
     },
     "execution_count": 41,
     "metadata": {},
     "output_type": "execute_result"
    }
   ],
   "source": [
    "# посмотрим ещё на коэффициент корреляции Пирсона\n",
    "\n",
    "data['rooms'].corr(data['last_price'])"
   ]
  },
  {
   "cell_type": "markdown",
   "id": "b1b1ff87",
   "metadata": {},
   "source": [
    "Чем больше комнат, тем выше цена. Это, опять-таки, упирается в общую площадь: больше комнат, больше площадь."
   ]
  },
  {
   "cell_type": "markdown",
   "id": "dd1ddc40",
   "metadata": {},
   "source": [
    "#### Связь цены с этажом"
   ]
  },
  {
   "cell_type": "code",
   "execution_count": 42,
   "id": "e5d33711",
   "metadata": {},
   "outputs": [
    {
     "data": {
      "text/html": [
       "<div>\n",
       "<style scoped>\n",
       "    .dataframe tbody tr th:only-of-type {\n",
       "        vertical-align: middle;\n",
       "    }\n",
       "\n",
       "    .dataframe tbody tr th {\n",
       "        vertical-align: top;\n",
       "    }\n",
       "\n",
       "    .dataframe thead th {\n",
       "        text-align: right;\n",
       "    }\n",
       "</style>\n",
       "<table border=\"1\" class=\"dataframe\">\n",
       "  <thead>\n",
       "    <tr style=\"text-align: right;\">\n",
       "      <th></th>\n",
       "      <th>Всего квартир</th>\n",
       "      <th>Средняя цена</th>\n",
       "    </tr>\n",
       "    <tr>\n",
       "      <th>floor_category</th>\n",
       "      <th></th>\n",
       "      <th></th>\n",
       "    </tr>\n",
       "  </thead>\n",
       "  <tbody>\n",
       "    <tr>\n",
       "      <th>Другой</th>\n",
       "      <td>5216</td>\n",
       "      <td>5950000.0</td>\n",
       "    </tr>\n",
       "    <tr>\n",
       "      <th>Последний</th>\n",
       "      <td>1044</td>\n",
       "      <td>5800000.0</td>\n",
       "    </tr>\n",
       "    <tr>\n",
       "      <th>Первый</th>\n",
       "      <td>859</td>\n",
       "      <td>4900000.0</td>\n",
       "    </tr>\n",
       "  </tbody>\n",
       "</table>\n",
       "</div>"
      ],
      "text/plain": [
       "                Всего квартир  Средняя цена\n",
       "floor_category                             \n",
       "Другой                   5216     5950000.0\n",
       "Последний                1044     5800000.0\n",
       "Первый                    859     4900000.0"
      ]
     },
     "execution_count": 42,
     "metadata": {},
     "output_type": "execute_result"
    }
   ],
   "source": [
    "# строю сводную таблицу с типом этажа, количеством квартир в каждой категории и средней цене по каждой группе\n",
    "\n",
    "price_vs_floor = data.pivot_table(index='floor_category', values='last_price', aggfunc=['count', 'median'])\n",
    "price_vs_floor.columns = ['Всего квартир', 'Средняя цена']\n",
    "price_vs_floor.sort_values(by='Всего квартир', ascending=False)"
   ]
  },
  {
   "cell_type": "code",
   "execution_count": 43,
   "id": "01f73357",
   "metadata": {},
   "outputs": [
    {
     "data": {
      "image/png": "[encoded data removed]",
      "text/plain": [
       "<Figure size 1000x600 with 1 Axes>"
      ]
     },
     "metadata": {},
     "output_type": "display_data"
    }
   ],
   "source": [
    "# строю график по корреляции типа этажа и цене квартиры \n",
    "\n",
    "plt.figure(figsize=(10, 6))\n",
    "plt.bar(price_vs_floor.index, price_vs_floor['Средняя цена'])\n",
    "plt.xlabel('Тип этажа')\n",
    "plt.ylabel('Средняя цена')\n",
    "plt.show()\n"
   ]
  },
  {
   "cell_type": "markdown",
   "id": "9a123c08",
   "metadata": {},
   "source": [
    "Цена не очень зависит от этажа, средняя цена примерно одинакова за любой тип этажа.\n"
   ]
  },
  {
   "cell_type": "markdown",
   "id": "a4d6b75a",
   "metadata": {},
   "source": [
    "#### Связь цены с датой размещения "
   ]
  },
  {
   "cell_type": "code",
   "execution_count": 44,
   "id": "6e1d3ec7",
   "metadata": {},
   "outputs": [
    {
     "data": {
      "text/html": [
       "<div>\n",
       "<style scoped>\n",
       "    .dataframe tbody tr th:only-of-type {\n",
       "        vertical-align: middle;\n",
       "    }\n",
       "\n",
       "    .dataframe tbody tr th {\n",
       "        vertical-align: top;\n",
       "    }\n",
       "\n",
       "    .dataframe thead th {\n",
       "        text-align: right;\n",
       "    }\n",
       "</style>\n",
       "<table border=\"1\" class=\"dataframe\">\n",
       "  <thead>\n",
       "    <tr style=\"text-align: right;\">\n",
       "      <th></th>\n",
       "      <th>Всего квартир</th>\n",
       "      <th>Средняя цена</th>\n",
       "    </tr>\n",
       "    <tr>\n",
       "      <th>weekday_exposition</th>\n",
       "      <th></th>\n",
       "      <th></th>\n",
       "    </tr>\n",
       "  </thead>\n",
       "  <tbody>\n",
       "    <tr>\n",
       "      <th>3</th>\n",
       "      <td>1297</td>\n",
       "      <td>5950000.0</td>\n",
       "    </tr>\n",
       "    <tr>\n",
       "      <th>1</th>\n",
       "      <td>1295</td>\n",
       "      <td>5690000.0</td>\n",
       "    </tr>\n",
       "    <tr>\n",
       "      <th>2</th>\n",
       "      <td>1213</td>\n",
       "      <td>5800000.0</td>\n",
       "    </tr>\n",
       "    <tr>\n",
       "      <th>4</th>\n",
       "      <td>1183</td>\n",
       "      <td>5700000.0</td>\n",
       "    </tr>\n",
       "    <tr>\n",
       "      <th>0</th>\n",
       "      <td>1094</td>\n",
       "      <td>5865000.0</td>\n",
       "    </tr>\n",
       "    <tr>\n",
       "      <th>5</th>\n",
       "      <td>554</td>\n",
       "      <td>5895000.0</td>\n",
       "    </tr>\n",
       "    <tr>\n",
       "      <th>6</th>\n",
       "      <td>483</td>\n",
       "      <td>5425000.0</td>\n",
       "    </tr>\n",
       "  </tbody>\n",
       "</table>\n",
       "</div>"
      ],
      "text/plain": [
       "                    Всего квартир  Средняя цена\n",
       "weekday_exposition                             \n",
       "3                            1297     5950000.0\n",
       "1                            1295     5690000.0\n",
       "2                            1213     5800000.0\n",
       "4                            1183     5700000.0\n",
       "0                            1094     5865000.0\n",
       "5                             554     5895000.0\n",
       "6                             483     5425000.0"
      ]
     },
     "execution_count": 44,
     "metadata": {},
     "output_type": "execute_result"
    }
   ],
   "source": [
    "# строю сводную таблицу с днём публикации, количеством квартир в каждой категории и средней цене по каждой группе\n",
    "\n",
    "\n",
    "price_vs_weekday_exposition = data.pivot_table(index='weekday_exposition', values='last_price', aggfunc=['count', 'median'])\n",
    "price_vs_weekday_exposition.columns = ['Всего квартир', 'Средняя цена']\n",
    "price_vs_weekday_exposition.sort_values(by='Всего квартир', ascending=False)\n"
   ]
  },
  {
   "cell_type": "code",
   "execution_count": 45,
   "id": "e5a25dc3",
   "metadata": {},
   "outputs": [
    {
     "data": {
      "image/png": "[encoded data removed]",
      "text/plain": [
       "<Figure size 1000x600 with 1 Axes>"
      ]
     },
     "metadata": {},
     "output_type": "display_data"
    }
   ],
   "source": [
    "# строю график по корреляции дня публикации и цене квартиры \n",
    "\n",
    "plt.figure(figsize=(10, 6))\n",
    "plt.bar(price_vs_weekday_exposition.index, price_vs_weekday_exposition['Средняя цена'])\n",
    "plt.xlabel('День публикации')\n",
    "plt.ylabel('Средняя цена')\n",
    "plt.show()"
   ]
  },
  {
   "cell_type": "code",
   "execution_count": 46,
   "id": "e9460d3b",
   "metadata": {},
   "outputs": [
    {
     "data": {
      "text/plain": [
       "-0.018216848426524393"
      ]
     },
     "execution_count": 46,
     "metadata": {},
     "output_type": "execute_result"
    }
   ],
   "source": [
    "# посмотрим ещё на коэффициент корреляции Пирсона\n",
    "\n",
    "data['weekday_exposition'].corr(data['last_price'])"
   ]
  },
  {
   "cell_type": "markdown",
   "id": "b6bf1709",
   "metadata": {},
   "source": [
    "Цена не зависит от дня публикации.\n"
   ]
  },
  {
   "cell_type": "code",
   "execution_count": 47,
   "id": "6d2529bf",
   "metadata": {},
   "outputs": [
    {
     "data": {
      "text/html": [
       "<div>\n",
       "<style scoped>\n",
       "    .dataframe tbody tr th:only-of-type {\n",
       "        vertical-align: middle;\n",
       "    }\n",
       "\n",
       "    .dataframe tbody tr th {\n",
       "        vertical-align: top;\n",
       "    }\n",
       "\n",
       "    .dataframe thead th {\n",
       "        text-align: right;\n",
       "    }\n",
       "</style>\n",
       "<table border=\"1\" class=\"dataframe\">\n",
       "  <thead>\n",
       "    <tr style=\"text-align: right;\">\n",
       "      <th></th>\n",
       "      <th>Всего квартир</th>\n",
       "      <th>Средняя цена</th>\n",
       "    </tr>\n",
       "    <tr>\n",
       "      <th>month_exposition</th>\n",
       "      <th></th>\n",
       "      <th></th>\n",
       "    </tr>\n",
       "  </thead>\n",
       "  <tbody>\n",
       "    <tr>\n",
       "      <th>2</th>\n",
       "      <td>799</td>\n",
       "      <td>5600000.0</td>\n",
       "    </tr>\n",
       "    <tr>\n",
       "      <th>3</th>\n",
       "      <td>730</td>\n",
       "      <td>5785000.0</td>\n",
       "    </tr>\n",
       "    <tr>\n",
       "      <th>11</th>\n",
       "      <td>730</td>\n",
       "      <td>5725000.0</td>\n",
       "    </tr>\n",
       "    <tr>\n",
       "      <th>4</th>\n",
       "      <td>717</td>\n",
       "      <td>5800000.0</td>\n",
       "    </tr>\n",
       "    <tr>\n",
       "      <th>10</th>\n",
       "      <td>641</td>\n",
       "      <td>5500000.0</td>\n",
       "    </tr>\n",
       "    <tr>\n",
       "      <th>9</th>\n",
       "      <td>610</td>\n",
       "      <td>5999000.0</td>\n",
       "    </tr>\n",
       "    <tr>\n",
       "      <th>6</th>\n",
       "      <td>550</td>\n",
       "      <td>5500000.0</td>\n",
       "    </tr>\n",
       "    <tr>\n",
       "      <th>8</th>\n",
       "      <td>529</td>\n",
       "      <td>5700000.0</td>\n",
       "    </tr>\n",
       "    <tr>\n",
       "      <th>7</th>\n",
       "      <td>516</td>\n",
       "      <td>5940000.0</td>\n",
       "    </tr>\n",
       "    <tr>\n",
       "      <th>12</th>\n",
       "      <td>471</td>\n",
       "      <td>6200000.0</td>\n",
       "    </tr>\n",
       "    <tr>\n",
       "      <th>1</th>\n",
       "      <td>430</td>\n",
       "      <td>5800000.0</td>\n",
       "    </tr>\n",
       "    <tr>\n",
       "      <th>5</th>\n",
       "      <td>396</td>\n",
       "      <td>5595000.0</td>\n",
       "    </tr>\n",
       "  </tbody>\n",
       "</table>\n",
       "</div>"
      ],
      "text/plain": [
       "                  Всего квартир  Средняя цена\n",
       "month_exposition                             \n",
       "2                           799     5600000.0\n",
       "3                           730     5785000.0\n",
       "11                          730     5725000.0\n",
       "4                           717     5800000.0\n",
       "10                          641     5500000.0\n",
       "9                           610     5999000.0\n",
       "6                           550     5500000.0\n",
       "8                           529     5700000.0\n",
       "7                           516     5940000.0\n",
       "12                          471     6200000.0\n",
       "1                           430     5800000.0\n",
       "5                           396     5595000.0"
      ]
     },
     "execution_count": 47,
     "metadata": {},
     "output_type": "execute_result"
    }
   ],
   "source": [
    "# строю сводную таблицу с месяцем публикации, количеством квартир в каждой категории и средней цене по каждой группе\n",
    "\n",
    "price_vs_month_exposition = data.pivot_table(index='month_exposition', values='last_price', aggfunc=['count', 'median'])\n",
    "price_vs_month_exposition.columns = ['Всего квартир', 'Средняя цена']\n",
    "price_vs_month_exposition.sort_values(by='Всего квартир', ascending=False)"
   ]
  },
  {
   "cell_type": "code",
   "execution_count": 48,
   "id": "119778dc",
   "metadata": {},
   "outputs": [
    {
     "data": {
      "image/png": "[encoded data removed]",
      "text/plain": [
       "<Figure size 1000x600 with 1 Axes>"
      ]
     },
     "metadata": {},
     "output_type": "display_data"
    }
   ],
   "source": [
    "# строю график по корреляции месяца публикации и цене квартиры \n",
    "\n",
    "plt.figure(figsize=(10, 6))\n",
    "plt.bar(price_vs_month_exposition.index, price_vs_month_exposition['Средняя цена'])\n",
    "plt.xlabel('Месяц публикации')\n",
    "plt.ylabel('Средняя цена')\n",
    "plt.show()"
   ]
  },
  {
   "cell_type": "code",
   "execution_count": 49,
   "id": "cb87d3ae",
   "metadata": {},
   "outputs": [
    {
     "data": {
      "text/plain": [
       "0.0049633252355010945"
      ]
     },
     "execution_count": 49,
     "metadata": {},
     "output_type": "execute_result"
    }
   ],
   "source": [
    "# посмотрим ещё на коэффициент корреляции Пирсона\n",
    "\n",
    "data['month_exposition'].corr(data['last_price'])"
   ]
  },
  {
   "cell_type": "markdown",
   "id": "8c94c3e3",
   "metadata": {},
   "source": [
    "Цена не зависит от месяца публикации."
   ]
  },
  {
   "cell_type": "code",
   "execution_count": 50,
   "id": "a77071ce",
   "metadata": {},
   "outputs": [
    {
     "data": {
      "text/html": [
       "<div>\n",
       "<style scoped>\n",
       "    .dataframe tbody tr th:only-of-type {\n",
       "        vertical-align: middle;\n",
       "    }\n",
       "\n",
       "    .dataframe tbody tr th {\n",
       "        vertical-align: top;\n",
       "    }\n",
       "\n",
       "    .dataframe thead th {\n",
       "        text-align: right;\n",
       "    }\n",
       "</style>\n",
       "<table border=\"1\" class=\"dataframe\">\n",
       "  <thead>\n",
       "    <tr style=\"text-align: right;\">\n",
       "      <th></th>\n",
       "      <th>Всего квартир</th>\n",
       "      <th>Средняя цена</th>\n",
       "    </tr>\n",
       "    <tr>\n",
       "      <th>year_exposition</th>\n",
       "      <th></th>\n",
       "      <th></th>\n",
       "    </tr>\n",
       "  </thead>\n",
       "  <tbody>\n",
       "    <tr>\n",
       "      <th>2017</th>\n",
       "      <td>2574</td>\n",
       "      <td>5500000.0</td>\n",
       "    </tr>\n",
       "    <tr>\n",
       "      <th>2018</th>\n",
       "      <td>2320</td>\n",
       "      <td>5790000.0</td>\n",
       "    </tr>\n",
       "    <tr>\n",
       "      <th>2016</th>\n",
       "      <td>903</td>\n",
       "      <td>5750000.0</td>\n",
       "    </tr>\n",
       "    <tr>\n",
       "      <th>2019</th>\n",
       "      <td>866</td>\n",
       "      <td>5900000.0</td>\n",
       "    </tr>\n",
       "    <tr>\n",
       "      <th>2015</th>\n",
       "      <td>394</td>\n",
       "      <td>6700000.0</td>\n",
       "    </tr>\n",
       "    <tr>\n",
       "      <th>2014</th>\n",
       "      <td>62</td>\n",
       "      <td>12298560.0</td>\n",
       "    </tr>\n",
       "  </tbody>\n",
       "</table>\n",
       "</div>"
      ],
      "text/plain": [
       "                 Всего квартир  Средняя цена\n",
       "year_exposition                             \n",
       "2017                      2574     5500000.0\n",
       "2018                      2320     5790000.0\n",
       "2016                       903     5750000.0\n",
       "2019                       866     5900000.0\n",
       "2015                       394     6700000.0\n",
       "2014                        62    12298560.0"
      ]
     },
     "execution_count": 50,
     "metadata": {},
     "output_type": "execute_result"
    }
   ],
   "source": [
    "# строю сводную таблицу с годом публикации, количеством квартир в каждой категории и средней цене по каждой группе\n",
    "\n",
    "price_vs_year_exposition = data.pivot_table(index='year_exposition', values='last_price', aggfunc=['count', 'median'])\n",
    "price_vs_year_exposition.columns = ['Всего квартир', 'Средняя цена']\n",
    "price_vs_year_exposition.sort_values(by='Всего квартир', ascending=False)"
   ]
  },
  {
   "cell_type": "code",
   "execution_count": 51,
   "id": "8be9be0c",
   "metadata": {},
   "outputs": [
    {
     "data": {
      "image/png": "[encoded data removed]",
      "text/plain": [
       "<Figure size 1000x600 with 1 Axes>"
      ]
     },
     "metadata": {},
     "output_type": "display_data"
    }
   ],
   "source": [
    "plt.figure(figsize=(10, 6))\n",
    "plt.bar(price_vs_year_exposition.index, price_vs_year_exposition['Средняя цена'])\n",
    "plt.xlabel('Год публикации')\n",
    "plt.ylabel('Средняя цена')\n",
    "plt.show()"
   ]
  },
  {
   "cell_type": "code",
   "execution_count": 52,
   "id": "30e4b1e6",
   "metadata": {},
   "outputs": [
    {
     "data": {
      "text/plain": [
       "-0.07021283878915521"
      ]
     },
     "execution_count": 52,
     "metadata": {},
     "output_type": "execute_result"
    }
   ],
   "source": [
    "data['year_exposition'].corr(data['last_price'])"
   ]
  },
  {
   "cell_type": "markdown",
   "id": "d1bb23a1",
   "metadata": {},
   "source": [
    "Самая большая средняя цена была в 2014 году, дальше средняя цена снижалась. В 2019 заметен небольшой подъём. Но здесь слишком много особенностей, чтобы понять, что именно повлияло на цену в определённом году. Надо изучать социокультурные особенности."
   ]
  },
  {
   "cell_type": "markdown",
   "id": "841347c0",
   "metadata": {},
   "source": [
    "### Cредняя цена одного квадратного метра в 10 населённых пунктах с наибольшим числом объявлений"
   ]
  },
  {
   "cell_type": "code",
   "execution_count": 53,
   "id": "54f287d4",
   "metadata": {},
   "outputs": [
    {
     "data": {
      "text/html": [
       "<div>\n",
       "<style scoped>\n",
       "    .dataframe tbody tr th:only-of-type {\n",
       "        vertical-align: middle;\n",
       "    }\n",
       "\n",
       "    .dataframe tbody tr th {\n",
       "        vertical-align: top;\n",
       "    }\n",
       "\n",
       "    .dataframe thead th {\n",
       "        text-align: right;\n",
       "    }\n",
       "</style>\n",
       "<table border=\"1\" class=\"dataframe\">\n",
       "  <thead>\n",
       "    <tr style=\"text-align: right;\">\n",
       "      <th></th>\n",
       "      <th>total_images</th>\n",
       "      <th>last_price</th>\n",
       "      <th>total_area</th>\n",
       "      <th>first_day_exposition</th>\n",
       "      <th>rooms</th>\n",
       "      <th>ceiling_height</th>\n",
       "      <th>floors_total</th>\n",
       "      <th>living_area</th>\n",
       "      <th>floor</th>\n",
       "      <th>is_apartment</th>\n",
       "      <th>...</th>\n",
       "      <th>ponds_around3000</th>\n",
       "      <th>ponds_nearest</th>\n",
       "      <th>days_exposition</th>\n",
       "      <th>price_for_m_2</th>\n",
       "      <th>weekday_exposition</th>\n",
       "      <th>month_exposition</th>\n",
       "      <th>year_exposition</th>\n",
       "      <th>floor_category</th>\n",
       "      <th>city_center_km</th>\n",
       "      <th>last_price_category</th>\n",
       "    </tr>\n",
       "  </thead>\n",
       "  <tbody>\n",
       "    <tr>\n",
       "      <th>0</th>\n",
       "      <td>20</td>\n",
       "      <td>13000000.0</td>\n",
       "      <td>108.0</td>\n",
       "      <td>2019-03-07</td>\n",
       "      <td>3</td>\n",
       "      <td>2.70</td>\n",
       "      <td>16</td>\n",
       "      <td>51.0</td>\n",
       "      <td>8</td>\n",
       "      <td>False</td>\n",
       "      <td>...</td>\n",
       "      <td>2</td>\n",
       "      <td>755.0</td>\n",
       "      <td>NaN</td>\n",
       "      <td>120370.37</td>\n",
       "      <td>3</td>\n",
       "      <td>3</td>\n",
       "      <td>2019</td>\n",
       "      <td>Другой</td>\n",
       "      <td>16.0</td>\n",
       "      <td>C</td>\n",
       "    </tr>\n",
       "    <tr>\n",
       "      <th>2</th>\n",
       "      <td>10</td>\n",
       "      <td>5196000.0</td>\n",
       "      <td>56.0</td>\n",
       "      <td>2015-08-20</td>\n",
       "      <td>2</td>\n",
       "      <td>2.65</td>\n",
       "      <td>5</td>\n",
       "      <td>34.3</td>\n",
       "      <td>4</td>\n",
       "      <td>False</td>\n",
       "      <td>...</td>\n",
       "      <td>2</td>\n",
       "      <td>574.0</td>\n",
       "      <td>558.0</td>\n",
       "      <td>92785.71</td>\n",
       "      <td>3</td>\n",
       "      <td>8</td>\n",
       "      <td>2015</td>\n",
       "      <td>Другой</td>\n",
       "      <td>14.0</td>\n",
       "      <td>D</td>\n",
       "    </tr>\n",
       "    <tr>\n",
       "      <th>4</th>\n",
       "      <td>2</td>\n",
       "      <td>10000000.0</td>\n",
       "      <td>100.0</td>\n",
       "      <td>2018-06-19</td>\n",
       "      <td>2</td>\n",
       "      <td>3.03</td>\n",
       "      <td>14</td>\n",
       "      <td>32.0</td>\n",
       "      <td>13</td>\n",
       "      <td>False</td>\n",
       "      <td>...</td>\n",
       "      <td>1</td>\n",
       "      <td>48.0</td>\n",
       "      <td>121.0</td>\n",
       "      <td>100000.00</td>\n",
       "      <td>1</td>\n",
       "      <td>6</td>\n",
       "      <td>2018</td>\n",
       "      <td>Другой</td>\n",
       "      <td>8.0</td>\n",
       "      <td>D</td>\n",
       "    </tr>\n",
       "    <tr>\n",
       "      <th>10</th>\n",
       "      <td>5</td>\n",
       "      <td>5050000.0</td>\n",
       "      <td>39.6</td>\n",
       "      <td>2017-11-16</td>\n",
       "      <td>1</td>\n",
       "      <td>2.67</td>\n",
       "      <td>12</td>\n",
       "      <td>20.3</td>\n",
       "      <td>3</td>\n",
       "      <td>False</td>\n",
       "      <td>...</td>\n",
       "      <td>2</td>\n",
       "      <td>553.0</td>\n",
       "      <td>137.0</td>\n",
       "      <td>127525.25</td>\n",
       "      <td>3</td>\n",
       "      <td>11</td>\n",
       "      <td>2017</td>\n",
       "      <td>Другой</td>\n",
       "      <td>14.0</td>\n",
       "      <td>D</td>\n",
       "    </tr>\n",
       "    <tr>\n",
       "      <th>13</th>\n",
       "      <td>20</td>\n",
       "      <td>3550000.0</td>\n",
       "      <td>42.8</td>\n",
       "      <td>2017-07-01</td>\n",
       "      <td>2</td>\n",
       "      <td>2.56</td>\n",
       "      <td>5</td>\n",
       "      <td>27.0</td>\n",
       "      <td>5</td>\n",
       "      <td>False</td>\n",
       "      <td>...</td>\n",
       "      <td>3</td>\n",
       "      <td>298.0</td>\n",
       "      <td>366.0</td>\n",
       "      <td>82943.93</td>\n",
       "      <td>5</td>\n",
       "      <td>7</td>\n",
       "      <td>2017</td>\n",
       "      <td>Последний</td>\n",
       "      <td>33.0</td>\n",
       "      <td>E</td>\n",
       "    </tr>\n",
       "  </tbody>\n",
       "</table>\n",
       "<p>5 rows × 29 columns</p>\n",
       "</div>"
      ],
      "text/plain": [
       "    total_images  last_price  total_area first_day_exposition  rooms  \\\n",
       "0             20  13000000.0       108.0           2019-03-07      3   \n",
       "2             10   5196000.0        56.0           2015-08-20      2   \n",
       "4              2  10000000.0       100.0           2018-06-19      2   \n",
       "10             5   5050000.0        39.6           2017-11-16      1   \n",
       "13            20   3550000.0        42.8           2017-07-01      2   \n",
       "\n",
       "    ceiling_height  floors_total  living_area  floor  is_apartment  ...  \\\n",
       "0             2.70            16         51.0      8         False  ...   \n",
       "2             2.65             5         34.3      4         False  ...   \n",
       "4             3.03            14         32.0     13         False  ...   \n",
       "10            2.67            12         20.3      3         False  ...   \n",
       "13            2.56             5         27.0      5         False  ...   \n",
       "\n",
       "    ponds_around3000  ponds_nearest  days_exposition  price_for_m_2  \\\n",
       "0                  2          755.0              NaN      120370.37   \n",
       "2                  2          574.0            558.0       92785.71   \n",
       "4                  1           48.0            121.0      100000.00   \n",
       "10                 2          553.0            137.0      127525.25   \n",
       "13                 3          298.0            366.0       82943.93   \n",
       "\n",
       "   weekday_exposition  month_exposition  year_exposition  floor_category  \\\n",
       "0                   3                 3             2019          Другой   \n",
       "2                   3                 8             2015          Другой   \n",
       "4                   1                 6             2018          Другой   \n",
       "10                  3                11             2017          Другой   \n",
       "13                  5                 7             2017       Последний   \n",
       "\n",
       "    city_center_km  last_price_category  \n",
       "0             16.0                    C  \n",
       "2             14.0                    D  \n",
       "4              8.0                    D  \n",
       "10            14.0                    D  \n",
       "13            33.0                    E  \n",
       "\n",
       "[5 rows x 29 columns]"
      ]
     },
     "execution_count": 53,
     "metadata": {},
     "output_type": "execute_result"
    }
   ],
   "source": [
    "data.head()"
   ]
  },
  {
   "cell_type": "code",
   "execution_count": 54,
   "id": "98deeca8",
   "metadata": {},
   "outputs": [
    {
     "data": {
      "text/html": [
       "<div>\n",
       "<style scoped>\n",
       "    .dataframe tbody tr th:only-of-type {\n",
       "        vertical-align: middle;\n",
       "    }\n",
       "\n",
       "    .dataframe tbody tr th {\n",
       "        vertical-align: top;\n",
       "    }\n",
       "\n",
       "    .dataframe thead th {\n",
       "        text-align: right;\n",
       "    }\n",
       "</style>\n",
       "<table border=\"1\" class=\"dataframe\">\n",
       "  <thead>\n",
       "    <tr style=\"text-align: right;\">\n",
       "      <th></th>\n",
       "      <th>Количество объявлений</th>\n",
       "    </tr>\n",
       "    <tr>\n",
       "      <th>locality_name</th>\n",
       "      <th></th>\n",
       "    </tr>\n",
       "  </thead>\n",
       "  <tbody>\n",
       "    <tr>\n",
       "      <th>Зеленогорск</th>\n",
       "      <td>15</td>\n",
       "    </tr>\n",
       "    <tr>\n",
       "      <th>Колпино</th>\n",
       "      <td>126</td>\n",
       "    </tr>\n",
       "    <tr>\n",
       "      <th>Красное Село</th>\n",
       "      <td>39</td>\n",
       "    </tr>\n",
       "    <tr>\n",
       "      <th>Кронштадт</th>\n",
       "      <td>82</td>\n",
       "    </tr>\n",
       "    <tr>\n",
       "      <th>Ломоносов</th>\n",
       "      <td>10</td>\n",
       "    </tr>\n",
       "    <tr>\n",
       "      <th>Павловск</th>\n",
       "      <td>24</td>\n",
       "    </tr>\n",
       "    <tr>\n",
       "      <th>Петергоф</th>\n",
       "      <td>135</td>\n",
       "    </tr>\n",
       "    <tr>\n",
       "      <th>Пушкин</th>\n",
       "      <td>192</td>\n",
       "    </tr>\n",
       "    <tr>\n",
       "      <th>Санкт-Петербург</th>\n",
       "      <td>6403</td>\n",
       "    </tr>\n",
       "    <tr>\n",
       "      <th>Сестрорецк</th>\n",
       "      <td>66</td>\n",
       "    </tr>\n",
       "    <tr>\n",
       "      <th>посёлок Парголово</th>\n",
       "      <td>8</td>\n",
       "    </tr>\n",
       "    <tr>\n",
       "      <th>посёлок Стрельна</th>\n",
       "      <td>19</td>\n",
       "    </tr>\n",
       "  </tbody>\n",
       "</table>\n",
       "</div>"
      ],
      "text/plain": [
       "                   Количество объявлений\n",
       "locality_name                           \n",
       "Зеленогорск                           15\n",
       "Колпино                              126\n",
       "Красное Село                          39\n",
       "Кронштадт                             82\n",
       "Ломоносов                             10\n",
       "Павловск                              24\n",
       "Петергоф                             135\n",
       "Пушкин                               192\n",
       "Санкт-Петербург                     6403\n",
       "Сестрорецк                            66\n",
       "посёлок Парголово                      8\n",
       "посёлок Стрельна                      19"
      ]
     },
     "execution_count": 54,
     "metadata": {},
     "output_type": "execute_result"
    }
   ],
   "source": [
    "# строю сводную таблицу с названием населённого пункта и количеством объявлений в каждом пункте\n",
    "locality_vs_exposition = data.pivot_table(index='locality_name', values='first_day_exposition', aggfunc='count')\n",
    "locality_vs_exposition.columns = ['Количество объявлений']\n",
    "locality_vs_exposition"
   ]
  },
  {
   "cell_type": "code",
   "execution_count": 55,
   "id": "389d051d",
   "metadata": {},
   "outputs": [
    {
     "data": {
      "text/html": [
       "<div>\n",
       "<style scoped>\n",
       "    .dataframe tbody tr th:only-of-type {\n",
       "        vertical-align: middle;\n",
       "    }\n",
       "\n",
       "    .dataframe tbody tr th {\n",
       "        vertical-align: top;\n",
       "    }\n",
       "\n",
       "    .dataframe thead th {\n",
       "        text-align: right;\n",
       "    }\n",
       "</style>\n",
       "<table border=\"1\" class=\"dataframe\">\n",
       "  <thead>\n",
       "    <tr style=\"text-align: right;\">\n",
       "      <th></th>\n",
       "      <th>Средняя цена за метр</th>\n",
       "    </tr>\n",
       "    <tr>\n",
       "      <th>locality_name</th>\n",
       "      <th></th>\n",
       "    </tr>\n",
       "  </thead>\n",
       "  <tbody>\n",
       "    <tr>\n",
       "      <th>Зеленогорск</th>\n",
       "      <td>106668.804000</td>\n",
       "    </tr>\n",
       "    <tr>\n",
       "      <th>Колпино</th>\n",
       "      <td>75572.331429</td>\n",
       "    </tr>\n",
       "    <tr>\n",
       "      <th>Красное Село</th>\n",
       "      <td>76184.903846</td>\n",
       "    </tr>\n",
       "    <tr>\n",
       "      <th>Кронштадт</th>\n",
       "      <td>79964.140122</td>\n",
       "    </tr>\n",
       "    <tr>\n",
       "      <th>Ломоносов</th>\n",
       "      <td>69093.190000</td>\n",
       "    </tr>\n",
       "    <tr>\n",
       "      <th>Павловск</th>\n",
       "      <td>91291.021250</td>\n",
       "    </tr>\n",
       "    <tr>\n",
       "      <th>Петергоф</th>\n",
       "      <td>84735.686074</td>\n",
       "    </tr>\n",
       "    <tr>\n",
       "      <th>Пушкин</th>\n",
       "      <td>104999.383594</td>\n",
       "    </tr>\n",
       "    <tr>\n",
       "      <th>Санкт-Петербург</th>\n",
       "      <td>116582.728376</td>\n",
       "    </tr>\n",
       "    <tr>\n",
       "      <th>Сестрорецк</th>\n",
       "      <td>107330.777121</td>\n",
       "    </tr>\n",
       "    <tr>\n",
       "      <th>посёлок Парголово</th>\n",
       "      <td>81360.781250</td>\n",
       "    </tr>\n",
       "    <tr>\n",
       "      <th>посёлок Стрельна</th>\n",
       "      <td>88299.521579</td>\n",
       "    </tr>\n",
       "  </tbody>\n",
       "</table>\n",
       "</div>"
      ],
      "text/plain": [
       "                   Средняя цена за метр\n",
       "locality_name                          \n",
       "Зеленогорск               106668.804000\n",
       "Колпино                    75572.331429\n",
       "Красное Село               76184.903846\n",
       "Кронштадт                  79964.140122\n",
       "Ломоносов                  69093.190000\n",
       "Павловск                   91291.021250\n",
       "Петергоф                   84735.686074\n",
       "Пушкин                    104999.383594\n",
       "Санкт-Петербург           116582.728376\n",
       "Сестрорецк                107330.777121\n",
       "посёлок Парголово          81360.781250\n",
       "посёлок Стрельна           88299.521579"
      ]
     },
     "execution_count": 55,
     "metadata": {},
     "output_type": "execute_result"
    }
   ],
   "source": [
    "# строю сводную таблицу с названием населённого пункта и средней ценой за метр в этом пункте\n",
    "\n",
    "locality_vs_price_for_m = data.pivot_table(index='locality_name', values='price_for_m_2', aggfunc='mean')\n",
    "locality_vs_price_for_m.columns = ['Средняя цена за метр']\n",
    "locality_vs_price_for_m\n"
   ]
  },
  {
   "cell_type": "code",
   "execution_count": 56,
   "id": "ebbb2304",
   "metadata": {},
   "outputs": [
    {
     "data": {
      "text/html": [
       "<div>\n",
       "<style scoped>\n",
       "    .dataframe tbody tr th:only-of-type {\n",
       "        vertical-align: middle;\n",
       "    }\n",
       "\n",
       "    .dataframe tbody tr th {\n",
       "        vertical-align: top;\n",
       "    }\n",
       "\n",
       "    .dataframe thead th {\n",
       "        text-align: right;\n",
       "    }\n",
       "</style>\n",
       "<table border=\"1\" class=\"dataframe\">\n",
       "  <thead>\n",
       "    <tr style=\"text-align: right;\">\n",
       "      <th></th>\n",
       "      <th>Количество объявлений</th>\n",
       "      <th>Средняя цена за метр</th>\n",
       "    </tr>\n",
       "    <tr>\n",
       "      <th>locality_name</th>\n",
       "      <th></th>\n",
       "      <th></th>\n",
       "    </tr>\n",
       "  </thead>\n",
       "  <tbody>\n",
       "    <tr>\n",
       "      <th>Санкт-Петербург</th>\n",
       "      <td>6403</td>\n",
       "      <td>116582.728376</td>\n",
       "    </tr>\n",
       "    <tr>\n",
       "      <th>Пушкин</th>\n",
       "      <td>192</td>\n",
       "      <td>104999.383594</td>\n",
       "    </tr>\n",
       "    <tr>\n",
       "      <th>Петергоф</th>\n",
       "      <td>135</td>\n",
       "      <td>84735.686074</td>\n",
       "    </tr>\n",
       "    <tr>\n",
       "      <th>Колпино</th>\n",
       "      <td>126</td>\n",
       "      <td>75572.331429</td>\n",
       "    </tr>\n",
       "    <tr>\n",
       "      <th>Кронштадт</th>\n",
       "      <td>82</td>\n",
       "      <td>79964.140122</td>\n",
       "    </tr>\n",
       "    <tr>\n",
       "      <th>Сестрорецк</th>\n",
       "      <td>66</td>\n",
       "      <td>107330.777121</td>\n",
       "    </tr>\n",
       "    <tr>\n",
       "      <th>Красное Село</th>\n",
       "      <td>39</td>\n",
       "      <td>76184.903846</td>\n",
       "    </tr>\n",
       "    <tr>\n",
       "      <th>Павловск</th>\n",
       "      <td>24</td>\n",
       "      <td>91291.021250</td>\n",
       "    </tr>\n",
       "    <tr>\n",
       "      <th>посёлок Стрельна</th>\n",
       "      <td>19</td>\n",
       "      <td>88299.521579</td>\n",
       "    </tr>\n",
       "    <tr>\n",
       "      <th>Зеленогорск</th>\n",
       "      <td>15</td>\n",
       "      <td>106668.804000</td>\n",
       "    </tr>\n",
       "  </tbody>\n",
       "</table>\n",
       "</div>"
      ],
      "text/plain": [
       "                  Количество объявлений  Средняя цена за метр\n",
       "locality_name                                                \n",
       "Санкт-Петербург                    6403         116582.728376\n",
       "Пушкин                              192         104999.383594\n",
       "Петергоф                            135          84735.686074\n",
       "Колпино                             126          75572.331429\n",
       "Кронштадт                            82          79964.140122\n",
       "Сестрорецк                           66         107330.777121\n",
       "Красное Село                         39          76184.903846\n",
       "Павловск                             24          91291.021250\n",
       "посёлок Стрельна                     19          88299.521579\n",
       "Зеленогорск                          15         106668.804000"
      ]
     },
     "execution_count": 56,
     "metadata": {},
     "output_type": "execute_result"
    }
   ],
   "source": [
    "# объединяю две сводные таблицы по названию населённого пункта и фильтрую по убыванию количества объявлений\n",
    "locality_vs_price = locality_vs_exposition.merge(locality_vs_price_for_m, on='locality_name')\n",
    "locality_vs_price = locality_vs_price.sort_values(by='Количество объявлений', ascending=False).head(10)\n",
    "locality_vs_price"
   ]
  },
  {
   "cell_type": "code",
   "execution_count": 57,
   "id": "bd5aaccc",
   "metadata": {},
   "outputs": [
    {
     "data": {
      "text/html": [
       "<div>\n",
       "<style scoped>\n",
       "    .dataframe tbody tr th:only-of-type {\n",
       "        vertical-align: middle;\n",
       "    }\n",
       "\n",
       "    .dataframe tbody tr th {\n",
       "        vertical-align: top;\n",
       "    }\n",
       "\n",
       "    .dataframe thead th {\n",
       "        text-align: right;\n",
       "    }\n",
       "</style>\n",
       "<table border=\"1\" class=\"dataframe\">\n",
       "  <thead>\n",
       "    <tr style=\"text-align: right;\">\n",
       "      <th></th>\n",
       "      <th>Количество объявлений</th>\n",
       "      <th>Средняя цена за метр</th>\n",
       "    </tr>\n",
       "    <tr>\n",
       "      <th>locality_name</th>\n",
       "      <th></th>\n",
       "      <th></th>\n",
       "    </tr>\n",
       "  </thead>\n",
       "  <tbody>\n",
       "    <tr>\n",
       "      <th>Санкт-Петербург</th>\n",
       "      <td>6403</td>\n",
       "      <td>116582.728376</td>\n",
       "    </tr>\n",
       "    <tr>\n",
       "      <th>Сестрорецк</th>\n",
       "      <td>66</td>\n",
       "      <td>107330.777121</td>\n",
       "    </tr>\n",
       "    <tr>\n",
       "      <th>Зеленогорск</th>\n",
       "      <td>15</td>\n",
       "      <td>106668.804000</td>\n",
       "    </tr>\n",
       "    <tr>\n",
       "      <th>Пушкин</th>\n",
       "      <td>192</td>\n",
       "      <td>104999.383594</td>\n",
       "    </tr>\n",
       "    <tr>\n",
       "      <th>Павловск</th>\n",
       "      <td>24</td>\n",
       "      <td>91291.021250</td>\n",
       "    </tr>\n",
       "    <tr>\n",
       "      <th>посёлок Стрельна</th>\n",
       "      <td>19</td>\n",
       "      <td>88299.521579</td>\n",
       "    </tr>\n",
       "    <tr>\n",
       "      <th>Петергоф</th>\n",
       "      <td>135</td>\n",
       "      <td>84735.686074</td>\n",
       "    </tr>\n",
       "    <tr>\n",
       "      <th>Кронштадт</th>\n",
       "      <td>82</td>\n",
       "      <td>79964.140122</td>\n",
       "    </tr>\n",
       "    <tr>\n",
       "      <th>Красное Село</th>\n",
       "      <td>39</td>\n",
       "      <td>76184.903846</td>\n",
       "    </tr>\n",
       "    <tr>\n",
       "      <th>Колпино</th>\n",
       "      <td>126</td>\n",
       "      <td>75572.331429</td>\n",
       "    </tr>\n",
       "  </tbody>\n",
       "</table>\n",
       "</div>"
      ],
      "text/plain": [
       "                  Количество объявлений  Средняя цена за метр\n",
       "locality_name                                                \n",
       "Санкт-Петербург                    6403         116582.728376\n",
       "Сестрорецк                           66         107330.777121\n",
       "Зеленогорск                          15         106668.804000\n",
       "Пушкин                              192         104999.383594\n",
       "Павловск                             24          91291.021250\n",
       "посёлок Стрельна                     19          88299.521579\n",
       "Петергоф                            135          84735.686074\n",
       "Кронштадт                            82          79964.140122\n",
       "Красное Село                         39          76184.903846\n",
       "Колпино                             126          75572.331429"
      ]
     },
     "execution_count": 57,
     "metadata": {},
     "output_type": "execute_result"
    }
   ],
   "source": [
    "locality_vs_price.sort_values(by='Средняя цена за метр', ascending=False)"
   ]
  },
  {
   "cell_type": "markdown",
   "id": "dbee213b",
   "metadata": {},
   "source": [
    "Самая большая цена за метр - в Санкт-Петербурге."
   ]
  },
  {
   "cell_type": "code",
   "execution_count": 58,
   "id": "d075e2f9",
   "metadata": {},
   "outputs": [
    {
     "data": {
      "text/html": [
       "<div>\n",
       "<style scoped>\n",
       "    .dataframe tbody tr th:only-of-type {\n",
       "        vertical-align: middle;\n",
       "    }\n",
       "\n",
       "    .dataframe tbody tr th {\n",
       "        vertical-align: top;\n",
       "    }\n",
       "\n",
       "    .dataframe thead th {\n",
       "        text-align: right;\n",
       "    }\n",
       "</style>\n",
       "<table border=\"1\" class=\"dataframe\">\n",
       "  <thead>\n",
       "    <tr style=\"text-align: right;\">\n",
       "      <th></th>\n",
       "      <th>Количество объявлений</th>\n",
       "      <th>Средняя цена за метр</th>\n",
       "    </tr>\n",
       "    <tr>\n",
       "      <th>locality_name</th>\n",
       "      <th></th>\n",
       "      <th></th>\n",
       "    </tr>\n",
       "  </thead>\n",
       "  <tbody>\n",
       "    <tr>\n",
       "      <th>Колпино</th>\n",
       "      <td>126</td>\n",
       "      <td>75572.331429</td>\n",
       "    </tr>\n",
       "    <tr>\n",
       "      <th>Красное Село</th>\n",
       "      <td>39</td>\n",
       "      <td>76184.903846</td>\n",
       "    </tr>\n",
       "    <tr>\n",
       "      <th>Кронштадт</th>\n",
       "      <td>82</td>\n",
       "      <td>79964.140122</td>\n",
       "    </tr>\n",
       "    <tr>\n",
       "      <th>Петергоф</th>\n",
       "      <td>135</td>\n",
       "      <td>84735.686074</td>\n",
       "    </tr>\n",
       "    <tr>\n",
       "      <th>посёлок Стрельна</th>\n",
       "      <td>19</td>\n",
       "      <td>88299.521579</td>\n",
       "    </tr>\n",
       "    <tr>\n",
       "      <th>Павловск</th>\n",
       "      <td>24</td>\n",
       "      <td>91291.021250</td>\n",
       "    </tr>\n",
       "    <tr>\n",
       "      <th>Пушкин</th>\n",
       "      <td>192</td>\n",
       "      <td>104999.383594</td>\n",
       "    </tr>\n",
       "    <tr>\n",
       "      <th>Зеленогорск</th>\n",
       "      <td>15</td>\n",
       "      <td>106668.804000</td>\n",
       "    </tr>\n",
       "    <tr>\n",
       "      <th>Сестрорецк</th>\n",
       "      <td>66</td>\n",
       "      <td>107330.777121</td>\n",
       "    </tr>\n",
       "    <tr>\n",
       "      <th>Санкт-Петербург</th>\n",
       "      <td>6403</td>\n",
       "      <td>116582.728376</td>\n",
       "    </tr>\n",
       "  </tbody>\n",
       "</table>\n",
       "</div>"
      ],
      "text/plain": [
       "                  Количество объявлений  Средняя цена за метр\n",
       "locality_name                                                \n",
       "Колпино                             126          75572.331429\n",
       "Красное Село                         39          76184.903846\n",
       "Кронштадт                            82          79964.140122\n",
       "Петергоф                            135          84735.686074\n",
       "посёлок Стрельна                     19          88299.521579\n",
       "Павловск                             24          91291.021250\n",
       "Пушкин                              192         104999.383594\n",
       "Зеленогорск                          15         106668.804000\n",
       "Сестрорецк                           66         107330.777121\n",
       "Санкт-Петербург                    6403         116582.728376"
      ]
     },
     "execution_count": 58,
     "metadata": {},
     "output_type": "execute_result"
    }
   ],
   "source": [
    "locality_vs_price.sort_values(by='Средняя цена за метр')"
   ]
  },
  {
   "cell_type": "markdown",
   "id": "717ddc25",
   "metadata": {},
   "source": [
    "Самая низкая цена за метр - в городе Колпино."
   ]
  },
  {
   "cell_type": "markdown",
   "id": "077f8830",
   "metadata": {},
   "source": [
    "### Связь цены и близости к центру города"
   ]
  },
  {
   "cell_type": "code",
   "execution_count": 59,
   "id": "05c64801",
   "metadata": {},
   "outputs": [
    {
     "data": {
      "text/html": [
       "<div>\n",
       "<style scoped>\n",
       "    .dataframe tbody tr th:only-of-type {\n",
       "        vertical-align: middle;\n",
       "    }\n",
       "\n",
       "    .dataframe tbody tr th {\n",
       "        vertical-align: top;\n",
       "    }\n",
       "\n",
       "    .dataframe thead th {\n",
       "        text-align: right;\n",
       "    }\n",
       "</style>\n",
       "<table border=\"1\" class=\"dataframe\">\n",
       "  <thead>\n",
       "    <tr style=\"text-align: right;\">\n",
       "      <th></th>\n",
       "      <th>Средняя цена за километр</th>\n",
       "    </tr>\n",
       "    <tr>\n",
       "      <th>city_center_km</th>\n",
       "      <th></th>\n",
       "    </tr>\n",
       "  </thead>\n",
       "  <tbody>\n",
       "    <tr>\n",
       "      <th>0.0</th>\n",
       "      <td>2.031908e+07</td>\n",
       "    </tr>\n",
       "    <tr>\n",
       "      <th>1.0</th>\n",
       "      <td>1.345427e+07</td>\n",
       "    </tr>\n",
       "    <tr>\n",
       "      <th>2.0</th>\n",
       "      <td>1.241277e+07</td>\n",
       "    </tr>\n",
       "    <tr>\n",
       "      <th>3.0</th>\n",
       "      <td>9.950720e+06</td>\n",
       "    </tr>\n",
       "    <tr>\n",
       "      <th>4.0</th>\n",
       "      <td>1.126597e+07</td>\n",
       "    </tr>\n",
       "    <tr>\n",
       "      <th>5.0</th>\n",
       "      <td>1.144740e+07</td>\n",
       "    </tr>\n",
       "    <tr>\n",
       "      <th>6.0</th>\n",
       "      <td>1.294580e+07</td>\n",
       "    </tr>\n",
       "    <tr>\n",
       "      <th>7.0</th>\n",
       "      <td>1.198138e+07</td>\n",
       "    </tr>\n",
       "    <tr>\n",
       "      <th>8.0</th>\n",
       "      <td>9.741893e+06</td>\n",
       "    </tr>\n",
       "    <tr>\n",
       "      <th>9.0</th>\n",
       "      <td>7.637511e+06</td>\n",
       "    </tr>\n",
       "    <tr>\n",
       "      <th>10.0</th>\n",
       "      <td>7.050153e+06</td>\n",
       "    </tr>\n",
       "    <tr>\n",
       "      <th>11.0</th>\n",
       "      <td>6.475561e+06</td>\n",
       "    </tr>\n",
       "    <tr>\n",
       "      <th>12.0</th>\n",
       "      <td>6.163825e+06</td>\n",
       "    </tr>\n",
       "    <tr>\n",
       "      <th>13.0</th>\n",
       "      <td>6.463977e+06</td>\n",
       "    </tr>\n",
       "    <tr>\n",
       "      <th>14.0</th>\n",
       "      <td>5.301855e+06</td>\n",
       "    </tr>\n",
       "    <tr>\n",
       "      <th>15.0</th>\n",
       "      <td>5.286854e+06</td>\n",
       "    </tr>\n",
       "    <tr>\n",
       "      <th>16.0</th>\n",
       "      <td>5.509702e+06</td>\n",
       "    </tr>\n",
       "    <tr>\n",
       "      <th>17.0</th>\n",
       "      <td>5.890082e+06</td>\n",
       "    </tr>\n",
       "    <tr>\n",
       "      <th>18.0</th>\n",
       "      <td>4.622500e+06</td>\n",
       "    </tr>\n",
       "    <tr>\n",
       "      <th>19.0</th>\n",
       "      <td>4.596874e+06</td>\n",
       "    </tr>\n",
       "    <tr>\n",
       "      <th>20.0</th>\n",
       "      <td>6.120000e+06</td>\n",
       "    </tr>\n",
       "    <tr>\n",
       "      <th>21.0</th>\n",
       "      <td>3.819286e+06</td>\n",
       "    </tr>\n",
       "    <tr>\n",
       "      <th>22.0</th>\n",
       "      <td>4.050000e+06</td>\n",
       "    </tr>\n",
       "    <tr>\n",
       "      <th>25.0</th>\n",
       "      <td>4.628333e+06</td>\n",
       "    </tr>\n",
       "    <tr>\n",
       "      <th>26.0</th>\n",
       "      <td>4.122000e+06</td>\n",
       "    </tr>\n",
       "    <tr>\n",
       "      <th>27.0</th>\n",
       "      <td>1.435000e+07</td>\n",
       "    </tr>\n",
       "    <tr>\n",
       "      <th>28.0</th>\n",
       "      <td>6.950000e+06</td>\n",
       "    </tr>\n",
       "  </tbody>\n",
       "</table>\n",
       "</div>"
      ],
      "text/plain": [
       "                Средняя цена за километр\n",
       "city_center_km                          \n",
       "0.0                         2.031908e+07\n",
       "1.0                         1.345427e+07\n",
       "2.0                         1.241277e+07\n",
       "3.0                         9.950720e+06\n",
       "4.0                         1.126597e+07\n",
       "5.0                         1.144740e+07\n",
       "6.0                         1.294580e+07\n",
       "7.0                         1.198138e+07\n",
       "8.0                         9.741893e+06\n",
       "9.0                         7.637511e+06\n",
       "10.0                        7.050153e+06\n",
       "11.0                        6.475561e+06\n",
       "12.0                        6.163825e+06\n",
       "13.0                        6.463977e+06\n",
       "14.0                        5.301855e+06\n",
       "15.0                        5.286854e+06\n",
       "16.0                        5.509702e+06\n",
       "17.0                        5.890082e+06\n",
       "18.0                        4.622500e+06\n",
       "19.0                        4.596874e+06\n",
       "20.0                        6.120000e+06\n",
       "21.0                        3.819286e+06\n",
       "22.0                        4.050000e+06\n",
       "25.0                        4.628333e+06\n",
       "26.0                        4.122000e+06\n",
       "27.0                        1.435000e+07\n",
       "28.0                        6.950000e+06"
      ]
     },
     "execution_count": 59,
     "metadata": {},
     "output_type": "execute_result"
    }
   ],
   "source": [
    "\n",
    "# выделяю срез с квартирами в Санкт-Петербурге\n",
    "flats_in_spb = data.query('locality_name == \"Санкт-Петербург\"')\n",
    "\n",
    "# создаю сводную таблицу с группировкой по км от центра и средней цене за км\n",
    "price_for_km = flats_in_spb.pivot_table(index='city_center_km', values='last_price', aggfunc='mean')\n",
    "\n",
    "price_for_km.columns = ['Средняя цена за километр']\n",
    "price_for_km\n"
   ]
  },
  {
   "cell_type": "code",
   "execution_count": 60,
   "id": "eee7d854",
   "metadata": {},
   "outputs": [
    {
     "data": {
      "text/plain": [
       "<Axes: xlabel='city_center_km'>"
      ]
     },
     "execution_count": 60,
     "metadata": {},
     "output_type": "execute_result"
    },
    {
     "data": {
      "image/png": "[encoded data removed]",
      "text/plain": [
       "<Figure size 640x480 with 1 Axes>"
      ]
     },
     "metadata": {},
     "output_type": "display_data"
    }
   ],
   "source": [
    "# строю простой график корреляции цены за км и дальности от центра города\n",
    "\n",
    "price_for_km.plot()"
   ]
  },
  {
   "cell_type": "markdown",
   "id": "48a55726",
   "metadata": {},
   "source": [
    "Чем ближе к центру, тем дороже квартиры. Возможно, дальше 5 км от центра начинаются спальные районы, поэтому там цена снова начинает расти. Есть ещё необычное повышение цены после 26 км. Возможно, там начинает уже какой-то город, поэтому цена становится выше. "
   ]
  },
  {
   "cell_type": "markdown",
   "id": "670f8383",
   "metadata": {},
   "source": [
    "## Общий вывод"
   ]
  },
  {
   "cell_type": "markdown",
   "id": "5af69485",
   "metadata": {},
   "source": [
    "- Больше всего продают квартир с общей площадью от 30 до 50 м_2, и 60 м_2. Много квартир с жилой площадью, равной 15-20 м_2, а также 25-50 м_2. Обычно площадь кухни в продаваемых квартирах от 5 до 15 м_2.\n",
    "- Чаще всего квартиры продавались меньше, чем за 10 000 000. Большинство квартир стоило меньше 5 000 000.\n",
    "- Больше всего продаётся однушек и двушек. В однушки могут включатся также и студии. Трёшки тоже есть, а всё, что дальше - уже намного реже.\n",
    "- Обычно продажа квартиры занимает где-то от 4 до 6 месяцев. Некоторые прожажи могут растянуться на год. Необычно долгие продажи - больше двух лет. Быстрые продажи совершались меньше, чем за месяц. Больше всего квартир продали за два месяца.\n",
    "- Чем больше общая площадь, тем выше стоимость квартиры. Стоимость квартиры чуть меньше зависит от жилой площади и размера кухни, но зависимость всё равно достаточно сильна. Чем больше жилая площадь и размер кухни, тем дороже квартира.\n",
    "- Чем больше комнат, тем выше цена. Это, опять-таки, упирается в общую площадь: больше комнат, больше площадь.\n",
    "- Чем ближе к центру, тем дороже квартиры. Возможно, дальше 5 км от центра начинаются спальные районы, поэтому там цена снова начинает расти. Есть ещё необычное повышение цены после 26 км. Возможно, там начинает уже какой-то город, поэтому цена становится выше.\n",
    "- Цена не зависит от этажа и даты размещения. Но самая большая средняя цена была в 2014 году, дальше средняя цена снижалась. В 2019 заметен небольшой подъём. Здесь слишком много особенностей, чтобы понять, что именно повлияло на цену в определённом году. Надо изучать социокультурные особенности.\n",
    "- Самая большая цена за метр — в Санкт-Петербурге, самая низкая — в городе Колпино.\n",
    "- Надо сделать значения жилой площади, площади кухни и геометки обязательными к заполнению. Площадь и расположение квартиры больше всего влияет на цену.\n",
    "- Чтобы избежать в будущем неявных дубликатов, можно прикрутить автозаполнение к полю с названием населённого пункта. Система будет предлагать название пункта по первым буквам."
   ]
  },
  {
   "cell_type": "code",
   "execution_count": null,
   "id": "16184445",
   "metadata": {},
   "outputs": [],
   "source": []
  }
 ],
 "metadata": {
  "kernelspec": {
   "display_name": "Python 3 (ipykernel)",
   "language": "python",
   "name": "python3"
  },
  "language_info": {
   "codemirror_mode": {
    "name": "ipython",
    "version": 3
   },
   "file_extension": ".py",
   "mimetype": "text/x-python",
   "name": "python",
   "nbconvert_exporter": "python",
   "pygments_lexer": "ipython3",
   "version": "3.11.4"
  },
  "toc": {
   "base_numbering": 1,
   "nav_menu": {},
   "number_sections": true,
   "sideBar": true,
   "skip_h1_title": true,
   "title_cell": "Table of Contents",
   "title_sidebar": "Contents",
   "toc_cell": true,
   "toc_position": {
    "height": "calc(100% - 180px)",
    "left": "10px",
    "top": "150px",
    "width": "170.319px"
   },
   "toc_section_display": true,
   "toc_window_display": false
  }
 },
 "nbformat": 4,
 "nbformat_minor": 5
}
