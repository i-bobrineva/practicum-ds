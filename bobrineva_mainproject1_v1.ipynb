{
 "cells": [
  {
   "cell_type": "markdown",
   "id": "b753432e",
   "metadata": {
    "toc": true
   },
   "source": [
    "<h1>Table of Contents<span class=\"tocSkip\"></span></h1>\n",
    "<div class=\"toc\"><ul class=\"toc-item\"><li><span><a href=\"#Загрузка-и-изучение-данных\" data-toc-modified-id=\"Загрузка-и-изучение-данных-1\"><span class=\"toc-item-num\">1&nbsp;&nbsp;</span>Загрузка и изучение данных</a></span></li><li><span><a href=\"#Предобработка\" data-toc-modified-id=\"Предобработка-2\"><span class=\"toc-item-num\">2&nbsp;&nbsp;</span>Предобработка</a></span><ul class=\"toc-item\"><li><span><a href=\"#Обработка-названий-переменных\" data-toc-modified-id=\"Обработка-названий-переменных-2.1\"><span class=\"toc-item-num\">2.1&nbsp;&nbsp;</span>Обработка названий переменных</a></span></li><li><span><a href=\"#Обработка-пропущенных-значений\" data-toc-modified-id=\"Обработка-пропущенных-значений-2.2\"><span class=\"toc-item-num\">2.2&nbsp;&nbsp;</span>Обработка пропущенных значений</a></span></li><li><span><a href=\"#Обработка-типов-данных\" data-toc-modified-id=\"Обработка-типов-данных-2.3\"><span class=\"toc-item-num\">2.3&nbsp;&nbsp;</span>Обработка типов данных</a></span></li><li><span><a href=\"#Добавление-столбца-с-продажами\" data-toc-modified-id=\"Добавление-столбца-с-продажами-2.4\"><span class=\"toc-item-num\">2.4&nbsp;&nbsp;</span>Добавление столбца с продажами</a></span></li><li><span><a href=\"#Проверка-дубликатов\" data-toc-modified-id=\"Проверка-дубликатов-2.5\"><span class=\"toc-item-num\">2.5&nbsp;&nbsp;</span>Проверка дубликатов</a></span></li></ul></li><li><span><a href=\"#Исследовательский-анализ-данных\" data-toc-modified-id=\"Исследовательский-анализ-данных-3\"><span class=\"toc-item-num\">3&nbsp;&nbsp;</span>Исследовательский анализ данных</a></span><ul class=\"toc-item\"><li><span><a href=\"#Распределение-игр-по-годам\" data-toc-modified-id=\"Распределение-игр-по-годам-3.1\"><span class=\"toc-item-num\">3.1&nbsp;&nbsp;</span>Распределение игр по годам</a></span></li><li><span><a href=\"#Продажи-по-платформам-по-годам\" data-toc-modified-id=\"Продажи-по-платформам-по-годам-3.2\"><span class=\"toc-item-num\">3.2&nbsp;&nbsp;</span>Продажи по платформам по годам</a></span><ul class=\"toc-item\"><li><span><a href=\"#Продажи-по-PS2\" data-toc-modified-id=\"Продажи-по-PS2-3.2.1\"><span class=\"toc-item-num\">3.2.1&nbsp;&nbsp;</span>Продажи по PS2</a></span></li><li><span><a href=\"#Продажи-по-X360\" data-toc-modified-id=\"Продажи-по-X360-3.2.2\"><span class=\"toc-item-num\">3.2.2&nbsp;&nbsp;</span>Продажи по X360</a></span></li><li><span><a href=\"#Продажи-по-PS3\" data-toc-modified-id=\"Продажи-по-PS3-3.2.3\"><span class=\"toc-item-num\">3.2.3&nbsp;&nbsp;</span>Продажи по PS3</a></span></li><li><span><a href=\"#Продажи-по-Wii\" data-toc-modified-id=\"Продажи-по-Wii-3.2.4\"><span class=\"toc-item-num\">3.2.4&nbsp;&nbsp;</span>Продажи по Wii</a></span></li><li><span><a href=\"#Продажи-по-DS\" data-toc-modified-id=\"Продажи-по-DS-3.2.5\"><span class=\"toc-item-num\">3.2.5&nbsp;&nbsp;</span>Продажи по DS</a></span></li><li><span><a href=\"#Продажи-по-PS\" data-toc-modified-id=\"Продажи-по-PS-3.2.6\"><span class=\"toc-item-num\">3.2.6&nbsp;&nbsp;</span>Продажи по PS</a></span></li></ul></li><li><span><a href=\"#Определение-актуального-периода-для-прогноза\" data-toc-modified-id=\"Определение-актуального-периода-для-прогноза-3.3\"><span class=\"toc-item-num\">3.3&nbsp;&nbsp;</span>Определение актуального периода для прогноза</a></span></li><li><span><a href=\"#Потенциально-прибыльные-платформы\" data-toc-modified-id=\"Потенциально-прибыльные-платформы-3.4\"><span class=\"toc-item-num\">3.4&nbsp;&nbsp;</span>Потенциально прибыльные платформы</a></span></li><li><span><a href=\"#Продажи-vs-отзывы-критиков-и-пользователей-на-PS4\" data-toc-modified-id=\"Продажи-vs-отзывы-критиков-и-пользователей-на-PS4-3.5\"><span class=\"toc-item-num\">3.5&nbsp;&nbsp;</span>Продажи vs отзывы критиков и пользователей на PS4</a></span></li><li><span><a href=\"#Продажи-vs-отзывы-критиков-и-пользователей-на-XOne\" data-toc-modified-id=\"Продажи-vs-отзывы-критиков-и-пользователей-на-XOne-3.6\"><span class=\"toc-item-num\">3.6&nbsp;&nbsp;</span>Продажи vs отзывы критиков и пользователей на XOne</a></span></li><li><span><a href=\"#Продажи-vs-отзывы-критиков-и-пользователей-на-3DS\" data-toc-modified-id=\"Продажи-vs-отзывы-критиков-и-пользователей-на-3DS-3.7\"><span class=\"toc-item-num\">3.7&nbsp;&nbsp;</span>Продажи vs отзывы критиков и пользователей на 3DS</a></span></li><li><span><a href=\"#Распределение-игр-по-жанрам\" data-toc-modified-id=\"Распределение-игр-по-жанрам-3.8\"><span class=\"toc-item-num\">3.8&nbsp;&nbsp;</span>Распределение игр по жанрам</a></span></li></ul></li><li><span><a href=\"#Портрет-пользователя-каждого-региона\" data-toc-modified-id=\"Портрет-пользователя-каждого-региона-4\"><span class=\"toc-item-num\">4&nbsp;&nbsp;</span>Портрет пользователя каждого региона</a></span><ul class=\"toc-item\"><li><span><a href=\"#Портрет-пользователя-из-NA\" data-toc-modified-id=\"Портрет-пользователя-из-NA-4.1\"><span class=\"toc-item-num\">4.1&nbsp;&nbsp;</span>Портрет пользователя из NA</a></span></li><li><span><a href=\"#Портрет-пользователя-из-EU\" data-toc-modified-id=\"Портрет-пользователя-из-EU-4.2\"><span class=\"toc-item-num\">4.2&nbsp;&nbsp;</span>Портрет пользователя из EU</a></span></li><li><span><a href=\"#Портрет-пользователя-из-JP\" data-toc-modified-id=\"Портрет-пользователя-из-JP-4.3\"><span class=\"toc-item-num\">4.3&nbsp;&nbsp;</span>Портрет пользователя из JP</a></span></li></ul></li><li><span><a href=\"#Проверка-гипотез\" data-toc-modified-id=\"Проверка-гипотез-5\"><span class=\"toc-item-num\">5&nbsp;&nbsp;</span>Проверка гипотез</a></span><ul class=\"toc-item\"><li><span><a href=\"#Одинаковые-ли-средние-пользовательские-рейтинги-платформ-Xbox-One-и-PC?\" data-toc-modified-id=\"Одинаковые-ли-средние-пользовательские-рейтинги-платформ-Xbox-One-и-PC?-5.1\"><span class=\"toc-item-num\">5.1&nbsp;&nbsp;</span>Одинаковые ли средние пользовательские рейтинги платформ Xbox One и PC?</a></span></li><li><span><a href=\"#Разные-ли-средние-пользовательские-рейтинги-жанров-Action-и-Sports?\" data-toc-modified-id=\"Разные-ли-средние-пользовательские-рейтинги-жанров-Action-и-Sports?-5.2\"><span class=\"toc-item-num\">5.2&nbsp;&nbsp;</span>Разные ли средние пользовательские рейтинги жанров Action и Sports?</a></span></li></ul></li><li><span><a href=\"#Общий-вывод\" data-toc-modified-id=\"Общий-вывод-6\"><span class=\"toc-item-num\">6&nbsp;&nbsp;</span>Общий вывод</a></span></li></ul></div>"
   ]
  },
  {
   "cell_type": "markdown",
   "id": "c7fc4575",
   "metadata": {},
   "source": [
    "# Исследование данных магазина компьютерных игр"
   ]
  },
  {
   "cell_type": "code",
   "execution_count": 1,
   "id": "7bba444e",
   "metadata": {},
   "outputs": [],
   "source": [
    "# загружаю все нужные для проекта библиотеки\n",
    "\n",
    "import pandas as pd\n",
    "import matplotlib.pyplot as plt\n",
    "import numpy as np\n",
    "from scipy import stats as st\n",
    "import seaborn as sns"
   ]
  },
  {
   "cell_type": "markdown",
   "id": "0c80c9e7",
   "metadata": {},
   "source": [
    "## Загрузка и изучение данных"
   ]
  },
  {
   "cell_type": "code",
   "execution_count": 2,
   "id": "6771ac72",
   "metadata": {},
   "outputs": [
    {
     "data": {
      "text/html": [
       "<div>\n",
       "<style scoped>\n",
       "    .dataframe tbody tr th:only-of-type {\n",
       "        vertical-align: middle;\n",
       "    }\n",
       "\n",
       "    .dataframe tbody tr th {\n",
       "        vertical-align: top;\n",
       "    }\n",
       "\n",
       "    .dataframe thead th {\n",
       "        text-align: right;\n",
       "    }\n",
       "</style>\n",
       "<table border=\"1\" class=\"dataframe\">\n",
       "  <thead>\n",
       "    <tr style=\"text-align: right;\">\n",
       "      <th></th>\n",
       "      <th>Name</th>\n",
       "      <th>Platform</th>\n",
       "      <th>Year_of_Release</th>\n",
       "      <th>Genre</th>\n",
       "      <th>NA_sales</th>\n",
       "      <th>EU_sales</th>\n",
       "      <th>JP_sales</th>\n",
       "      <th>Other_sales</th>\n",
       "      <th>Critic_Score</th>\n",
       "      <th>User_Score</th>\n",
       "      <th>Rating</th>\n",
       "    </tr>\n",
       "  </thead>\n",
       "  <tbody>\n",
       "    <tr>\n",
       "      <th>0</th>\n",
       "      <td>Wii Sports</td>\n",
       "      <td>Wii</td>\n",
       "      <td>2006.0</td>\n",
       "      <td>Sports</td>\n",
       "      <td>41.36</td>\n",
       "      <td>28.96</td>\n",
       "      <td>3.77</td>\n",
       "      <td>8.45</td>\n",
       "      <td>76.0</td>\n",
       "      <td>8</td>\n",
       "      <td>E</td>\n",
       "    </tr>\n",
       "    <tr>\n",
       "      <th>1</th>\n",
       "      <td>Super Mario Bros.</td>\n",
       "      <td>NES</td>\n",
       "      <td>1985.0</td>\n",
       "      <td>Platform</td>\n",
       "      <td>29.08</td>\n",
       "      <td>3.58</td>\n",
       "      <td>6.81</td>\n",
       "      <td>0.77</td>\n",
       "      <td>NaN</td>\n",
       "      <td>NaN</td>\n",
       "      <td>NaN</td>\n",
       "    </tr>\n",
       "    <tr>\n",
       "      <th>2</th>\n",
       "      <td>Mario Kart Wii</td>\n",
       "      <td>Wii</td>\n",
       "      <td>2008.0</td>\n",
       "      <td>Racing</td>\n",
       "      <td>15.68</td>\n",
       "      <td>12.76</td>\n",
       "      <td>3.79</td>\n",
       "      <td>3.29</td>\n",
       "      <td>82.0</td>\n",
       "      <td>8.3</td>\n",
       "      <td>E</td>\n",
       "    </tr>\n",
       "    <tr>\n",
       "      <th>3</th>\n",
       "      <td>Wii Sports Resort</td>\n",
       "      <td>Wii</td>\n",
       "      <td>2009.0</td>\n",
       "      <td>Sports</td>\n",
       "      <td>15.61</td>\n",
       "      <td>10.93</td>\n",
       "      <td>3.28</td>\n",
       "      <td>2.95</td>\n",
       "      <td>80.0</td>\n",
       "      <td>8</td>\n",
       "      <td>E</td>\n",
       "    </tr>\n",
       "    <tr>\n",
       "      <th>4</th>\n",
       "      <td>Pokemon Red/Pokemon Blue</td>\n",
       "      <td>GB</td>\n",
       "      <td>1996.0</td>\n",
       "      <td>Role-Playing</td>\n",
       "      <td>11.27</td>\n",
       "      <td>8.89</td>\n",
       "      <td>10.22</td>\n",
       "      <td>1.00</td>\n",
       "      <td>NaN</td>\n",
       "      <td>NaN</td>\n",
       "      <td>NaN</td>\n",
       "    </tr>\n",
       "    <tr>\n",
       "      <th>5</th>\n",
       "      <td>Tetris</td>\n",
       "      <td>GB</td>\n",
       "      <td>1989.0</td>\n",
       "      <td>Puzzle</td>\n",
       "      <td>23.20</td>\n",
       "      <td>2.26</td>\n",
       "      <td>4.22</td>\n",
       "      <td>0.58</td>\n",
       "      <td>NaN</td>\n",
       "      <td>NaN</td>\n",
       "      <td>NaN</td>\n",
       "    </tr>\n",
       "    <tr>\n",
       "      <th>6</th>\n",
       "      <td>New Super Mario Bros.</td>\n",
       "      <td>DS</td>\n",
       "      <td>2006.0</td>\n",
       "      <td>Platform</td>\n",
       "      <td>11.28</td>\n",
       "      <td>9.14</td>\n",
       "      <td>6.50</td>\n",
       "      <td>2.88</td>\n",
       "      <td>89.0</td>\n",
       "      <td>8.5</td>\n",
       "      <td>E</td>\n",
       "    </tr>\n",
       "    <tr>\n",
       "      <th>7</th>\n",
       "      <td>Wii Play</td>\n",
       "      <td>Wii</td>\n",
       "      <td>2006.0</td>\n",
       "      <td>Misc</td>\n",
       "      <td>13.96</td>\n",
       "      <td>9.18</td>\n",
       "      <td>2.93</td>\n",
       "      <td>2.84</td>\n",
       "      <td>58.0</td>\n",
       "      <td>6.6</td>\n",
       "      <td>E</td>\n",
       "    </tr>\n",
       "    <tr>\n",
       "      <th>8</th>\n",
       "      <td>New Super Mario Bros. Wii</td>\n",
       "      <td>Wii</td>\n",
       "      <td>2009.0</td>\n",
       "      <td>Platform</td>\n",
       "      <td>14.44</td>\n",
       "      <td>6.94</td>\n",
       "      <td>4.70</td>\n",
       "      <td>2.24</td>\n",
       "      <td>87.0</td>\n",
       "      <td>8.4</td>\n",
       "      <td>E</td>\n",
       "    </tr>\n",
       "    <tr>\n",
       "      <th>9</th>\n",
       "      <td>Duck Hunt</td>\n",
       "      <td>NES</td>\n",
       "      <td>1984.0</td>\n",
       "      <td>Shooter</td>\n",
       "      <td>26.93</td>\n",
       "      <td>0.63</td>\n",
       "      <td>0.28</td>\n",
       "      <td>0.47</td>\n",
       "      <td>NaN</td>\n",
       "      <td>NaN</td>\n",
       "      <td>NaN</td>\n",
       "    </tr>\n",
       "  </tbody>\n",
       "</table>\n",
       "</div>"
      ],
      "text/plain": [
       "                        Name Platform  Year_of_Release         Genre  \\\n",
       "0                 Wii Sports      Wii           2006.0        Sports   \n",
       "1          Super Mario Bros.      NES           1985.0      Platform   \n",
       "2             Mario Kart Wii      Wii           2008.0        Racing   \n",
       "3          Wii Sports Resort      Wii           2009.0        Sports   \n",
       "4   Pokemon Red/Pokemon Blue       GB           1996.0  Role-Playing   \n",
       "5                     Tetris       GB           1989.0        Puzzle   \n",
       "6      New Super Mario Bros.       DS           2006.0      Platform   \n",
       "7                   Wii Play      Wii           2006.0          Misc   \n",
       "8  New Super Mario Bros. Wii      Wii           2009.0      Platform   \n",
       "9                  Duck Hunt      NES           1984.0       Shooter   \n",
       "\n",
       "   NA_sales  EU_sales  JP_sales  Other_sales  Critic_Score User_Score Rating  \n",
       "0     41.36     28.96      3.77         8.45          76.0          8      E  \n",
       "1     29.08      3.58      6.81         0.77           NaN        NaN    NaN  \n",
       "2     15.68     12.76      3.79         3.29          82.0        8.3      E  \n",
       "3     15.61     10.93      3.28         2.95          80.0          8      E  \n",
       "4     11.27      8.89     10.22         1.00           NaN        NaN    NaN  \n",
       "5     23.20      2.26      4.22         0.58           NaN        NaN    NaN  \n",
       "6     11.28      9.14      6.50         2.88          89.0        8.5      E  \n",
       "7     13.96      9.18      2.93         2.84          58.0        6.6      E  \n",
       "8     14.44      6.94      4.70         2.24          87.0        8.4      E  \n",
       "9     26.93      0.63      0.28         0.47           NaN        NaN    NaN  "
      ]
     },
     "execution_count": 2,
     "metadata": {},
     "output_type": "execute_result"
    }
   ],
   "source": [
    "# открываю и изучаю датасет по пользователям\n",
    "try:\n",
    "    data = pd.read_csv('/Users/ira-bobrineva/Downloads/games.csv')\n",
    "except:\n",
    "    data = pd.read_csv('/datasets/games.csv')\n",
    "data.head(10)"
   ]
  },
  {
   "cell_type": "code",
   "execution_count": 3,
   "id": "25c35d63",
   "metadata": {},
   "outputs": [
    {
     "name": "stdout",
     "output_type": "stream",
     "text": [
      "<class 'pandas.core.frame.DataFrame'>\n",
      "RangeIndex: 16715 entries, 0 to 16714\n",
      "Data columns (total 11 columns):\n",
      " #   Column           Non-Null Count  Dtype  \n",
      "---  ------           --------------  -----  \n",
      " 0   Name             16713 non-null  object \n",
      " 1   Platform         16715 non-null  object \n",
      " 2   Year_of_Release  16446 non-null  float64\n",
      " 3   Genre            16713 non-null  object \n",
      " 4   NA_sales         16715 non-null  float64\n",
      " 5   EU_sales         16715 non-null  float64\n",
      " 6   JP_sales         16715 non-null  float64\n",
      " 7   Other_sales      16715 non-null  float64\n",
      " 8   Critic_Score     8137 non-null   float64\n",
      " 9   User_Score       10014 non-null  object \n",
      " 10  Rating           9949 non-null   object \n",
      "dtypes: float64(6), object(5)\n",
      "memory usage: 1.4+ MB\n"
     ]
    }
   ],
   "source": [
    "data.info()"
   ]
  },
  {
   "cell_type": "markdown",
   "id": "9883269f",
   "metadata": {},
   "source": [
    "В данных есть пропуски, типы данных тоже надо поправить. Поправлю ещё названия переменных."
   ]
  },
  {
   "cell_type": "markdown",
   "id": "fdb16083",
   "metadata": {},
   "source": [
    "## Предобработка"
   ]
  },
  {
   "cell_type": "markdown",
   "id": "03ca448d",
   "metadata": {},
   "source": [
    "### Обработка названий переменных"
   ]
  },
  {
   "cell_type": "code",
   "execution_count": 4,
   "id": "0275a8dc",
   "metadata": {},
   "outputs": [
    {
     "data": {
      "text/html": [
       "<div>\n",
       "<style scoped>\n",
       "    .dataframe tbody tr th:only-of-type {\n",
       "        vertical-align: middle;\n",
       "    }\n",
       "\n",
       "    .dataframe tbody tr th {\n",
       "        vertical-align: top;\n",
       "    }\n",
       "\n",
       "    .dataframe thead th {\n",
       "        text-align: right;\n",
       "    }\n",
       "</style>\n",
       "<table border=\"1\" class=\"dataframe\">\n",
       "  <thead>\n",
       "    <tr style=\"text-align: right;\">\n",
       "      <th></th>\n",
       "      <th>name</th>\n",
       "      <th>platform</th>\n",
       "      <th>year_of_release</th>\n",
       "      <th>genre</th>\n",
       "      <th>na_sales</th>\n",
       "      <th>eu_sales</th>\n",
       "      <th>jp_sales</th>\n",
       "      <th>other_sales</th>\n",
       "      <th>critic_score</th>\n",
       "      <th>user_score</th>\n",
       "      <th>rating</th>\n",
       "    </tr>\n",
       "  </thead>\n",
       "  <tbody>\n",
       "    <tr>\n",
       "      <th>0</th>\n",
       "      <td>Wii Sports</td>\n",
       "      <td>Wii</td>\n",
       "      <td>2006.0</td>\n",
       "      <td>Sports</td>\n",
       "      <td>41.36</td>\n",
       "      <td>28.96</td>\n",
       "      <td>3.77</td>\n",
       "      <td>8.45</td>\n",
       "      <td>76.0</td>\n",
       "      <td>8</td>\n",
       "      <td>E</td>\n",
       "    </tr>\n",
       "    <tr>\n",
       "      <th>1</th>\n",
       "      <td>Super Mario Bros.</td>\n",
       "      <td>NES</td>\n",
       "      <td>1985.0</td>\n",
       "      <td>Platform</td>\n",
       "      <td>29.08</td>\n",
       "      <td>3.58</td>\n",
       "      <td>6.81</td>\n",
       "      <td>0.77</td>\n",
       "      <td>NaN</td>\n",
       "      <td>NaN</td>\n",
       "      <td>NaN</td>\n",
       "    </tr>\n",
       "    <tr>\n",
       "      <th>2</th>\n",
       "      <td>Mario Kart Wii</td>\n",
       "      <td>Wii</td>\n",
       "      <td>2008.0</td>\n",
       "      <td>Racing</td>\n",
       "      <td>15.68</td>\n",
       "      <td>12.76</td>\n",
       "      <td>3.79</td>\n",
       "      <td>3.29</td>\n",
       "      <td>82.0</td>\n",
       "      <td>8.3</td>\n",
       "      <td>E</td>\n",
       "    </tr>\n",
       "    <tr>\n",
       "      <th>3</th>\n",
       "      <td>Wii Sports Resort</td>\n",
       "      <td>Wii</td>\n",
       "      <td>2009.0</td>\n",
       "      <td>Sports</td>\n",
       "      <td>15.61</td>\n",
       "      <td>10.93</td>\n",
       "      <td>3.28</td>\n",
       "      <td>2.95</td>\n",
       "      <td>80.0</td>\n",
       "      <td>8</td>\n",
       "      <td>E</td>\n",
       "    </tr>\n",
       "    <tr>\n",
       "      <th>4</th>\n",
       "      <td>Pokemon Red/Pokemon Blue</td>\n",
       "      <td>GB</td>\n",
       "      <td>1996.0</td>\n",
       "      <td>Role-Playing</td>\n",
       "      <td>11.27</td>\n",
       "      <td>8.89</td>\n",
       "      <td>10.22</td>\n",
       "      <td>1.00</td>\n",
       "      <td>NaN</td>\n",
       "      <td>NaN</td>\n",
       "      <td>NaN</td>\n",
       "    </tr>\n",
       "  </tbody>\n",
       "</table>\n",
       "</div>"
      ],
      "text/plain": [
       "                       name platform  year_of_release         genre  na_sales  \\\n",
       "0                Wii Sports      Wii           2006.0        Sports     41.36   \n",
       "1         Super Mario Bros.      NES           1985.0      Platform     29.08   \n",
       "2            Mario Kart Wii      Wii           2008.0        Racing     15.68   \n",
       "3         Wii Sports Resort      Wii           2009.0        Sports     15.61   \n",
       "4  Pokemon Red/Pokemon Blue       GB           1996.0  Role-Playing     11.27   \n",
       "\n",
       "   eu_sales  jp_sales  other_sales  critic_score user_score rating  \n",
       "0     28.96      3.77         8.45          76.0          8      E  \n",
       "1      3.58      6.81         0.77           NaN        NaN    NaN  \n",
       "2     12.76      3.79         3.29          82.0        8.3      E  \n",
       "3     10.93      3.28         2.95          80.0          8      E  \n",
       "4      8.89     10.22         1.00           NaN        NaN    NaN  "
      ]
     },
     "execution_count": 4,
     "metadata": {},
     "output_type": "execute_result"
    }
   ],
   "source": [
    "# правлю стиль названий столбцов\n",
    "data = data.rename(columns={'Name': 'name', 'Platform': 'platform', 'Year_of_Release': 'year_of_release', 'Genre': 'genre', 'NA_sales': 'na_sales', 'EU_sales': 'eu_sales', 'JP_sales': 'jp_sales', 'Other_sales': 'other_sales', 'Critic_Score': 'critic_score', 'User_Score': 'user_score', 'Rating': 'rating'}) # исправила стиль названия столбца\n",
    "\n",
    "data.head()\n"
   ]
  },
  {
   "cell_type": "markdown",
   "id": "4d908ba9",
   "metadata": {},
   "source": [
    "### Обработка пропущенных значений"
   ]
  },
  {
   "cell_type": "code",
   "execution_count": 5,
   "id": "474503b6",
   "metadata": {},
   "outputs": [
    {
     "data": {
      "text/plain": [
       "name                  2\n",
       "platform              0\n",
       "year_of_release     269\n",
       "genre                 2\n",
       "na_sales              0\n",
       "eu_sales              0\n",
       "jp_sales              0\n",
       "other_sales           0\n",
       "critic_score       8578\n",
       "user_score         6701\n",
       "rating             6766\n",
       "dtype: int64"
      ]
     },
     "execution_count": 5,
     "metadata": {},
     "output_type": "execute_result"
    }
   ],
   "source": [
    "data.isna().sum() # вывожу количество нулевых значений в каждом столбце"
   ]
  },
  {
   "cell_type": "code",
   "execution_count": 6,
   "id": "4b2f0794",
   "metadata": {
    "scrolled": true
   },
   "outputs": [
    {
     "data": {
      "text/plain": [
       "array(['8', nan, '8.3', '8.5', '6.6', '8.4', '8.6', '7.7', '6.3', '7.4',\n",
       "       '8.2', '9', '7.9', '8.1', '8.7', '7.1', '3.4', '5.3', '4.8', '3.2',\n",
       "       '8.9', '6.4', '7.8', '7.5', '2.6', '7.2', '9.2', '7', '7.3', '4.3',\n",
       "       '7.6', '5.7', '5', '9.1', '6.5', 'tbd', '8.8', '6.9', '9.4', '6.8',\n",
       "       '6.1', '6.7', '5.4', '4', '4.9', '4.5', '9.3', '6.2', '4.2', '6',\n",
       "       '3.7', '4.1', '5.8', '5.6', '5.5', '4.4', '4.6', '5.9', '3.9',\n",
       "       '3.1', '2.9', '5.2', '3.3', '4.7', '5.1', '3.5', '2.5', '1.9', '3',\n",
       "       '2.7', '2.2', '2', '9.5', '2.1', '3.6', '2.8', '1.8', '3.8', '0',\n",
       "       '1.6', '9.6', '2.4', '1.7', '1.1', '0.3', '1.5', '0.7', '1.2',\n",
       "       '2.3', '0.5', '1.3', '0.2', '0.6', '1.4', '0.9', '1', '9.7'],\n",
       "      dtype=object)"
      ]
     },
     "execution_count": 6,
     "metadata": {},
     "output_type": "execute_result"
    }
   ],
   "source": [
    "# проверю, какие есть уникальные значения, чтобы было потом проще ориентироваться в данных\n",
    "data['user_score'].unique()"
   ]
  },
  {
   "cell_type": "markdown",
   "id": "ed376fbc",
   "metadata": {},
   "source": [
    "В user_score есть значение 'tbd' - оно, скорее всего, расшифровывается как to be done. Заменю это значение на пустое, чтобы было легче проводить расчёты по столбцу."
   ]
  },
  {
   "cell_type": "code",
   "execution_count": 7,
   "id": "a81b4c58",
   "metadata": {},
   "outputs": [
    {
     "data": {
      "text/plain": [
       "array(['E', nan, 'M', 'T', 'E10+', 'K-A', 'AO', 'EC', 'RP'], dtype=object)"
      ]
     },
     "execution_count": 7,
     "metadata": {},
     "output_type": "execute_result"
    }
   ],
   "source": [
    "# тут тоже проверю, какие есть уникальные значения, чтобы было потом проще ориентироваться в данных\n",
    "data['rating'].unique()"
   ]
  },
  {
   "cell_type": "markdown",
   "id": "5619e5f8",
   "metadata": {},
   "source": [
    "Пропущенные значения есть в следующих столбцах: name (название игры), year_of_release (год выпуска), genre (жанр), critic_score (оценка критиков), user_score (оценка пользователей), rating (рейтинг от организации ESRB).\n",
    "\n",
    "Как можно заполнить пропуски:\n",
    "* name - строки с пропущенными названиями игр можно удалить, значений всего 2.\n",
    "* year_of_release - нельзя заполнить логически, но данных немного, можно удалить такие строки.\n",
    "* genre - эти строки тоже можно удалить, значения всего 2. Скорее всего, это ещё те две игры, которые без названия. \n",
    "* critic_score - нельзя заполнить логически, оставляю пропуски.\n",
    "* user_score - нельзя заполнить логически, оставляю пропуски.\n",
    "* rating - это категориальная переменная, можно пропуски заменить на значение 'unknown'.\n",
    "\n",
    "Думаю, пропуски появляются, потому что данные в анкете по игре заполняются вручную, а не подтягиваются из какой-то базы по названию игры. Возможно, стоит добавить автозаполнение в карточку по игре. В целом, пользовательский рейтинг и рейтинг от критиков может быть не заполнен просто потому, что эту игру действительно не оценивали. "
   ]
  },
  {
   "cell_type": "code",
   "execution_count": 8,
   "id": "28918323",
   "metadata": {},
   "outputs": [
    {
     "data": {
      "text/plain": [
       "name                  0\n",
       "platform              0\n",
       "year_of_release       0\n",
       "genre                 0\n",
       "na_sales              0\n",
       "eu_sales              0\n",
       "jp_sales              0\n",
       "other_sales           0\n",
       "critic_score       8461\n",
       "user_score         8981\n",
       "rating                0\n",
       "dtype: int64"
      ]
     },
     "execution_count": 8,
     "metadata": {},
     "output_type": "execute_result"
    }
   ],
   "source": [
    "# удаляю строки без указания названия игры и года выпуска\n",
    "data = data.dropna(subset=['name', 'year_of_release']).reset_index(drop=True) \n",
    "# заменяю значение tbd на пустое значение\n",
    "data['user_score'] = data['user_score'].replace('tbd', np.nan)\n",
    "# заполняю пропуски в rating значением 'unknown'\n",
    "data['rating'] = data['rating'].fillna('unknown')\n",
    "\n",
    "data.isna().sum()"
   ]
  },
  {
   "cell_type": "code",
   "execution_count": 9,
   "id": "e145e1e7",
   "metadata": {},
   "outputs": [
    {
     "data": {
      "text/plain": [
       "array(['8', nan, '8.3', '8.5', '6.6', '8.4', '8.6', '7.7', '6.3', '7.4',\n",
       "       '8.2', '9', '7.9', '8.1', '8.7', '7.1', '3.4', '5.3', '4.8', '3.2',\n",
       "       '8.9', '6.4', '7.8', '7.5', '2.6', '7.2', '9.2', '7', '7.3', '4.3',\n",
       "       '7.6', '5.7', '5', '9.1', '6.5', '8.8', '6.9', '9.4', '6.8', '6.1',\n",
       "       '6.7', '5.4', '4', '4.9', '4.5', '9.3', '6.2', '4.2', '6', '3.7',\n",
       "       '4.1', '5.8', '5.6', '5.5', '4.4', '4.6', '5.9', '3.9', '3.1',\n",
       "       '2.9', '5.2', '3.3', '4.7', '5.1', '3.5', '2.5', '1.9', '3', '2.7',\n",
       "       '2.2', '2', '9.5', '2.1', '3.6', '2.8', '1.8', '3.8', '0', '1.6',\n",
       "       '9.6', '2.4', '1.7', '1.1', '0.3', '1.5', '0.7', '1.2', '2.3',\n",
       "       '0.5', '1.3', '0.2', '0.6', '1.4', '0.9', '1', '9.7'], dtype=object)"
      ]
     },
     "execution_count": 9,
     "metadata": {},
     "output_type": "execute_result"
    }
   ],
   "source": [
    "data['user_score'].unique()"
   ]
  },
  {
   "cell_type": "code",
   "execution_count": 10,
   "id": "914d88c9",
   "metadata": {},
   "outputs": [
    {
     "data": {
      "text/plain": [
       "array(['E', 'unknown', 'M', 'T', 'E10+', 'K-A', 'AO', 'EC', 'RP'],\n",
       "      dtype=object)"
      ]
     },
     "execution_count": 10,
     "metadata": {},
     "output_type": "execute_result"
    }
   ],
   "source": [
    "data['rating'].unique()"
   ]
  },
  {
   "cell_type": "markdown",
   "id": "63161b53",
   "metadata": {},
   "source": [
    "### Обработка типов данных"
   ]
  },
  {
   "cell_type": "markdown",
   "id": "37a7e8ac",
   "metadata": {},
   "source": [
    "Надо исправить типы данных у года выпуска и рейтинга пользователей. Год станет int16, потому что там только целые небольшие значения,  а user_score - числом с плавающей точкой, потому что там есть дробные числа."
   ]
  },
  {
   "cell_type": "code",
   "execution_count": 11,
   "id": "c09c2bd8",
   "metadata": {},
   "outputs": [
    {
     "name": "stdout",
     "output_type": "stream",
     "text": [
      "<class 'pandas.core.frame.DataFrame'>\n",
      "RangeIndex: 16444 entries, 0 to 16443\n",
      "Data columns (total 11 columns):\n",
      " #   Column           Non-Null Count  Dtype  \n",
      "---  ------           --------------  -----  \n",
      " 0   name             16444 non-null  object \n",
      " 1   platform         16444 non-null  object \n",
      " 2   year_of_release  16444 non-null  int16  \n",
      " 3   genre            16444 non-null  object \n",
      " 4   na_sales         16444 non-null  float64\n",
      " 5   eu_sales         16444 non-null  float64\n",
      " 6   jp_sales         16444 non-null  float64\n",
      " 7   other_sales      16444 non-null  float64\n",
      " 8   critic_score     7983 non-null   float64\n",
      " 9   user_score       7463 non-null   float64\n",
      " 10  rating           16444 non-null  object \n",
      "dtypes: float64(6), int16(1), object(4)\n",
      "memory usage: 1.3+ MB\n"
     ]
    }
   ],
   "source": [
    "# создаю словарь, чтобы поправить типы данных\n",
    "data_dict = {'year_of_release': 'int16', 'user_score': float}\n",
    "data = data.astype(data_dict)\n",
    "data.info()"
   ]
  },
  {
   "cell_type": "markdown",
   "id": "57354444",
   "metadata": {},
   "source": [
    "### Добавление столбца с продажами"
   ]
  },
  {
   "cell_type": "code",
   "execution_count": 12,
   "id": "00891f13",
   "metadata": {},
   "outputs": [
    {
     "data": {
      "text/html": [
       "<div>\n",
       "<style scoped>\n",
       "    .dataframe tbody tr th:only-of-type {\n",
       "        vertical-align: middle;\n",
       "    }\n",
       "\n",
       "    .dataframe tbody tr th {\n",
       "        vertical-align: top;\n",
       "    }\n",
       "\n",
       "    .dataframe thead th {\n",
       "        text-align: right;\n",
       "    }\n",
       "</style>\n",
       "<table border=\"1\" class=\"dataframe\">\n",
       "  <thead>\n",
       "    <tr style=\"text-align: right;\">\n",
       "      <th></th>\n",
       "      <th>name</th>\n",
       "      <th>platform</th>\n",
       "      <th>year_of_release</th>\n",
       "      <th>genre</th>\n",
       "      <th>na_sales</th>\n",
       "      <th>eu_sales</th>\n",
       "      <th>jp_sales</th>\n",
       "      <th>other_sales</th>\n",
       "      <th>critic_score</th>\n",
       "      <th>user_score</th>\n",
       "      <th>rating</th>\n",
       "      <th>total_sum</th>\n",
       "    </tr>\n",
       "  </thead>\n",
       "  <tbody>\n",
       "    <tr>\n",
       "      <th>0</th>\n",
       "      <td>Wii Sports</td>\n",
       "      <td>Wii</td>\n",
       "      <td>2006</td>\n",
       "      <td>Sports</td>\n",
       "      <td>41.36</td>\n",
       "      <td>28.96</td>\n",
       "      <td>3.77</td>\n",
       "      <td>8.45</td>\n",
       "      <td>76.0</td>\n",
       "      <td>8.0</td>\n",
       "      <td>E</td>\n",
       "      <td>82.54</td>\n",
       "    </tr>\n",
       "    <tr>\n",
       "      <th>1</th>\n",
       "      <td>Super Mario Bros.</td>\n",
       "      <td>NES</td>\n",
       "      <td>1985</td>\n",
       "      <td>Platform</td>\n",
       "      <td>29.08</td>\n",
       "      <td>3.58</td>\n",
       "      <td>6.81</td>\n",
       "      <td>0.77</td>\n",
       "      <td>NaN</td>\n",
       "      <td>NaN</td>\n",
       "      <td>unknown</td>\n",
       "      <td>40.24</td>\n",
       "    </tr>\n",
       "    <tr>\n",
       "      <th>2</th>\n",
       "      <td>Mario Kart Wii</td>\n",
       "      <td>Wii</td>\n",
       "      <td>2008</td>\n",
       "      <td>Racing</td>\n",
       "      <td>15.68</td>\n",
       "      <td>12.76</td>\n",
       "      <td>3.79</td>\n",
       "      <td>3.29</td>\n",
       "      <td>82.0</td>\n",
       "      <td>8.3</td>\n",
       "      <td>E</td>\n",
       "      <td>35.52</td>\n",
       "    </tr>\n",
       "    <tr>\n",
       "      <th>3</th>\n",
       "      <td>Wii Sports Resort</td>\n",
       "      <td>Wii</td>\n",
       "      <td>2009</td>\n",
       "      <td>Sports</td>\n",
       "      <td>15.61</td>\n",
       "      <td>10.93</td>\n",
       "      <td>3.28</td>\n",
       "      <td>2.95</td>\n",
       "      <td>80.0</td>\n",
       "      <td>8.0</td>\n",
       "      <td>E</td>\n",
       "      <td>32.77</td>\n",
       "    </tr>\n",
       "    <tr>\n",
       "      <th>4</th>\n",
       "      <td>Pokemon Red/Pokemon Blue</td>\n",
       "      <td>GB</td>\n",
       "      <td>1996</td>\n",
       "      <td>Role-Playing</td>\n",
       "      <td>11.27</td>\n",
       "      <td>8.89</td>\n",
       "      <td>10.22</td>\n",
       "      <td>1.00</td>\n",
       "      <td>NaN</td>\n",
       "      <td>NaN</td>\n",
       "      <td>unknown</td>\n",
       "      <td>31.38</td>\n",
       "    </tr>\n",
       "  </tbody>\n",
       "</table>\n",
       "</div>"
      ],
      "text/plain": [
       "                       name platform  year_of_release         genre  na_sales  \\\n",
       "0                Wii Sports      Wii             2006        Sports     41.36   \n",
       "1         Super Mario Bros.      NES             1985      Platform     29.08   \n",
       "2            Mario Kart Wii      Wii             2008        Racing     15.68   \n",
       "3         Wii Sports Resort      Wii             2009        Sports     15.61   \n",
       "4  Pokemon Red/Pokemon Blue       GB             1996  Role-Playing     11.27   \n",
       "\n",
       "   eu_sales  jp_sales  other_sales  critic_score  user_score   rating  \\\n",
       "0     28.96      3.77         8.45          76.0         8.0        E   \n",
       "1      3.58      6.81         0.77           NaN         NaN  unknown   \n",
       "2     12.76      3.79         3.29          82.0         8.3        E   \n",
       "3     10.93      3.28         2.95          80.0         8.0        E   \n",
       "4      8.89     10.22         1.00           NaN         NaN  unknown   \n",
       "\n",
       "   total_sum  \n",
       "0      82.54  \n",
       "1      40.24  \n",
       "2      35.52  \n",
       "3      32.77  \n",
       "4      31.38  "
      ]
     },
     "execution_count": 12,
     "metadata": {},
     "output_type": "execute_result"
    }
   ],
   "source": [
    "# добавлю столбец с мировыми продажами по каждой игре\n",
    "data['total_sum'] = data['na_sales'] + data['eu_sales'] + data['jp_sales'] + data['other_sales']\n",
    "data.head()"
   ]
  },
  {
   "cell_type": "markdown",
   "id": "ce213f1f",
   "metadata": {},
   "source": [
    "### Проверка дубликатов"
   ]
  },
  {
   "cell_type": "code",
   "execution_count": 13,
   "id": "f7486931",
   "metadata": {},
   "outputs": [
    {
     "data": {
      "text/plain": [
       "0"
      ]
     },
     "execution_count": 13,
     "metadata": {},
     "output_type": "execute_result"
    }
   ],
   "source": [
    "# на всякий случай проверю дубликаты в данных\n",
    "\n",
    "data.duplicated().sum()"
   ]
  },
  {
   "cell_type": "code",
   "execution_count": 14,
   "id": "afa7b9f4",
   "metadata": {},
   "outputs": [
    {
     "data": {
      "text/plain": [
       "array(['Wii', 'NES', 'GB', 'DS', 'X360', 'PS3', 'PS2', 'SNES', 'GBA',\n",
       "       'PS4', '3DS', 'N64', 'PS', 'XB', 'PC', '2600', 'PSP', 'XOne',\n",
       "       'WiiU', 'GC', 'GEN', 'DC', 'PSV', 'SAT', 'SCD', 'WS', 'NG', 'TG16',\n",
       "       '3DO', 'GG', 'PCFX'], dtype=object)"
      ]
     },
     "execution_count": 14,
     "metadata": {},
     "output_type": "execute_result"
    }
   ],
   "source": [
    "data['platform'].unique()"
   ]
  },
  {
   "cell_type": "code",
   "execution_count": 15,
   "id": "808b5d55",
   "metadata": {},
   "outputs": [
    {
     "data": {
      "text/plain": [
       "array(['Sports', 'Platform', 'Racing', 'Role-Playing', 'Puzzle', 'Misc',\n",
       "       'Shooter', 'Simulation', 'Action', 'Fighting', 'Adventure',\n",
       "       'Strategy'], dtype=object)"
      ]
     },
     "execution_count": 15,
     "metadata": {},
     "output_type": "execute_result"
    }
   ],
   "source": [
    "data['genre'].unique()"
   ]
  },
  {
   "cell_type": "markdown",
   "id": "eba55b66",
   "metadata": {},
   "source": [
    "## Исследовательский анализ данных"
   ]
  },
  {
   "cell_type": "markdown",
   "id": "860f8924",
   "metadata": {},
   "source": [
    "### Распределение игр по годам"
   ]
  },
  {
   "cell_type": "code",
   "execution_count": 16,
   "id": "c01a8b73",
   "metadata": {},
   "outputs": [
    {
     "data": {
      "text/plain": [
       "array([2006, 1985, 2008, 2009, 1996, 1989, 1984, 2005, 1999, 2007, 2010,\n",
       "       2013, 2004, 1990, 1988, 2002, 2001, 2011, 1998, 2015, 2012, 2014,\n",
       "       1992, 1997, 1993, 1994, 1982, 2016, 2003, 1986, 2000, 1995, 1991,\n",
       "       1981, 1987, 1980, 1983], dtype=int16)"
      ]
     },
     "execution_count": 16,
     "metadata": {},
     "output_type": "execute_result"
    }
   ],
   "source": [
    "# вывожу уникальные значения годов\n",
    "data['year_of_release'].unique()"
   ]
  },
  {
   "cell_type": "code",
   "execution_count": 17,
   "id": "58dc43ca",
   "metadata": {},
   "outputs": [
    {
     "data": {
      "text/html": [
       "<div>\n",
       "<style scoped>\n",
       "    .dataframe tbody tr th:only-of-type {\n",
       "        vertical-align: middle;\n",
       "    }\n",
       "\n",
       "    .dataframe tbody tr th {\n",
       "        vertical-align: top;\n",
       "    }\n",
       "\n",
       "    .dataframe thead th {\n",
       "        text-align: right;\n",
       "    }\n",
       "</style>\n",
       "<table border=\"1\" class=\"dataframe\">\n",
       "  <thead>\n",
       "    <tr style=\"text-align: right;\">\n",
       "      <th></th>\n",
       "      <th>Количество игр</th>\n",
       "    </tr>\n",
       "    <tr>\n",
       "      <th>year_of_release</th>\n",
       "      <th></th>\n",
       "    </tr>\n",
       "  </thead>\n",
       "  <tbody>\n",
       "    <tr>\n",
       "      <th>2008</th>\n",
       "      <td>1427</td>\n",
       "    </tr>\n",
       "    <tr>\n",
       "      <th>2009</th>\n",
       "      <td>1426</td>\n",
       "    </tr>\n",
       "    <tr>\n",
       "      <th>2010</th>\n",
       "      <td>1255</td>\n",
       "    </tr>\n",
       "    <tr>\n",
       "      <th>2007</th>\n",
       "      <td>1197</td>\n",
       "    </tr>\n",
       "    <tr>\n",
       "      <th>2011</th>\n",
       "      <td>1136</td>\n",
       "    </tr>\n",
       "    <tr>\n",
       "      <th>2006</th>\n",
       "      <td>1006</td>\n",
       "    </tr>\n",
       "    <tr>\n",
       "      <th>2005</th>\n",
       "      <td>939</td>\n",
       "    </tr>\n",
       "    <tr>\n",
       "      <th>2002</th>\n",
       "      <td>829</td>\n",
       "    </tr>\n",
       "    <tr>\n",
       "      <th>2003</th>\n",
       "      <td>775</td>\n",
       "    </tr>\n",
       "    <tr>\n",
       "      <th>2004</th>\n",
       "      <td>762</td>\n",
       "    </tr>\n",
       "    <tr>\n",
       "      <th>2012</th>\n",
       "      <td>653</td>\n",
       "    </tr>\n",
       "    <tr>\n",
       "      <th>2015</th>\n",
       "      <td>606</td>\n",
       "    </tr>\n",
       "    <tr>\n",
       "      <th>2014</th>\n",
       "      <td>581</td>\n",
       "    </tr>\n",
       "    <tr>\n",
       "      <th>2013</th>\n",
       "      <td>544</td>\n",
       "    </tr>\n",
       "    <tr>\n",
       "      <th>2016</th>\n",
       "      <td>502</td>\n",
       "    </tr>\n",
       "    <tr>\n",
       "      <th>2001</th>\n",
       "      <td>482</td>\n",
       "    </tr>\n",
       "    <tr>\n",
       "      <th>1998</th>\n",
       "      <td>379</td>\n",
       "    </tr>\n",
       "    <tr>\n",
       "      <th>2000</th>\n",
       "      <td>350</td>\n",
       "    </tr>\n",
       "    <tr>\n",
       "      <th>1999</th>\n",
       "      <td>338</td>\n",
       "    </tr>\n",
       "    <tr>\n",
       "      <th>1997</th>\n",
       "      <td>289</td>\n",
       "    </tr>\n",
       "    <tr>\n",
       "      <th>1996</th>\n",
       "      <td>263</td>\n",
       "    </tr>\n",
       "    <tr>\n",
       "      <th>1995</th>\n",
       "      <td>219</td>\n",
       "    </tr>\n",
       "    <tr>\n",
       "      <th>1994</th>\n",
       "      <td>121</td>\n",
       "    </tr>\n",
       "    <tr>\n",
       "      <th>1993</th>\n",
       "      <td>60</td>\n",
       "    </tr>\n",
       "    <tr>\n",
       "      <th>1981</th>\n",
       "      <td>46</td>\n",
       "    </tr>\n",
       "    <tr>\n",
       "      <th>1992</th>\n",
       "      <td>43</td>\n",
       "    </tr>\n",
       "    <tr>\n",
       "      <th>1991</th>\n",
       "      <td>41</td>\n",
       "    </tr>\n",
       "    <tr>\n",
       "      <th>1982</th>\n",
       "      <td>36</td>\n",
       "    </tr>\n",
       "    <tr>\n",
       "      <th>1986</th>\n",
       "      <td>21</td>\n",
       "    </tr>\n",
       "    <tr>\n",
       "      <th>1989</th>\n",
       "      <td>17</td>\n",
       "    </tr>\n",
       "    <tr>\n",
       "      <th>1983</th>\n",
       "      <td>17</td>\n",
       "    </tr>\n",
       "    <tr>\n",
       "      <th>1990</th>\n",
       "      <td>16</td>\n",
       "    </tr>\n",
       "    <tr>\n",
       "      <th>1987</th>\n",
       "      <td>16</td>\n",
       "    </tr>\n",
       "    <tr>\n",
       "      <th>1988</th>\n",
       "      <td>15</td>\n",
       "    </tr>\n",
       "    <tr>\n",
       "      <th>1985</th>\n",
       "      <td>14</td>\n",
       "    </tr>\n",
       "    <tr>\n",
       "      <th>1984</th>\n",
       "      <td>14</td>\n",
       "    </tr>\n",
       "    <tr>\n",
       "      <th>1980</th>\n",
       "      <td>9</td>\n",
       "    </tr>\n",
       "  </tbody>\n",
       "</table>\n",
       "</div>"
      ],
      "text/plain": [
       "                 Количество игр\n",
       "year_of_release                \n",
       "2008                       1427\n",
       "2009                       1426\n",
       "2010                       1255\n",
       "2007                       1197\n",
       "2011                       1136\n",
       "2006                       1006\n",
       "2005                        939\n",
       "2002                        829\n",
       "2003                        775\n",
       "2004                        762\n",
       "2012                        653\n",
       "2015                        606\n",
       "2014                        581\n",
       "2013                        544\n",
       "2016                        502\n",
       "2001                        482\n",
       "1998                        379\n",
       "2000                        350\n",
       "1999                        338\n",
       "1997                        289\n",
       "1996                        263\n",
       "1995                        219\n",
       "1994                        121\n",
       "1993                         60\n",
       "1981                         46\n",
       "1992                         43\n",
       "1991                         41\n",
       "1982                         36\n",
       "1986                         21\n",
       "1989                         17\n",
       "1983                         17\n",
       "1990                         16\n",
       "1987                         16\n",
       "1988                         15\n",
       "1985                         14\n",
       "1984                         14\n",
       "1980                          9"
      ]
     },
     "execution_count": 17,
     "metadata": {},
     "output_type": "execute_result"
    }
   ],
   "source": [
    "# строю сводную таблицу с годом и количеством игр, выпущенных в этот год\n",
    "year_of_release = data.pivot_table(index='year_of_release', values='name', aggfunc='count')\n",
    "year_of_release.columns = ['Количество игр']\n",
    "year_of_release = year_of_release.sort_values(by='Количество игр', ascending=False)\n",
    "year_of_release"
   ]
  },
  {
   "cell_type": "code",
   "execution_count": 18,
   "id": "f566d4ef",
   "metadata": {},
   "outputs": [
    {
     "data": {
      "image/png": "[encoded data removed]",
      "text/plain": [
       "<Figure size 1500x600 with 1 Axes>"
      ]
     },
     "metadata": {},
     "output_type": "display_data"
    }
   ],
   "source": [
    "# вывожу столбчатую гистограмму по частоте выпуска игр\n",
    "\n",
    "plt.figure(figsize=(15, 6))\n",
    "plt.bar(year_of_release.index, year_of_release['Количество игр'])\n",
    "plt.xlabel('Год выпуска')\n",
    "plt.ylabel('Количество игр')\n",
    "plt.title('Распределение выпуска игр по годам')\n",
    "plt.show()"
   ]
  },
  {
   "cell_type": "markdown",
   "id": "aaf53811",
   "metadata": {},
   "source": [
    "Я бы начала рассматривать данные с 1995 года, когда стало отчётливо видно, что индустрия компьютерных игр пошла в гору. Прирост количества игр с 1994 года - почти в два раза. Но тут надо ещё понять, для каких целей нам нужно распределение. От этого дальше уже выбирать нужные для анализа года."
   ]
  },
  {
   "cell_type": "markdown",
   "id": "7afccee2",
   "metadata": {},
   "source": [
    "### Продажи по платформам по годам"
   ]
  },
  {
   "cell_type": "code",
   "execution_count": 19,
   "id": "355e8e09",
   "metadata": {},
   "outputs": [
    {
     "data": {
      "text/html": [
       "<div>\n",
       "<style scoped>\n",
       "    .dataframe tbody tr th:only-of-type {\n",
       "        vertical-align: middle;\n",
       "    }\n",
       "\n",
       "    .dataframe tbody tr th {\n",
       "        vertical-align: top;\n",
       "    }\n",
       "\n",
       "    .dataframe thead th {\n",
       "        text-align: right;\n",
       "    }\n",
       "</style>\n",
       "<table border=\"1\" class=\"dataframe\">\n",
       "  <thead>\n",
       "    <tr style=\"text-align: right;\">\n",
       "      <th></th>\n",
       "      <th>name</th>\n",
       "      <th>platform</th>\n",
       "      <th>year_of_release</th>\n",
       "      <th>genre</th>\n",
       "      <th>na_sales</th>\n",
       "      <th>eu_sales</th>\n",
       "      <th>jp_sales</th>\n",
       "      <th>other_sales</th>\n",
       "      <th>critic_score</th>\n",
       "      <th>user_score</th>\n",
       "      <th>rating</th>\n",
       "      <th>total_sum</th>\n",
       "    </tr>\n",
       "  </thead>\n",
       "  <tbody>\n",
       "    <tr>\n",
       "      <th>0</th>\n",
       "      <td>Wii Sports</td>\n",
       "      <td>Wii</td>\n",
       "      <td>2006</td>\n",
       "      <td>Sports</td>\n",
       "      <td>41.36</td>\n",
       "      <td>28.96</td>\n",
       "      <td>3.77</td>\n",
       "      <td>8.45</td>\n",
       "      <td>76.0</td>\n",
       "      <td>8.0</td>\n",
       "      <td>E</td>\n",
       "      <td>82.54</td>\n",
       "    </tr>\n",
       "    <tr>\n",
       "      <th>1</th>\n",
       "      <td>Super Mario Bros.</td>\n",
       "      <td>NES</td>\n",
       "      <td>1985</td>\n",
       "      <td>Platform</td>\n",
       "      <td>29.08</td>\n",
       "      <td>3.58</td>\n",
       "      <td>6.81</td>\n",
       "      <td>0.77</td>\n",
       "      <td>NaN</td>\n",
       "      <td>NaN</td>\n",
       "      <td>unknown</td>\n",
       "      <td>40.24</td>\n",
       "    </tr>\n",
       "    <tr>\n",
       "      <th>2</th>\n",
       "      <td>Mario Kart Wii</td>\n",
       "      <td>Wii</td>\n",
       "      <td>2008</td>\n",
       "      <td>Racing</td>\n",
       "      <td>15.68</td>\n",
       "      <td>12.76</td>\n",
       "      <td>3.79</td>\n",
       "      <td>3.29</td>\n",
       "      <td>82.0</td>\n",
       "      <td>8.3</td>\n",
       "      <td>E</td>\n",
       "      <td>35.52</td>\n",
       "    </tr>\n",
       "    <tr>\n",
       "      <th>3</th>\n",
       "      <td>Wii Sports Resort</td>\n",
       "      <td>Wii</td>\n",
       "      <td>2009</td>\n",
       "      <td>Sports</td>\n",
       "      <td>15.61</td>\n",
       "      <td>10.93</td>\n",
       "      <td>3.28</td>\n",
       "      <td>2.95</td>\n",
       "      <td>80.0</td>\n",
       "      <td>8.0</td>\n",
       "      <td>E</td>\n",
       "      <td>32.77</td>\n",
       "    </tr>\n",
       "    <tr>\n",
       "      <th>4</th>\n",
       "      <td>Pokemon Red/Pokemon Blue</td>\n",
       "      <td>GB</td>\n",
       "      <td>1996</td>\n",
       "      <td>Role-Playing</td>\n",
       "      <td>11.27</td>\n",
       "      <td>8.89</td>\n",
       "      <td>10.22</td>\n",
       "      <td>1.00</td>\n",
       "      <td>NaN</td>\n",
       "      <td>NaN</td>\n",
       "      <td>unknown</td>\n",
       "      <td>31.38</td>\n",
       "    </tr>\n",
       "  </tbody>\n",
       "</table>\n",
       "</div>"
      ],
      "text/plain": [
       "                       name platform  year_of_release         genre  na_sales  \\\n",
       "0                Wii Sports      Wii             2006        Sports     41.36   \n",
       "1         Super Mario Bros.      NES             1985      Platform     29.08   \n",
       "2            Mario Kart Wii      Wii             2008        Racing     15.68   \n",
       "3         Wii Sports Resort      Wii             2009        Sports     15.61   \n",
       "4  Pokemon Red/Pokemon Blue       GB             1996  Role-Playing     11.27   \n",
       "\n",
       "   eu_sales  jp_sales  other_sales  critic_score  user_score   rating  \\\n",
       "0     28.96      3.77         8.45          76.0         8.0        E   \n",
       "1      3.58      6.81         0.77           NaN         NaN  unknown   \n",
       "2     12.76      3.79         3.29          82.0         8.3        E   \n",
       "3     10.93      3.28         2.95          80.0         8.0        E   \n",
       "4      8.89     10.22         1.00           NaN         NaN  unknown   \n",
       "\n",
       "   total_sum  \n",
       "0      82.54  \n",
       "1      40.24  \n",
       "2      35.52  \n",
       "3      32.77  \n",
       "4      31.38  "
      ]
     },
     "execution_count": 19,
     "metadata": {},
     "output_type": "execute_result"
    }
   ],
   "source": [
    "data.head()"
   ]
  },
  {
   "cell_type": "code",
   "execution_count": 20,
   "id": "b79ece77",
   "metadata": {},
   "outputs": [
    {
     "data": {
      "text/html": [
       "<div>\n",
       "<style scoped>\n",
       "    .dataframe tbody tr th:only-of-type {\n",
       "        vertical-align: middle;\n",
       "    }\n",
       "\n",
       "    .dataframe tbody tr th {\n",
       "        vertical-align: top;\n",
       "    }\n",
       "\n",
       "    .dataframe thead th {\n",
       "        text-align: right;\n",
       "    }\n",
       "</style>\n",
       "<table border=\"1\" class=\"dataframe\">\n",
       "  <thead>\n",
       "    <tr style=\"text-align: right;\">\n",
       "      <th></th>\n",
       "      <th>Количество проданных игр</th>\n",
       "    </tr>\n",
       "    <tr>\n",
       "      <th>platform</th>\n",
       "      <th></th>\n",
       "    </tr>\n",
       "  </thead>\n",
       "  <tbody>\n",
       "    <tr>\n",
       "      <th>PS2</th>\n",
       "      <td>1233.56</td>\n",
       "    </tr>\n",
       "    <tr>\n",
       "      <th>X360</th>\n",
       "      <td>961.24</td>\n",
       "    </tr>\n",
       "    <tr>\n",
       "      <th>PS3</th>\n",
       "      <td>931.34</td>\n",
       "    </tr>\n",
       "    <tr>\n",
       "      <th>Wii</th>\n",
       "      <td>891.18</td>\n",
       "    </tr>\n",
       "    <tr>\n",
       "      <th>DS</th>\n",
       "      <td>802.78</td>\n",
       "    </tr>\n",
       "    <tr>\n",
       "      <th>PS</th>\n",
       "      <td>727.58</td>\n",
       "    </tr>\n",
       "    <tr>\n",
       "      <th>PS4</th>\n",
       "      <td>314.14</td>\n",
       "    </tr>\n",
       "    <tr>\n",
       "      <th>GBA</th>\n",
       "      <td>312.88</td>\n",
       "    </tr>\n",
       "    <tr>\n",
       "      <th>PSP</th>\n",
       "      <td>289.53</td>\n",
       "    </tr>\n",
       "    <tr>\n",
       "      <th>3DS</th>\n",
       "      <td>257.81</td>\n",
       "    </tr>\n",
       "    <tr>\n",
       "      <th>PC</th>\n",
       "      <td>255.76</td>\n",
       "    </tr>\n",
       "    <tr>\n",
       "      <th>GB</th>\n",
       "      <td>254.43</td>\n",
       "    </tr>\n",
       "    <tr>\n",
       "      <th>XB</th>\n",
       "      <td>251.57</td>\n",
       "    </tr>\n",
       "    <tr>\n",
       "      <th>NES</th>\n",
       "      <td>251.05</td>\n",
       "    </tr>\n",
       "    <tr>\n",
       "      <th>N64</th>\n",
       "      <td>218.01</td>\n",
       "    </tr>\n",
       "    <tr>\n",
       "      <th>SNES</th>\n",
       "      <td>200.04</td>\n",
       "    </tr>\n",
       "    <tr>\n",
       "      <th>GC</th>\n",
       "      <td>196.73</td>\n",
       "    </tr>\n",
       "    <tr>\n",
       "      <th>XOne</th>\n",
       "      <td>159.32</td>\n",
       "    </tr>\n",
       "    <tr>\n",
       "      <th>2600</th>\n",
       "      <td>86.48</td>\n",
       "    </tr>\n",
       "    <tr>\n",
       "      <th>WiiU</th>\n",
       "      <td>82.19</td>\n",
       "    </tr>\n",
       "    <tr>\n",
       "      <th>PSV</th>\n",
       "      <td>53.81</td>\n",
       "    </tr>\n",
       "    <tr>\n",
       "      <th>SAT</th>\n",
       "      <td>33.59</td>\n",
       "    </tr>\n",
       "    <tr>\n",
       "      <th>GEN</th>\n",
       "      <td>28.35</td>\n",
       "    </tr>\n",
       "    <tr>\n",
       "      <th>DC</th>\n",
       "      <td>15.95</td>\n",
       "    </tr>\n",
       "    <tr>\n",
       "      <th>SCD</th>\n",
       "      <td>1.86</td>\n",
       "    </tr>\n",
       "    <tr>\n",
       "      <th>NG</th>\n",
       "      <td>1.44</td>\n",
       "    </tr>\n",
       "    <tr>\n",
       "      <th>WS</th>\n",
       "      <td>1.42</td>\n",
       "    </tr>\n",
       "    <tr>\n",
       "      <th>TG16</th>\n",
       "      <td>0.16</td>\n",
       "    </tr>\n",
       "    <tr>\n",
       "      <th>3DO</th>\n",
       "      <td>0.10</td>\n",
       "    </tr>\n",
       "    <tr>\n",
       "      <th>GG</th>\n",
       "      <td>0.04</td>\n",
       "    </tr>\n",
       "    <tr>\n",
       "      <th>PCFX</th>\n",
       "      <td>0.03</td>\n",
       "    </tr>\n",
       "  </tbody>\n",
       "</table>\n",
       "</div>"
      ],
      "text/plain": [
       "          Количество проданных игр\n",
       "platform                          \n",
       "PS2                        1233.56\n",
       "X360                        961.24\n",
       "PS3                         931.34\n",
       "Wii                         891.18\n",
       "DS                          802.78\n",
       "PS                          727.58\n",
       "PS4                         314.14\n",
       "GBA                         312.88\n",
       "PSP                         289.53\n",
       "3DS                         257.81\n",
       "PC                          255.76\n",
       "GB                          254.43\n",
       "XB                          251.57\n",
       "NES                         251.05\n",
       "N64                         218.01\n",
       "SNES                        200.04\n",
       "GC                          196.73\n",
       "XOne                        159.32\n",
       "2600                         86.48\n",
       "WiiU                         82.19\n",
       "PSV                          53.81\n",
       "SAT                          33.59\n",
       "GEN                          28.35\n",
       "DC                           15.95\n",
       "SCD                           1.86\n",
       "NG                            1.44\n",
       "WS                            1.42\n",
       "TG16                          0.16\n",
       "3DO                           0.10\n",
       "GG                            0.04\n",
       "PCFX                          0.03"
      ]
     },
     "execution_count": 20,
     "metadata": {},
     "output_type": "execute_result"
    }
   ],
   "source": [
    "# вывожу сводную таблицу по платформам и проданным для этих платформ играм\n",
    "platform_sales = data.pivot_table(index='platform', values='total_sum', aggfunc='sum')\n",
    "platform_sales.columns = ['Количество проданных игр']\n",
    "platform_sales = platform_sales.sort_values(by='Количество проданных игр', ascending=False)\n",
    "platform_sales"
   ]
  },
  {
   "cell_type": "code",
   "execution_count": 21,
   "id": "e83163b4",
   "metadata": {},
   "outputs": [
    {
     "data": {
      "text/html": [
       "<div>\n",
       "<style scoped>\n",
       "    .dataframe tbody tr th:only-of-type {\n",
       "        vertical-align: middle;\n",
       "    }\n",
       "\n",
       "    .dataframe tbody tr th {\n",
       "        vertical-align: top;\n",
       "    }\n",
       "\n",
       "    .dataframe thead th {\n",
       "        text-align: right;\n",
       "    }\n",
       "</style>\n",
       "<table border=\"1\" class=\"dataframe\">\n",
       "  <thead>\n",
       "    <tr style=\"text-align: right;\">\n",
       "      <th></th>\n",
       "      <th>Количество проданных игр</th>\n",
       "    </tr>\n",
       "    <tr>\n",
       "      <th>platform</th>\n",
       "      <th></th>\n",
       "    </tr>\n",
       "  </thead>\n",
       "  <tbody>\n",
       "    <tr>\n",
       "      <th>PS2</th>\n",
       "      <td>1233.56</td>\n",
       "    </tr>\n",
       "    <tr>\n",
       "      <th>X360</th>\n",
       "      <td>961.24</td>\n",
       "    </tr>\n",
       "    <tr>\n",
       "      <th>PS3</th>\n",
       "      <td>931.34</td>\n",
       "    </tr>\n",
       "    <tr>\n",
       "      <th>Wii</th>\n",
       "      <td>891.18</td>\n",
       "    </tr>\n",
       "    <tr>\n",
       "      <th>DS</th>\n",
       "      <td>802.78</td>\n",
       "    </tr>\n",
       "    <tr>\n",
       "      <th>PS</th>\n",
       "      <td>727.58</td>\n",
       "    </tr>\n",
       "  </tbody>\n",
       "</table>\n",
       "</div>"
      ],
      "text/plain": [
       "          Количество проданных игр\n",
       "platform                          \n",
       "PS2                        1233.56\n",
       "X360                        961.24\n",
       "PS3                         931.34\n",
       "Wii                         891.18\n",
       "DS                          802.78\n",
       "PS                          727.58"
      ]
     },
     "execution_count": 21,
     "metadata": {},
     "output_type": "execute_result"
    }
   ],
   "source": [
    "# вывожу топ самых популярных платформ\n",
    "platform_sales.head(6)"
   ]
  },
  {
   "cell_type": "markdown",
   "id": "178c44f4",
   "metadata": {},
   "source": [
    "#### Продажи по PS2"
   ]
  },
  {
   "cell_type": "code",
   "execution_count": 22,
   "id": "c58a12bf",
   "metadata": {},
   "outputs": [
    {
     "data": {
      "text/html": [
       "<div>\n",
       "<style scoped>\n",
       "    .dataframe tbody tr th:only-of-type {\n",
       "        vertical-align: middle;\n",
       "    }\n",
       "\n",
       "    .dataframe tbody tr th {\n",
       "        vertical-align: top;\n",
       "    }\n",
       "\n",
       "    .dataframe thead th {\n",
       "        text-align: right;\n",
       "    }\n",
       "</style>\n",
       "<table border=\"1\" class=\"dataframe\">\n",
       "  <thead>\n",
       "    <tr style=\"text-align: right;\">\n",
       "      <th></th>\n",
       "      <th>Количество проданных игр</th>\n",
       "    </tr>\n",
       "    <tr>\n",
       "      <th>year_of_release</th>\n",
       "      <th></th>\n",
       "    </tr>\n",
       "  </thead>\n",
       "  <tbody>\n",
       "    <tr>\n",
       "      <th>2000</th>\n",
       "      <td>0.477683</td>\n",
       "    </tr>\n",
       "    <tr>\n",
       "      <th>2001</th>\n",
       "      <td>0.899622</td>\n",
       "    </tr>\n",
       "    <tr>\n",
       "      <th>2002</th>\n",
       "      <td>0.733500</td>\n",
       "    </tr>\n",
       "    <tr>\n",
       "      <th>2003</th>\n",
       "      <td>0.719961</td>\n",
       "    </tr>\n",
       "    <tr>\n",
       "      <th>2004</th>\n",
       "      <td>0.817799</td>\n",
       "    </tr>\n",
       "    <tr>\n",
       "      <th>2005</th>\n",
       "      <td>0.617923</td>\n",
       "    </tr>\n",
       "    <tr>\n",
       "      <th>2006</th>\n",
       "      <td>0.399305</td>\n",
       "    </tr>\n",
       "    <tr>\n",
       "      <th>2007</th>\n",
       "      <td>0.355093</td>\n",
       "    </tr>\n",
       "    <tr>\n",
       "      <th>2008</th>\n",
       "      <td>0.282199</td>\n",
       "    </tr>\n",
       "    <tr>\n",
       "      <th>2009</th>\n",
       "      <td>0.275000</td>\n",
       "    </tr>\n",
       "    <tr>\n",
       "      <th>2010</th>\n",
       "      <td>0.148421</td>\n",
       "    </tr>\n",
       "    <tr>\n",
       "      <th>2011</th>\n",
       "      <td>0.064286</td>\n",
       "    </tr>\n",
       "  </tbody>\n",
       "</table>\n",
       "</div>"
      ],
      "text/plain": [
       "                 Количество проданных игр\n",
       "year_of_release                          \n",
       "2000                             0.477683\n",
       "2001                             0.899622\n",
       "2002                             0.733500\n",
       "2003                             0.719961\n",
       "2004                             0.817799\n",
       "2005                             0.617923\n",
       "2006                             0.399305\n",
       "2007                             0.355093\n",
       "2008                             0.282199\n",
       "2009                             0.275000\n",
       "2010                             0.148421\n",
       "2011                             0.064286"
      ]
     },
     "execution_count": 22,
     "metadata": {},
     "output_type": "execute_result"
    }
   ],
   "source": [
    "# вывожу таблицу с распределением продаж по годам для PS2\n",
    "PS2_data = data[data['platform'] == 'PS2'].reset_index(drop=True) \n",
    "PS2_sales = PS2_data.pivot_table(index='year_of_release', values='total_sum')\n",
    "PS2_sales.columns = ['Количество проданных игр']\n",
    "PS2_sales"
   ]
  },
  {
   "cell_type": "code",
   "execution_count": 23,
   "id": "339743df",
   "metadata": {},
   "outputs": [
    {
     "data": {
      "image/png": "[encoded data removed]",
      "text/plain": [
       "<Figure size 1500x600 with 1 Axes>"
      ]
     },
     "metadata": {},
     "output_type": "display_data"
    }
   ],
   "source": [
    "# строю столбчатую гистограмму по распределению продаж игр\n",
    "plt.figure(figsize=(15, 6))\n",
    "plt.bar(PS2_sales.index, PS2_sales['Количество проданных игр'])\n",
    "plt.xlabel('Год выпуска')\n",
    "plt.ylabel('Количество проданных игр')\n",
    "plt.title('Распределение продаж игр по годам для PS2')\n",
    "plt.show()"
   ]
  },
  {
   "cell_type": "markdown",
   "id": "4130954f",
   "metadata": {},
   "source": [
    "Пик популярности PS2 пришёлся на 2001 - 2004 года, затем её популярность начала снижаться. После 2011 года для этой платформы уже не продавали игры."
   ]
  },
  {
   "cell_type": "markdown",
   "id": "81efa2d2",
   "metadata": {},
   "source": [
    "#### Продажи по X360"
   ]
  },
  {
   "cell_type": "code",
   "execution_count": 24,
   "id": "a88040b9",
   "metadata": {},
   "outputs": [
    {
     "data": {
      "text/html": [
       "<div>\n",
       "<style scoped>\n",
       "    .dataframe tbody tr th:only-of-type {\n",
       "        vertical-align: middle;\n",
       "    }\n",
       "\n",
       "    .dataframe tbody tr th {\n",
       "        vertical-align: top;\n",
       "    }\n",
       "\n",
       "    .dataframe thead th {\n",
       "        text-align: right;\n",
       "    }\n",
       "</style>\n",
       "<table border=\"1\" class=\"dataframe\">\n",
       "  <thead>\n",
       "    <tr style=\"text-align: right;\">\n",
       "      <th></th>\n",
       "      <th>Количество проданных игр</th>\n",
       "    </tr>\n",
       "    <tr>\n",
       "      <th>year_of_release</th>\n",
       "      <th></th>\n",
       "    </tr>\n",
       "  </thead>\n",
       "  <tbody>\n",
       "    <tr>\n",
       "      <th>2005</th>\n",
       "      <td>0.458333</td>\n",
       "    </tr>\n",
       "    <tr>\n",
       "      <th>2006</th>\n",
       "      <td>0.555054</td>\n",
       "    </tr>\n",
       "    <tr>\n",
       "      <th>2007</th>\n",
       "      <td>0.775691</td>\n",
       "    </tr>\n",
       "    <tr>\n",
       "      <th>2008</th>\n",
       "      <td>0.926438</td>\n",
       "    </tr>\n",
       "    <tr>\n",
       "      <th>2009</th>\n",
       "      <td>0.699360</td>\n",
       "    </tr>\n",
       "    <tr>\n",
       "      <th>2010</th>\n",
       "      <td>0.934231</td>\n",
       "    </tr>\n",
       "    <tr>\n",
       "      <th>2011</th>\n",
       "      <td>0.698252</td>\n",
       "    </tr>\n",
       "    <tr>\n",
       "      <th>2012</th>\n",
       "      <td>0.940943</td>\n",
       "    </tr>\n",
       "    <tr>\n",
       "      <th>2013</th>\n",
       "      <td>1.181067</td>\n",
       "    </tr>\n",
       "    <tr>\n",
       "      <th>2014</th>\n",
       "      <td>0.551429</td>\n",
       "    </tr>\n",
       "    <tr>\n",
       "      <th>2015</th>\n",
       "      <td>0.341714</td>\n",
       "    </tr>\n",
       "    <tr>\n",
       "      <th>2016</th>\n",
       "      <td>0.116923</td>\n",
       "    </tr>\n",
       "  </tbody>\n",
       "</table>\n",
       "</div>"
      ],
      "text/plain": [
       "                 Количество проданных игр\n",
       "year_of_release                          \n",
       "2005                             0.458333\n",
       "2006                             0.555054\n",
       "2007                             0.775691\n",
       "2008                             0.926438\n",
       "2009                             0.699360\n",
       "2010                             0.934231\n",
       "2011                             0.698252\n",
       "2012                             0.940943\n",
       "2013                             1.181067\n",
       "2014                             0.551429\n",
       "2015                             0.341714\n",
       "2016                             0.116923"
      ]
     },
     "execution_count": 24,
     "metadata": {},
     "output_type": "execute_result"
    }
   ],
   "source": [
    "# вывожу таблицу с распределением продаж по годам для X360\n",
    "\n",
    "X360_data = data[data['platform'] == 'X360'].reset_index(drop=True) \n",
    "X360_sales = X360_data.pivot_table(index='year_of_release', values='total_sum')\n",
    "X360_sales.columns = ['Количество проданных игр']\n",
    "X360_sales"
   ]
  },
  {
   "cell_type": "code",
   "execution_count": 25,
   "id": "f35aa8d1",
   "metadata": {},
   "outputs": [
    {
     "data": {
      "image/png": "[encoded data removed]",
      "text/plain": [
       "<Figure size 1500x600 with 1 Axes>"
      ]
     },
     "metadata": {},
     "output_type": "display_data"
    }
   ],
   "source": [
    "# строю столбчатую гистограмму по распределению продаж игр\n",
    "plt.figure(figsize=(15, 6))\n",
    "plt.bar(X360_sales.index, X360_sales['Количество проданных игр'])\n",
    "plt.xlabel('Год выпуска')\n",
    "plt.ylabel('Количество проданных игр')\n",
    "plt.title('Распределение продаж игр по годам для X360')\n",
    "plt.show()"
   ]
  },
  {
   "cell_type": "markdown",
   "id": "cf471b41",
   "metadata": {},
   "source": [
    "X360 запустилась в 2005 году, до 2012 игры для этой платформы достаточно стабильно продавались. Пик популярности пришёлся на 2013 год, затем её популярность начала снижаться. В 2016 году - самый низкий показатель продаж."
   ]
  },
  {
   "cell_type": "markdown",
   "id": "6cfc8981",
   "metadata": {},
   "source": [
    "#### Продажи по PS3"
   ]
  },
  {
   "cell_type": "code",
   "execution_count": 26,
   "id": "827b2b89",
   "metadata": {},
   "outputs": [
    {
     "data": {
      "text/html": [
       "<div>\n",
       "<style scoped>\n",
       "    .dataframe tbody tr th:only-of-type {\n",
       "        vertical-align: middle;\n",
       "    }\n",
       "\n",
       "    .dataframe tbody tr th {\n",
       "        vertical-align: top;\n",
       "    }\n",
       "\n",
       "    .dataframe thead th {\n",
       "        text-align: right;\n",
       "    }\n",
       "</style>\n",
       "<table border=\"1\" class=\"dataframe\">\n",
       "  <thead>\n",
       "    <tr style=\"text-align: right;\">\n",
       "      <th></th>\n",
       "      <th>Количество проданных игр</th>\n",
       "    </tr>\n",
       "    <tr>\n",
       "      <th>year_of_release</th>\n",
       "      <th></th>\n",
       "    </tr>\n",
       "  </thead>\n",
       "  <tbody>\n",
       "    <tr>\n",
       "      <th>2006</th>\n",
       "      <td>0.776296</td>\n",
       "    </tr>\n",
       "    <tr>\n",
       "      <th>2007</th>\n",
       "      <td>0.813222</td>\n",
       "    </tr>\n",
       "    <tr>\n",
       "      <th>2008</th>\n",
       "      <td>0.858841</td>\n",
       "    </tr>\n",
       "    <tr>\n",
       "      <th>2009</th>\n",
       "      <td>0.808210</td>\n",
       "    </tr>\n",
       "    <tr>\n",
       "      <th>2010</th>\n",
       "      <td>0.785470</td>\n",
       "    </tr>\n",
       "    <tr>\n",
       "      <th>2011</th>\n",
       "      <td>0.729209</td>\n",
       "    </tr>\n",
       "    <tr>\n",
       "      <th>2012</th>\n",
       "      <td>0.725405</td>\n",
       "    </tr>\n",
       "    <tr>\n",
       "      <th>2013</th>\n",
       "      <td>0.898810</td>\n",
       "    </tr>\n",
       "    <tr>\n",
       "      <th>2014</th>\n",
       "      <td>0.442222</td>\n",
       "    </tr>\n",
       "    <tr>\n",
       "      <th>2015</th>\n",
       "      <td>0.230411</td>\n",
       "    </tr>\n",
       "    <tr>\n",
       "      <th>2016</th>\n",
       "      <td>0.094737</td>\n",
       "    </tr>\n",
       "  </tbody>\n",
       "</table>\n",
       "</div>"
      ],
      "text/plain": [
       "                 Количество проданных игр\n",
       "year_of_release                          \n",
       "2006                             0.776296\n",
       "2007                             0.813222\n",
       "2008                             0.858841\n",
       "2009                             0.808210\n",
       "2010                             0.785470\n",
       "2011                             0.729209\n",
       "2012                             0.725405\n",
       "2013                             0.898810\n",
       "2014                             0.442222\n",
       "2015                             0.230411\n",
       "2016                             0.094737"
      ]
     },
     "execution_count": 26,
     "metadata": {},
     "output_type": "execute_result"
    }
   ],
   "source": [
    "# вывожу таблицу с распределением продаж по годам для PS3\n",
    "\n",
    "PS3_data = data[data['platform'] == 'PS3'].reset_index(drop=True) \n",
    "PS3_sales = PS3_data.pivot_table(index='year_of_release', values='total_sum')\n",
    "PS3_sales.columns = ['Количество проданных игр']\n",
    "PS3_sales"
   ]
  },
  {
   "cell_type": "code",
   "execution_count": 27,
   "id": "0149ddb9",
   "metadata": {},
   "outputs": [
    {
     "data": {
      "image/png": "[encoded data removed]",
      "text/plain": [
       "<Figure size 1500x600 with 1 Axes>"
      ]
     },
     "metadata": {},
     "output_type": "display_data"
    }
   ],
   "source": [
    "# строю столбчатую гистограмму по распределению продаж игр\n",
    "plt.figure(figsize=(15, 6))\n",
    "plt.bar(PS3_sales.index, PS3_sales['Количество проданных игр'])\n",
    "plt.xlabel('Год выпуска')\n",
    "plt.ylabel('Количество проданных игр')\n",
    "plt.title('Распределение продаж игр по годам для PS3')\n",
    "plt.show()"
   ]
  },
  {
   "cell_type": "markdown",
   "id": "6557d757",
   "metadata": {},
   "source": [
    "Игры для PS3 стабильно хорошо продавались до 2013 года. Затем пошло резкое снижение. В 2016 - самый низкий показатель. Снижение популярности приставки связано с тем, что в 2013 году вышла новая версия - PS4."
   ]
  },
  {
   "cell_type": "markdown",
   "id": "ee3f2fe2",
   "metadata": {},
   "source": [
    "#### Продажи по Wii"
   ]
  },
  {
   "cell_type": "code",
   "execution_count": 28,
   "id": "26a7bd5e",
   "metadata": {},
   "outputs": [
    {
     "data": {
      "text/html": [
       "<div>\n",
       "<style scoped>\n",
       "    .dataframe tbody tr th:only-of-type {\n",
       "        vertical-align: middle;\n",
       "    }\n",
       "\n",
       "    .dataframe tbody tr th {\n",
       "        vertical-align: top;\n",
       "    }\n",
       "\n",
       "    .dataframe thead th {\n",
       "        text-align: right;\n",
       "    }\n",
       "</style>\n",
       "<table border=\"1\" class=\"dataframe\">\n",
       "  <thead>\n",
       "    <tr style=\"text-align: right;\">\n",
       "      <th></th>\n",
       "      <th>Количество проданных игр</th>\n",
       "    </tr>\n",
       "    <tr>\n",
       "      <th>year_of_release</th>\n",
       "      <th></th>\n",
       "    </tr>\n",
       "  </thead>\n",
       "  <tbody>\n",
       "    <tr>\n",
       "      <th>2006</th>\n",
       "      <td>3.117045</td>\n",
       "    </tr>\n",
       "    <tr>\n",
       "      <th>2007</th>\n",
       "      <td>0.825784</td>\n",
       "    </tr>\n",
       "    <tr>\n",
       "      <th>2008</th>\n",
       "      <td>0.607518</td>\n",
       "    </tr>\n",
       "    <tr>\n",
       "      <th>2009</th>\n",
       "      <td>0.636831</td>\n",
       "    </tr>\n",
       "    <tr>\n",
       "      <th>2010</th>\n",
       "      <td>0.505731</td>\n",
       "    </tr>\n",
       "    <tr>\n",
       "      <th>2011</th>\n",
       "      <td>0.417133</td>\n",
       "    </tr>\n",
       "    <tr>\n",
       "      <th>2012</th>\n",
       "      <td>0.700323</td>\n",
       "    </tr>\n",
       "    <tr>\n",
       "      <th>2013</th>\n",
       "      <td>0.715833</td>\n",
       "    </tr>\n",
       "    <tr>\n",
       "      <th>2014</th>\n",
       "      <td>0.625000</td>\n",
       "    </tr>\n",
       "    <tr>\n",
       "      <th>2015</th>\n",
       "      <td>0.285000</td>\n",
       "    </tr>\n",
       "    <tr>\n",
       "      <th>2016</th>\n",
       "      <td>0.180000</td>\n",
       "    </tr>\n",
       "  </tbody>\n",
       "</table>\n",
       "</div>"
      ],
      "text/plain": [
       "                 Количество проданных игр\n",
       "year_of_release                          \n",
       "2006                             3.117045\n",
       "2007                             0.825784\n",
       "2008                             0.607518\n",
       "2009                             0.636831\n",
       "2010                             0.505731\n",
       "2011                             0.417133\n",
       "2012                             0.700323\n",
       "2013                             0.715833\n",
       "2014                             0.625000\n",
       "2015                             0.285000\n",
       "2016                             0.180000"
      ]
     },
     "execution_count": 28,
     "metadata": {},
     "output_type": "execute_result"
    }
   ],
   "source": [
    "# вывожу таблицу с распределением продаж по годам для Wii\n",
    "\n",
    "Wii_data = data[data['platform'] == 'Wii'].reset_index(drop=True) \n",
    "Wii_sales = Wii_data.pivot_table(index='year_of_release', values='total_sum')\n",
    "Wii_sales.columns = ['Количество проданных игр']\n",
    "Wii_sales"
   ]
  },
  {
   "cell_type": "code",
   "execution_count": 29,
   "id": "b7616a7f",
   "metadata": {},
   "outputs": [
    {
     "data": {
      "image/png": "[encoded data removed]",
      "text/plain": [
       "<Figure size 1500x600 with 1 Axes>"
      ]
     },
     "metadata": {},
     "output_type": "display_data"
    }
   ],
   "source": [
    "# строю столбчатую гистограмму по распределению продаж игр\n",
    "plt.figure(figsize=(15, 6))\n",
    "plt.bar(PS3_sales.index, Wii_sales['Количество проданных игр'])\n",
    "plt.xlabel('Год выпуска')\n",
    "plt.ylabel('Количество проданных игр')\n",
    "plt.title('Распределение продаж игр по годам для Wii')\n",
    "plt.show()"
   ]
  },
  {
   "cell_type": "markdown",
   "id": "1ca71a8a",
   "metadata": {},
   "source": [
    "Пик популярности платформы - 2006 год, затем - резкое снижение. В 2016 - самый низкий показатель продаж."
   ]
  },
  {
   "cell_type": "markdown",
   "id": "fc57a4b7",
   "metadata": {},
   "source": [
    "#### Продажи по DS"
   ]
  },
  {
   "cell_type": "code",
   "execution_count": 30,
   "id": "94672031",
   "metadata": {},
   "outputs": [
    {
     "data": {
      "text/html": [
       "<div>\n",
       "<style scoped>\n",
       "    .dataframe tbody tr th:only-of-type {\n",
       "        vertical-align: middle;\n",
       "    }\n",
       "\n",
       "    .dataframe tbody tr th {\n",
       "        vertical-align: top;\n",
       "    }\n",
       "\n",
       "    .dataframe thead th {\n",
       "        text-align: right;\n",
       "    }\n",
       "</style>\n",
       "<table border=\"1\" class=\"dataframe\">\n",
       "  <thead>\n",
       "    <tr style=\"text-align: right;\">\n",
       "      <th></th>\n",
       "      <th>Количество проданных игр</th>\n",
       "    </tr>\n",
       "    <tr>\n",
       "      <th>year_of_release</th>\n",
       "      <th></th>\n",
       "    </tr>\n",
       "  </thead>\n",
       "  <tbody>\n",
       "    <tr>\n",
       "      <th>1985</th>\n",
       "      <td>0.020000</td>\n",
       "    </tr>\n",
       "    <tr>\n",
       "      <th>2004</th>\n",
       "      <td>0.750870</td>\n",
       "    </tr>\n",
       "    <tr>\n",
       "      <th>2005</th>\n",
       "      <td>1.102881</td>\n",
       "    </tr>\n",
       "    <tr>\n",
       "      <th>2006</th>\n",
       "      <td>0.596070</td>\n",
       "    </tr>\n",
       "    <tr>\n",
       "      <th>2007</th>\n",
       "      <td>0.390798</td>\n",
       "    </tr>\n",
       "    <tr>\n",
       "      <th>2008</th>\n",
       "      <td>0.295346</td>\n",
       "    </tr>\n",
       "    <tr>\n",
       "      <th>2009</th>\n",
       "      <td>0.296625</td>\n",
       "    </tr>\n",
       "    <tr>\n",
       "      <th>2010</th>\n",
       "      <td>0.263220</td>\n",
       "    </tr>\n",
       "    <tr>\n",
       "      <th>2011</th>\n",
       "      <td>0.171111</td>\n",
       "    </tr>\n",
       "    <tr>\n",
       "      <th>2012</th>\n",
       "      <td>0.478696</td>\n",
       "    </tr>\n",
       "    <tr>\n",
       "      <th>2013</th>\n",
       "      <td>0.192500</td>\n",
       "    </tr>\n",
       "  </tbody>\n",
       "</table>\n",
       "</div>"
      ],
      "text/plain": [
       "                 Количество проданных игр\n",
       "year_of_release                          \n",
       "1985                             0.020000\n",
       "2004                             0.750870\n",
       "2005                             1.102881\n",
       "2006                             0.596070\n",
       "2007                             0.390798\n",
       "2008                             0.295346\n",
       "2009                             0.296625\n",
       "2010                             0.263220\n",
       "2011                             0.171111\n",
       "2012                             0.478696\n",
       "2013                             0.192500"
      ]
     },
     "execution_count": 30,
     "metadata": {},
     "output_type": "execute_result"
    }
   ],
   "source": [
    "# вывожу таблицу с распределением продаж по годам для DS\n",
    "DS_data = data[data['platform'] == 'DS'].reset_index(drop=True) \n",
    "DS_sales = DS_data.pivot_table(index='year_of_release', values='total_sum')\n",
    "DS_sales.columns = ['Количество проданных игр']\n",
    "DS_sales"
   ]
  },
  {
   "cell_type": "code",
   "execution_count": 31,
   "id": "27a22c1f",
   "metadata": {},
   "outputs": [
    {
     "data": {
      "image/png": "[encoded data removed]",
      "text/plain": [
       "<Figure size 1500x600 with 1 Axes>"
      ]
     },
     "metadata": {},
     "output_type": "display_data"
    }
   ],
   "source": [
    "# строю столбчатую гистограмму по распределению продаж игр\n",
    "plt.figure(figsize=(15, 6))\n",
    "plt.bar(PS3_sales.index, DS_sales['Количество проданных игр'])\n",
    "plt.xlabel('Год выпуска')\n",
    "plt.ylabel('Количество проданных игр')\n",
    "plt.title('Распределение продаж игр по годам для DS')\n",
    "plt.show()"
   ]
  },
  {
   "cell_type": "markdown",
   "id": "78ee716a",
   "metadata": {},
   "source": [
    "Пик популярности платформы - 2008 год. Продажи по платформе есть до 2016 года, но показатели в целом низкие."
   ]
  },
  {
   "cell_type": "markdown",
   "id": "71d29a4d",
   "metadata": {},
   "source": [
    "#### Продажи по PS"
   ]
  },
  {
   "cell_type": "code",
   "execution_count": 32,
   "id": "9315e1ff",
   "metadata": {},
   "outputs": [
    {
     "data": {
      "text/html": [
       "<div>\n",
       "<style scoped>\n",
       "    .dataframe tbody tr th:only-of-type {\n",
       "        vertical-align: middle;\n",
       "    }\n",
       "\n",
       "    .dataframe tbody tr th {\n",
       "        vertical-align: top;\n",
       "    }\n",
       "\n",
       "    .dataframe thead th {\n",
       "        text-align: right;\n",
       "    }\n",
       "</style>\n",
       "<table border=\"1\" class=\"dataframe\">\n",
       "  <thead>\n",
       "    <tr style=\"text-align: right;\">\n",
       "      <th></th>\n",
       "      <th>Количество проданных игр</th>\n",
       "    </tr>\n",
       "    <tr>\n",
       "      <th>year_of_release</th>\n",
       "      <th></th>\n",
       "    </tr>\n",
       "  </thead>\n",
       "  <tbody>\n",
       "    <tr>\n",
       "      <th>1985</th>\n",
       "      <td>0.020000</td>\n",
       "    </tr>\n",
       "    <tr>\n",
       "      <th>2004</th>\n",
       "      <td>0.750870</td>\n",
       "    </tr>\n",
       "    <tr>\n",
       "      <th>2005</th>\n",
       "      <td>1.102881</td>\n",
       "    </tr>\n",
       "    <tr>\n",
       "      <th>2006</th>\n",
       "      <td>0.596070</td>\n",
       "    </tr>\n",
       "    <tr>\n",
       "      <th>2007</th>\n",
       "      <td>0.390798</td>\n",
       "    </tr>\n",
       "    <tr>\n",
       "      <th>2008</th>\n",
       "      <td>0.295346</td>\n",
       "    </tr>\n",
       "    <tr>\n",
       "      <th>2009</th>\n",
       "      <td>0.296625</td>\n",
       "    </tr>\n",
       "    <tr>\n",
       "      <th>2010</th>\n",
       "      <td>0.263220</td>\n",
       "    </tr>\n",
       "    <tr>\n",
       "      <th>2011</th>\n",
       "      <td>0.171111</td>\n",
       "    </tr>\n",
       "    <tr>\n",
       "      <th>2012</th>\n",
       "      <td>0.478696</td>\n",
       "    </tr>\n",
       "    <tr>\n",
       "      <th>2013</th>\n",
       "      <td>0.192500</td>\n",
       "    </tr>\n",
       "  </tbody>\n",
       "</table>\n",
       "</div>"
      ],
      "text/plain": [
       "                 Количество проданных игр\n",
       "year_of_release                          \n",
       "1985                             0.020000\n",
       "2004                             0.750870\n",
       "2005                             1.102881\n",
       "2006                             0.596070\n",
       "2007                             0.390798\n",
       "2008                             0.295346\n",
       "2009                             0.296625\n",
       "2010                             0.263220\n",
       "2011                             0.171111\n",
       "2012                             0.478696\n",
       "2013                             0.192500"
      ]
     },
     "execution_count": 32,
     "metadata": {},
     "output_type": "execute_result"
    }
   ],
   "source": [
    "# вывожу таблицу с распределением продаж по годам для PS\n",
    "PS_data = data[data['platform'] == 'PS'].reset_index(drop=True) \n",
    "PS_sales = DS_data.pivot_table(index='year_of_release', values='total_sum')\n",
    "PS_sales.columns = ['Количество проданных игр']\n",
    "PS_sales"
   ]
  },
  {
   "cell_type": "code",
   "execution_count": 33,
   "id": "52597061",
   "metadata": {},
   "outputs": [
    {
     "data": {
      "image/png": "[encoded data removed]",
      "text/plain": [
       "<Figure size 1500x600 with 1 Axes>"
      ]
     },
     "metadata": {},
     "output_type": "display_data"
    }
   ],
   "source": [
    "# строю столбчатую гистограмму по распределению продаж игр\n",
    "plt.figure(figsize=(15, 6))\n",
    "plt.bar(PS3_sales.index, PS_sales['Количество проданных игр'])\n",
    "plt.xlabel('Год выпуска')\n",
    "plt.ylabel('Количество проданных игр')\n",
    "plt.title('Распределение продаж игр по годам для PS')\n",
    "plt.show()"
   ]
  },
  {
   "cell_type": "markdown",
   "id": "8bede9c9",
   "metadata": {},
   "source": [
    "Пик популярности платформы - 2008 год. Продажи по платформе есть до 2016 года, но показатели в целом низкие."
   ]
  },
  {
   "cell_type": "markdown",
   "id": "6ed46272",
   "metadata": {},
   "source": [
    "В среднем платформы живут по 10-11 лет. Но новые версии приставок выходят достаточно быстро, поэтому особенно прибыльными платформы остаются 3-4 года."
   ]
  },
  {
   "cell_type": "markdown",
   "id": "1f064cfb",
   "metadata": {},
   "source": [
    "### Определение актуального периода для прогноза"
   ]
  },
  {
   "cell_type": "markdown",
   "id": "636c8178",
   "metadata": {},
   "source": [
    "Игровая индустрия очень динамичная, в ней достаточно быстро появляются новинки. Думаю, можно взять данные за 2014, 2015 и 2016 года, чтобы спрогнозировать продажи на 2017 год. Если бы данные за 2016 год были полными, то можно было бы обойтись только двумя годами."
   ]
  },
  {
   "cell_type": "code",
   "execution_count": 34,
   "id": "0d0a2d9d",
   "metadata": {},
   "outputs": [
    {
     "data": {
      "text/html": [
       "<div>\n",
       "<style scoped>\n",
       "    .dataframe tbody tr th:only-of-type {\n",
       "        vertical-align: middle;\n",
       "    }\n",
       "\n",
       "    .dataframe tbody tr th {\n",
       "        vertical-align: top;\n",
       "    }\n",
       "\n",
       "    .dataframe thead th {\n",
       "        text-align: right;\n",
       "    }\n",
       "</style>\n",
       "<table border=\"1\" class=\"dataframe\">\n",
       "  <thead>\n",
       "    <tr style=\"text-align: right;\">\n",
       "      <th></th>\n",
       "      <th>name</th>\n",
       "      <th>platform</th>\n",
       "      <th>year_of_release</th>\n",
       "      <th>genre</th>\n",
       "      <th>na_sales</th>\n",
       "      <th>eu_sales</th>\n",
       "      <th>jp_sales</th>\n",
       "      <th>other_sales</th>\n",
       "      <th>critic_score</th>\n",
       "      <th>user_score</th>\n",
       "      <th>rating</th>\n",
       "      <th>total_sum</th>\n",
       "    </tr>\n",
       "  </thead>\n",
       "  <tbody>\n",
       "    <tr>\n",
       "      <th>0</th>\n",
       "      <td>Call of Duty: Black Ops 3</td>\n",
       "      <td>PS4</td>\n",
       "      <td>2015</td>\n",
       "      <td>Shooter</td>\n",
       "      <td>6.03</td>\n",
       "      <td>5.86</td>\n",
       "      <td>0.36</td>\n",
       "      <td>2.38</td>\n",
       "      <td>NaN</td>\n",
       "      <td>NaN</td>\n",
       "      <td>unknown</td>\n",
       "      <td>14.63</td>\n",
       "    </tr>\n",
       "    <tr>\n",
       "      <th>1</th>\n",
       "      <td>Grand Theft Auto V</td>\n",
       "      <td>PS4</td>\n",
       "      <td>2014</td>\n",
       "      <td>Action</td>\n",
       "      <td>3.96</td>\n",
       "      <td>6.31</td>\n",
       "      <td>0.38</td>\n",
       "      <td>1.97</td>\n",
       "      <td>97.0</td>\n",
       "      <td>8.3</td>\n",
       "      <td>M</td>\n",
       "      <td>12.62</td>\n",
       "    </tr>\n",
       "    <tr>\n",
       "      <th>2</th>\n",
       "      <td>Pokemon Omega Ruby/Pokemon Alpha Sapphire</td>\n",
       "      <td>3DS</td>\n",
       "      <td>2014</td>\n",
       "      <td>Role-Playing</td>\n",
       "      <td>4.35</td>\n",
       "      <td>3.49</td>\n",
       "      <td>3.10</td>\n",
       "      <td>0.74</td>\n",
       "      <td>NaN</td>\n",
       "      <td>NaN</td>\n",
       "      <td>unknown</td>\n",
       "      <td>11.68</td>\n",
       "    </tr>\n",
       "    <tr>\n",
       "      <th>3</th>\n",
       "      <td>FIFA 16</td>\n",
       "      <td>PS4</td>\n",
       "      <td>2015</td>\n",
       "      <td>Sports</td>\n",
       "      <td>1.12</td>\n",
       "      <td>6.12</td>\n",
       "      <td>0.06</td>\n",
       "      <td>1.28</td>\n",
       "      <td>82.0</td>\n",
       "      <td>4.3</td>\n",
       "      <td>E</td>\n",
       "      <td>8.58</td>\n",
       "    </tr>\n",
       "    <tr>\n",
       "      <th>4</th>\n",
       "      <td>Star Wars Battlefront (2015)</td>\n",
       "      <td>PS4</td>\n",
       "      <td>2015</td>\n",
       "      <td>Shooter</td>\n",
       "      <td>2.99</td>\n",
       "      <td>3.49</td>\n",
       "      <td>0.22</td>\n",
       "      <td>1.28</td>\n",
       "      <td>NaN</td>\n",
       "      <td>NaN</td>\n",
       "      <td>unknown</td>\n",
       "      <td>7.98</td>\n",
       "    </tr>\n",
       "  </tbody>\n",
       "</table>\n",
       "</div>"
      ],
      "text/plain": [
       "                                        name platform  year_of_release  \\\n",
       "0                  Call of Duty: Black Ops 3      PS4             2015   \n",
       "1                         Grand Theft Auto V      PS4             2014   \n",
       "2  Pokemon Omega Ruby/Pokemon Alpha Sapphire      3DS             2014   \n",
       "3                                    FIFA 16      PS4             2015   \n",
       "4               Star Wars Battlefront (2015)      PS4             2015   \n",
       "\n",
       "          genre  na_sales  eu_sales  jp_sales  other_sales  critic_score  \\\n",
       "0       Shooter      6.03      5.86      0.36         2.38           NaN   \n",
       "1        Action      3.96      6.31      0.38         1.97          97.0   \n",
       "2  Role-Playing      4.35      3.49      3.10         0.74           NaN   \n",
       "3        Sports      1.12      6.12      0.06         1.28          82.0   \n",
       "4       Shooter      2.99      3.49      0.22         1.28           NaN   \n",
       "\n",
       "   user_score   rating  total_sum  \n",
       "0         NaN  unknown      14.63  \n",
       "1         8.3        M      12.62  \n",
       "2         NaN  unknown      11.68  \n",
       "3         4.3        E       8.58  \n",
       "4         NaN  unknown       7.98  "
      ]
     },
     "execution_count": 34,
     "metadata": {},
     "output_type": "execute_result"
    }
   ],
   "source": [
    "# выделяю срез с данными за нужный период\n",
    "actual_data = data[data['year_of_release'] >= 2014].reset_index(drop=True) \n",
    "actual_data.head()\n"
   ]
  },
  {
   "cell_type": "code",
   "execution_count": 35,
   "id": "1eb8e165",
   "metadata": {},
   "outputs": [
    {
     "name": "stdout",
     "output_type": "stream",
     "text": [
      "<class 'pandas.core.frame.DataFrame'>\n",
      "RangeIndex: 1689 entries, 0 to 1688\n",
      "Data columns (total 12 columns):\n",
      " #   Column           Non-Null Count  Dtype  \n",
      "---  ------           --------------  -----  \n",
      " 0   name             1689 non-null   object \n",
      " 1   platform         1689 non-null   object \n",
      " 2   year_of_release  1689 non-null   int16  \n",
      " 3   genre            1689 non-null   object \n",
      " 4   na_sales         1689 non-null   float64\n",
      " 5   eu_sales         1689 non-null   float64\n",
      " 6   jp_sales         1689 non-null   float64\n",
      " 7   other_sales      1689 non-null   float64\n",
      " 8   critic_score     718 non-null    float64\n",
      " 9   user_score       888 non-null    float64\n",
      " 10  rating           1689 non-null   object \n",
      " 11  total_sum        1689 non-null   float64\n",
      "dtypes: float64(7), int16(1), object(4)\n",
      "memory usage: 148.6+ KB\n"
     ]
    }
   ],
   "source": [
    "actual_data.info()"
   ]
  },
  {
   "cell_type": "markdown",
   "id": "a79e6f71",
   "metadata": {},
   "source": [
    "### Потенциально прибыльные платформы"
   ]
  },
  {
   "cell_type": "code",
   "execution_count": 36,
   "id": "a1b25932",
   "metadata": {},
   "outputs": [
    {
     "data": {
      "text/html": [
       "<div>\n",
       "<style scoped>\n",
       "    .dataframe tbody tr th:only-of-type {\n",
       "        vertical-align: middle;\n",
       "    }\n",
       "\n",
       "    .dataframe tbody tr th {\n",
       "        vertical-align: top;\n",
       "    }\n",
       "\n",
       "    .dataframe thead th {\n",
       "        text-align: right;\n",
       "    }\n",
       "</style>\n",
       "<table border=\"1\" class=\"dataframe\">\n",
       "  <thead>\n",
       "    <tr style=\"text-align: right;\">\n",
       "      <th></th>\n",
       "      <th>Количество проданных игр</th>\n",
       "    </tr>\n",
       "    <tr>\n",
       "      <th>platform</th>\n",
       "      <th></th>\n",
       "    </tr>\n",
       "  </thead>\n",
       "  <tbody>\n",
       "    <tr>\n",
       "      <th>PS4</th>\n",
       "      <td>288.15</td>\n",
       "    </tr>\n",
       "    <tr>\n",
       "      <th>XOne</th>\n",
       "      <td>140.36</td>\n",
       "    </tr>\n",
       "    <tr>\n",
       "      <th>3DS</th>\n",
       "      <td>86.68</td>\n",
       "    </tr>\n",
       "    <tr>\n",
       "      <th>PS3</th>\n",
       "      <td>68.18</td>\n",
       "    </tr>\n",
       "    <tr>\n",
       "      <th>X360</th>\n",
       "      <td>48.22</td>\n",
       "    </tr>\n",
       "    <tr>\n",
       "      <th>WiiU</th>\n",
       "      <td>42.98</td>\n",
       "    </tr>\n",
       "    <tr>\n",
       "      <th>PC</th>\n",
       "      <td>27.05</td>\n",
       "    </tr>\n",
       "    <tr>\n",
       "      <th>PSV</th>\n",
       "      <td>22.40</td>\n",
       "    </tr>\n",
       "    <tr>\n",
       "      <th>Wii</th>\n",
       "      <td>5.07</td>\n",
       "    </tr>\n",
       "    <tr>\n",
       "      <th>PSP</th>\n",
       "      <td>0.36</td>\n",
       "    </tr>\n",
       "  </tbody>\n",
       "</table>\n",
       "</div>"
      ],
      "text/plain": [
       "          Количество проданных игр\n",
       "platform                          \n",
       "PS4                         288.15\n",
       "XOne                        140.36\n",
       "3DS                          86.68\n",
       "PS3                          68.18\n",
       "X360                         48.22\n",
       "WiiU                         42.98\n",
       "PC                           27.05\n",
       "PSV                          22.40\n",
       "Wii                           5.07\n",
       "PSP                           0.36"
      ]
     },
     "execution_count": 36,
     "metadata": {},
     "output_type": "execute_result"
    }
   ],
   "source": [
    "# вывожу таблицу с количеством проданных игр по платформам\n",
    "platform_sales_v2 = actual_data.pivot_table(index='platform', values='total_sum', aggfunc='sum')\n",
    "platform_sales_v2.columns = ['Количество проданных игр']\n",
    "platform_sales_v2 = platform_sales_v2.sort_values(by='Количество проданных игр', ascending=False)\n",
    "platform_sales_v2"
   ]
  },
  {
   "cell_type": "code",
   "execution_count": 37,
   "id": "d8fba286",
   "metadata": {
    "scrolled": false
   },
   "outputs": [
    {
     "data": {
      "image/png": "[encoded data removed]",
      "text/plain": [
       "<Figure size 1000x600 with 1 Axes>"
      ]
     },
     "metadata": {},
     "output_type": "display_data"
    }
   ],
   "source": [
    "# вывожу распределения продаж по платформам, ограничиваю график, чтобы ящики были лучше видны\n",
    "plt.figure(figsize=(10,6))\n",
    "sns.boxplot(x='platform', y='total_sum', data=actual_data)\n",
    "plt.title('Глобальные продажи игр по платформам')\n",
    "plt.xlabel('Платформа')\n",
    "plt.ylabel('Глобальные продажи')\n",
    "plt.ylim(0, 3)\n",
    "plt.show()"
   ]
  },
  {
   "cell_type": "markdown",
   "id": "3d2941a7",
   "metadata": {},
   "source": [
    "Судя по разбросам, потенциально прибыльные платформы - PS4, XOne, 3DS. На ящиках PS4 и XOne много выбросов, что говорит о том, что люди готовы покупать игры именно для этих приставок. 3DS тоже показывает много выбросов, но тут надо быть аккуратнее, потому что портативные приставки теряют актуальность быстрее, чем не портативные."
   ]
  },
  {
   "cell_type": "markdown",
   "id": "32154171",
   "metadata": {},
   "source": [
    "### Продажи vs отзывы критиков и пользователей на PS4"
   ]
  },
  {
   "cell_type": "code",
   "execution_count": 38,
   "id": "cf820f03",
   "metadata": {},
   "outputs": [
    {
     "data": {
      "text/html": [
       "<div>\n",
       "<style scoped>\n",
       "    .dataframe tbody tr th:only-of-type {\n",
       "        vertical-align: middle;\n",
       "    }\n",
       "\n",
       "    .dataframe tbody tr th {\n",
       "        vertical-align: top;\n",
       "    }\n",
       "\n",
       "    .dataframe thead th {\n",
       "        text-align: right;\n",
       "    }\n",
       "</style>\n",
       "<table border=\"1\" class=\"dataframe\">\n",
       "  <thead>\n",
       "    <tr style=\"text-align: right;\">\n",
       "      <th></th>\n",
       "      <th>name</th>\n",
       "      <th>platform</th>\n",
       "      <th>year_of_release</th>\n",
       "      <th>genre</th>\n",
       "      <th>na_sales</th>\n",
       "      <th>eu_sales</th>\n",
       "      <th>jp_sales</th>\n",
       "      <th>other_sales</th>\n",
       "      <th>critic_score</th>\n",
       "      <th>user_score</th>\n",
       "      <th>rating</th>\n",
       "      <th>total_sum</th>\n",
       "    </tr>\n",
       "  </thead>\n",
       "  <tbody>\n",
       "    <tr>\n",
       "      <th>0</th>\n",
       "      <td>Call of Duty: Black Ops 3</td>\n",
       "      <td>PS4</td>\n",
       "      <td>2015</td>\n",
       "      <td>Shooter</td>\n",
       "      <td>6.03</td>\n",
       "      <td>5.86</td>\n",
       "      <td>0.36</td>\n",
       "      <td>2.38</td>\n",
       "      <td>NaN</td>\n",
       "      <td>NaN</td>\n",
       "      <td>unknown</td>\n",
       "      <td>14.63</td>\n",
       "    </tr>\n",
       "    <tr>\n",
       "      <th>1</th>\n",
       "      <td>Grand Theft Auto V</td>\n",
       "      <td>PS4</td>\n",
       "      <td>2014</td>\n",
       "      <td>Action</td>\n",
       "      <td>3.96</td>\n",
       "      <td>6.31</td>\n",
       "      <td>0.38</td>\n",
       "      <td>1.97</td>\n",
       "      <td>97.0</td>\n",
       "      <td>8.3</td>\n",
       "      <td>M</td>\n",
       "      <td>12.62</td>\n",
       "    </tr>\n",
       "    <tr>\n",
       "      <th>2</th>\n",
       "      <td>FIFA 16</td>\n",
       "      <td>PS4</td>\n",
       "      <td>2015</td>\n",
       "      <td>Sports</td>\n",
       "      <td>1.12</td>\n",
       "      <td>6.12</td>\n",
       "      <td>0.06</td>\n",
       "      <td>1.28</td>\n",
       "      <td>82.0</td>\n",
       "      <td>4.3</td>\n",
       "      <td>E</td>\n",
       "      <td>8.58</td>\n",
       "    </tr>\n",
       "    <tr>\n",
       "      <th>3</th>\n",
       "      <td>Star Wars Battlefront (2015)</td>\n",
       "      <td>PS4</td>\n",
       "      <td>2015</td>\n",
       "      <td>Shooter</td>\n",
       "      <td>2.99</td>\n",
       "      <td>3.49</td>\n",
       "      <td>0.22</td>\n",
       "      <td>1.28</td>\n",
       "      <td>NaN</td>\n",
       "      <td>NaN</td>\n",
       "      <td>unknown</td>\n",
       "      <td>7.98</td>\n",
       "    </tr>\n",
       "    <tr>\n",
       "      <th>4</th>\n",
       "      <td>Call of Duty: Advanced Warfare</td>\n",
       "      <td>PS4</td>\n",
       "      <td>2014</td>\n",
       "      <td>Shooter</td>\n",
       "      <td>2.81</td>\n",
       "      <td>3.48</td>\n",
       "      <td>0.14</td>\n",
       "      <td>1.23</td>\n",
       "      <td>83.0</td>\n",
       "      <td>5.7</td>\n",
       "      <td>M</td>\n",
       "      <td>7.66</td>\n",
       "    </tr>\n",
       "  </tbody>\n",
       "</table>\n",
       "</div>"
      ],
      "text/plain": [
       "                             name platform  year_of_release    genre  \\\n",
       "0       Call of Duty: Black Ops 3      PS4             2015  Shooter   \n",
       "1              Grand Theft Auto V      PS4             2014   Action   \n",
       "2                         FIFA 16      PS4             2015   Sports   \n",
       "3    Star Wars Battlefront (2015)      PS4             2015  Shooter   \n",
       "4  Call of Duty: Advanced Warfare      PS4             2014  Shooter   \n",
       "\n",
       "   na_sales  eu_sales  jp_sales  other_sales  critic_score  user_score  \\\n",
       "0      6.03      5.86      0.36         2.38           NaN         NaN   \n",
       "1      3.96      6.31      0.38         1.97          97.0         8.3   \n",
       "2      1.12      6.12      0.06         1.28          82.0         4.3   \n",
       "3      2.99      3.49      0.22         1.28           NaN         NaN   \n",
       "4      2.81      3.48      0.14         1.23          83.0         5.7   \n",
       "\n",
       "    rating  total_sum  \n",
       "0  unknown      14.63  \n",
       "1        M      12.62  \n",
       "2        E       8.58  \n",
       "3  unknown       7.98  \n",
       "4        M       7.66  "
      ]
     },
     "execution_count": 38,
     "metadata": {},
     "output_type": "execute_result"
    }
   ],
   "source": [
    "# выделяю срез со значениями по PS4\n",
    "PS4_data = actual_data[actual_data['platform'] == 'PS4'].reset_index(drop=True) \n",
    "PS4_data.head()"
   ]
  },
  {
   "cell_type": "code",
   "execution_count": 39,
   "id": "aa102438",
   "metadata": {},
   "outputs": [
    {
     "data": {
      "text/html": [
       "<div>\n",
       "<style scoped>\n",
       "    .dataframe tbody tr th:only-of-type {\n",
       "        vertical-align: middle;\n",
       "    }\n",
       "\n",
       "    .dataframe tbody tr th {\n",
       "        vertical-align: top;\n",
       "    }\n",
       "\n",
       "    .dataframe thead th {\n",
       "        text-align: right;\n",
       "    }\n",
       "</style>\n",
       "<table border=\"1\" class=\"dataframe\">\n",
       "  <thead>\n",
       "    <tr style=\"text-align: right;\">\n",
       "      <th></th>\n",
       "      <th>Количество проданных копий</th>\n",
       "      <th>Рейтинг критиков</th>\n",
       "      <th>Рейтинг игроков</th>\n",
       "    </tr>\n",
       "    <tr>\n",
       "      <th>name</th>\n",
       "      <th></th>\n",
       "      <th></th>\n",
       "      <th></th>\n",
       "    </tr>\n",
       "  </thead>\n",
       "  <tbody>\n",
       "    <tr>\n",
       "      <th>Grand Theft Auto V</th>\n",
       "      <td>97.0</td>\n",
       "      <td>12.62</td>\n",
       "      <td>8.3</td>\n",
       "    </tr>\n",
       "    <tr>\n",
       "      <th>Metal Gear Solid V: The Phantom Pain</th>\n",
       "      <td>93.0</td>\n",
       "      <td>3.42</td>\n",
       "      <td>8.2</td>\n",
       "    </tr>\n",
       "    <tr>\n",
       "      <th>Uncharted 4: A Thief's End</th>\n",
       "      <td>93.0</td>\n",
       "      <td>5.39</td>\n",
       "      <td>7.9</td>\n",
       "    </tr>\n",
       "    <tr>\n",
       "      <th>Bloodborne</th>\n",
       "      <td>92.0</td>\n",
       "      <td>2.48</td>\n",
       "      <td>8.6</td>\n",
       "    </tr>\n",
       "    <tr>\n",
       "      <th>The Witcher 3: Wild Hunt</th>\n",
       "      <td>92.0</td>\n",
       "      <td>3.97</td>\n",
       "      <td>9.2</td>\n",
       "    </tr>\n",
       "    <tr>\n",
       "      <th>...</th>\n",
       "      <td>...</td>\n",
       "      <td>...</td>\n",
       "      <td>...</td>\n",
       "    </tr>\n",
       "    <tr>\n",
       "      <th>Yakuza Kiwami</th>\n",
       "      <td>NaN</td>\n",
       "      <td>0.16</td>\n",
       "      <td>NaN</td>\n",
       "    </tr>\n",
       "    <tr>\n",
       "      <th>Yakuza Zero: The Place of Oath</th>\n",
       "      <td>NaN</td>\n",
       "      <td>0.17</td>\n",
       "      <td>NaN</td>\n",
       "    </tr>\n",
       "    <tr>\n",
       "      <th>Yakuza: Ishin</th>\n",
       "      <td>NaN</td>\n",
       "      <td>0.15</td>\n",
       "      <td>NaN</td>\n",
       "    </tr>\n",
       "    <tr>\n",
       "      <th>Yoru no Nai Kuni</th>\n",
       "      <td>NaN</td>\n",
       "      <td>0.08</td>\n",
       "      <td>NaN</td>\n",
       "    </tr>\n",
       "    <tr>\n",
       "      <th>ZombiU</th>\n",
       "      <td>NaN</td>\n",
       "      <td>0.06</td>\n",
       "      <td>NaN</td>\n",
       "    </tr>\n",
       "  </tbody>\n",
       "</table>\n",
       "<p>376 rows × 3 columns</p>\n",
       "</div>"
      ],
      "text/plain": [
       "                                      Количество проданных копий  \\\n",
       "name                                                               \n",
       "Grand Theft Auto V                                          97.0   \n",
       "Metal Gear Solid V: The Phantom Pain                        93.0   \n",
       "Uncharted 4: A Thief's End                                  93.0   \n",
       "Bloodborne                                                  92.0   \n",
       "The Witcher 3: Wild Hunt                                    92.0   \n",
       "...                                                          ...   \n",
       "Yakuza Kiwami                                                NaN   \n",
       "Yakuza Zero: The Place of Oath                               NaN   \n",
       "Yakuza: Ishin                                                NaN   \n",
       "Yoru no Nai Kuni                                             NaN   \n",
       "ZombiU                                                       NaN   \n",
       "\n",
       "                                      Рейтинг критиков  Рейтинг игроков  \n",
       "name                                                                     \n",
       "Grand Theft Auto V                               12.62              8.3  \n",
       "Metal Gear Solid V: The Phantom Pain              3.42              8.2  \n",
       "Uncharted 4: A Thief's End                        5.39              7.9  \n",
       "Bloodborne                                        2.48              8.6  \n",
       "The Witcher 3: Wild Hunt                          3.97              9.2  \n",
       "...                                                ...              ...  \n",
       "Yakuza Kiwami                                     0.16              NaN  \n",
       "Yakuza Zero: The Place of Oath                    0.17              NaN  \n",
       "Yakuza: Ishin                                     0.15              NaN  \n",
       "Yoru no Nai Kuni                                  0.08              NaN  \n",
       "ZombiU                                            0.06              NaN  \n",
       "\n",
       "[376 rows x 3 columns]"
      ]
     },
     "execution_count": 39,
     "metadata": {},
     "output_type": "execute_result"
    }
   ],
   "source": [
    "# строю таблицу с рейтингом критиков и пользователей, а также количеством проданных копий по одной игре\n",
    "games_review = PS4_data.pivot_table(index='name', values=['total_sum', 'critic_score', 'user_score'])\n",
    "games_review.columns = ['Количество проданных копий', 'Рейтинг критиков', 'Рейтинг игроков']\n",
    "games_review = games_review.sort_values(by='Количество проданных копий', ascending=False)\n",
    "games_review"
   ]
  },
  {
   "cell_type": "code",
   "execution_count": 40,
   "id": "8e9fab16",
   "metadata": {},
   "outputs": [
    {
     "data": {
      "image/png": "[encoded data removed]",
      "text/plain": [
       "<Figure size 800x600 with 1 Axes>"
      ]
     },
     "metadata": {},
     "output_type": "display_data"
    }
   ],
   "source": [
    "# строю график корреляции между количеством проданных копий игры и рейтингом критиков\n",
    "games_review.plot(x='Количество проданных копий', y='Рейтинг критиков', kind='scatter', figsize=(8, 6), sharex=False, grid=True)\n",
    "plt.show()\n"
   ]
  },
  {
   "cell_type": "code",
   "execution_count": 41,
   "id": "4f242d31",
   "metadata": {},
   "outputs": [
    {
     "data": {
      "text/plain": [
       "0.4026614106810408"
      ]
     },
     "execution_count": 41,
     "metadata": {},
     "output_type": "execute_result"
    }
   ],
   "source": [
    "# посмотрим ещё на коэффициент корреляции Пирсона\n",
    "games_review['Количество проданных копий'].corr(games_review['Рейтинг критиков'])"
   ]
  },
  {
   "cell_type": "markdown",
   "id": "6afa416e",
   "metadata": {},
   "source": [
    "Есть достаточно сильная положительная зависимость между рейтингом от критиков и количеством продаж. В районе 0 много значений, возможно, потому, что в исходных данных много пропусков."
   ]
  },
  {
   "cell_type": "code",
   "execution_count": 42,
   "id": "65853e6e",
   "metadata": {},
   "outputs": [
    {
     "data": {
      "image/png": "[encoded data removed]",
      "text/plain": [
       "<Figure size 800x600 with 1 Axes>"
      ]
     },
     "metadata": {},
     "output_type": "display_data"
    }
   ],
   "source": [
    "# строю график корреляции между количеством проданных копий игры и рейтингом игроков\n",
    "games_review.plot(x='Количество проданных копий', y='Рейтинг игроков', kind='scatter', figsize=(8, 6), sharex=False, grid=True)\n",
    "plt.show()"
   ]
  },
  {
   "cell_type": "code",
   "execution_count": 43,
   "id": "53322afa",
   "metadata": {},
   "outputs": [
    {
     "data": {
      "text/plain": [
       "0.5464342451190309"
      ]
     },
     "execution_count": 43,
     "metadata": {},
     "output_type": "execute_result"
    }
   ],
   "source": [
    "# посмотрим ещё на коэффициент корреляции Пирсона\n",
    "games_review['Количество проданных копий'].corr(games_review['Рейтинг игроков'])"
   ]
  },
  {
   "cell_type": "markdown",
   "id": "70a64539",
   "metadata": {},
   "source": [
    "Продажи больше зависят от рейтинга игроков, чем от рейтинга критиков. Соотнесём выводы с продажами игр на других платформах."
   ]
  },
  {
   "cell_type": "markdown",
   "id": "220d29dd",
   "metadata": {},
   "source": [
    "### Продажи vs отзывы критиков и пользователей на XOne"
   ]
  },
  {
   "cell_type": "code",
   "execution_count": 44,
   "id": "df94068e",
   "metadata": {},
   "outputs": [
    {
     "data": {
      "text/html": [
       "<div>\n",
       "<style scoped>\n",
       "    .dataframe tbody tr th:only-of-type {\n",
       "        vertical-align: middle;\n",
       "    }\n",
       "\n",
       "    .dataframe tbody tr th {\n",
       "        vertical-align: top;\n",
       "    }\n",
       "\n",
       "    .dataframe thead th {\n",
       "        text-align: right;\n",
       "    }\n",
       "</style>\n",
       "<table border=\"1\" class=\"dataframe\">\n",
       "  <thead>\n",
       "    <tr style=\"text-align: right;\">\n",
       "      <th></th>\n",
       "      <th>name</th>\n",
       "      <th>platform</th>\n",
       "      <th>year_of_release</th>\n",
       "      <th>genre</th>\n",
       "      <th>na_sales</th>\n",
       "      <th>eu_sales</th>\n",
       "      <th>jp_sales</th>\n",
       "      <th>other_sales</th>\n",
       "      <th>critic_score</th>\n",
       "      <th>user_score</th>\n",
       "      <th>rating</th>\n",
       "      <th>total_sum</th>\n",
       "    </tr>\n",
       "  </thead>\n",
       "  <tbody>\n",
       "    <tr>\n",
       "      <th>0</th>\n",
       "      <td>Call of Duty: Black Ops 3</td>\n",
       "      <td>XOne</td>\n",
       "      <td>2015</td>\n",
       "      <td>Shooter</td>\n",
       "      <td>4.59</td>\n",
       "      <td>2.11</td>\n",
       "      <td>0.01</td>\n",
       "      <td>0.68</td>\n",
       "      <td>NaN</td>\n",
       "      <td>NaN</td>\n",
       "      <td>unknown</td>\n",
       "      <td>7.39</td>\n",
       "    </tr>\n",
       "    <tr>\n",
       "      <th>1</th>\n",
       "      <td>Grand Theft Auto V</td>\n",
       "      <td>XOne</td>\n",
       "      <td>2014</td>\n",
       "      <td>Action</td>\n",
       "      <td>2.81</td>\n",
       "      <td>2.19</td>\n",
       "      <td>0.00</td>\n",
       "      <td>0.47</td>\n",
       "      <td>97.0</td>\n",
       "      <td>7.9</td>\n",
       "      <td>M</td>\n",
       "      <td>5.47</td>\n",
       "    </tr>\n",
       "    <tr>\n",
       "      <th>2</th>\n",
       "      <td>Call of Duty: Advanced Warfare</td>\n",
       "      <td>XOne</td>\n",
       "      <td>2014</td>\n",
       "      <td>Shooter</td>\n",
       "      <td>3.22</td>\n",
       "      <td>1.55</td>\n",
       "      <td>0.01</td>\n",
       "      <td>0.48</td>\n",
       "      <td>81.0</td>\n",
       "      <td>5.4</td>\n",
       "      <td>M</td>\n",
       "      <td>5.26</td>\n",
       "    </tr>\n",
       "    <tr>\n",
       "      <th>3</th>\n",
       "      <td>Halo 5: Guardians</td>\n",
       "      <td>XOne</td>\n",
       "      <td>2015</td>\n",
       "      <td>Shooter</td>\n",
       "      <td>2.78</td>\n",
       "      <td>1.27</td>\n",
       "      <td>0.03</td>\n",
       "      <td>0.41</td>\n",
       "      <td>84.0</td>\n",
       "      <td>6.4</td>\n",
       "      <td>T</td>\n",
       "      <td>4.49</td>\n",
       "    </tr>\n",
       "    <tr>\n",
       "      <th>4</th>\n",
       "      <td>Fallout 4</td>\n",
       "      <td>XOne</td>\n",
       "      <td>2015</td>\n",
       "      <td>Role-Playing</td>\n",
       "      <td>2.51</td>\n",
       "      <td>1.32</td>\n",
       "      <td>0.01</td>\n",
       "      <td>0.38</td>\n",
       "      <td>88.0</td>\n",
       "      <td>6.2</td>\n",
       "      <td>M</td>\n",
       "      <td>4.22</td>\n",
       "    </tr>\n",
       "  </tbody>\n",
       "</table>\n",
       "</div>"
      ],
      "text/plain": [
       "                             name platform  year_of_release         genre  \\\n",
       "0       Call of Duty: Black Ops 3     XOne             2015       Shooter   \n",
       "1              Grand Theft Auto V     XOne             2014        Action   \n",
       "2  Call of Duty: Advanced Warfare     XOne             2014       Shooter   \n",
       "3               Halo 5: Guardians     XOne             2015       Shooter   \n",
       "4                       Fallout 4     XOne             2015  Role-Playing   \n",
       "\n",
       "   na_sales  eu_sales  jp_sales  other_sales  critic_score  user_score  \\\n",
       "0      4.59      2.11      0.01         0.68           NaN         NaN   \n",
       "1      2.81      2.19      0.00         0.47          97.0         7.9   \n",
       "2      3.22      1.55      0.01         0.48          81.0         5.4   \n",
       "3      2.78      1.27      0.03         0.41          84.0         6.4   \n",
       "4      2.51      1.32      0.01         0.38          88.0         6.2   \n",
       "\n",
       "    rating  total_sum  \n",
       "0  unknown       7.39  \n",
       "1        M       5.47  \n",
       "2        M       5.26  \n",
       "3        T       4.49  \n",
       "4        M       4.22  "
      ]
     },
     "execution_count": 44,
     "metadata": {},
     "output_type": "execute_result"
    }
   ],
   "source": [
    "XOne_data = actual_data[actual_data['platform'] == 'XOne'].reset_index(drop=True) \n",
    "XOne_data.head()"
   ]
  },
  {
   "cell_type": "code",
   "execution_count": 45,
   "id": "b23ec53e",
   "metadata": {},
   "outputs": [
    {
     "data": {
      "text/html": [
       "<div>\n",
       "<style scoped>\n",
       "    .dataframe tbody tr th:only-of-type {\n",
       "        vertical-align: middle;\n",
       "    }\n",
       "\n",
       "    .dataframe tbody tr th {\n",
       "        vertical-align: top;\n",
       "    }\n",
       "\n",
       "    .dataframe thead th {\n",
       "        text-align: right;\n",
       "    }\n",
       "</style>\n",
       "<table border=\"1\" class=\"dataframe\">\n",
       "  <thead>\n",
       "    <tr style=\"text-align: right;\">\n",
       "      <th></th>\n",
       "      <th>Количество проданных копий</th>\n",
       "      <th>Рейтинг критиков</th>\n",
       "      <th>Рейтинг игроков</th>\n",
       "    </tr>\n",
       "    <tr>\n",
       "      <th>name</th>\n",
       "      <th></th>\n",
       "      <th></th>\n",
       "      <th></th>\n",
       "    </tr>\n",
       "  </thead>\n",
       "  <tbody>\n",
       "    <tr>\n",
       "      <th>Grand Theft Auto V</th>\n",
       "      <td>97.0</td>\n",
       "      <td>5.47</td>\n",
       "      <td>7.9</td>\n",
       "    </tr>\n",
       "    <tr>\n",
       "      <th>Metal Gear Solid V: The Phantom Pain</th>\n",
       "      <td>95.0</td>\n",
       "      <td>0.75</td>\n",
       "      <td>7.3</td>\n",
       "    </tr>\n",
       "    <tr>\n",
       "      <th>Overwatch</th>\n",
       "      <td>91.0</td>\n",
       "      <td>1.06</td>\n",
       "      <td>5.6</td>\n",
       "    </tr>\n",
       "    <tr>\n",
       "      <th>The Witcher 3: Wild Hunt</th>\n",
       "      <td>91.0</td>\n",
       "      <td>1.30</td>\n",
       "      <td>9.2</td>\n",
       "    </tr>\n",
       "    <tr>\n",
       "      <th>Forza Horizon 3</th>\n",
       "      <td>91.0</td>\n",
       "      <td>1.08</td>\n",
       "      <td>7.4</td>\n",
       "    </tr>\n",
       "    <tr>\n",
       "      <th>...</th>\n",
       "      <td>...</td>\n",
       "      <td>...</td>\n",
       "      <td>...</td>\n",
       "    </tr>\n",
       "    <tr>\n",
       "      <th>Tomb Raider (2013)</th>\n",
       "      <td>NaN</td>\n",
       "      <td>0.61</td>\n",
       "      <td>NaN</td>\n",
       "    </tr>\n",
       "    <tr>\n",
       "      <th>Transformer: Rise of the Dark Spark</th>\n",
       "      <td>NaN</td>\n",
       "      <td>0.11</td>\n",
       "      <td>NaN</td>\n",
       "    </tr>\n",
       "    <tr>\n",
       "      <th>WRC 5: FIA World Rally Championship</th>\n",
       "      <td>NaN</td>\n",
       "      <td>0.01</td>\n",
       "      <td>NaN</td>\n",
       "    </tr>\n",
       "    <tr>\n",
       "      <th>Warriors Orochi 3</th>\n",
       "      <td>NaN</td>\n",
       "      <td>0.04</td>\n",
       "      <td>NaN</td>\n",
       "    </tr>\n",
       "    <tr>\n",
       "      <th>ZombiU</th>\n",
       "      <td>NaN</td>\n",
       "      <td>0.01</td>\n",
       "      <td>NaN</td>\n",
       "    </tr>\n",
       "  </tbody>\n",
       "</table>\n",
       "<p>228 rows × 3 columns</p>\n",
       "</div>"
      ],
      "text/plain": [
       "                                      Количество проданных копий  \\\n",
       "name                                                               \n",
       "Grand Theft Auto V                                          97.0   \n",
       "Metal Gear Solid V: The Phantom Pain                        95.0   \n",
       "Overwatch                                                   91.0   \n",
       "The Witcher 3: Wild Hunt                                    91.0   \n",
       "Forza Horizon 3                                             91.0   \n",
       "...                                                          ...   \n",
       "Tomb Raider (2013)                                           NaN   \n",
       "Transformer: Rise of the Dark Spark                          NaN   \n",
       "WRC 5: FIA World Rally Championship                          NaN   \n",
       "Warriors Orochi 3                                            NaN   \n",
       "ZombiU                                                       NaN   \n",
       "\n",
       "                                      Рейтинг критиков  Рейтинг игроков  \n",
       "name                                                                     \n",
       "Grand Theft Auto V                                5.47              7.9  \n",
       "Metal Gear Solid V: The Phantom Pain              0.75              7.3  \n",
       "Overwatch                                         1.06              5.6  \n",
       "The Witcher 3: Wild Hunt                          1.30              9.2  \n",
       "Forza Horizon 3                                   1.08              7.4  \n",
       "...                                                ...              ...  \n",
       "Tomb Raider (2013)                                0.61              NaN  \n",
       "Transformer: Rise of the Dark Spark               0.11              NaN  \n",
       "WRC 5: FIA World Rally Championship               0.01              NaN  \n",
       "Warriors Orochi 3                                 0.04              NaN  \n",
       "ZombiU                                            0.01              NaN  \n",
       "\n",
       "[228 rows x 3 columns]"
      ]
     },
     "execution_count": 45,
     "metadata": {},
     "output_type": "execute_result"
    }
   ],
   "source": [
    "XOne_review = XOne_data.pivot_table(index='name', values=['total_sum', 'critic_score', 'user_score'])\n",
    "XOne_review.columns = ['Количество проданных копий', 'Рейтинг критиков', 'Рейтинг игроков']\n",
    "XOne_review = XOne_review.sort_values(by='Количество проданных копий', ascending=False)\n",
    "XOne_review"
   ]
  },
  {
   "cell_type": "code",
   "execution_count": 46,
   "id": "c4ae946d",
   "metadata": {},
   "outputs": [
    {
     "data": {
      "image/png": "[encoded data removed]",
      "text/plain": [
       "<Figure size 800x600 with 1 Axes>"
      ]
     },
     "metadata": {},
     "output_type": "display_data"
    }
   ],
   "source": [
    "XOne_review.plot(x='Количество проданных копий', y='Рейтинг критиков', kind='scatter', figsize=(8, 6), sharex=False, grid=True)\n",
    "plt.show()"
   ]
  },
  {
   "cell_type": "code",
   "execution_count": 47,
   "id": "fb5fb641",
   "metadata": {},
   "outputs": [
    {
     "data": {
      "text/plain": [
       "0.42867694370333187"
      ]
     },
     "execution_count": 47,
     "metadata": {},
     "output_type": "execute_result"
    }
   ],
   "source": [
    "# посмотрим ещё на коэффициент корреляции Пирсона\n",
    "XOne_review['Количество проданных копий'].corr(XOne_review['Рейтинг критиков'])"
   ]
  },
  {
   "cell_type": "code",
   "execution_count": 48,
   "id": "c0a7054d",
   "metadata": {},
   "outputs": [
    {
     "data": {
      "image/png": "[encoded data removed]",
      "text/plain": [
       "<Figure size 800x600 with 1 Axes>"
      ]
     },
     "metadata": {},
     "output_type": "display_data"
    }
   ],
   "source": [
    "XOne_review.plot(x='Количество проданных копий', y='Рейтинг игроков', kind='scatter', figsize=(8, 6), sharex=False, grid=True)\n",
    "plt.show()"
   ]
  },
  {
   "cell_type": "code",
   "execution_count": 49,
   "id": "f225ec7e",
   "metadata": {},
   "outputs": [
    {
     "data": {
      "text/plain": [
       "0.4409773483764411"
      ]
     },
     "execution_count": 49,
     "metadata": {},
     "output_type": "execute_result"
    }
   ],
   "source": [
    "# посмотрим ещё на коэффициент корреляции Пирсона\n",
    "XOne_review['Количество проданных копий'].corr(XOne_review['Рейтинг игроков'])"
   ]
  },
  {
   "cell_type": "markdown",
   "id": "6d806086",
   "metadata": {},
   "source": [
    "### Продажи vs отзывы критиков и пользователей на 3DS"
   ]
  },
  {
   "cell_type": "code",
   "execution_count": 50,
   "id": "e8f210f0",
   "metadata": {},
   "outputs": [
    {
     "data": {
      "text/html": [
       "<div>\n",
       "<style scoped>\n",
       "    .dataframe tbody tr th:only-of-type {\n",
       "        vertical-align: middle;\n",
       "    }\n",
       "\n",
       "    .dataframe tbody tr th {\n",
       "        vertical-align: top;\n",
       "    }\n",
       "\n",
       "    .dataframe thead th {\n",
       "        text-align: right;\n",
       "    }\n",
       "</style>\n",
       "<table border=\"1\" class=\"dataframe\">\n",
       "  <thead>\n",
       "    <tr style=\"text-align: right;\">\n",
       "      <th></th>\n",
       "      <th>name</th>\n",
       "      <th>platform</th>\n",
       "      <th>year_of_release</th>\n",
       "      <th>genre</th>\n",
       "      <th>na_sales</th>\n",
       "      <th>eu_sales</th>\n",
       "      <th>jp_sales</th>\n",
       "      <th>other_sales</th>\n",
       "      <th>critic_score</th>\n",
       "      <th>user_score</th>\n",
       "      <th>rating</th>\n",
       "      <th>total_sum</th>\n",
       "    </tr>\n",
       "  </thead>\n",
       "  <tbody>\n",
       "    <tr>\n",
       "      <th>0</th>\n",
       "      <td>Pokemon Omega Ruby/Pokemon Alpha Sapphire</td>\n",
       "      <td>3DS</td>\n",
       "      <td>2014</td>\n",
       "      <td>Role-Playing</td>\n",
       "      <td>4.35</td>\n",
       "      <td>3.49</td>\n",
       "      <td>3.10</td>\n",
       "      <td>0.74</td>\n",
       "      <td>NaN</td>\n",
       "      <td>NaN</td>\n",
       "      <td>unknown</td>\n",
       "      <td>11.68</td>\n",
       "    </tr>\n",
       "    <tr>\n",
       "      <th>1</th>\n",
       "      <td>Super Smash Bros. for Wii U and 3DS</td>\n",
       "      <td>3DS</td>\n",
       "      <td>2014</td>\n",
       "      <td>Fighting</td>\n",
       "      <td>3.27</td>\n",
       "      <td>1.37</td>\n",
       "      <td>2.43</td>\n",
       "      <td>0.48</td>\n",
       "      <td>NaN</td>\n",
       "      <td>NaN</td>\n",
       "      <td>unknown</td>\n",
       "      <td>7.55</td>\n",
       "    </tr>\n",
       "    <tr>\n",
       "      <th>2</th>\n",
       "      <td>Pokemon Sun/Moon</td>\n",
       "      <td>3DS</td>\n",
       "      <td>2016</td>\n",
       "      <td>Role-Playing</td>\n",
       "      <td>2.98</td>\n",
       "      <td>1.45</td>\n",
       "      <td>2.26</td>\n",
       "      <td>0.45</td>\n",
       "      <td>NaN</td>\n",
       "      <td>NaN</td>\n",
       "      <td>unknown</td>\n",
       "      <td>7.14</td>\n",
       "    </tr>\n",
       "    <tr>\n",
       "      <th>3</th>\n",
       "      <td>Monster Hunter 4 Ultimate</td>\n",
       "      <td>3DS</td>\n",
       "      <td>2014</td>\n",
       "      <td>Role-Playing</td>\n",
       "      <td>0.68</td>\n",
       "      <td>0.48</td>\n",
       "      <td>2.62</td>\n",
       "      <td>0.11</td>\n",
       "      <td>86.0</td>\n",
       "      <td>8.7</td>\n",
       "      <td>T</td>\n",
       "      <td>3.89</td>\n",
       "    </tr>\n",
       "    <tr>\n",
       "      <th>4</th>\n",
       "      <td>Monster Hunter X</td>\n",
       "      <td>3DS</td>\n",
       "      <td>2015</td>\n",
       "      <td>Action</td>\n",
       "      <td>0.27</td>\n",
       "      <td>0.21</td>\n",
       "      <td>2.79</td>\n",
       "      <td>0.05</td>\n",
       "      <td>NaN</td>\n",
       "      <td>NaN</td>\n",
       "      <td>unknown</td>\n",
       "      <td>3.32</td>\n",
       "    </tr>\n",
       "  </tbody>\n",
       "</table>\n",
       "</div>"
      ],
      "text/plain": [
       "                                        name platform  year_of_release  \\\n",
       "0  Pokemon Omega Ruby/Pokemon Alpha Sapphire      3DS             2014   \n",
       "1        Super Smash Bros. for Wii U and 3DS      3DS             2014   \n",
       "2                           Pokemon Sun/Moon      3DS             2016   \n",
       "3                  Monster Hunter 4 Ultimate      3DS             2014   \n",
       "4                           Monster Hunter X      3DS             2015   \n",
       "\n",
       "          genre  na_sales  eu_sales  jp_sales  other_sales  critic_score  \\\n",
       "0  Role-Playing      4.35      3.49      3.10         0.74           NaN   \n",
       "1      Fighting      3.27      1.37      2.43         0.48           NaN   \n",
       "2  Role-Playing      2.98      1.45      2.26         0.45           NaN   \n",
       "3  Role-Playing      0.68      0.48      2.62         0.11          86.0   \n",
       "4        Action      0.27      0.21      2.79         0.05           NaN   \n",
       "\n",
       "   user_score   rating  total_sum  \n",
       "0         NaN  unknown      11.68  \n",
       "1         NaN  unknown       7.55  \n",
       "2         NaN  unknown       7.14  \n",
       "3         8.7        T       3.89  \n",
       "4         NaN  unknown       3.32  "
      ]
     },
     "execution_count": 50,
     "metadata": {},
     "output_type": "execute_result"
    }
   ],
   "source": [
    "data_3DS = actual_data[actual_data['platform'] == '3DS'].reset_index(drop=True) \n",
    "data_3DS.head()"
   ]
  },
  {
   "cell_type": "code",
   "execution_count": 51,
   "id": "ed14d7dc",
   "metadata": {},
   "outputs": [
    {
     "data": {
      "text/html": [
       "<div>\n",
       "<style scoped>\n",
       "    .dataframe tbody tr th:only-of-type {\n",
       "        vertical-align: middle;\n",
       "    }\n",
       "\n",
       "    .dataframe tbody tr th {\n",
       "        vertical-align: top;\n",
       "    }\n",
       "\n",
       "    .dataframe thead th {\n",
       "        text-align: right;\n",
       "    }\n",
       "</style>\n",
       "<table border=\"1\" class=\"dataframe\">\n",
       "  <thead>\n",
       "    <tr style=\"text-align: right;\">\n",
       "      <th></th>\n",
       "      <th>Количество проданных копий</th>\n",
       "      <th>Рейтинг критиков</th>\n",
       "      <th>Рейтинг игроков</th>\n",
       "    </tr>\n",
       "    <tr>\n",
       "      <th>name</th>\n",
       "      <th></th>\n",
       "      <th></th>\n",
       "      <th></th>\n",
       "    </tr>\n",
       "  </thead>\n",
       "  <tbody>\n",
       "    <tr>\n",
       "      <th>Shovel Knight</th>\n",
       "      <td>90.0</td>\n",
       "      <td>0.15</td>\n",
       "      <td>8.2</td>\n",
       "    </tr>\n",
       "    <tr>\n",
       "      <th>The Legend of Zelda: Majora's Mask 3D</th>\n",
       "      <td>89.0</td>\n",
       "      <td>2.34</td>\n",
       "      <td>9.0</td>\n",
       "    </tr>\n",
       "    <tr>\n",
       "      <th>Monster Hunter 4 Ultimate</th>\n",
       "      <td>86.0</td>\n",
       "      <td>3.89</td>\n",
       "      <td>8.7</td>\n",
       "    </tr>\n",
       "    <tr>\n",
       "      <th>Theatrhythm Final Fantasy: Curtain Call</th>\n",
       "      <td>83.0</td>\n",
       "      <td>0.38</td>\n",
       "      <td>8.2</td>\n",
       "    </tr>\n",
       "    <tr>\n",
       "      <th>Persona Q: Shadow of the Labyrinth</th>\n",
       "      <td>83.0</td>\n",
       "      <td>0.72</td>\n",
       "      <td>8.1</td>\n",
       "    </tr>\n",
       "    <tr>\n",
       "      <th>...</th>\n",
       "      <td>...</td>\n",
       "      <td>...</td>\n",
       "      <td>...</td>\n",
       "    </tr>\n",
       "    <tr>\n",
       "      <th>Yokai Watch 2 Ganso/Honke</th>\n",
       "      <td>NaN</td>\n",
       "      <td>3.28</td>\n",
       "      <td>NaN</td>\n",
       "    </tr>\n",
       "    <tr>\n",
       "      <th>Yokai Watch 2 Shinuchi</th>\n",
       "      <td>NaN</td>\n",
       "      <td>2.68</td>\n",
       "      <td>NaN</td>\n",
       "    </tr>\n",
       "    <tr>\n",
       "      <th>Yokai Watch 3</th>\n",
       "      <td>NaN</td>\n",
       "      <td>1.33</td>\n",
       "      <td>NaN</td>\n",
       "    </tr>\n",
       "    <tr>\n",
       "      <th>Yokai Watch Busters</th>\n",
       "      <td>NaN</td>\n",
       "      <td>2.29</td>\n",
       "      <td>NaN</td>\n",
       "    </tr>\n",
       "    <tr>\n",
       "      <th>Yowamushi Pedal</th>\n",
       "      <td>NaN</td>\n",
       "      <td>0.04</td>\n",
       "      <td>NaN</td>\n",
       "    </tr>\n",
       "  </tbody>\n",
       "</table>\n",
       "<p>212 rows × 3 columns</p>\n",
       "</div>"
      ],
      "text/plain": [
       "                                         Количество проданных копий  \\\n",
       "name                                                                  \n",
       "Shovel Knight                                                  90.0   \n",
       "The Legend of Zelda: Majora's Mask 3D                          89.0   \n",
       "Monster Hunter 4 Ultimate                                      86.0   \n",
       "Theatrhythm Final Fantasy: Curtain Call                        83.0   \n",
       "Persona Q: Shadow of the Labyrinth                             83.0   \n",
       "...                                                             ...   \n",
       "Yokai Watch 2 Ganso/Honke                                       NaN   \n",
       "Yokai Watch 2 Shinuchi                                          NaN   \n",
       "Yokai Watch 3                                                   NaN   \n",
       "Yokai Watch Busters                                             NaN   \n",
       "Yowamushi Pedal                                                 NaN   \n",
       "\n",
       "                                         Рейтинг критиков  Рейтинг игроков  \n",
       "name                                                                        \n",
       "Shovel Knight                                        0.15              8.2  \n",
       "The Legend of Zelda: Majora's Mask 3D                2.34              9.0  \n",
       "Monster Hunter 4 Ultimate                            3.89              8.7  \n",
       "Theatrhythm Final Fantasy: Curtain Call              0.38              8.2  \n",
       "Persona Q: Shadow of the Labyrinth                   0.72              8.1  \n",
       "...                                                   ...              ...  \n",
       "Yokai Watch 2 Ganso/Honke                            3.28              NaN  \n",
       "Yokai Watch 2 Shinuchi                               2.68              NaN  \n",
       "Yokai Watch 3                                        1.33              NaN  \n",
       "Yokai Watch Busters                                  2.29              NaN  \n",
       "Yowamushi Pedal                                      0.04              NaN  \n",
       "\n",
       "[212 rows x 3 columns]"
      ]
     },
     "execution_count": 51,
     "metadata": {},
     "output_type": "execute_result"
    }
   ],
   "source": [
    "review_3DS = data_3DS.pivot_table(index='name', values=['total_sum', 'critic_score', 'user_score'])\n",
    "review_3DS.columns = ['Количество проданных копий', 'Рейтинг критиков', 'Рейтинг игроков']\n",
    "review_3DS = review_3DS.sort_values(by='Количество проданных копий', ascending=False)\n",
    "review_3DS"
   ]
  },
  {
   "cell_type": "code",
   "execution_count": 52,
   "id": "a863bddb",
   "metadata": {},
   "outputs": [
    {
     "data": {
      "image/png": "[encoded data removed]",
      "text/plain": [
       "<Figure size 800x600 with 1 Axes>"
      ]
     },
     "metadata": {},
     "output_type": "display_data"
    }
   ],
   "source": [
    "review_3DS.plot(x='Количество проданных копий', y='Рейтинг критиков', kind='scatter', figsize=(8, 6), sharex=False, grid=True)\n",
    "plt.show()"
   ]
  },
  {
   "cell_type": "code",
   "execution_count": 53,
   "id": "d6432499",
   "metadata": {},
   "outputs": [
    {
     "data": {
      "text/plain": [
       "0.314117492869051"
      ]
     },
     "execution_count": 53,
     "metadata": {},
     "output_type": "execute_result"
    }
   ],
   "source": [
    "# посмотрим ещё на коэффициент корреляции Пирсона\n",
    "review_3DS['Количество проданных копий'].corr(review_3DS['Рейтинг критиков'])"
   ]
  },
  {
   "cell_type": "code",
   "execution_count": 54,
   "id": "26fc3567",
   "metadata": {},
   "outputs": [
    {
     "data": {
      "image/png": "[encoded data removed]",
      "text/plain": [
       "<Figure size 800x600 with 1 Axes>"
      ]
     },
     "metadata": {},
     "output_type": "display_data"
    }
   ],
   "source": [
    "review_3DS.plot(x='Количество проданных копий', y='Рейтинг игроков', kind='scatter', figsize=(8, 6), sharex=False, grid=True)\n",
    "plt.show()"
   ]
  },
  {
   "cell_type": "code",
   "execution_count": 55,
   "id": "86cfafc3",
   "metadata": {},
   "outputs": [
    {
     "data": {
      "text/plain": [
       "0.862484552934546"
      ]
     },
     "execution_count": 55,
     "metadata": {},
     "output_type": "execute_result"
    }
   ],
   "source": [
    "# посмотрим ещё на коэффициент корреляции Пирсона\n",
    "review_3DS['Количество проданных копий'].corr(review_3DS['Рейтинг игроков'])"
   ]
  },
  {
   "cell_type": "markdown",
   "id": "1acb5514",
   "metadata": {},
   "source": [
    "Данные по другим играм показывают такие же зависимости продаж от рейтингов, как и продажи по самой популярной платформе."
   ]
  },
  {
   "cell_type": "markdown",
   "id": "c9af5856",
   "metadata": {},
   "source": [
    "### Распределение игр по жанрам"
   ]
  },
  {
   "cell_type": "code",
   "execution_count": 56,
   "id": "859e2186",
   "metadata": {},
   "outputs": [
    {
     "data": {
      "text/html": [
       "<div>\n",
       "<style scoped>\n",
       "    .dataframe tbody tr th:only-of-type {\n",
       "        vertical-align: middle;\n",
       "    }\n",
       "\n",
       "    .dataframe tbody tr th {\n",
       "        vertical-align: top;\n",
       "    }\n",
       "\n",
       "    .dataframe thead th {\n",
       "        text-align: right;\n",
       "    }\n",
       "</style>\n",
       "<table border=\"1\" class=\"dataframe\">\n",
       "  <thead>\n",
       "    <tr style=\"text-align: right;\">\n",
       "      <th></th>\n",
       "      <th>name</th>\n",
       "      <th>platform</th>\n",
       "      <th>year_of_release</th>\n",
       "      <th>genre</th>\n",
       "      <th>na_sales</th>\n",
       "      <th>eu_sales</th>\n",
       "      <th>jp_sales</th>\n",
       "      <th>other_sales</th>\n",
       "      <th>critic_score</th>\n",
       "      <th>user_score</th>\n",
       "      <th>rating</th>\n",
       "      <th>total_sum</th>\n",
       "    </tr>\n",
       "  </thead>\n",
       "  <tbody>\n",
       "    <tr>\n",
       "      <th>0</th>\n",
       "      <td>Call of Duty: Black Ops 3</td>\n",
       "      <td>PS4</td>\n",
       "      <td>2015</td>\n",
       "      <td>Shooter</td>\n",
       "      <td>6.03</td>\n",
       "      <td>5.86</td>\n",
       "      <td>0.36</td>\n",
       "      <td>2.38</td>\n",
       "      <td>NaN</td>\n",
       "      <td>NaN</td>\n",
       "      <td>unknown</td>\n",
       "      <td>14.63</td>\n",
       "    </tr>\n",
       "    <tr>\n",
       "      <th>1</th>\n",
       "      <td>Grand Theft Auto V</td>\n",
       "      <td>PS4</td>\n",
       "      <td>2014</td>\n",
       "      <td>Action</td>\n",
       "      <td>3.96</td>\n",
       "      <td>6.31</td>\n",
       "      <td>0.38</td>\n",
       "      <td>1.97</td>\n",
       "      <td>97.0</td>\n",
       "      <td>8.3</td>\n",
       "      <td>M</td>\n",
       "      <td>12.62</td>\n",
       "    </tr>\n",
       "    <tr>\n",
       "      <th>2</th>\n",
       "      <td>Pokemon Omega Ruby/Pokemon Alpha Sapphire</td>\n",
       "      <td>3DS</td>\n",
       "      <td>2014</td>\n",
       "      <td>Role-Playing</td>\n",
       "      <td>4.35</td>\n",
       "      <td>3.49</td>\n",
       "      <td>3.10</td>\n",
       "      <td>0.74</td>\n",
       "      <td>NaN</td>\n",
       "      <td>NaN</td>\n",
       "      <td>unknown</td>\n",
       "      <td>11.68</td>\n",
       "    </tr>\n",
       "    <tr>\n",
       "      <th>3</th>\n",
       "      <td>FIFA 16</td>\n",
       "      <td>PS4</td>\n",
       "      <td>2015</td>\n",
       "      <td>Sports</td>\n",
       "      <td>1.12</td>\n",
       "      <td>6.12</td>\n",
       "      <td>0.06</td>\n",
       "      <td>1.28</td>\n",
       "      <td>82.0</td>\n",
       "      <td>4.3</td>\n",
       "      <td>E</td>\n",
       "      <td>8.58</td>\n",
       "    </tr>\n",
       "    <tr>\n",
       "      <th>4</th>\n",
       "      <td>Star Wars Battlefront (2015)</td>\n",
       "      <td>PS4</td>\n",
       "      <td>2015</td>\n",
       "      <td>Shooter</td>\n",
       "      <td>2.99</td>\n",
       "      <td>3.49</td>\n",
       "      <td>0.22</td>\n",
       "      <td>1.28</td>\n",
       "      <td>NaN</td>\n",
       "      <td>NaN</td>\n",
       "      <td>unknown</td>\n",
       "      <td>7.98</td>\n",
       "    </tr>\n",
       "  </tbody>\n",
       "</table>\n",
       "</div>"
      ],
      "text/plain": [
       "                                        name platform  year_of_release  \\\n",
       "0                  Call of Duty: Black Ops 3      PS4             2015   \n",
       "1                         Grand Theft Auto V      PS4             2014   \n",
       "2  Pokemon Omega Ruby/Pokemon Alpha Sapphire      3DS             2014   \n",
       "3                                    FIFA 16      PS4             2015   \n",
       "4               Star Wars Battlefront (2015)      PS4             2015   \n",
       "\n",
       "          genre  na_sales  eu_sales  jp_sales  other_sales  critic_score  \\\n",
       "0       Shooter      6.03      5.86      0.36         2.38           NaN   \n",
       "1        Action      3.96      6.31      0.38         1.97          97.0   \n",
       "2  Role-Playing      4.35      3.49      3.10         0.74           NaN   \n",
       "3        Sports      1.12      6.12      0.06         1.28          82.0   \n",
       "4       Shooter      2.99      3.49      0.22         1.28           NaN   \n",
       "\n",
       "   user_score   rating  total_sum  \n",
       "0         NaN  unknown      14.63  \n",
       "1         8.3        M      12.62  \n",
       "2         NaN  unknown      11.68  \n",
       "3         4.3        E       8.58  \n",
       "4         NaN  unknown       7.98  "
      ]
     },
     "execution_count": 56,
     "metadata": {},
     "output_type": "execute_result"
    }
   ],
   "source": [
    "actual_data.head()"
   ]
  },
  {
   "cell_type": "code",
   "execution_count": 57,
   "id": "f22d249c",
   "metadata": {},
   "outputs": [
    {
     "data": {
      "text/html": [
       "<div>\n",
       "<style scoped>\n",
       "    .dataframe tbody tr th:only-of-type {\n",
       "        vertical-align: middle;\n",
       "    }\n",
       "\n",
       "    .dataframe tbody tr th {\n",
       "        vertical-align: top;\n",
       "    }\n",
       "\n",
       "    .dataframe thead th {\n",
       "        text-align: right;\n",
       "    }\n",
       "</style>\n",
       "<table border=\"1\" class=\"dataframe\">\n",
       "  <thead>\n",
       "    <tr style=\"text-align: right;\">\n",
       "      <th></th>\n",
       "      <th>Количество игр в этом жанре</th>\n",
       "      <th>Количество проданных копий</th>\n",
       "    </tr>\n",
       "    <tr>\n",
       "      <th>genre</th>\n",
       "      <th></th>\n",
       "      <th></th>\n",
       "    </tr>\n",
       "  </thead>\n",
       "  <tbody>\n",
       "    <tr>\n",
       "      <th>Action</th>\n",
       "      <td>619</td>\n",
       "      <td>199.36</td>\n",
       "    </tr>\n",
       "    <tr>\n",
       "      <th>Shooter</th>\n",
       "      <td>128</td>\n",
       "      <td>170.94</td>\n",
       "    </tr>\n",
       "    <tr>\n",
       "      <th>Sports</th>\n",
       "      <td>161</td>\n",
       "      <td>109.48</td>\n",
       "    </tr>\n",
       "    <tr>\n",
       "      <th>Role-Playing</th>\n",
       "      <td>221</td>\n",
       "      <td>101.44</td>\n",
       "    </tr>\n",
       "    <tr>\n",
       "      <th>Misc</th>\n",
       "      <td>113</td>\n",
       "      <td>37.55</td>\n",
       "    </tr>\n",
       "    <tr>\n",
       "      <th>Fighting</th>\n",
       "      <td>60</td>\n",
       "      <td>28.22</td>\n",
       "    </tr>\n",
       "    <tr>\n",
       "      <th>Racing</th>\n",
       "      <td>69</td>\n",
       "      <td>27.52</td>\n",
       "    </tr>\n",
       "    <tr>\n",
       "      <th>Platform</th>\n",
       "      <td>38</td>\n",
       "      <td>18.09</td>\n",
       "    </tr>\n",
       "    <tr>\n",
       "      <th>Adventure</th>\n",
       "      <td>185</td>\n",
       "      <td>17.55</td>\n",
       "    </tr>\n",
       "    <tr>\n",
       "      <th>Simulation</th>\n",
       "      <td>44</td>\n",
       "      <td>13.13</td>\n",
       "    </tr>\n",
       "    <tr>\n",
       "      <th>Strategy</th>\n",
       "      <td>37</td>\n",
       "      <td>3.96</td>\n",
       "    </tr>\n",
       "    <tr>\n",
       "      <th>Puzzle</th>\n",
       "      <td>14</td>\n",
       "      <td>2.21</td>\n",
       "    </tr>\n",
       "  </tbody>\n",
       "</table>\n",
       "</div>"
      ],
      "text/plain": [
       "              Количество игр в этом жанре  Количество проданных копий\n",
       "genre                                                                \n",
       "Action                                619                      199.36\n",
       "Shooter                               128                      170.94\n",
       "Sports                                161                      109.48\n",
       "Role-Playing                          221                      101.44\n",
       "Misc                                  113                       37.55\n",
       "Fighting                               60                       28.22\n",
       "Racing                                 69                       27.52\n",
       "Platform                               38                       18.09\n",
       "Adventure                             185                       17.55\n",
       "Simulation                             44                       13.13\n",
       "Strategy                               37                        3.96\n",
       "Puzzle                                 14                        2.21"
      ]
     },
     "execution_count": 57,
     "metadata": {},
     "output_type": "execute_result"
    }
   ],
   "source": [
    "# строю таблицу с распределением игр и проданных копий по жанрам\n",
    "data_genres = actual_data.pivot_table(index='genre', values=['name', 'total_sum'], aggfunc={'name': 'count', 'total_sum': 'sum'})\n",
    "data_genres.columns = ['Количество игр в этом жанре', 'Количество проданных копий']\n",
    "data_genres = data_genres.sort_values(by='Количество проданных копий', ascending=False)\n",
    "data_genres"
   ]
  },
  {
   "cell_type": "markdown",
   "id": "d2352942",
   "metadata": {},
   "source": [
    "Самые прибыльные жанры - экшен и шутер. Спортивные игры и игры в жанре role-playing тоже популярны, но всё-таки сильно уступают экшенам и шутерам. Все остальные жанры совсем не могут посоревноваться в продажах с четвёркой лидеров."
   ]
  },
  {
   "cell_type": "markdown",
   "id": "ce5a79ef",
   "metadata": {},
   "source": [
    "## Портрет пользователя каждого региона"
   ]
  },
  {
   "cell_type": "markdown",
   "id": "6a070684",
   "metadata": {},
   "source": [
    "### Портрет пользователя из NA"
   ]
  },
  {
   "cell_type": "code",
   "execution_count": 58,
   "id": "668c4ee2",
   "metadata": {},
   "outputs": [
    {
     "data": {
      "text/plain": [
       "platform\n",
       "PS4     98.61\n",
       "XOne    81.27\n",
       "X360    28.30\n",
       "3DS     22.64\n",
       "PS3     22.05\n",
       "WiiU    19.36\n",
       "PC       7.23\n",
       "PSV      2.52\n",
       "Wii      2.08\n",
       "PSP      0.00\n",
       "Name: na_sales, dtype: float64"
      ]
     },
     "execution_count": 58,
     "metadata": {},
     "output_type": "execute_result"
    }
   ],
   "source": [
    "# строю таблицу по продажам по платформам\n",
    "\n",
    "na_platforms = actual_data.groupby('platform')['na_sales'].sum().sort_values(ascending=False)\n",
    "na_platforms"
   ]
  },
  {
   "cell_type": "code",
   "execution_count": 59,
   "id": "6d09d3f1",
   "metadata": {},
   "outputs": [
    {
     "data": {
      "text/plain": [
       "PS4                 98.61\n",
       "XOne                81.27\n",
       "X360                28.30\n",
       "3DS                 22.64\n",
       "PS3                 22.05\n",
       "Другие платформы    31.19\n",
       "dtype: float64"
      ]
     },
     "execution_count": 59,
     "metadata": {},
     "output_type": "execute_result"
    }
   ],
   "source": [
    "# выделяю топ платформ по продажам\n",
    "na_platforms = pd.concat([na_platforms[:5], pd.Series(na_platforms[5:].sum(), index=['Другие платформы'])])\n",
    "na_platforms\n"
   ]
  },
  {
   "cell_type": "code",
   "execution_count": 60,
   "id": "8ef2ac2d",
   "metadata": {},
   "outputs": [
    {
     "data": {
      "image/png": "[encoded data removed]",
      "text/plain": [
       "<Figure size 640x480 with 1 Axes>"
      ]
     },
     "metadata": {},
     "output_type": "display_data"
    }
   ],
   "source": [
    "# изучаю распределение платформ по продажам\n",
    "na_platforms.plot(kind='pie', autopct='%.0f%%')\n",
    "plt.show()"
   ]
  },
  {
   "cell_type": "markdown",
   "id": "851cbdfc",
   "metadata": {},
   "source": [
    "Самые популярные платформы в Северной Америке - PS4 и XOne. "
   ]
  },
  {
   "cell_type": "code",
   "execution_count": 61,
   "id": "d2140cfd",
   "metadata": {},
   "outputs": [
    {
     "data": {
      "text/plain": [
       "Shooter         79.02\n",
       "Action          72.53\n",
       "Sports          46.13\n",
       "Role-Playing    33.47\n",
       "Misc            15.05\n",
       "Другие жанры    37.86\n",
       "dtype: float64"
      ]
     },
     "execution_count": 61,
     "metadata": {},
     "output_type": "execute_result"
    }
   ],
   "source": [
    "# строю таблицу по продажам по жанрам\n",
    "na_genres = actual_data.groupby('genre')['na_sales'].sum().sort_values(ascending=False)\n",
    "na_genres = pd.concat([na_genres[:5], pd.Series(na_genres[5:].sum(), index=['Другие жанры'])])\n",
    "na_genres"
   ]
  },
  {
   "cell_type": "code",
   "execution_count": 62,
   "id": "4c218774",
   "metadata": {},
   "outputs": [
    {
     "data": {
      "image/png": "[encoded data removed]",
      "text/plain": [
       "<Figure size 640x480 with 1 Axes>"
      ]
     },
     "metadata": {},
     "output_type": "display_data"
    }
   ],
   "source": [
    "# изучаю распределение жанров по продажам\n",
    "na_genres.plot(kind='pie', autopct='%.0f%%')\n",
    "plt.show()"
   ]
  },
  {
   "cell_type": "markdown",
   "id": "88a1a79c",
   "metadata": {},
   "source": [
    "Самые популярные жанры в Северной Америке - шутер, экшен и спорт."
   ]
  },
  {
   "cell_type": "code",
   "execution_count": 63,
   "id": "97a79345",
   "metadata": {},
   "outputs": [
    {
     "data": {
      "text/html": [
       "<div>\n",
       "<style scoped>\n",
       "    .dataframe tbody tr th:only-of-type {\n",
       "        vertical-align: middle;\n",
       "    }\n",
       "\n",
       "    .dataframe tbody tr th {\n",
       "        vertical-align: top;\n",
       "    }\n",
       "\n",
       "    .dataframe thead th {\n",
       "        text-align: right;\n",
       "    }\n",
       "</style>\n",
       "<table border=\"1\" class=\"dataframe\">\n",
       "  <thead>\n",
       "    <tr style=\"text-align: right;\">\n",
       "      <th></th>\n",
       "      <th>Количество продаж</th>\n",
       "    </tr>\n",
       "    <tr>\n",
       "      <th>rating</th>\n",
       "      <th></th>\n",
       "    </tr>\n",
       "  </thead>\n",
       "  <tbody>\n",
       "    <tr>\n",
       "      <th>M</th>\n",
       "      <td>96.42</td>\n",
       "    </tr>\n",
       "    <tr>\n",
       "      <th>unknown</th>\n",
       "      <td>64.72</td>\n",
       "    </tr>\n",
       "    <tr>\n",
       "      <th>E</th>\n",
       "      <td>50.74</td>\n",
       "    </tr>\n",
       "    <tr>\n",
       "      <th>T</th>\n",
       "      <td>38.95</td>\n",
       "    </tr>\n",
       "    <tr>\n",
       "      <th>E10+</th>\n",
       "      <td>33.23</td>\n",
       "    </tr>\n",
       "  </tbody>\n",
       "</table>\n",
       "</div>"
      ],
      "text/plain": [
       "         Количество продаж\n",
       "rating                    \n",
       "M                    96.42\n",
       "unknown              64.72\n",
       "E                    50.74\n",
       "T                    38.95\n",
       "E10+                 33.23"
      ]
     },
     "execution_count": 63,
     "metadata": {},
     "output_type": "execute_result"
    }
   ],
   "source": [
    "# строю таблицу по продажам по рейтингу ESRB\n",
    "na_esrb = actual_data.pivot_table(index='rating', values='na_sales', aggfunc='sum')\n",
    "na_esrb.columns = ['Количество продаж']\n",
    "na_esrb = na_esrb.sort_values(by='Количество продаж', ascending=False)\n",
    "na_esrb"
   ]
  },
  {
   "cell_type": "code",
   "execution_count": 64,
   "id": "0f863b32",
   "metadata": {
    "scrolled": false
   },
   "outputs": [
    {
     "data": {
      "image/png": "[encoded data removed]",
      "text/plain": [
       "<Figure size 600x600 with 1 Axes>"
      ]
     },
     "metadata": {},
     "output_type": "display_data"
    }
   ],
   "source": [
    "# изучаю распределение рейтинга по продажам\n",
    "plt.figure(figsize=(6, 6))\n",
    "plt.pie(na_esrb['Количество продаж'], labels=na_esrb.index, autopct='%1.1f%%')\n",
    "plt.title('Cоотношение продаж по ESRB')\n",
    "plt.show()"
   ]
  },
  {
   "cell_type": "markdown",
   "id": "48c463c5",
   "metadata": {},
   "source": [
    "Популярность рейтинга M («для взрослых») соотносится с популярностью жанров - экшен и шутеры. Второй по популярности рейтинг неизвестен. Можно пока предположить, что рейтинг ESRB не влияет на успешность игры. "
   ]
  },
  {
   "cell_type": "markdown",
   "id": "ab0875c8",
   "metadata": {},
   "source": [
    "### Портрет пользователя из EU"
   ]
  },
  {
   "cell_type": "code",
   "execution_count": 65,
   "id": "c998be0d",
   "metadata": {},
   "outputs": [
    {
     "data": {
      "text/plain": [
       "PS4                 130.04\n",
       "XOne                 46.25\n",
       "PS3                  25.54\n",
       "PC                   17.97\n",
       "3DS                  16.12\n",
       "Другие платформы     34.76\n",
       "dtype: float64"
      ]
     },
     "execution_count": 65,
     "metadata": {},
     "output_type": "execute_result"
    }
   ],
   "source": [
    "eu_platforms = actual_data.groupby('platform')['eu_sales'].sum().sort_values(ascending=False)\n",
    "eu_platforms = pd.concat([eu_platforms[:5], pd.Series(eu_platforms[5:].sum(), index=['Другие платформы'])])\n",
    "eu_platforms"
   ]
  },
  {
   "cell_type": "code",
   "execution_count": 66,
   "id": "69b20e48",
   "metadata": {},
   "outputs": [
    {
     "data": {
      "image/png": "[encoded data removed]",
      "text/plain": [
       "<Figure size 640x480 with 1 Axes>"
      ]
     },
     "metadata": {},
     "output_type": "display_data"
    }
   ],
   "source": [
    "eu_platforms.plot(kind='pie', autopct='%.0f%%')\n",
    "plt.show()"
   ]
  },
  {
   "cell_type": "markdown",
   "id": "3050ff03",
   "metadata": {},
   "source": [
    "Самая популярная платформа в Европе - PS4. XOne сильно уступает ей по продажам. "
   ]
  },
  {
   "cell_type": "code",
   "execution_count": 67,
   "id": "8dc2a251",
   "metadata": {},
   "outputs": [
    {
     "data": {
      "text/plain": [
       "Action          74.68\n",
       "Shooter         65.52\n",
       "Sports          45.73\n",
       "Role-Playing    28.17\n",
       "Racing          14.13\n",
       "Другие жанры    42.45\n",
       "dtype: float64"
      ]
     },
     "execution_count": 67,
     "metadata": {},
     "output_type": "execute_result"
    }
   ],
   "source": [
    "eu_genres = actual_data.groupby('genre')['eu_sales'].sum().sort_values(ascending=False)\n",
    "eu_genres = pd.concat([eu_genres[:5], pd.Series(eu_genres[5:].sum(), index=['Другие жанры'])])\n",
    "eu_genres"
   ]
  },
  {
   "cell_type": "code",
   "execution_count": 68,
   "id": "5ff6a9d9",
   "metadata": {},
   "outputs": [
    {
     "data": {
      "image/png": "[encoded data removed]",
      "text/plain": [
       "<Figure size 640x480 with 1 Axes>"
      ]
     },
     "metadata": {},
     "output_type": "display_data"
    }
   ],
   "source": [
    "eu_genres.plot(kind='pie', autopct='%.0f%%')\n",
    "plt.show()"
   ]
  },
  {
   "cell_type": "markdown",
   "id": "a52f184e",
   "metadata": {},
   "source": [
    "Самые популярные жанры в Европе - шутер и экшен. Спорт тоже популярен, но почти в два раза меньше. "
   ]
  },
  {
   "cell_type": "code",
   "execution_count": 69,
   "id": "ec1074a1",
   "metadata": {},
   "outputs": [
    {
     "data": {
      "text/html": [
       "<div>\n",
       "<style scoped>\n",
       "    .dataframe tbody tr th:only-of-type {\n",
       "        vertical-align: middle;\n",
       "    }\n",
       "\n",
       "    .dataframe tbody tr th {\n",
       "        vertical-align: top;\n",
       "    }\n",
       "\n",
       "    .dataframe thead th {\n",
       "        text-align: right;\n",
       "    }\n",
       "</style>\n",
       "<table border=\"1\" class=\"dataframe\">\n",
       "  <thead>\n",
       "    <tr style=\"text-align: right;\">\n",
       "      <th></th>\n",
       "      <th>Количество продаж</th>\n",
       "    </tr>\n",
       "    <tr>\n",
       "      <th>rating</th>\n",
       "      <th></th>\n",
       "    </tr>\n",
       "  </thead>\n",
       "  <tbody>\n",
       "    <tr>\n",
       "      <th>M</th>\n",
       "      <td>93.44</td>\n",
       "    </tr>\n",
       "    <tr>\n",
       "      <th>unknown</th>\n",
       "      <td>58.95</td>\n",
       "    </tr>\n",
       "    <tr>\n",
       "      <th>E</th>\n",
       "      <td>58.06</td>\n",
       "    </tr>\n",
       "    <tr>\n",
       "      <th>T</th>\n",
       "      <td>34.07</td>\n",
       "    </tr>\n",
       "    <tr>\n",
       "      <th>E10+</th>\n",
       "      <td>26.16</td>\n",
       "    </tr>\n",
       "  </tbody>\n",
       "</table>\n",
       "</div>"
      ],
      "text/plain": [
       "         Количество продаж\n",
       "rating                    \n",
       "M                    93.44\n",
       "unknown              58.95\n",
       "E                    58.06\n",
       "T                    34.07\n",
       "E10+                 26.16"
      ]
     },
     "execution_count": 69,
     "metadata": {},
     "output_type": "execute_result"
    }
   ],
   "source": [
    "eu_esrb = actual_data.pivot_table(index='rating', values='eu_sales', aggfunc='sum')\n",
    "eu_esrb.columns = ['Количество продаж']\n",
    "eu_esrb = eu_esrb.sort_values(by='Количество продаж', ascending=False)\n",
    "eu_esrb"
   ]
  },
  {
   "cell_type": "code",
   "execution_count": 70,
   "id": "3f980563",
   "metadata": {},
   "outputs": [
    {
     "data": {
      "image/png": "[encoded data removed]",
      "text/plain": [
       "<Figure size 600x600 with 1 Axes>"
      ]
     },
     "metadata": {},
     "output_type": "display_data"
    }
   ],
   "source": [
    "plt.figure(figsize=(6, 6))\n",
    "plt.pie(eu_esrb['Количество продаж'], labels=eu_esrb.index, autopct='%1.1f%%')\n",
    "plt.title('Cоотношение продаж по ESRB')\n",
    "plt.show()"
   ]
  },
  {
   "cell_type": "markdown",
   "id": "c2f2ed8b",
   "metadata": {},
   "source": [
    "Популярность рейтинга M («для взрослых») и тут соотносится с популярностью жанров - экшен и шутеры. Второй по популярности рейтинг неизвестен."
   ]
  },
  {
   "cell_type": "markdown",
   "id": "c5093c4c",
   "metadata": {},
   "source": [
    "### Портрет пользователя из JP"
   ]
  },
  {
   "cell_type": "code",
   "execution_count": 71,
   "id": "c368ecd0",
   "metadata": {},
   "outputs": [
    {
     "data": {
      "text/plain": [
       "3DS                 44.24\n",
       "PS4                 15.02\n",
       "PSV                 14.54\n",
       "PS3                 11.22\n",
       "WiiU                 7.31\n",
       "Другие платформы     0.76\n",
       "dtype: float64"
      ]
     },
     "execution_count": 71,
     "metadata": {},
     "output_type": "execute_result"
    }
   ],
   "source": [
    "jp_platforms = actual_data.groupby('platform')['jp_sales'].sum().sort_values(ascending=False)\n",
    "jp_platforms = pd.concat([jp_platforms[:5], pd.Series(jp_platforms[5:].sum(), index=['Другие платформы'])])\n",
    "jp_platforms"
   ]
  },
  {
   "cell_type": "code",
   "execution_count": 72,
   "id": "6c062784",
   "metadata": {},
   "outputs": [
    {
     "data": {
      "image/png": "[encoded data removed]",
      "text/plain": [
       "<Figure size 640x480 with 1 Axes>"
      ]
     },
     "metadata": {},
     "output_type": "display_data"
    }
   ],
   "source": [
    "jp_platforms.plot(kind='pie', autopct='%.0f%%')\n",
    "plt.show()"
   ]
  },
  {
   "cell_type": "markdown",
   "id": "b5adaafa",
   "metadata": {},
   "source": [
    "В Японии популярна 3DS, что не удивительно - это приставка от Nintendo."
   ]
  },
  {
   "cell_type": "code",
   "execution_count": 73,
   "id": "a0edc00c",
   "metadata": {},
   "outputs": [
    {
     "data": {
      "text/plain": [
       "Role-Playing    31.16\n",
       "Action          29.58\n",
       "Fighting         6.37\n",
       "Misc             5.61\n",
       "Shooter          4.87\n",
       "Другие жанры    15.50\n",
       "dtype: float64"
      ]
     },
     "execution_count": 73,
     "metadata": {},
     "output_type": "execute_result"
    }
   ],
   "source": [
    "jp_genres = actual_data.groupby('genre')['jp_sales'].sum().sort_values(ascending=False)\n",
    "jp_genres = pd.concat([jp_genres[:5], pd.Series(jp_genres[5:].sum(), index=['Другие жанры'])])\n",
    "jp_genres"
   ]
  },
  {
   "cell_type": "code",
   "execution_count": 74,
   "id": "c8d82222",
   "metadata": {},
   "outputs": [
    {
     "data": {
      "image/png": "[encoded data removed]",
      "text/plain": [
       "<Figure size 640x480 with 1 Axes>"
      ]
     },
     "metadata": {},
     "output_type": "display_data"
    }
   ],
   "source": [
    "jp_genres.plot(kind='pie', autopct='%.0f%%')\n",
    "plt.show()"
   ]
  },
  {
   "cell_type": "markdown",
   "id": "41f43336",
   "metadata": {},
   "source": [
    "Здесь показатели по жанрам чуть отличаются от показателям по Америке и Европе. Популярны ролевые игры и экшены. Шутер - один из самых непопулярных жанров. Возможно, это объясняется тем, что для 3DS не выходит много шутеров."
   ]
  },
  {
   "cell_type": "code",
   "execution_count": 75,
   "id": "a394484c",
   "metadata": {},
   "outputs": [
    {
     "data": {
      "text/html": [
       "<div>\n",
       "<style scoped>\n",
       "    .dataframe tbody tr th:only-of-type {\n",
       "        vertical-align: middle;\n",
       "    }\n",
       "\n",
       "    .dataframe tbody tr th {\n",
       "        vertical-align: top;\n",
       "    }\n",
       "\n",
       "    .dataframe thead th {\n",
       "        text-align: right;\n",
       "    }\n",
       "</style>\n",
       "<table border=\"1\" class=\"dataframe\">\n",
       "  <thead>\n",
       "    <tr style=\"text-align: right;\">\n",
       "      <th></th>\n",
       "      <th>Количество продаж</th>\n",
       "    </tr>\n",
       "    <tr>\n",
       "      <th>rating</th>\n",
       "      <th></th>\n",
       "    </tr>\n",
       "  </thead>\n",
       "  <tbody>\n",
       "    <tr>\n",
       "      <th>unknown</th>\n",
       "      <td>56.90</td>\n",
       "    </tr>\n",
       "    <tr>\n",
       "      <th>T</th>\n",
       "      <td>14.78</td>\n",
       "    </tr>\n",
       "    <tr>\n",
       "      <th>E</th>\n",
       "      <td>8.94</td>\n",
       "    </tr>\n",
       "    <tr>\n",
       "      <th>M</th>\n",
       "      <td>8.01</td>\n",
       "    </tr>\n",
       "    <tr>\n",
       "      <th>E10+</th>\n",
       "      <td>4.46</td>\n",
       "    </tr>\n",
       "  </tbody>\n",
       "</table>\n",
       "</div>"
      ],
      "text/plain": [
       "         Количество продаж\n",
       "rating                    \n",
       "unknown              56.90\n",
       "T                    14.78\n",
       "E                     8.94\n",
       "M                     8.01\n",
       "E10+                  4.46"
      ]
     },
     "execution_count": 75,
     "metadata": {},
     "output_type": "execute_result"
    }
   ],
   "source": [
    "jp_esrb = actual_data.pivot_table(index='rating', values='jp_sales', aggfunc='sum')\n",
    "jp_esrb.columns = ['Количество продаж']\n",
    "jp_esrb = jp_esrb.sort_values(by='Количество продаж', ascending=False)\n",
    "jp_esrb"
   ]
  },
  {
   "cell_type": "code",
   "execution_count": 76,
   "id": "346657d8",
   "metadata": {},
   "outputs": [
    {
     "data": {
      "image/png": "[encoded data removed]",
      "text/plain": [
       "<Figure size 600x600 with 1 Axes>"
      ]
     },
     "metadata": {},
     "output_type": "display_data"
    }
   ],
   "source": [
    "plt.figure(figsize=(6, 6))\n",
    "plt.pie(jp_esrb['Количество продаж'], labels=jp_esrb.index, autopct='%1.1f%%')\n",
    "plt.title('Cоотношение продаж по ESRB')\n",
    "plt.show()"
   ]
  },
  {
   "cell_type": "markdown",
   "id": "445dd8ee",
   "metadata": {},
   "source": [
    "Этот график совсем подтверждает, что успешность игр не зависит от рейтинга ESRB."
   ]
  },
  {
   "cell_type": "markdown",
   "id": "8fae8b10",
   "metadata": {},
   "source": [
    "## Проверка гипотез"
   ]
  },
  {
   "cell_type": "markdown",
   "id": "9a109247",
   "metadata": {},
   "source": [
    "### Одинаковые ли средние пользовательские рейтинги платформ Xbox One и PC?"
   ]
  },
  {
   "cell_type": "markdown",
   "id": "1ac91ccf",
   "metadata": {},
   "source": [
    "Нулевая гипотеза: пользовательские рейтинги платформ одинаковые.\n",
    "Альтернативная гипотеза: пользовательские рейтинги разные."
   ]
  },
  {
   "cell_type": "code",
   "execution_count": 77,
   "id": "cacdba37",
   "metadata": {},
   "outputs": [
    {
     "name": "stdout",
     "output_type": "stream",
     "text": [
      "p-value: 0.10450507919348415\n",
      "Нет оснований отвергнуть нулевую гипотезу\n"
     ]
    }
   ],
   "source": [
    "# выделяю срезы с рейтингами по платформам PC и Xbox One\n",
    "\n",
    "pc_rating = actual_data[actual_data['platform'] == 'PC']['user_score'].dropna()\n",
    "\n",
    "xone_rating = actual_data[actual_data['platform'] == 'XOne']['user_score'].dropna()\n",
    "\n",
    "\n",
    "alpha = 0.05 # указала уровень стат. значимости\n",
    "\n",
    "# провожу t-тест для двух выборок, альтернативу не указываю, по умолчанию будет 'two-side'\n",
    "results = st.ttest_ind(pc_rating, xone_rating)\n",
    "\n",
    "print(f'p-value: {results.pvalue}')\n",
    "\n",
    "# проверяю p-value\n",
    "if results.pvalue < alpha:\n",
    "    print('Отвергаем нулевую гипотезу')\n",
    "else:\n",
    "    print('Нет оснований отвергнуть нулевую гипотезу')"
   ]
  },
  {
   "cell_type": "markdown",
   "id": "6b20d923",
   "metadata": {},
   "source": [
    "Тест показывает, что средний рейтинг игроков по платформам PC и Xbox One одинаковый."
   ]
  },
  {
   "cell_type": "markdown",
   "id": "7062d87a",
   "metadata": {},
   "source": [
    "### Разные ли средние пользовательские рейтинги жанров Action и Sports?"
   ]
  },
  {
   "cell_type": "markdown",
   "id": "50a5a705",
   "metadata": {},
   "source": [
    "Нулевая гипотеза: пользовательские рейтинги жанров одинаковые.\n",
    "Альтернативная гипотеза: пользовательские рейтинги разные."
   ]
  },
  {
   "cell_type": "code",
   "execution_count": 78,
   "id": "6123ebae",
   "metadata": {},
   "outputs": [
    {
     "name": "stdout",
     "output_type": "stream",
     "text": [
      "p-value: 2.8711147985105864e-19\n",
      "Отвергаем нулевую гипотезу\n"
     ]
    }
   ],
   "source": [
    "# выделяю срезы с рейтингами по жанрам Action и Sports\n",
    "action_rating = actual_data[actual_data['genre'] == 'Action']['user_score'].dropna()\n",
    "\n",
    "sports_rating = actual_data[actual_data['genre'] == 'Sports']['user_score'].dropna()\n",
    "\n",
    "\n",
    "alpha = 0.05 # указала уровень стат. значимости\n",
    "\n",
    "# провожу t-тест для двух выборок, альтернативу не указываю, по умолчанию будет 'two-side'\n",
    "results = st.ttest_ind(action_rating, sports_rating)\n",
    "\n",
    "print(f'p-value: {results.pvalue}')\n",
    "\n",
    "# проверяю p-value\n",
    "if results.pvalue < alpha:\n",
    "    print('Отвергаем нулевую гипотезу')\n",
    "else:\n",
    "    print('Нет оснований отвергнуть нулевую гипотезу')"
   ]
  },
  {
   "cell_type": "markdown",
   "id": "f21c573c",
   "metadata": {},
   "source": [
    "Тест показывает, что средний рейтинг игроков по жанрам Action и Sports разный."
   ]
  },
  {
   "cell_type": "markdown",
   "id": "79ed3178",
   "metadata": {},
   "source": [
    "## Общий вывод"
   ]
  },
  {
   "cell_type": "markdown",
   "id": "6a0f54b3",
   "metadata": {},
   "source": [
    "- С 1995 года индустрия компьютерных игр пошла в гору. Прирост количества игр с 1994 года - почти в два раза.\n",
    "- В среднем платформы живут по 10-11 лет. Но новые версии приставок выходят достаточно быстро, поэтому особенно прибыльными платформы остаются 3-4 года. Чтобы делать прогнозы на следующий год, лучше брать данные по играм за последние 2-3 года.\n",
    "- Потенциально прибыльные платформы - PS4, XOne, 3DS. На ящиках PS4 и XOne много выбросов, что говорит о том, что люди готовы покупать игры именно для этих приставок. 3DS тоже показывает много выбросов, но тут надо быть аккуратнее, потому что портативные приставки теряют актуальность как будто чуть быстрее, чем не портативные.\n",
    "- Есть достаточно сильная положительная зависимость между рейтингом от критиков и количеством продаж. Но продажи больше зависят от рейтинга игроков, чем от рейтинга критиков.\n",
    "- Самые прибыльные жанры - экшен и шутер. Спортивные игры и игры в жанре role-playing тоже популярны, но всё-таки сильно уступают экшенам и шутерам. Все остальные жанры совсем не могут посоревноваться в продажах с четвёркой лидеров.\n",
    "- Самые популярные платформы в Северной Америке - PS4 и XOne. Самые популярные жанры - шутер, экшен и спорт.\n",
    "- Самая популярная платформа в Европе - PS4. XOne сильно уступает ей по продажам. Самые популярные жанры - шутер и экшен. Спорт тоже популярен, но почти в два раза меньше.\n",
    "- В Японии популярна 3DS, что не удивительно - это приставка от Nintendo. Здесь показатели по жанрам чуть отличаются от показателям по Америке и Европе. Популярны ролевые игры и экшены. Шутер - один из самых непопулярных жанров. Возможно, это объясняется тем, что для 3DS не выходит много шутеров.\n",
    "- Успешность игр не зависит от рейтинга ESRB.\n",
    "- Средний рейтинг игроков по платформам PC и Xbox One одинаковый, средний рейтинг игроков по жанрам Action и Sports разный.\n",
    "- В данных достаточно много пропусков по рейтингам игр. В целом, пользовательский рейтинг и рейтинг от критиков может быть не заполнен просто потому, что эту игру действительно не оценивали. Возможно, стоит подключить автозаполнение по названиям игр или как-то стимулировать игроков и критиков оценивать игры."
   ]
  },
  {
   "cell_type": "code",
   "execution_count": null,
   "id": "a87c06e0",
   "metadata": {},
   "outputs": [],
   "source": []
  }
 ],
 "metadata": {
  "kernelspec": {
   "display_name": "Python 3 (ipykernel)",
   "language": "python",
   "name": "python3"
  },
  "language_info": {
   "codemirror_mode": {
    "name": "ipython",
    "version": 3
   },
   "file_extension": ".py",
   "mimetype": "text/x-python",
   "name": "python",
   "nbconvert_exporter": "python",
   "pygments_lexer": "ipython3",
   "version": "3.11.4"
  },
  "toc": {
   "base_numbering": 1,
   "nav_menu": {},
   "number_sections": true,
   "sideBar": true,
   "skip_h1_title": true,
   "title_cell": "Table of Contents",
   "title_sidebar": "Contents",
   "toc_cell": true,
   "toc_position": {},
   "toc_section_display": true,
   "toc_window_display": false
  }
 },
 "nbformat": 4,
 "nbformat_minor": 5
}
